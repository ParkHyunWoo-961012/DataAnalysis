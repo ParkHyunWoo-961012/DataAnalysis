{
 "cells": [
  {
   "cell_type": "code",
   "execution_count": 4,
   "id": "f37a5311",
   "metadata": {},
   "outputs": [
    {
     "name": "stdout",
     "output_type": "stream",
     "text": [
      "Using config file at /Users/hyunwoo/opt/anaconda3/lib/python3.7/site-packages/tabpy/tabpy_server/common/default.conf\n",
      "Traceback (most recent call last):\n",
      "  File \"/Users/hyunwoo/opt/anaconda3/lib/python3.7/site-packages/tabpy/models/scripts/ANOVA.py\", line 1, in <module>\n",
      "    import scipy.stats as stats\n",
      "ModuleNotFoundError: No module named 'scipy'\n",
      "Traceback (most recent call last):\n",
      "  File \"/Users/hyunwoo/opt/anaconda3/lib/python3.7/site-packages/tabpy/models/scripts/tTest.py\", line 1, in <module>\n",
      "    from scipy import stats\n",
      "ModuleNotFoundError: No module named 'scipy'\n",
      "/Library/Frameworks/Python.framework/Versions/3.8/bin/python3: can't find '__main__' module in '/Users/hyunwoo/opt/anaconda3/lib/python3.7/site-packages/tabpy/models/scripts/__pycache__'\n",
      "Traceback (most recent call last):\n",
      "  File \"/Users/hyunwoo/opt/anaconda3/lib/python3.7/site-packages/tabpy/models/scripts/SentimentAnalysis.py\", line 1, in <module>\n",
      "    from textblob import TextBlob\n",
      "ModuleNotFoundError: No module named 'textblob'\n",
      "Traceback (most recent call last):\n",
      "  File \"/Users/hyunwoo/opt/anaconda3/lib/python3.7/site-packages/tabpy/models/scripts/PCA.py\", line 1, in <module>\n",
      "    import pandas as pd\n",
      "ModuleNotFoundError: No module named 'pandas'\n"
     ]
    }
   ],
   "source": [
    "#!pip install tabpy tabpy설치\n",
    "#tabpy 터미널에 tabpy실행\n",
    "#localhost 9004에 접속 \n",
    "!tabpy-deploy-models\n"
   ]
  },
  {
   "cell_type": "code",
   "execution_count": 16,
   "id": "8780444b",
   "metadata": {},
   "outputs": [],
   "source": [
    "from tabpy.tabpy_tools.client import Client\n",
    "client = Client(\"http://localhost:9004/\")\n",
    "def addFunction(x,y):\n",
    "    import numpy as np\n",
    "    return np.add(x, y).tolist()\n",
    "\n",
    "client.deploy('addFunction', addFunction, 'x랑 y를 더해준다.')\n"
   ]
  },
  {
   "cell_type": "code",
   "execution_count": 15,
   "id": "2e3a362e",
   "metadata": {},
   "outputs": [],
   "source": []
  },
  {
   "cell_type": "code",
   "execution_count": null,
   "id": "2dea4577",
   "metadata": {},
   "outputs": [],
   "source": []
  }
 ],
 "metadata": {
  "kernelspec": {
   "display_name": "Python 3 (ipykernel)",
   "language": "python",
   "name": "python3"
  },
  "language_info": {
   "codemirror_mode": {
    "name": "ipython",
    "version": 3
   },
   "file_extension": ".py",
   "mimetype": "text/x-python",
   "name": "python",
   "nbconvert_exporter": "python",
   "pygments_lexer": "ipython3",
   "version": "3.7.11"
  }
 },
 "nbformat": 4,
 "nbformat_minor": 5
}
