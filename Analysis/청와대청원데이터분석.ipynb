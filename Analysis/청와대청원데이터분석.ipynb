{
 "cells": [
  {
   "cell_type": "code",
   "execution_count": 65,
   "id": "e5e2903e",
   "metadata": {},
   "outputs": [
    {
     "name": "stdout",
     "output_type": "stream",
     "text": [
      "category    0\n",
      "data        8\n",
      "dtype: int64\n"
     ]
    }
   ],
   "source": [
    "#https://dacon.io/competitions/open/235597/data - 청와대 청원 분류 \n",
    "import pandas as pd\n",
    "import numpy as np\n",
    "\n",
    "train_data = pd.read_csv(\"/Users/hyunwoo/data/청와대/train.csv\")\n",
    "train_data.drop(columns = \"index\",inplace=True)\n",
    "print(train_data.isnull().sum())\n",
    "train_data.dropna(inplace=True)"
   ]
  },
  {
   "cell_type": "markdown",
   "id": "21d61242",
   "metadata": {},
   "source": [
    "# 단어데이터 전처리 없이 모델링 "
   ]
  },
  {
   "cell_type": "code",
   "execution_count": 68,
   "id": "579db7a2",
   "metadata": {},
   "outputs": [
    {
     "data": {
      "text/plain": [
       "CountVectorizer()"
      ]
     },
     "execution_count": 68,
     "metadata": {},
     "output_type": "execute_result"
    }
   ],
   "source": [
    "#1. CounterVectorizer 이용\n",
    "from sklearn.feature_extraction.text import CountVectorizer\n",
    "dtmvector = CountVectorizer()\n",
    "dtmvector.fit(train_data['data'])"
   ]
  },
  {
   "cell_type": "code",
   "execution_count": 69,
   "id": "30237adc",
   "metadata": {},
   "outputs": [],
   "source": [
    "target = train_data['category']\n",
    "counter = dtmvector.transform(train_data['data'])"
   ]
  },
  {
   "cell_type": "code",
   "execution_count": 70,
   "id": "9053af25",
   "metadata": {},
   "outputs": [
    {
     "data": {
      "text/plain": [
       "0.8528241845664281"
      ]
     },
     "execution_count": 70,
     "metadata": {},
     "output_type": "execute_result"
    }
   ],
   "source": [
    "from sklearn.naive_bayes import MultinomialNB\n",
    "from sklearn.metrics import accuracy_score \n",
    "from sklearn.model_selection import train_test_split\n",
    "\n",
    "train_X,test_X,train_y,test_y = train_test_split(counter,target, test_size = 0.22)\n",
    "\n",
    "classifier = MultinomialNB()\n",
    "classifier.fit(train_X,train_y)\n",
    "pred = classifier.predict(test_X)\n",
    "accuracy_score(test_y,pred)"
   ]
  },
  {
   "cell_type": "code",
   "execution_count": null,
   "id": "cc2694ed",
   "metadata": {},
   "outputs": [],
   "source": [
    "from sklearn.ensemble import RandomForestClassifier\n",
    "from sklearn.model_selection import GridSearchCV\n",
    "\n",
    "params = {\"max_depth\" :[10,100,1000]}\n",
    "grid =GridSearchCV(RandomForestClassifier(),params,cv=5,scoring = \"accuracy\")\n",
    "grid.fit(counter,target)\n"
   ]
  },
  {
   "cell_type": "code",
   "execution_count": null,
   "id": "b99bf823",
   "metadata": {},
   "outputs": [],
   "source": [
    "grid.best_scores"
   ]
  },
  {
   "cell_type": "code",
   "execution_count": 71,
   "id": "ffa04c1b",
   "metadata": {},
   "outputs": [
    {
     "data": {
      "text/plain": [
       "0.8377297162145269"
      ]
     },
     "execution_count": 71,
     "metadata": {},
     "output_type": "execute_result"
    }
   ],
   "source": [
    "#2. TfidfVectorizer()이용\n",
    "from sklearn.feature_extraction.text import TfidfVectorizer\n",
    "tfidfvectorizer = TfidfVectorizer()\n",
    "tfidf = tfidfvectorizer.fit_transform(train_data['data'])\n",
    "\n",
    "train_X, test_X,train_y,test_y = train_test_split(tfidf,target,test_size = .2)\n",
    "\n",
    "classifier = MultinomialNB()\n",
    "classifier.fit(train_X,train_y)\n",
    "pred = classifier.predict(test_X)\n",
    "accuracy_score(test_y,pred)"
   ]
  },
  {
   "cell_type": "code",
   "execution_count": 60,
   "id": "cec97704",
   "metadata": {},
   "outputs": [
    {
     "data": {
      "text/plain": [
       "<8799x742720 sparse matrix of type '<class 'numpy.int64'>'\n",
       "\twith 849788 stored elements in Compressed Sparse Row format>"
      ]
     },
     "execution_count": 60,
     "metadata": {},
     "output_type": "execute_result"
    }
   ],
   "source": [
    "import re\n",
    "#특수문자 띄어쓰기 모두제거 후 String 출력\n",
    "hangule1 = re.compile('[^가-힣]+')\n",
    "hangule2 = re.compile('[가-힣]+')\n",
    "train_data['string_data'] = train_data['data'].apply(lambda x : hangule1.sub('',str(x)))\n",
    "train_data['list_data'] = train_data['data'].apply(lambda x : hangule2.findall(str(x)))"
   ]
  },
  {
   "cell_type": "code",
   "execution_count": null,
   "id": "c6866639",
   "metadata": {},
   "outputs": [],
   "source": []
  }
 ],
 "metadata": {
  "kernelspec": {
   "display_name": "Python 3 (ipykernel)",
   "language": "python",
   "name": "python3"
  },
  "language_info": {
   "codemirror_mode": {
    "name": "ipython",
    "version": 3
   },
   "file_extension": ".py",
   "mimetype": "text/x-python",
   "name": "python",
   "nbconvert_exporter": "python",
   "pygments_lexer": "ipython3",
   "version": "3.7.11"
  }
 },
 "nbformat": 4,
 "nbformat_minor": 5
}
