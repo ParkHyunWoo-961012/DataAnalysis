{
 "cells": [
  {
   "cell_type": "code",
   "execution_count": 116,
   "metadata": {},
   "outputs": [],
   "source": [
    "import pandas as pd\n",
    "import numpy as np\n",
    "import matplotlib.pyplot as plt\n",
    "import seaborn as sns \n",
    "data = pd.read_csv(\"airline_dataset/train.csv\")"
   ]
  },
  {
   "cell_type": "code",
   "execution_count": 13,
   "metadata": {},
   "outputs": [
    {
     "name": "stdout",
     "output_type": "stream",
     "text": [
      "<class 'pandas.core.frame.DataFrame'>\n",
      "RangeIndex: 3000 entries, 0 to 2999\n",
      "Data columns (total 24 columns):\n",
      " #   Column                             Non-Null Count  Dtype  \n",
      "---  ------                             --------------  -----  \n",
      " 0   id                                 3000 non-null   int64  \n",
      " 1   Gender                             3000 non-null   object \n",
      " 2   Customer Type                      3000 non-null   object \n",
      " 3   Age                                3000 non-null   int64  \n",
      " 4   Type of Travel                     3000 non-null   object \n",
      " 5   Class                              3000 non-null   object \n",
      " 6   Flight Distance                    3000 non-null   int64  \n",
      " 7   Seat comfort                       3000 non-null   int64  \n",
      " 8   Departure/Arrival time convenient  3000 non-null   int64  \n",
      " 9   Food and drink                     3000 non-null   int64  \n",
      " 10  Gate location                      3000 non-null   int64  \n",
      " 11  Inflight wifi service              3000 non-null   int64  \n",
      " 12  Inflight entertainment             3000 non-null   int64  \n",
      " 13  Online support                     3000 non-null   int64  \n",
      " 14  Ease of Online booking             3000 non-null   int64  \n",
      " 15  On-board service                   3000 non-null   int64  \n",
      " 16  Leg room service                   3000 non-null   int64  \n",
      " 17  Baggage handling                   3000 non-null   int64  \n",
      " 18  Checkin service                    3000 non-null   int64  \n",
      " 19  Cleanliness                        3000 non-null   int64  \n",
      " 20  Online boarding                    3000 non-null   int64  \n",
      " 21  Departure Delay in Minutes         3000 non-null   int64  \n",
      " 22  Arrival Delay in Minutes           3000 non-null   float64\n",
      " 23  target                             3000 non-null   int64  \n",
      "dtypes: float64(1), int64(19), object(4)\n",
      "memory usage: 562.6+ KB\n"
     ]
    }
   ],
   "source": [
    "data.info()"
   ]
  },
  {
   "cell_type": "code",
   "execution_count": 52,
   "metadata": {},
   "outputs": [
    {
     "data": {
      "text/plain": [
       "<matplotlib.axes._subplots.AxesSubplot at 0x7febd984e990>"
      ]
     },
     "execution_count": 52,
     "metadata": {},
     "output_type": "execute_result"
    },
    {
     "data": {
      "image/png": "[encoded data removed]",
      "text/plain": [
       "<Figure size 432x288 with 1 Axes>"
      ]
     },
     "metadata": {
      "needs_background": "light"
     },
     "output_type": "display_data"
    }
   ],
   "source": [
    "%matplotlib inline\n",
    "sns.countplot(x=\"Age\", data=data,hue =\"target\")"
   ]
  },
  {
   "cell_type": "code",
   "execution_count": 117,
   "metadata": {},
   "outputs": [],
   "source": [
    "from sklearn.pipeline import Pipeline\n",
    "from sklearn.preprocessing import MinMaxScaler,OneHotEncoder\n",
    "from sklearn.compose import ColumnTransformer\n",
    "\n",
    "def preprocessing(data):\n",
    "    data.drop(columns = [\"id\",\"Age\"],inplace= True)\n",
    "preprocessing(data)\n",
    "X_data = data.drop(\"target\",axis=1)\n",
    "y_data =data['target']\n",
    "\n",
    "number_col = X_data.columns[X_data.dtypes != object].values\n",
    "cat_col = X_data.columns[X_data.dtypes == object].values\n",
    "\n",
    "preprocess = ColumnTransformer([(\"num\",MinMaxScaler(),number_col),(\"cat\",OneHotEncoder(),cat_col)])\n",
    "new_data = preprocess.fit(X_data)"
   ]
  },
  {
   "cell_type": "code",
   "execution_count": 88,
   "metadata": {},
   "outputs": [
    {
     "name": "stderr",
     "output_type": "stream",
     "text": [
      "/opt/anaconda3/lib/python3.7/site-packages/sklearn/linear_model/_logistic.py:818: ConvergenceWarning: lbfgs failed to converge (status=1):\n",
      "STOP: TOTAL NO. of ITERATIONS REACHED LIMIT.\n",
      "\n",
      "Increase the number of iterations (max_iter) or scale the data as shown in:\n",
      "    https://scikit-learn.org/stable/modules/preprocessing.html\n",
      "Please also refer to the documentation for alternative solver options:\n",
      "    https://scikit-learn.org/stable/modules/linear_model.html#logistic-regression\n",
      "  extra_warning_msg=_LOGISTIC_SOLVER_CONVERGENCE_MSG,\n",
      "/opt/anaconda3/lib/python3.7/site-packages/sklearn/linear_model/_logistic.py:818: ConvergenceWarning: lbfgs failed to converge (status=1):\n",
      "STOP: TOTAL NO. of ITERATIONS REACHED LIMIT.\n",
      "\n",
      "Increase the number of iterations (max_iter) or scale the data as shown in:\n",
      "    https://scikit-learn.org/stable/modules/preprocessing.html\n",
      "Please also refer to the documentation for alternative solver options:\n",
      "    https://scikit-learn.org/stable/modules/linear_model.html#logistic-regression\n",
      "  extra_warning_msg=_LOGISTIC_SOLVER_CONVERGENCE_MSG,\n",
      "/opt/anaconda3/lib/python3.7/site-packages/sklearn/linear_model/_logistic.py:818: ConvergenceWarning: lbfgs failed to converge (status=1):\n",
      "STOP: TOTAL NO. of ITERATIONS REACHED LIMIT.\n",
      "\n",
      "Increase the number of iterations (max_iter) or scale the data as shown in:\n",
      "    https://scikit-learn.org/stable/modules/preprocessing.html\n",
      "Please also refer to the documentation for alternative solver options:\n",
      "    https://scikit-learn.org/stable/modules/linear_model.html#logistic-regression\n",
      "  extra_warning_msg=_LOGISTIC_SOLVER_CONVERGENCE_MSG,\n",
      "/opt/anaconda3/lib/python3.7/site-packages/sklearn/linear_model/_logistic.py:818: ConvergenceWarning: lbfgs failed to converge (status=1):\n",
      "STOP: TOTAL NO. of ITERATIONS REACHED LIMIT.\n",
      "\n",
      "Increase the number of iterations (max_iter) or scale the data as shown in:\n",
      "    https://scikit-learn.org/stable/modules/preprocessing.html\n",
      "Please also refer to the documentation for alternative solver options:\n",
      "    https://scikit-learn.org/stable/modules/linear_model.html#logistic-regression\n",
      "  extra_warning_msg=_LOGISTIC_SOLVER_CONVERGENCE_MSG,\n",
      "/opt/anaconda3/lib/python3.7/site-packages/sklearn/linear_model/_logistic.py:818: ConvergenceWarning: lbfgs failed to converge (status=1):\n",
      "STOP: TOTAL NO. of ITERATIONS REACHED LIMIT.\n",
      "\n",
      "Increase the number of iterations (max_iter) or scale the data as shown in:\n",
      "    https://scikit-learn.org/stable/modules/preprocessing.html\n",
      "Please also refer to the documentation for alternative solver options:\n",
      "    https://scikit-learn.org/stable/modules/linear_model.html#logistic-regression\n",
      "  extra_warning_msg=_LOGISTIC_SOLVER_CONVERGENCE_MSG,\n",
      "/opt/anaconda3/lib/python3.7/site-packages/sklearn/linear_model/_logistic.py:818: ConvergenceWarning: lbfgs failed to converge (status=1):\n",
      "STOP: TOTAL NO. of ITERATIONS REACHED LIMIT.\n",
      "\n",
      "Increase the number of iterations (max_iter) or scale the data as shown in:\n",
      "    https://scikit-learn.org/stable/modules/preprocessing.html\n",
      "Please also refer to the documentation for alternative solver options:\n",
      "    https://scikit-learn.org/stable/modules/linear_model.html#logistic-regression\n",
      "  extra_warning_msg=_LOGISTIC_SOLVER_CONVERGENCE_MSG,\n",
      "/opt/anaconda3/lib/python3.7/site-packages/sklearn/linear_model/_logistic.py:818: ConvergenceWarning: lbfgs failed to converge (status=1):\n",
      "STOP: TOTAL NO. of ITERATIONS REACHED LIMIT.\n",
      "\n",
      "Increase the number of iterations (max_iter) or scale the data as shown in:\n",
      "    https://scikit-learn.org/stable/modules/preprocessing.html\n",
      "Please also refer to the documentation for alternative solver options:\n",
      "    https://scikit-learn.org/stable/modules/linear_model.html#logistic-regression\n",
      "  extra_warning_msg=_LOGISTIC_SOLVER_CONVERGENCE_MSG,\n",
      "/opt/anaconda3/lib/python3.7/site-packages/sklearn/linear_model/_logistic.py:818: ConvergenceWarning: lbfgs failed to converge (status=1):\n",
      "STOP: TOTAL NO. of ITERATIONS REACHED LIMIT.\n",
      "\n",
      "Increase the number of iterations (max_iter) or scale the data as shown in:\n",
      "    https://scikit-learn.org/stable/modules/preprocessing.html\n",
      "Please also refer to the documentation for alternative solver options:\n",
      "    https://scikit-learn.org/stable/modules/linear_model.html#logistic-regression\n",
      "  extra_warning_msg=_LOGISTIC_SOLVER_CONVERGENCE_MSG,\n",
      "/opt/anaconda3/lib/python3.7/site-packages/sklearn/linear_model/_logistic.py:818: ConvergenceWarning: lbfgs failed to converge (status=1):\n",
      "STOP: TOTAL NO. of ITERATIONS REACHED LIMIT.\n",
      "\n",
      "Increase the number of iterations (max_iter) or scale the data as shown in:\n",
      "    https://scikit-learn.org/stable/modules/preprocessing.html\n",
      "Please also refer to the documentation for alternative solver options:\n",
      "    https://scikit-learn.org/stable/modules/linear_model.html#logistic-regression\n",
      "  extra_warning_msg=_LOGISTIC_SOLVER_CONVERGENCE_MSG,\n",
      "/opt/anaconda3/lib/python3.7/site-packages/sklearn/linear_model/_logistic.py:818: ConvergenceWarning: lbfgs failed to converge (status=1):\n",
      "STOP: TOTAL NO. of ITERATIONS REACHED LIMIT.\n",
      "\n",
      "Increase the number of iterations (max_iter) or scale the data as shown in:\n",
      "    https://scikit-learn.org/stable/modules/preprocessing.html\n",
      "Please also refer to the documentation for alternative solver options:\n",
      "    https://scikit-learn.org/stable/modules/linear_model.html#logistic-regression\n",
      "  extra_warning_msg=_LOGISTIC_SOLVER_CONVERGENCE_MSG,\n",
      "/opt/anaconda3/lib/python3.7/site-packages/sklearn/linear_model/_logistic.py:818: ConvergenceWarning: lbfgs failed to converge (status=1):\n",
      "STOP: TOTAL NO. of ITERATIONS REACHED LIMIT.\n",
      "\n",
      "Increase the number of iterations (max_iter) or scale the data as shown in:\n",
      "    https://scikit-learn.org/stable/modules/preprocessing.html\n",
      "Please also refer to the documentation for alternative solver options:\n",
      "    https://scikit-learn.org/stable/modules/linear_model.html#logistic-regression\n",
      "  extra_warning_msg=_LOGISTIC_SOLVER_CONVERGENCE_MSG,\n",
      "/opt/anaconda3/lib/python3.7/site-packages/sklearn/linear_model/_logistic.py:818: ConvergenceWarning: lbfgs failed to converge (status=1):\n",
      "STOP: TOTAL NO. of ITERATIONS REACHED LIMIT.\n",
      "\n",
      "Increase the number of iterations (max_iter) or scale the data as shown in:\n",
      "    https://scikit-learn.org/stable/modules/preprocessing.html\n",
      "Please also refer to the documentation for alternative solver options:\n",
      "    https://scikit-learn.org/stable/modules/linear_model.html#logistic-regression\n",
      "  extra_warning_msg=_LOGISTIC_SOLVER_CONVERGENCE_MSG,\n",
      "/opt/anaconda3/lib/python3.7/site-packages/sklearn/linear_model/_logistic.py:818: ConvergenceWarning: lbfgs failed to converge (status=1):\n",
      "STOP: TOTAL NO. of ITERATIONS REACHED LIMIT.\n",
      "\n",
      "Increase the number of iterations (max_iter) or scale the data as shown in:\n",
      "    https://scikit-learn.org/stable/modules/preprocessing.html\n",
      "Please also refer to the documentation for alternative solver options:\n",
      "    https://scikit-learn.org/stable/modules/linear_model.html#logistic-regression\n",
      "  extra_warning_msg=_LOGISTIC_SOLVER_CONVERGENCE_MSG,\n",
      "/opt/anaconda3/lib/python3.7/site-packages/sklearn/linear_model/_logistic.py:818: ConvergenceWarning: lbfgs failed to converge (status=1):\n",
      "STOP: TOTAL NO. of ITERATIONS REACHED LIMIT.\n",
      "\n",
      "Increase the number of iterations (max_iter) or scale the data as shown in:\n",
      "    https://scikit-learn.org/stable/modules/preprocessing.html\n",
      "Please also refer to the documentation for alternative solver options:\n",
      "    https://scikit-learn.org/stable/modules/linear_model.html#logistic-regression\n",
      "  extra_warning_msg=_LOGISTIC_SOLVER_CONVERGENCE_MSG,\n",
      "/opt/anaconda3/lib/python3.7/site-packages/sklearn/linear_model/_logistic.py:818: ConvergenceWarning: lbfgs failed to converge (status=1):\n",
      "STOP: TOTAL NO. of ITERATIONS REACHED LIMIT.\n",
      "\n",
      "Increase the number of iterations (max_iter) or scale the data as shown in:\n",
      "    https://scikit-learn.org/stable/modules/preprocessing.html\n",
      "Please also refer to the documentation for alternative solver options:\n",
      "    https://scikit-learn.org/stable/modules/linear_model.html#logistic-regression\n",
      "  extra_warning_msg=_LOGISTIC_SOLVER_CONVERGENCE_MSG,\n"
     ]
    },
    {
     "data": {
      "text/plain": [
       "GridSearchCV(cv=5, estimator=LogisticRegression(),\n",
       "             param_grid={'C': [1.0, 2.0, 5.0, 10.0]}, scoring='accuracy')"
      ]
     },
     "execution_count": 88,
     "metadata": {},
     "output_type": "execute_result"
    }
   ],
   "source": [
    "from sklearn.linear_model import LogisticRegression\n",
    "from sklearn.ensemble import RandomForestClassifier\n",
    "from sklearn.model_selection import GridSearchCV\n",
    "\n",
    "params = {\"C\": [1.,2.,5.,10.]}\n",
    "lr_clf = LogisticRegression()\n",
    "gsc_clf = GridSearchCV(lr_clf,param_grid = params, cv =5 ,scoring =\"accuracy\")\n",
    "gsc_clf.fit(new_data,y_data)"
   ]
  },
  {
   "cell_type": "code",
   "execution_count": 90,
   "metadata": {},
   "outputs": [
    {
     "data": {
      "text/plain": [
       "0.8399999999999999"
      ]
     },
     "execution_count": 90,
     "metadata": {},
     "output_type": "execute_result"
    }
   ],
   "source": [
    "gsc_clf.best_score_"
   ]
  },
  {
   "cell_type": "code",
   "execution_count": 101,
   "metadata": {},
   "outputs": [
    {
     "name": "stderr",
     "output_type": "stream",
     "text": [
      "/opt/anaconda3/lib/python3.7/site-packages/lightgbm/sklearn.py:726: UserWarning: 'early_stopping_rounds' argument is deprecated and will be removed in a future release of LightGBM. Pass 'early_stopping()' callback via 'callbacks' argument instead.\n",
      "  _log_warning(\"'early_stopping_rounds' argument is deprecated and will be removed in a future release of LightGBM. \"\n"
     ]
    },
    {
     "name": "stdout",
     "output_type": "stream",
     "text": [
      "[1]\tvalid_0's binary_logloss: 0.624971\n",
      "[2]\tvalid_0's binary_logloss: 0.573361\n",
      "[3]\tvalid_0's binary_logloss: 0.530904\n",
      "[4]\tvalid_0's binary_logloss: 0.49294\n",
      "[5]\tvalid_0's binary_logloss: 0.463234\n",
      "[6]\tvalid_0's binary_logloss: 0.43652\n",
      "[7]\tvalid_0's binary_logloss: 0.412745\n",
      "[8]\tvalid_0's binary_logloss: 0.391599\n",
      "[9]\tvalid_0's binary_logloss: 0.373878\n",
      "[10]\tvalid_0's binary_logloss: 0.357684\n",
      "[11]\tvalid_0's binary_logloss: 0.341087\n",
      "[12]\tvalid_0's binary_logloss: 0.32767\n",
      "[13]\tvalid_0's binary_logloss: 0.31461\n",
      "[14]\tvalid_0's binary_logloss: 0.303453\n",
      "[15]\tvalid_0's binary_logloss: 0.293841\n",
      "[16]\tvalid_0's binary_logloss: 0.2854\n",
      "[17]\tvalid_0's binary_logloss: 0.277747\n",
      "[18]\tvalid_0's binary_logloss: 0.271421\n",
      "[19]\tvalid_0's binary_logloss: 0.264905\n",
      "[20]\tvalid_0's binary_logloss: 0.260109\n",
      "[21]\tvalid_0's binary_logloss: 0.255077\n",
      "[22]\tvalid_0's binary_logloss: 0.24977\n",
      "[23]\tvalid_0's binary_logloss: 0.246713\n",
      "[24]\tvalid_0's binary_logloss: 0.2425\n",
      "[25]\tvalid_0's binary_logloss: 0.237731\n",
      "[26]\tvalid_0's binary_logloss: 0.234577\n",
      "[27]\tvalid_0's binary_logloss: 0.23181\n",
      "[28]\tvalid_0's binary_logloss: 0.226639\n",
      "[29]\tvalid_0's binary_logloss: 0.223696\n",
      "[30]\tvalid_0's binary_logloss: 0.220473\n",
      "[31]\tvalid_0's binary_logloss: 0.215566\n",
      "[32]\tvalid_0's binary_logloss: 0.210956\n",
      "[33]\tvalid_0's binary_logloss: 0.207099\n",
      "[34]\tvalid_0's binary_logloss: 0.204192\n",
      "[35]\tvalid_0's binary_logloss: 0.200458\n",
      "[36]\tvalid_0's binary_logloss: 0.200489\n",
      "[37]\tvalid_0's binary_logloss: 0.200196\n",
      "[38]\tvalid_0's binary_logloss: 0.199067\n",
      "[39]\tvalid_0's binary_logloss: 0.197252\n",
      "[40]\tvalid_0's binary_logloss: 0.195709\n",
      "[41]\tvalid_0's binary_logloss: 0.194965\n",
      "[42]\tvalid_0's binary_logloss: 0.19324\n",
      "[43]\tvalid_0's binary_logloss: 0.191286\n",
      "[44]\tvalid_0's binary_logloss: 0.190962\n",
      "[45]\tvalid_0's binary_logloss: 0.188736\n",
      "[46]\tvalid_0's binary_logloss: 0.187278\n",
      "[47]\tvalid_0's binary_logloss: 0.187013\n",
      "[48]\tvalid_0's binary_logloss: 0.18554\n",
      "[49]\tvalid_0's binary_logloss: 0.186912\n",
      "[50]\tvalid_0's binary_logloss: 0.186553\n",
      "[51]\tvalid_0's binary_logloss: 0.185315\n",
      "[52]\tvalid_0's binary_logloss: 0.18512\n",
      "[53]\tvalid_0's binary_logloss: 0.184895\n",
      "[54]\tvalid_0's binary_logloss: 0.183706\n",
      "[55]\tvalid_0's binary_logloss: 0.183029\n",
      "[56]\tvalid_0's binary_logloss: 0.181241\n",
      "[57]\tvalid_0's binary_logloss: 0.181177\n",
      "[58]\tvalid_0's binary_logloss: 0.180599\n",
      "[59]\tvalid_0's binary_logloss: 0.180326\n",
      "[60]\tvalid_0's binary_logloss: 0.181209\n",
      "[61]\tvalid_0's binary_logloss: 0.178777\n",
      "[62]\tvalid_0's binary_logloss: 0.178737\n",
      "[63]\tvalid_0's binary_logloss: 0.177942\n",
      "[64]\tvalid_0's binary_logloss: 0.178261\n",
      "[65]\tvalid_0's binary_logloss: 0.176157\n",
      "[66]\tvalid_0's binary_logloss: 0.175329\n",
      "[67]\tvalid_0's binary_logloss: 0.174432\n",
      "[68]\tvalid_0's binary_logloss: 0.173763\n",
      "[69]\tvalid_0's binary_logloss: 0.173176\n",
      "[70]\tvalid_0's binary_logloss: 0.172973\n",
      "[71]\tvalid_0's binary_logloss: 0.173915\n",
      "[72]\tvalid_0's binary_logloss: 0.174239\n",
      "[73]\tvalid_0's binary_logloss: 0.174058\n",
      "[74]\tvalid_0's binary_logloss: 0.174231\n",
      "[75]\tvalid_0's binary_logloss: 0.171931\n",
      "[76]\tvalid_0's binary_logloss: 0.172492\n",
      "[77]\tvalid_0's binary_logloss: 0.172785\n",
      "[78]\tvalid_0's binary_logloss: 0.173386\n",
      "[79]\tvalid_0's binary_logloss: 0.173275\n",
      "[80]\tvalid_0's binary_logloss: 0.172581\n",
      "[81]\tvalid_0's binary_logloss: 0.172541\n",
      "[82]\tvalid_0's binary_logloss: 0.172591\n",
      "[83]\tvalid_0's binary_logloss: 0.172523\n",
      "[84]\tvalid_0's binary_logloss: 0.172237\n",
      "[85]\tvalid_0's binary_logloss: 0.172446\n",
      "[86]\tvalid_0's binary_logloss: 0.172203\n",
      "[87]\tvalid_0's binary_logloss: 0.172304\n",
      "[88]\tvalid_0's binary_logloss: 0.172833\n",
      "[89]\tvalid_0's binary_logloss: 0.172325\n",
      "[90]\tvalid_0's binary_logloss: 0.172391\n",
      "[91]\tvalid_0's binary_logloss: 0.171673\n",
      "[92]\tvalid_0's binary_logloss: 0.171634\n",
      "[93]\tvalid_0's binary_logloss: 0.172595\n",
      "[94]\tvalid_0's binary_logloss: 0.17266\n",
      "[95]\tvalid_0's binary_logloss: 0.172421\n",
      "[96]\tvalid_0's binary_logloss: 0.172521\n",
      "[97]\tvalid_0's binary_logloss: 0.171793\n",
      "[98]\tvalid_0's binary_logloss: 0.172759\n",
      "[99]\tvalid_0's binary_logloss: 0.172997\n",
      "[100]\tvalid_0's binary_logloss: 0.173184\n",
      "[101]\tvalid_0's binary_logloss: 0.173412\n",
      "[102]\tvalid_0's binary_logloss: 0.173539\n",
      "[103]\tvalid_0's binary_logloss: 0.173813\n",
      "[104]\tvalid_0's binary_logloss: 0.173636\n",
      "[105]\tvalid_0's binary_logloss: 0.172622\n",
      "[106]\tvalid_0's binary_logloss: 0.173604\n",
      "[107]\tvalid_0's binary_logloss: 0.173874\n",
      "[108]\tvalid_0's binary_logloss: 0.174308\n",
      "[109]\tvalid_0's binary_logloss: 0.174706\n",
      "[110]\tvalid_0's binary_logloss: 0.175183\n",
      "[111]\tvalid_0's binary_logloss: 0.1757\n",
      "[112]\tvalid_0's binary_logloss: 0.175563\n",
      "[113]\tvalid_0's binary_logloss: 0.176023\n",
      "[114]\tvalid_0's binary_logloss: 0.176221\n",
      "[115]\tvalid_0's binary_logloss: 0.175807\n",
      "[116]\tvalid_0's binary_logloss: 0.175905\n",
      "[117]\tvalid_0's binary_logloss: 0.175195\n",
      "[118]\tvalid_0's binary_logloss: 0.175464\n",
      "[119]\tvalid_0's binary_logloss: 0.175476\n",
      "[120]\tvalid_0's binary_logloss: 0.175696\n",
      "[121]\tvalid_0's binary_logloss: 0.175264\n",
      "[122]\tvalid_0's binary_logloss: 0.175767\n",
      "[123]\tvalid_0's binary_logloss: 0.176622\n",
      "[124]\tvalid_0's binary_logloss: 0.176628\n",
      "[125]\tvalid_0's binary_logloss: 0.176321\n",
      "[126]\tvalid_0's binary_logloss: 0.176481\n",
      "[127]\tvalid_0's binary_logloss: 0.176902\n",
      "[128]\tvalid_0's binary_logloss: 0.177378\n",
      "[129]\tvalid_0's binary_logloss: 0.177553\n",
      "[130]\tvalid_0's binary_logloss: 0.177677\n",
      "[131]\tvalid_0's binary_logloss: 0.17766\n",
      "[132]\tvalid_0's binary_logloss: 0.178357\n",
      "[133]\tvalid_0's binary_logloss: 0.178148\n",
      "[134]\tvalid_0's binary_logloss: 0.178454\n",
      "[135]\tvalid_0's binary_logloss: 0.178961\n",
      "[136]\tvalid_0's binary_logloss: 0.179534\n",
      "[137]\tvalid_0's binary_logloss: 0.180186\n",
      "[138]\tvalid_0's binary_logloss: 0.180777\n",
      "[139]\tvalid_0's binary_logloss: 0.180574\n",
      "[140]\tvalid_0's binary_logloss: 0.180862\n",
      "[141]\tvalid_0's binary_logloss: 0.181453\n",
      "[142]\tvalid_0's binary_logloss: 0.181617\n",
      "[143]\tvalid_0's binary_logloss: 0.182239\n",
      "[144]\tvalid_0's binary_logloss: 0.181958\n",
      "[145]\tvalid_0's binary_logloss: 0.182161\n",
      "[146]\tvalid_0's binary_logloss: 0.183125\n",
      "[147]\tvalid_0's binary_logloss: 0.183721\n",
      "[148]\tvalid_0's binary_logloss: 0.183878\n",
      "[149]\tvalid_0's binary_logloss: 0.184641\n",
      "[150]\tvalid_0's binary_logloss: 0.185479\n",
      "[151]\tvalid_0's binary_logloss: 0.186148\n",
      "[152]\tvalid_0's binary_logloss: 0.186497\n",
      "[153]\tvalid_0's binary_logloss: 0.186748\n",
      "[154]\tvalid_0's binary_logloss: 0.187406\n",
      "[155]\tvalid_0's binary_logloss: 0.188371\n",
      "[156]\tvalid_0's binary_logloss: 0.188992\n",
      "[157]\tvalid_0's binary_logloss: 0.189057\n",
      "[158]\tvalid_0's binary_logloss: 0.190702\n",
      "[159]\tvalid_0's binary_logloss: 0.190894\n",
      "[160]\tvalid_0's binary_logloss: 0.191661\n",
      "[161]\tvalid_0's binary_logloss: 0.192435\n",
      "[162]\tvalid_0's binary_logloss: 0.192788\n",
      "[163]\tvalid_0's binary_logloss: 0.193504\n",
      "[164]\tvalid_0's binary_logloss: 0.193897\n",
      "[165]\tvalid_0's binary_logloss: 0.194674\n",
      "[166]\tvalid_0's binary_logloss: 0.194876\n",
      "[167]\tvalid_0's binary_logloss: 0.194882\n",
      "[168]\tvalid_0's binary_logloss: 0.195821\n",
      "[169]\tvalid_0's binary_logloss: 0.194979\n",
      "[170]\tvalid_0's binary_logloss: 0.195795\n",
      "[171]\tvalid_0's binary_logloss: 0.196813\n",
      "[172]\tvalid_0's binary_logloss: 0.196386\n",
      "[173]\tvalid_0's binary_logloss: 0.196641\n",
      "[174]\tvalid_0's binary_logloss: 0.196702\n",
      "[175]\tvalid_0's binary_logloss: 0.1979\n",
      "[176]\tvalid_0's binary_logloss: 0.199057\n",
      "[177]\tvalid_0's binary_logloss: 0.199515\n",
      "[178]\tvalid_0's binary_logloss: 0.199693\n",
      "[179]\tvalid_0's binary_logloss: 0.199947\n",
      "[180]\tvalid_0's binary_logloss: 0.200351\n",
      "[181]\tvalid_0's binary_logloss: 0.200598\n",
      "[182]\tvalid_0's binary_logloss: 0.201391\n",
      "[183]\tvalid_0's binary_logloss: 0.201924\n",
      "[184]\tvalid_0's binary_logloss: 0.201951\n",
      "[185]\tvalid_0's binary_logloss: 0.202185\n",
      "[186]\tvalid_0's binary_logloss: 0.203259\n",
      "[187]\tvalid_0's binary_logloss: 0.204422\n",
      "[188]\tvalid_0's binary_logloss: 0.204743\n",
      "[189]\tvalid_0's binary_logloss: 0.205064\n",
      "[190]\tvalid_0's binary_logloss: 0.205241\n",
      "[191]\tvalid_0's binary_logloss: 0.205463\n",
      "[192]\tvalid_0's binary_logloss: 0.205778\n"
     ]
    },
    {
     "data": {
      "text/plain": [
       "LGBMClassifier(n_estimators=400)"
      ]
     },
     "execution_count": 101,
     "metadata": {},
     "output_type": "execute_result"
    }
   ],
   "source": [
    "from lightgbm import LGBMClassifier\n",
    "\n",
    "from sklearn.model_selection import train_test_split\n",
    "\n",
    "X_train, X_test, y_train, y_test = train_test_split(new_data, y_data, test_size=0.2, random_state=156)\n",
    "\n",
    "lgbm_wrapper = LGBMClassifier(n_estimators=400)\n",
    "\n",
    "lgbm_wrapper.fit(X_train, y_train, early_stopping_rounds=100, eval_metric='accuracy',eval_set = [(X_test,y_test)])"
   ]
  },
  {
   "cell_type": "code",
   "execution_count": 104,
   "metadata": {},
   "outputs": [
    {
     "data": {
      "text/plain": [
       "0.92"
      ]
     },
     "execution_count": 104,
     "metadata": {},
     "output_type": "execute_result"
    }
   ],
   "source": [
    "from sklearn.metrics import accuracy_score\n",
    "accuracy_score(y_test,lgbm_wrapper.predict(X_test))"
   ]
  },
  {
   "cell_type": "code",
   "execution_count": 118,
   "metadata": {},
   "outputs": [],
   "source": [
    "# 테스트 데이터셋 전처리 ~ 트레인 데이터셋과 동일하게 처리해야함\n",
    "data = pd.read_csv(\"airline_dataset/test.csv\")\n",
    "preprocessing(data)\n",
    "converted_data = preprocess.transform(data)"
   ]
  },
  {
   "cell_type": "code",
   "execution_count": 131,
   "metadata": {},
   "outputs": [],
   "source": [
    "## 제출용 \n",
    "target = lgbm_wrapper.predict(converted_data)\n",
    "sample = pd.read_csv(\"airline_dataset/sample_submission.csv\")\n",
    "sample['target'] = target\n",
    "sample.to_csv(\"sample_submission.csv\",index=False)"
   ]
  },
  {
   "cell_type": "code",
   "execution_count": null,
   "metadata": {},
   "outputs": [],
   "source": []
  }
 ],
 "metadata": {
  "kernelspec": {
   "display_name": "Python 3 (ipykernel)",
   "language": "python",
   "name": "python3"
  },
  "language_info": {
   "codemirror_mode": {
    "name": "ipython",
    "version": 3
   },
   "file_extension": ".py",
   "mimetype": "text/x-python",
   "name": "python",
   "nbconvert_exporter": "python",
   "pygments_lexer": "ipython3",
   "version": "3.7.11"
  }
 },
 "nbformat": 4,
 "nbformat_minor": 4
}
