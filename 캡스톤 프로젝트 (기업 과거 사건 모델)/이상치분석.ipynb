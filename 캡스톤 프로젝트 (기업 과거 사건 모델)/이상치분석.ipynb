{
 "cells": [
  {
   "cell_type": "code",
   "execution_count": 1,
   "id": "4fe303a9",
   "metadata": {},
   "outputs": [
    {
     "name": "stdout",
     "output_type": "stream",
     "text": [
      "Collecting pykrx\n",
      "  Downloading pykrx-1.0.32-py3-none-any.whl (92 kB)\n",
      "\u001b[K     |████████████████████████████████| 92 kB 1.8 MB/s  eta 0:00:01\n",
      "\u001b[?25hCollecting deprecated\n",
      "  Downloading Deprecated-1.2.13-py2.py3-none-any.whl (9.6 kB)\n",
      "Requirement already satisfied: xlrd in /Users/hyunwoo/opt/anaconda3/lib/python3.7/site-packages (from pykrx) (2.0.1)\n",
      "Requirement already satisfied: requests in /Users/hyunwoo/opt/anaconda3/lib/python3.7/site-packages (from pykrx) (2.26.0)\n",
      "Requirement already satisfied: numpy in /Users/hyunwoo/opt/anaconda3/lib/python3.7/site-packages (from pykrx) (1.20.3)\n",
      "Collecting datetime\n",
      "  Downloading DateTime-4.4-py2.py3-none-any.whl (51 kB)\n",
      "\u001b[K     |████████████████████████████████| 51 kB 1.9 MB/s  eta 0:00:01\n",
      "\u001b[?25hRequirement already satisfied: pandas in /Users/hyunwoo/opt/anaconda3/lib/python3.7/site-packages (from pykrx) (1.3.4)\n",
      "Requirement already satisfied: pytz in /Users/hyunwoo/opt/anaconda3/lib/python3.7/site-packages (from datetime->pykrx) (2021.3)\n",
      "Requirement already satisfied: zope.interface in /Users/hyunwoo/opt/anaconda3/lib/python3.7/site-packages (from datetime->pykrx) (5.4.0)\n",
      "Requirement already satisfied: wrapt<2,>=1.10 in /Users/hyunwoo/opt/anaconda3/lib/python3.7/site-packages (from deprecated->pykrx) (1.12.1)\n",
      "Requirement already satisfied: python-dateutil>=2.7.3 in /Users/hyunwoo/opt/anaconda3/lib/python3.7/site-packages (from pandas->pykrx) (2.8.2)\n",
      "Requirement already satisfied: six>=1.5 in /Users/hyunwoo/opt/anaconda3/lib/python3.7/site-packages (from python-dateutil>=2.7.3->pandas->pykrx) (1.16.0)\n",
      "Requirement already satisfied: idna<4,>=2.5 in /Users/hyunwoo/opt/anaconda3/lib/python3.7/site-packages (from requests->pykrx) (3.2)\n",
      "Requirement already satisfied: charset-normalizer~=2.0.0 in /Users/hyunwoo/opt/anaconda3/lib/python3.7/site-packages (from requests->pykrx) (2.0.4)\n",
      "Requirement already satisfied: urllib3<1.27,>=1.21.1 in /Users/hyunwoo/opt/anaconda3/lib/python3.7/site-packages (from requests->pykrx) (1.26.7)\n",
      "Requirement already satisfied: certifi>=2017.4.17 in /Users/hyunwoo/opt/anaconda3/lib/python3.7/site-packages (from requests->pykrx) (2021.10.8)\n",
      "Requirement already satisfied: setuptools in /Users/hyunwoo/opt/anaconda3/lib/python3.7/site-packages (from zope.interface->datetime->pykrx) (58.0.4)\n",
      "Installing collected packages: deprecated, datetime, pykrx\n",
      "Successfully installed datetime-4.4 deprecated-1.2.13 pykrx-1.0.32\n"
     ]
    }
   ],
   "source": [
    "# 거래대금도 데이터로 제공하는 패키지\n",
    "!pip install pykrx\n",
    "from pykrx import stock"
   ]
  },
  {
   "cell_type": "code",
   "execution_count": null,
   "id": "9433dc6e",
   "metadata": {},
   "outputs": [],
   "source": []
  }
 ],
 "metadata": {
  "kernelspec": {
   "display_name": "Python 3 (ipykernel)",
   "language": "python",
   "name": "python3"
  },
  "language_info": {
   "codemirror_mode": {
    "name": "ipython",
    "version": 3
   },
   "file_extension": ".py",
   "mimetype": "text/x-python",
   "name": "python",
   "nbconvert_exporter": "python",
   "pygments_lexer": "ipython3",
   "version": "3.7.11"
  }
 },
 "nbformat": 4,
 "nbformat_minor": 5
}
