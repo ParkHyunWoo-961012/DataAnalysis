{
 "cells": [
  {
   "cell_type": "code",
   "execution_count": 2,
   "id": "0e587237",
   "metadata": {},
   "outputs": [],
   "source": [
    "# 문제 출처 :  https://www.datamanim.com/dataset/03_dataq/pandas_practice.html#id3\n",
    "\n",
    "import pandas as pd\n",
    "\n",
    "#월드컵 출전선수 골 기록 데이터\n",
    "df= pd.read_csv('https://raw.githubusercontent.com/Datamanim/datarepo/main/worldcup/worldcupgoals.csv')"
   ]
  },
  {
   "cell_type": "code",
   "execution_count": 6,
   "id": "1f9febf1",
   "metadata": {},
   "outputs": [
    {
     "data": {
      "text/html": [
       "<div>\n",
       "<style scoped>\n",
       "    .dataframe tbody tr th:only-of-type {\n",
       "        vertical-align: middle;\n",
       "    }\n",
       "\n",
       "    .dataframe tbody tr th {\n",
       "        vertical-align: top;\n",
       "    }\n",
       "\n",
       "    .dataframe thead th {\n",
       "        text-align: right;\n",
       "    }\n",
       "</style>\n",
       "<table border=\"1\" class=\"dataframe\">\n",
       "  <thead>\n",
       "    <tr style=\"text-align: right;\">\n",
       "      <th></th>\n",
       "      <th>Country</th>\n",
       "      <th>Goals</th>\n",
       "    </tr>\n",
       "  </thead>\n",
       "  <tbody>\n",
       "    <tr>\n",
       "      <th>0</th>\n",
       "      <td>Germany</td>\n",
       "      <td>16</td>\n",
       "    </tr>\n",
       "    <tr>\n",
       "      <th>1</th>\n",
       "      <td>Brazil</td>\n",
       "      <td>15</td>\n",
       "    </tr>\n",
       "    <tr>\n",
       "      <th>2</th>\n",
       "      <td>Germany</td>\n",
       "      <td>14</td>\n",
       "    </tr>\n",
       "    <tr>\n",
       "      <th>3</th>\n",
       "      <td>France</td>\n",
       "      <td>13</td>\n",
       "    </tr>\n",
       "    <tr>\n",
       "      <th>4</th>\n",
       "      <td>Brazil</td>\n",
       "      <td>12</td>\n",
       "    </tr>\n",
       "  </tbody>\n",
       "</table>\n",
       "</div>"
      ],
      "text/plain": [
       "   Country  Goals\n",
       "0  Germany     16\n",
       "1   Brazil     15\n",
       "2  Germany     14\n",
       "3   France     13\n",
       "4   Brazil     12"
      ]
     },
     "execution_count": 6,
     "metadata": {},
     "output_type": "execute_result"
    }
   ],
   "source": [
    "#1. 주어진 전체 기간의 각 나라별 골득점수 상위 5개 국가와 그 득점수를 데이터프레임형태로 출력하라\n",
    "df.groupby(\"Country\").sum().sort_values(\"Goals\",ascending = False).head(5)"
   ]
  },
  {
   "cell_type": "code",
   "execution_count": 14,
   "id": "877f2374",
   "metadata": {},
   "outputs": [
    {
     "data": {
      "text/plain": [
       "Country\n",
       "Brazil       81\n",
       "Germany      78\n",
       "Italy        60\n",
       "Argentina    59\n",
       "France       58\n",
       "Name: Player, dtype: int64"
      ]
     },
     "execution_count": 14,
     "metadata": {},
     "output_type": "execute_result"
    }
   ],
   "source": [
    "#2. 주어진 전체기간동안 골득점을 한 선수가 가장 많은 나라 상위 5개 국가와 \n",
    "# 그 선수 숫자를 데이터 프레임 형식으로 출력하라\n",
    "df.groupby(\"Country\").count().sort_values(\"Player\",ascending =False)['Player'][:5]"
   ]
  },
  {
   "cell_type": "code",
   "execution_count": 33,
   "id": "88e0fda5",
   "metadata": {},
   "outputs": [
    {
     "data": {
      "text/plain": [
       "45"
      ]
     },
     "execution_count": 33,
     "metadata": {},
     "output_type": "execute_result"
    }
   ],
   "source": [
    "#3.Years 컬럼은 년도 -년도 형식으로 구성되어있고, 각 년도는 4자리 숫자이다. \n",
    "# 년도 표기가 4자리 숫자로 안된 케이스가 존재한다. 해당 건은 몇건인지 출력하라\n",
    "len(df[df['Years'].apply(lambda x : len(x.replace(\"-\",\"\")))%4 !=0])"
   ]
  },
  {
   "cell_type": "code",
   "execution_count": 39,
   "id": "ba544d8f",
   "metadata": {},
   "outputs": [
    {
     "data": {
      "text/plain": [
       "1250"
      ]
     },
     "execution_count": 39,
     "metadata": {},
     "output_type": "execute_result"
    }
   ],
   "source": [
    "#4.**Q3에서 발생한 예외 케이스를 제외한 데이터프레임을 df2라고 정의하고 \n",
    "# 데이터의 행의 숫자를 출력하라 (아래 문제부터는 df2로 풀이하겠습니다) **\n",
    "cond = df['Years'].apply(lambda x : len(x.replace(\"-\",\"\")))%4 !=0\n",
    "df2 = df[~cond]\n",
    "df2.reset_index(drop = True)\n",
    "len(df2)"
   ]
  },
  {
   "cell_type": "code",
   "execution_count": 50,
   "id": "5f3afede",
   "metadata": {},
   "outputs": [
    {
     "data": {
      "text/plain": [
       "16"
      ]
     },
     "execution_count": 50,
     "metadata": {},
     "output_type": "execute_result"
    }
   ],
   "source": [
    "#5.월드컵 출전횟수를 나타내는 ‘LenCup’ 컬럼을 추가하고 4회 출전한 선수의 숫자를 구하여라\n",
    "df2['LenCup'] = df['Years'].apply(lambda x : len(x.split(\"-\")))\n",
    "(df2['LenCup'] == 4).sum()"
   ]
  },
  {
   "cell_type": "code",
   "execution_count": 49,
   "id": "a610b0e5",
   "metadata": {},
   "outputs": [
    {
     "data": {
      "text/plain": [
       "7"
      ]
     },
     "execution_count": 49,
     "metadata": {},
     "output_type": "execute_result"
    }
   ],
   "source": [
    "#6.Yugoslavia 국가의 월드컵 출전횟수가 2회인 선수들의 숫자를 구하여라\n",
    "((df2['Country'] == \"Yugoslavia\") & (df2['LenCup'] ==2)).sum()"
   ]
  },
  {
   "cell_type": "code",
   "execution_count": 47,
   "id": "bc9e3138",
   "metadata": {},
   "outputs": [
    {
     "data": {
      "text/plain": [
       "156"
      ]
     },
     "execution_count": 47,
     "metadata": {},
     "output_type": "execute_result"
    }
   ],
   "source": [
    "#7. 2002년도에 출전한 전체 선수는 몇명인가?\n",
    "df2['Years'].str.contains(\"2002\").sum()"
   ]
  },
  {
   "cell_type": "code",
   "execution_count": 61,
   "id": "da7d6c49",
   "metadata": {},
   "outputs": [
    {
     "data": {
      "text/plain": [
       "13"
      ]
     },
     "execution_count": 61,
     "metadata": {},
     "output_type": "execute_result"
    }
   ],
   "source": [
    "#8. 이름에 ‘carlos’ 단어가 들어가는 선수의 숫자는 몇 명인가? (대, 소문자 구분 x)\n",
    "df2['Player'].str.lower().str.contains(\"carlos\").sum()"
   ]
  },
  {
   "cell_type": "code",
   "execution_count": 64,
   "id": "b2d97ec4",
   "metadata": {},
   "outputs": [
    {
     "data": {
      "text/plain": [
       "3    Just Fontaine\n",
       "Name: Player, dtype: object"
      ]
     },
     "execution_count": 64,
     "metadata": {},
     "output_type": "execute_result"
    }
   ],
   "source": [
    "#9. 월드컵 출전 횟수가 1회뿐인 선수들 중에서 가장 많은 득점을 올렸던 선수는 누구인가?\n",
    "target = df2[df2['LenCup'] == 1]\n",
    "target[target['Goals'] == target['Goals'].max()]['Player']"
   ]
  },
  {
   "cell_type": "code",
   "execution_count": 71,
   "id": "4b23a583",
   "metadata": {},
   "outputs": [
    {
     "data": {
      "text/html": [
       "<div>\n",
       "<style scoped>\n",
       "    .dataframe tbody tr th:only-of-type {\n",
       "        vertical-align: middle;\n",
       "    }\n",
       "\n",
       "    .dataframe tbody tr th {\n",
       "        vertical-align: top;\n",
       "    }\n",
       "\n",
       "    .dataframe thead th {\n",
       "        text-align: right;\n",
       "    }\n",
       "</style>\n",
       "<table border=\"1\" class=\"dataframe\">\n",
       "  <thead>\n",
       "    <tr style=\"text-align: right;\">\n",
       "      <th></th>\n",
       "      <th>Player</th>\n",
       "      <th>Goals</th>\n",
       "      <th>Years</th>\n",
       "      <th>LenCup</th>\n",
       "    </tr>\n",
       "    <tr>\n",
       "      <th>Country</th>\n",
       "      <th></th>\n",
       "      <th></th>\n",
       "      <th></th>\n",
       "      <th></th>\n",
       "    </tr>\n",
       "  </thead>\n",
       "  <tbody>\n",
       "    <tr>\n",
       "      <th>Brazil</th>\n",
       "      <td>43</td>\n",
       "      <td>43</td>\n",
       "      <td>43</td>\n",
       "      <td>43</td>\n",
       "    </tr>\n",
       "  </tbody>\n",
       "</table>\n",
       "</div>"
      ],
      "text/plain": [
       "         Player  Goals  Years  LenCup\n",
       "Country                              \n",
       "Brazil       43     43     43      43"
      ]
     },
     "execution_count": 71,
     "metadata": {},
     "output_type": "execute_result"
    }
   ],
   "source": [
    "#10. 월드컵 출전횟수가 1회 뿐인 선수들이 가장 많은 국가는 어디인가?\n",
    "df2[df2['LenCup'] == 1].groupby(\"Country\").count().sort_values(\"Player\",ascending = False)[:1]"
   ]
  },
  {
   "cell_type": "code",
   "execution_count": 72,
   "id": "88bc128a",
   "metadata": {},
   "outputs": [],
   "source": [
    "# 서울시 따릉이 데이터 \n",
    "df =pd.read_csv('https://raw.githubusercontent.com/Datamanim/datarepo/main/bicycle/seoul_bi.csv')"
   ]
  },
  {
   "cell_type": "code",
   "execution_count": 78,
   "id": "393d8ba5",
   "metadata": {},
   "outputs": [
    {
     "data": {
      "text/html": [
       "<div>\n",
       "<style scoped>\n",
       "    .dataframe tbody tr th:only-of-type {\n",
       "        vertical-align: middle;\n",
       "    }\n",
       "\n",
       "    .dataframe tbody tr th {\n",
       "        vertical-align: top;\n",
       "    }\n",
       "\n",
       "    .dataframe thead th {\n",
       "        text-align: right;\n",
       "    }\n",
       "</style>\n",
       "<table border=\"1\" class=\"dataframe\">\n",
       "  <thead>\n",
       "    <tr style=\"text-align: right;\">\n",
       "      <th></th>\n",
       "      <th>대여시간</th>\n",
       "      <th>대여소번호</th>\n",
       "      <th>대여구분코드</th>\n",
       "      <th>성별</th>\n",
       "      <th>연령대코드</th>\n",
       "      <th>이용건수</th>\n",
       "      <th>운동량</th>\n",
       "      <th>탄소량</th>\n",
       "      <th>이동거리</th>\n",
       "      <th>사용시간</th>\n",
       "    </tr>\n",
       "    <tr>\n",
       "      <th>대여일자</th>\n",
       "      <th></th>\n",
       "      <th></th>\n",
       "      <th></th>\n",
       "      <th></th>\n",
       "      <th></th>\n",
       "      <th></th>\n",
       "      <th></th>\n",
       "      <th></th>\n",
       "      <th></th>\n",
       "      <th></th>\n",
       "    </tr>\n",
       "  </thead>\n",
       "  <tbody>\n",
       "    <tr>\n",
       "      <th>2021-06-04</th>\n",
       "      <td>56788</td>\n",
       "      <td>56788</td>\n",
       "      <td>56788</td>\n",
       "      <td>56788</td>\n",
       "      <td>56788</td>\n",
       "      <td>56788</td>\n",
       "      <td>56788</td>\n",
       "      <td>56788</td>\n",
       "      <td>56788</td>\n",
       "      <td>56788</td>\n",
       "    </tr>\n",
       "  </tbody>\n",
       "</table>\n",
       "</div>"
      ],
      "text/plain": [
       "             대여시간  대여소번호  대여구분코드     성별  연령대코드   이용건수    운동량    탄소량   이동거리  \\\n",
       "대여일자                                                                         \n",
       "2021-06-04  56788  56788   56788  56788  56788  56788  56788  56788  56788   \n",
       "\n",
       "             사용시간  \n",
       "대여일자               \n",
       "2021-06-04  56788  "
      ]
     },
     "execution_count": 78,
     "metadata": {},
     "output_type": "execute_result"
    }
   ],
   "source": [
    "#1. 대여일자별 데이터의 수를 데이터프레임으로 출력하고, 가장 많은 데이터가 있는 날짜를 출력하라\n",
    "df.groupby(\"대여일자\").count().sort_values(by = \"성별\" , ascending = False)[:1]"
   ]
  },
  {
   "cell_type": "code",
   "execution_count": 85,
   "id": "58a24645",
   "metadata": {},
   "outputs": [
    {
     "data": {
      "text/html": [
       "<div>\n",
       "<style scoped>\n",
       "    .dataframe tbody tr th:only-of-type {\n",
       "        vertical-align: middle;\n",
       "    }\n",
       "\n",
       "    .dataframe tbody tr th {\n",
       "        vertical-align: top;\n",
       "    }\n",
       "\n",
       "    .dataframe thead th {\n",
       "        text-align: right;\n",
       "    }\n",
       "</style>\n",
       "<table border=\"1\" class=\"dataframe\">\n",
       "  <thead>\n",
       "    <tr style=\"text-align: right;\">\n",
       "      <th></th>\n",
       "      <th>대여시간</th>\n",
       "    </tr>\n",
       "    <tr>\n",
       "      <th>대여일자</th>\n",
       "      <th></th>\n",
       "    </tr>\n",
       "  </thead>\n",
       "  <tbody>\n",
       "    <tr>\n",
       "      <th>2021-06-01</th>\n",
       "      <td>48081</td>\n",
       "    </tr>\n",
       "    <tr>\n",
       "      <th>2021-06-02</th>\n",
       "      <td>56100</td>\n",
       "    </tr>\n",
       "    <tr>\n",
       "      <th>2021-06-03</th>\n",
       "      <td>18985</td>\n",
       "    </tr>\n",
       "    <tr>\n",
       "      <th>2021-06-04</th>\n",
       "      <td>56788</td>\n",
       "    </tr>\n",
       "    <tr>\n",
       "      <th>2021-06-05</th>\n",
       "      <td>52730</td>\n",
       "    </tr>\n",
       "    <tr>\n",
       "      <th>2021-06-06</th>\n",
       "      <td>47787</td>\n",
       "    </tr>\n",
       "    <tr>\n",
       "      <th>2021-06-07</th>\n",
       "      <td>52623</td>\n",
       "    </tr>\n",
       "    <tr>\n",
       "      <th>2021-06-08</th>\n",
       "      <td>55623</td>\n",
       "    </tr>\n",
       "    <tr>\n",
       "      <th>2021-06-09</th>\n",
       "      <td>54507</td>\n",
       "    </tr>\n",
       "    <tr>\n",
       "      <th>2021-06-10</th>\n",
       "      <td>36992</td>\n",
       "    </tr>\n",
       "    <tr>\n",
       "      <th>2021-06-11</th>\n",
       "      <td>52089</td>\n",
       "    </tr>\n",
       "    <tr>\n",
       "      <th>2021-06-12</th>\n",
       "      <td>48569</td>\n",
       "    </tr>\n",
       "    <tr>\n",
       "      <th>2021-06-13</th>\n",
       "      <td>43131</td>\n",
       "    </tr>\n",
       "    <tr>\n",
       "      <th>2021-06-14</th>\n",
       "      <td>54945</td>\n",
       "    </tr>\n",
       "  </tbody>\n",
       "</table>\n",
       "</div>"
      ],
      "text/plain": [
       "             대여시간\n",
       "대여일자             \n",
       "2021-06-01  48081\n",
       "2021-06-02  56100\n",
       "2021-06-03  18985\n",
       "2021-06-04  56788\n",
       "2021-06-05  52730\n",
       "2021-06-06  47787\n",
       "2021-06-07  52623\n",
       "2021-06-08  55623\n",
       "2021-06-09  54507\n",
       "2021-06-10  36992\n",
       "2021-06-11  52089\n",
       "2021-06-12  48569\n",
       "2021-06-13  43131\n",
       "2021-06-14  54945"
      ]
     },
     "execution_count": 85,
     "metadata": {},
     "output_type": "execute_result"
    }
   ],
   "source": [
    "target = df.groupby(\"대여일자\").count()['대여시간']\n",
    "target.rename({\"대여시간\": \"대여일자\"},inplace = True)\n",
    "target.to_frame()\n",
    "# 좋은 답안 :df['대여일자'].value_counts().sort_index().to_frame()"
   ]
  },
  {
   "cell_type": "code",
   "execution_count": 89,
   "id": "573fbafe",
   "metadata": {},
   "outputs": [
    {
     "data": {
      "text/html": [
       "<div>\n",
       "<style scoped>\n",
       "    .dataframe tbody tr th:only-of-type {\n",
       "        vertical-align: middle;\n",
       "    }\n",
       "\n",
       "    .dataframe tbody tr th {\n",
       "        vertical-align: top;\n",
       "    }\n",
       "\n",
       "    .dataframe thead th {\n",
       "        text-align: right;\n",
       "    }\n",
       "</style>\n",
       "<table border=\"1\" class=\"dataframe\">\n",
       "  <thead>\n",
       "    <tr style=\"text-align: right;\">\n",
       "      <th></th>\n",
       "      <th>대여일자</th>\n",
       "      <th>대여시간</th>\n",
       "      <th>대여소번호</th>\n",
       "      <th>대여구분코드</th>\n",
       "      <th>성별</th>\n",
       "      <th>연령대코드</th>\n",
       "      <th>이용건수</th>\n",
       "      <th>운동량</th>\n",
       "      <th>탄소량</th>\n",
       "      <th>이동거리</th>\n",
       "      <th>사용시간</th>\n",
       "      <th>day_name</th>\n",
       "    </tr>\n",
       "  </thead>\n",
       "  <tbody>\n",
       "    <tr>\n",
       "      <th>0</th>\n",
       "      <td>2021-06-01</td>\n",
       "      <td>0</td>\n",
       "      <td>3541</td>\n",
       "      <td>정기권</td>\n",
       "      <td>F</td>\n",
       "      <td>~10대</td>\n",
       "      <td>1</td>\n",
       "      <td>0.00</td>\n",
       "      <td>0.00</td>\n",
       "      <td>0.00</td>\n",
       "      <td>8</td>\n",
       "      <td>Tuesday</td>\n",
       "    </tr>\n",
       "    <tr>\n",
       "      <th>1</th>\n",
       "      <td>2021-06-01</td>\n",
       "      <td>0</td>\n",
       "      <td>765</td>\n",
       "      <td>정기권</td>\n",
       "      <td>F</td>\n",
       "      <td>~10대</td>\n",
       "      <td>1</td>\n",
       "      <td>27.21</td>\n",
       "      <td>0.35</td>\n",
       "      <td>1526.81</td>\n",
       "      <td>19</td>\n",
       "      <td>Tuesday</td>\n",
       "    </tr>\n",
       "    <tr>\n",
       "      <th>2</th>\n",
       "      <td>2021-06-01</td>\n",
       "      <td>0</td>\n",
       "      <td>2637</td>\n",
       "      <td>정기권</td>\n",
       "      <td>F</td>\n",
       "      <td>~10대</td>\n",
       "      <td>1</td>\n",
       "      <td>41.40</td>\n",
       "      <td>0.37</td>\n",
       "      <td>1608.56</td>\n",
       "      <td>18</td>\n",
       "      <td>Tuesday</td>\n",
       "    </tr>\n",
       "    <tr>\n",
       "      <th>3</th>\n",
       "      <td>2021-06-01</td>\n",
       "      <td>0</td>\n",
       "      <td>2919</td>\n",
       "      <td>정기권</td>\n",
       "      <td>F</td>\n",
       "      <td>~10대</td>\n",
       "      <td>1</td>\n",
       "      <td>0.00</td>\n",
       "      <td>0.00</td>\n",
       "      <td>0.00</td>\n",
       "      <td>75</td>\n",
       "      <td>Tuesday</td>\n",
       "    </tr>\n",
       "    <tr>\n",
       "      <th>4</th>\n",
       "      <td>2021-06-01</td>\n",
       "      <td>0</td>\n",
       "      <td>549</td>\n",
       "      <td>정기권</td>\n",
       "      <td>F</td>\n",
       "      <td>~10대</td>\n",
       "      <td>1</td>\n",
       "      <td>13.04</td>\n",
       "      <td>0.17</td>\n",
       "      <td>731.55</td>\n",
       "      <td>6</td>\n",
       "      <td>Tuesday</td>\n",
       "    </tr>\n",
       "    <tr>\n",
       "      <th>...</th>\n",
       "      <td>...</td>\n",
       "      <td>...</td>\n",
       "      <td>...</td>\n",
       "      <td>...</td>\n",
       "      <td>...</td>\n",
       "      <td>...</td>\n",
       "      <td>...</td>\n",
       "      <td>...</td>\n",
       "      <td>...</td>\n",
       "      <td>...</td>\n",
       "      <td>...</td>\n",
       "      <td>...</td>\n",
       "    </tr>\n",
       "    <tr>\n",
       "      <th>678945</th>\n",
       "      <td>2021-06-14</td>\n",
       "      <td>23</td>\n",
       "      <td>4623</td>\n",
       "      <td>정기권</td>\n",
       "      <td>M</td>\n",
       "      <td>60대</td>\n",
       "      <td>1</td>\n",
       "      <td>32.92</td>\n",
       "      <td>0.30</td>\n",
       "      <td>1279.01</td>\n",
       "      <td>37</td>\n",
       "      <td>Monday</td>\n",
       "    </tr>\n",
       "    <tr>\n",
       "      <th>678946</th>\n",
       "      <td>2021-06-14</td>\n",
       "      <td>23</td>\n",
       "      <td>2331</td>\n",
       "      <td>정기권</td>\n",
       "      <td>M</td>\n",
       "      <td>60대</td>\n",
       "      <td>1</td>\n",
       "      <td>11.88</td>\n",
       "      <td>0.09</td>\n",
       "      <td>400.00</td>\n",
       "      <td>4</td>\n",
       "      <td>Monday</td>\n",
       "    </tr>\n",
       "    <tr>\n",
       "      <th>678947</th>\n",
       "      <td>2021-06-14</td>\n",
       "      <td>23</td>\n",
       "      <td>722</td>\n",
       "      <td>정기권</td>\n",
       "      <td>M</td>\n",
       "      <td>60대</td>\n",
       "      <td>1</td>\n",
       "      <td>53.28</td>\n",
       "      <td>0.48</td>\n",
       "      <td>2070.00</td>\n",
       "      <td>20</td>\n",
       "      <td>Monday</td>\n",
       "    </tr>\n",
       "    <tr>\n",
       "      <th>678948</th>\n",
       "      <td>2021-06-14</td>\n",
       "      <td>23</td>\n",
       "      <td>3787</td>\n",
       "      <td>정기권</td>\n",
       "      <td>M</td>\n",
       "      <td>70대~</td>\n",
       "      <td>1</td>\n",
       "      <td>121.25</td>\n",
       "      <td>1.18</td>\n",
       "      <td>5103.30</td>\n",
       "      <td>86</td>\n",
       "      <td>Monday</td>\n",
       "    </tr>\n",
       "    <tr>\n",
       "      <th>678949</th>\n",
       "      <td>2021-06-14</td>\n",
       "      <td>23</td>\n",
       "      <td>1911</td>\n",
       "      <td>정기권</td>\n",
       "      <td>M</td>\n",
       "      <td>70대~</td>\n",
       "      <td>1</td>\n",
       "      <td>42.18</td>\n",
       "      <td>0.38</td>\n",
       "      <td>1638.70</td>\n",
       "      <td>28</td>\n",
       "      <td>Monday</td>\n",
       "    </tr>\n",
       "  </tbody>\n",
       "</table>\n",
       "<p>678950 rows × 12 columns</p>\n",
       "</div>"
      ],
      "text/plain": [
       "             대여일자  대여시간  대여소번호 대여구분코드 성별 연령대코드  이용건수     운동량   탄소량     이동거리  \\\n",
       "0      2021-06-01     0   3541    정기권  F  ~10대     1    0.00  0.00     0.00   \n",
       "1      2021-06-01     0    765    정기권  F  ~10대     1   27.21  0.35  1526.81   \n",
       "2      2021-06-01     0   2637    정기권  F  ~10대     1   41.40  0.37  1608.56   \n",
       "3      2021-06-01     0   2919    정기권  F  ~10대     1    0.00  0.00     0.00   \n",
       "4      2021-06-01     0    549    정기권  F  ~10대     1   13.04  0.17   731.55   \n",
       "...           ...   ...    ...    ... ..   ...   ...     ...   ...      ...   \n",
       "678945 2021-06-14    23   4623    정기권  M   60대     1   32.92  0.30  1279.01   \n",
       "678946 2021-06-14    23   2331    정기권  M   60대     1   11.88  0.09   400.00   \n",
       "678947 2021-06-14    23    722    정기권  M   60대     1   53.28  0.48  2070.00   \n",
       "678948 2021-06-14    23   3787    정기권  M  70대~     1  121.25  1.18  5103.30   \n",
       "678949 2021-06-14    23   1911    정기권  M  70대~     1   42.18  0.38  1638.70   \n",
       "\n",
       "        사용시간 day_name  \n",
       "0          8  Tuesday  \n",
       "1         19  Tuesday  \n",
       "2         18  Tuesday  \n",
       "3         75  Tuesday  \n",
       "4          6  Tuesday  \n",
       "...      ...      ...  \n",
       "678945    37   Monday  \n",
       "678946     4   Monday  \n",
       "678947    20   Monday  \n",
       "678948    86   Monday  \n",
       "678949    28   Monday  \n",
       "\n",
       "[678950 rows x 12 columns]"
      ]
     },
     "execution_count": 89,
     "metadata": {},
     "output_type": "execute_result"
    }
   ],
   "source": [
    "#2.각 일자의 요일을 표기하고 (‘Monday’ ~’Sunday’) ‘day_name’컬럼을 추가하고 이를 이용하여\n",
    "# 각 요일별 이용 횟수의 총합을 데이터 프레임으로 출력하라\n",
    "import datetime\n",
    "df['대여일자'] = pd.to_datetime(df['대여일자'])\n",
    "df['day_name'] = df['대여일자'].apply(lambda x: x.day_name())"
   ]
  },
  {
   "cell_type": "code",
   "execution_count": 90,
   "id": "9c5e48c9",
   "metadata": {},
   "outputs": [
    {
     "data": {
      "text/html": [
       "<div>\n",
       "<style scoped>\n",
       "    .dataframe tbody tr th:only-of-type {\n",
       "        vertical-align: middle;\n",
       "    }\n",
       "\n",
       "    .dataframe tbody tr th {\n",
       "        vertical-align: top;\n",
       "    }\n",
       "\n",
       "    .dataframe thead th {\n",
       "        text-align: right;\n",
       "    }\n",
       "</style>\n",
       "<table border=\"1\" class=\"dataframe\">\n",
       "  <thead>\n",
       "    <tr style=\"text-align: right;\">\n",
       "      <th></th>\n",
       "      <th>day_name</th>\n",
       "    </tr>\n",
       "  </thead>\n",
       "  <tbody>\n",
       "    <tr>\n",
       "      <th>Thursday</th>\n",
       "      <td>55977</td>\n",
       "    </tr>\n",
       "    <tr>\n",
       "      <th>Sunday</th>\n",
       "      <td>90918</td>\n",
       "    </tr>\n",
       "    <tr>\n",
       "      <th>Saturday</th>\n",
       "      <td>101299</td>\n",
       "    </tr>\n",
       "    <tr>\n",
       "      <th>Tuesday</th>\n",
       "      <td>103704</td>\n",
       "    </tr>\n",
       "    <tr>\n",
       "      <th>Monday</th>\n",
       "      <td>107568</td>\n",
       "    </tr>\n",
       "    <tr>\n",
       "      <th>Friday</th>\n",
       "      <td>108877</td>\n",
       "    </tr>\n",
       "    <tr>\n",
       "      <th>Wednesday</th>\n",
       "      <td>110607</td>\n",
       "    </tr>\n",
       "  </tbody>\n",
       "</table>\n",
       "</div>"
      ],
      "text/plain": [
       "           day_name\n",
       "Thursday      55977\n",
       "Sunday        90918\n",
       "Saturday     101299\n",
       "Tuesday      103704\n",
       "Monday       107568\n",
       "Friday       108877\n",
       "Wednesday    110607"
      ]
     },
     "execution_count": 90,
     "metadata": {},
     "output_type": "execute_result"
    }
   ],
   "source": [
    "df['day_name'].value_counts().sort_values().to_frame()"
   ]
  },
  {
   "cell_type": "code",
   "execution_count": 130,
   "id": "d75462e4",
   "metadata": {},
   "outputs": [
    {
     "data": {
      "text/html": [
       "<div>\n",
       "<style scoped>\n",
       "    .dataframe tbody tr th:only-of-type {\n",
       "        vertical-align: middle;\n",
       "    }\n",
       "\n",
       "    .dataframe tbody tr th {\n",
       "        vertical-align: top;\n",
       "    }\n",
       "\n",
       "    .dataframe thead th {\n",
       "        text-align: right;\n",
       "    }\n",
       "</style>\n",
       "<table border=\"1\" class=\"dataframe\">\n",
       "  <thead>\n",
       "    <tr style=\"text-align: right;\">\n",
       "      <th></th>\n",
       "      <th>day_name</th>\n",
       "      <th>대여소번호</th>\n",
       "      <th>이용건수</th>\n",
       "    </tr>\n",
       "  </thead>\n",
       "  <tbody>\n",
       "    <tr>\n",
       "      <th>0</th>\n",
       "      <td>Saturday</td>\n",
       "      <td>502</td>\n",
       "      <td>616</td>\n",
       "    </tr>\n",
       "    <tr>\n",
       "      <th>1</th>\n",
       "      <td>Sunday</td>\n",
       "      <td>207</td>\n",
       "      <td>509</td>\n",
       "    </tr>\n",
       "    <tr>\n",
       "      <th>8</th>\n",
       "      <td>Wednesday</td>\n",
       "      <td>207</td>\n",
       "      <td>351</td>\n",
       "    </tr>\n",
       "    <tr>\n",
       "      <th>13</th>\n",
       "      <td>Friday</td>\n",
       "      <td>207</td>\n",
       "      <td>326</td>\n",
       "    </tr>\n",
       "    <tr>\n",
       "      <th>19</th>\n",
       "      <td>Tuesday</td>\n",
       "      <td>502</td>\n",
       "      <td>371</td>\n",
       "    </tr>\n",
       "    <tr>\n",
       "      <th>22</th>\n",
       "      <td>Monday</td>\n",
       "      <td>152</td>\n",
       "      <td>296</td>\n",
       "    </tr>\n",
       "    <tr>\n",
       "      <th>478</th>\n",
       "      <td>Thursday</td>\n",
       "      <td>2102</td>\n",
       "      <td>154</td>\n",
       "    </tr>\n",
       "  </tbody>\n",
       "</table>\n",
       "</div>"
      ],
      "text/plain": [
       "      day_name  대여소번호  이용건수\n",
       "0     Saturday    502   616\n",
       "1       Sunday    207   509\n",
       "8    Wednesday    207   351\n",
       "13      Friday    207   326\n",
       "19     Tuesday    502   371\n",
       "22      Monday    152   296\n",
       "478   Thursday   2102   154"
      ]
     },
     "execution_count": 130,
     "metadata": {},
     "output_type": "execute_result"
    }
   ],
   "source": [
    "#3. 각 요일별 가장 많이 이용한 대여소의 이용횟수와 대여소 번호를 데이터 프레임으로 출력하라\n",
    "target = df.groupby([\"day_name\",'대여소번호']).sum().sort_values(\"사용시간\",ascending = False)['이용건수'].to_frame()\n",
    "target.reset_index(inplace=True)\n",
    "target.drop_duplicates(\"day_name\")"
   ]
  },
  {
   "cell_type": "code",
   "execution_count": 219,
   "id": "67ee5408",
   "metadata": {},
   "outputs": [
    {
     "data": {
      "text/html": [
       "<div>\n",
       "<style scoped>\n",
       "    .dataframe tbody tr th:only-of-type {\n",
       "        vertical-align: middle;\n",
       "    }\n",
       "\n",
       "    .dataframe tbody tr th {\n",
       "        vertical-align: top;\n",
       "    }\n",
       "\n",
       "    .dataframe thead th {\n",
       "        text-align: right;\n",
       "    }\n",
       "</style>\n",
       "<table border=\"1\" class=\"dataframe\">\n",
       "  <thead>\n",
       "    <tr style=\"text-align: right;\">\n",
       "      <th></th>\n",
       "      <th>연령대코드</th>\n",
       "      <th>대여구분코드</th>\n",
       "      <th>개수</th>\n",
       "      <th>ratio</th>\n",
       "    </tr>\n",
       "  </thead>\n",
       "  <tbody>\n",
       "    <tr>\n",
       "      <th>23</th>\n",
       "      <td>~10대</td>\n",
       "      <td>일일권</td>\n",
       "      <td>11540</td>\n",
       "      <td>0.312525</td>\n",
       "    </tr>\n",
       "    <tr>\n",
       "      <th>1</th>\n",
       "      <td>20대</td>\n",
       "      <td>일일권</td>\n",
       "      <td>59389</td>\n",
       "      <td>0.239896</td>\n",
       "    </tr>\n",
       "    <tr>\n",
       "      <th>5</th>\n",
       "      <td>30대</td>\n",
       "      <td>일일권</td>\n",
       "      <td>31124</td>\n",
       "      <td>0.166686</td>\n",
       "    </tr>\n",
       "    <tr>\n",
       "      <th>9</th>\n",
       "      <td>40대</td>\n",
       "      <td>일일권</td>\n",
       "      <td>12692</td>\n",
       "      <td>0.110558</td>\n",
       "    </tr>\n",
       "    <tr>\n",
       "      <th>13</th>\n",
       "      <td>50대</td>\n",
       "      <td>일일권</td>\n",
       "      <td>4606</td>\n",
       "      <td>0.065400</td>\n",
       "    </tr>\n",
       "    <tr>\n",
       "      <th>20</th>\n",
       "      <td>70대~</td>\n",
       "      <td>일일권</td>\n",
       "      <td>158</td>\n",
       "      <td>0.048962</td>\n",
       "    </tr>\n",
       "    <tr>\n",
       "      <th>17</th>\n",
       "      <td>60대</td>\n",
       "      <td>일일권</td>\n",
       "      <td>819</td>\n",
       "      <td>0.042462</td>\n",
       "    </tr>\n",
       "  </tbody>\n",
       "</table>\n",
       "</div>"
      ],
      "text/plain": [
       "   연령대코드 대여구분코드     개수     ratio\n",
       "23  ~10대    일일권  11540  0.312525\n",
       "1    20대    일일권  59389  0.239896\n",
       "5    30대    일일권  31124  0.166686\n",
       "9    40대    일일권  12692  0.110558\n",
       "13   50대    일일권   4606  0.065400\n",
       "20  70대~    일일권    158  0.048962\n",
       "17   60대    일일권    819  0.042462"
      ]
     },
     "execution_count": 219,
     "metadata": {},
     "output_type": "execute_result"
    }
   ],
   "source": [
    "#4. 나이대별 대여구분 코드의 (일일권/전체횟수) 비율을 구한 후 \n",
    "# 가장 높은 비율을 가지는 나이대를 확인하라. 일일권의 경우 일일권 과 일일권(비회원)을 모두 포함하라\n",
    "total_count = df['연령대코드'].value_counts()\n",
    "target = df.groupby([\"연령대코드\",\"대여구분코드\"]).size()\n",
    "target = target.to_frame()\n",
    "target.reset_index(inplace = True)\n",
    "target.rename(columns = {target.columns[2] : \"개수\"},inplace = True)\n",
    "target = target[target['대여구분코드'] == \"일일권\"].sort_values(\"연령대코드\")\n",
    "total_count.sort_index(inplace=True)\n",
    "\n",
    "target['ratio'] = target['개수']/total_count.values\n",
    "target.sort_values(\"ratio\",ascending = False)"
   ]
  },
  {
   "cell_type": "code",
   "execution_count": 221,
   "id": "0c5c378a",
   "metadata": {},
   "outputs": [
    {
     "data": {
      "text/plain": [
       "연령대코드\n",
       "20대     3211.890552\n",
       "30대     3341.443859\n",
       "40대     3514.857416\n",
       "50대     3593.668100\n",
       "60대     3538.145737\n",
       "70대~    3085.039641\n",
       "~10대    2634.426279\n",
       "Name: 이동거리, dtype: float64"
      ]
     },
     "execution_count": 221,
     "metadata": {},
     "output_type": "execute_result"
    }
   ],
   "source": [
    "#5. 연령대별 평균 이동거리를 구하여라\n",
    "df.groupby(\"연령대코드\").mean()['이동거리']"
   ]
  },
  {
   "cell_type": "code",
   "execution_count": 250,
   "id": "4157d083",
   "metadata": {},
   "outputs": [
    {
     "data": {
      "text/plain": [
       "1.613"
      ]
     },
     "execution_count": 250,
     "metadata": {},
     "output_type": "execute_result"
    }
   ],
   "source": [
    "#6. 연령대 코드가 20대인 데이터를 추출하고,이동거리값이 추출한 데이터의 이동거리값의 평균 이상인 데이터를 추출한다.\n",
    "#최종 추출된 데이터를 대여일자, 대여소 번호 순서로 내림차순 정렬 후 1행부터 200행까지의 탄소량의 평균을 소숫점 3째 자리까지 구하여라\n",
    "import numpy as np \n",
    "\n",
    "target = df[df['연령대코드'].str.contains(\"20대\")]\n",
    "target.reset_index(inplace=True)\n",
    "target = target[target['이동거리'] >= target['이동거리'].mean()]\n",
    "target = target.sort_values([\"대여일자\",\"대여소번호\"],ascending = False)[:200]\n",
    "target['탄소량'] = target['탄소량'].astype('float')\n",
    "np.round(target['탄소량'].mean(),3)"
   ]
  },
  {
   "cell_type": "code",
   "execution_count": 262,
   "id": "3e0bfd06",
   "metadata": {},
   "outputs": [
    {
     "data": {
      "text/plain": [
       "1.0"
      ]
     },
     "execution_count": 262,
     "metadata": {},
     "output_type": "execute_result"
    }
   ],
   "source": [
    "#7. 6월 7일 ~10대의 “이용건수”의 중앙값은?\n",
    "target = df[(df['연령대코드'].str.contains(\"10대\")) & (df['대여일자'] ==datetime.datetime(2021,6,7))]\n",
    "target['이용건수'].median()"
   ]
  },
  {
   "cell_type": "code",
   "execution_count": 316,
   "id": "0502834e",
   "metadata": {},
   "outputs": [
    {
     "data": {
      "text/html": [
       "<div>\n",
       "<style scoped>\n",
       "    .dataframe tbody tr th:only-of-type {\n",
       "        vertical-align: middle;\n",
       "    }\n",
       "\n",
       "    .dataframe tbody tr th {\n",
       "        vertical-align: top;\n",
       "    }\n",
       "\n",
       "    .dataframe thead th {\n",
       "        text-align: right;\n",
       "    }\n",
       "</style>\n",
       "<table border=\"1\" class=\"dataframe\">\n",
       "  <thead>\n",
       "    <tr style=\"text-align: right;\">\n",
       "      <th></th>\n",
       "      <th></th>\n",
       "      <th>이용횟수</th>\n",
       "    </tr>\n",
       "    <tr>\n",
       "      <th>대여시간</th>\n",
       "      <th>대여소번호</th>\n",
       "      <th></th>\n",
       "    </tr>\n",
       "  </thead>\n",
       "  <tbody>\n",
       "    <tr>\n",
       "      <th rowspan=\"2\" valign=\"top\">8</th>\n",
       "      <th>2701</th>\n",
       "      <td>119</td>\n",
       "    </tr>\n",
       "    <tr>\n",
       "      <th>646</th>\n",
       "      <td>115</td>\n",
       "    </tr>\n",
       "    <tr>\n",
       "      <th>7</th>\n",
       "      <th>259</th>\n",
       "      <td>104</td>\n",
       "    </tr>\n",
       "    <tr>\n",
       "      <th>8</th>\n",
       "      <th>1152</th>\n",
       "      <td>92</td>\n",
       "    </tr>\n",
       "    <tr>\n",
       "      <th rowspan=\"2\" valign=\"top\">7</th>\n",
       "      <th>230</th>\n",
       "      <td>77</td>\n",
       "    </tr>\n",
       "    <tr>\n",
       "      <th>726</th>\n",
       "      <td>77</td>\n",
       "    </tr>\n",
       "    <tr>\n",
       "      <th rowspan=\"3\" valign=\"top\">6</th>\n",
       "      <th>2744</th>\n",
       "      <td>45</td>\n",
       "    </tr>\n",
       "    <tr>\n",
       "      <th>1125</th>\n",
       "      <td>40</td>\n",
       "    </tr>\n",
       "    <tr>\n",
       "      <th>3214</th>\n",
       "      <td>36</td>\n",
       "    </tr>\n",
       "  </tbody>\n",
       "</table>\n",
       "</div>"
      ],
      "text/plain": [
       "            이용횟수\n",
       "대여시간 대여소번호      \n",
       "8    2701    119\n",
       "     646     115\n",
       "7    259     104\n",
       "8    1152     92\n",
       "7    230      77\n",
       "     726      77\n",
       "6    2744     45\n",
       "     1125     40\n",
       "     3214     36"
      ]
     },
     "execution_count": 316,
     "metadata": {},
     "output_type": "execute_result"
    }
   ],
   "source": [
    "#8.평일 (월~금) 출근 시간대(오전 6,7,8시)의 대여소별 이용 횟수를 구해서 데이터 프레임 형태로 표현한 후 \n",
    "# 각 대여시간별 이용 횟수의 상위 3개 대여소와 이용횟수를 출력하라\n",
    "target = df[(df['day_name'] != \"Sunday\") & (df['day_name'] != \"Saturday\")]\n",
    "target = target[(target['대여시간']>=6)& (target['대여시간']<=8)]\n",
    "target = target.groupby(['대여시간','대여소번호']).size()\n",
    "target = target.to_frame('이용횟수')\n",
    "\n",
    "target.sort_values('이용횟수',ascending = False).groupby(\"대여시간\").head(3)"
   ]
  },
  {
   "cell_type": "code",
   "execution_count": 323,
   "id": "c3073279",
   "metadata": {},
   "outputs": [
    {
     "data": {
      "text/plain": [
       "5092.139707505305"
      ]
     },
     "execution_count": 323,
     "metadata": {},
     "output_type": "execute_result"
    }
   ],
   "source": [
    "#9. 이동거리의 평균 이상의 이동거리 값을 가지는 데이터를 추출하여 추출데이터의 이동거리의 표본표준편차 값을 구하여라\n",
    "np.sqrt(df[df['이동거리']>=df['이동거리'].mean()]['이동거리'].var())"
   ]
  },
  {
   "cell_type": "code",
   "execution_count": 326,
   "id": "fc2d23ab",
   "metadata": {},
   "outputs": [
    {
     "data": {
      "text/plain": [
       "성별\n",
       "f    3468.575025\n",
       "m    3209.110871\n",
       "Name: 이동거리, dtype: float64"
      ]
     },
     "execution_count": 326,
     "metadata": {},
     "output_type": "execute_result"
    }
   ],
   "source": [
    "#10. 남성(‘M’ or ‘m’)과 여성(‘F’ or ‘f’)의 이동거리값의 평균값을 구하여라\n",
    "df['성별'] = df['성별'].str.lower()\n",
    "df.groupby(\"성별\").mean()['이동거리']"
   ]
  },
  {
   "cell_type": "code",
   "execution_count": 325,
   "id": "ee4f05b0",
   "metadata": {},
   "outputs": [
    {
     "data": {
      "text/plain": [
       "4"
      ]
     },
     "execution_count": 325,
     "metadata": {},
     "output_type": "execute_result"
    }
   ],
   "source": []
  },
  {
   "cell_type": "code",
   "execution_count": null,
   "id": "e5c5900a",
   "metadata": {},
   "outputs": [],
   "source": []
  }
 ],
 "metadata": {
  "kernelspec": {
   "display_name": "Python 3 (ipykernel)",
   "language": "python",
   "name": "python3"
  },
  "language_info": {
   "codemirror_mode": {
    "name": "ipython",
    "version": 3
   },
   "file_extension": ".py",
   "mimetype": "text/x-python",
   "name": "python",
   "nbconvert_exporter": "python",
   "pygments_lexer": "ipython3",
   "version": "3.7.11"
  }
 },
 "nbformat": 4,
 "nbformat_minor": 5
}
