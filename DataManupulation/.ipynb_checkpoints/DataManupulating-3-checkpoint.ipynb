{
 "cells": [
  {
   "cell_type": "code",
   "execution_count": 120,
   "id": "32f7d33d",
   "metadata": {},
   "outputs": [],
   "source": [
    "# 출처 : https://www.datamanim.com/dataset/03_dataq/pandas_practice.html#id6\n",
    "# 전세계 행복도 지표 데이터\n",
    "import pandas as pd\n",
    "pd.set_option('mode.chained_assignment',  None)\n",
    "df =pd.read_csv('https://raw.githubusercontent.com/Datamanim/datarepo/main/happy2/happiness.csv',encoding='utf-8')"
   ]
  },
  {
   "cell_type": "code",
   "execution_count": 8,
   "id": "5701b54f",
   "metadata": {},
   "outputs": [
    {
     "data": {
      "text/plain": [
       "7.259"
      ]
     },
     "execution_count": 8,
     "metadata": {},
     "output_type": "execute_result"
    }
   ],
   "source": [
    "#1. 데이터는 2018년도와 2019년도의 전세계 행복 지수를 표현한다. \n",
    "# 각년도의 행복랭킹 10위를 차지한 나라의 행복점수의 평균을 구하여라\n",
    "df[df['행복랭킹']==10]['점수'].mean()"
   ]
  },
  {
   "cell_type": "code",
   "execution_count": 13,
   "id": "22ebad2a",
   "metadata": {},
   "outputs": [
    {
     "data": {
      "text/html": [
       "<div>\n",
       "<style scoped>\n",
       "    .dataframe tbody tr th:only-of-type {\n",
       "        vertical-align: middle;\n",
       "    }\n",
       "\n",
       "    .dataframe tbody tr th {\n",
       "        vertical-align: top;\n",
       "    }\n",
       "\n",
       "    .dataframe thead th {\n",
       "        text-align: right;\n",
       "    }\n",
       "</style>\n",
       "<table border=\"1\" class=\"dataframe\">\n",
       "  <thead>\n",
       "    <tr style=\"text-align: right;\">\n",
       "      <th></th>\n",
       "      <th>점수</th>\n",
       "    </tr>\n",
       "    <tr>\n",
       "      <th>년도</th>\n",
       "      <th></th>\n",
       "    </tr>\n",
       "  </thead>\n",
       "  <tbody>\n",
       "    <tr>\n",
       "      <th>2018</th>\n",
       "      <td>6.64678</td>\n",
       "    </tr>\n",
       "    <tr>\n",
       "      <th>2019</th>\n",
       "      <td>6.67002</td>\n",
       "    </tr>\n",
       "  </tbody>\n",
       "</table>\n",
       "</div>"
      ],
      "text/plain": [
       "           점수\n",
       "년도           \n",
       "2018  6.64678\n",
       "2019  6.67002"
      ]
     },
     "execution_count": 13,
     "metadata": {},
     "output_type": "execute_result"
    }
   ],
   "source": [
    "#2. 데이터는 2018년도와 2019년도의 전세계 행복 지수를 표현한다. \n",
    "# 각년도의 행복랭킹 50위이내의 나라들의 각각의 행복점수 평균을 데이터프레임으로 표시하라\n",
    "df[df['행복랭킹']<=50].groupby(\"년도\").mean()['점수'].to_frame()"
   ]
  },
  {
   "cell_type": "code",
   "execution_count": 14,
   "id": "e47df2f7",
   "metadata": {},
   "outputs": [
    {
     "data": {
      "text/html": [
       "<div>\n",
       "<style scoped>\n",
       "    .dataframe tbody tr th:only-of-type {\n",
       "        vertical-align: middle;\n",
       "    }\n",
       "\n",
       "    .dataframe tbody tr th {\n",
       "        vertical-align: top;\n",
       "    }\n",
       "\n",
       "    .dataframe thead th {\n",
       "        text-align: right;\n",
       "    }\n",
       "</style>\n",
       "<table border=\"1\" class=\"dataframe\">\n",
       "  <thead>\n",
       "    <tr style=\"text-align: right;\">\n",
       "      <th></th>\n",
       "      <th>점수</th>\n",
       "      <th>부패에 대한인식</th>\n",
       "    </tr>\n",
       "  </thead>\n",
       "  <tbody>\n",
       "    <tr>\n",
       "      <th>점수</th>\n",
       "      <td>1.000000</td>\n",
       "      <td>0.405292</td>\n",
       "    </tr>\n",
       "    <tr>\n",
       "      <th>부패에 대한인식</th>\n",
       "      <td>0.405292</td>\n",
       "      <td>1.000000</td>\n",
       "    </tr>\n",
       "  </tbody>\n",
       "</table>\n",
       "</div>"
      ],
      "text/plain": [
       "                점수  부패에 대한인식\n",
       "점수        1.000000  0.405292\n",
       "부패에 대한인식  0.405292  1.000000"
      ]
     },
     "execution_count": 14,
     "metadata": {},
     "output_type": "execute_result"
    }
   ],
   "source": [
    "#3. 2018년도 데이터들만 추출하여 행복점수와 부패에 대한 인식에 대한 상관계수를 구하여라\n",
    "df[df['년도']==2018][['점수','부패에 대한인식']].corr()"
   ]
  },
  {
   "cell_type": "code",
   "execution_count": 32,
   "id": "9e759565",
   "metadata": {},
   "outputs": [
    {
     "data": {
      "text/plain": [
       "10"
      ]
     },
     "execution_count": 32,
     "metadata": {},
     "output_type": "execute_result"
    }
   ],
   "source": [
    "#4. 2018년도와 2019년도의 행복랭킹이 변화하지 않은 나라명의 수를 구하여라\n",
    "start = df[df['년도'] == 2018].sort_values(\"나라명\").reset_index()\n",
    "end = df[df['년도']== 2019].sort_values(\"나라명\").reset_index()\n",
    "(start['행복랭킹'] == end['행복랭킹']).sum()"
   ]
  },
  {
   "cell_type": "code",
   "execution_count": 55,
   "id": "b6da0f68",
   "metadata": {},
   "outputs": [
    {
     "data": {
      "text/plain": [
       "행복랭킹     행복랭킹       1.000000\n",
       "점수       점수         1.000000\n",
       "관대함      관대함        1.000000\n",
       "선택의 자유도  선택의 자유도    1.000000\n",
       "행복기대치    행복기대치      1.000000\n",
       "                      ...   \n",
       "         행복랭킹      -0.787411\n",
       "행복랭킹     상대GDP     -0.801947\n",
       "상대GDP    행복랭킹      -0.801947\n",
       "행복랭킹     점수        -0.989096\n",
       "점수       행복랭킹      -0.989096\n",
       "Length: 64, dtype: float64"
      ]
     },
     "execution_count": 55,
     "metadata": {},
     "output_type": "execute_result"
    }
   ],
   "source": [
    "#5. 2019년도 데이터들만 추출하여 각변수간 상관계수를 구하고 내림차순으로 정렬한 후 \n",
    "#상위 5개를 데이터 프레임으로 출력하라. 컬럼명은 v1,v2,corr으로 표시하라\n",
    "corr = df[df['년도']==2019].corr()\n",
    "corr.drop(columns = ['년도'] , index = ['년도'],inplace=True)\n",
    "corr = corr.unstack().sort_values(ascending = False)\n",
    "corr = corr[corr != 0]\n",
    "corr"
   ]
  },
  {
   "cell_type": "code",
   "execution_count": 63,
   "id": "aaa635d4",
   "metadata": {},
   "outputs": [
    {
     "data": {
      "text/plain": [
       "년도\n",
       "2018    3.1800\n",
       "2019    3.1408\n",
       "Name: 점수, dtype: float64"
      ]
     },
     "execution_count": 63,
     "metadata": {},
     "output_type": "execute_result"
    }
   ],
   "source": [
    "#6 각 년도별 하위 행복점수의 하위 5개 국가의 평균 행복점수를 구하여라\n",
    "target = df.sort_values(\"점수\")\n",
    "target = target.groupby(\"년도\").head(5).groupby(\"년도\")\n",
    "target['점수'].mean()"
   ]
  },
  {
   "cell_type": "code",
   "execution_count": 80,
   "id": "30c94cff",
   "metadata": {},
   "outputs": [
    {
     "data": {
      "text/plain": [
       "1.3904839572192538"
      ]
     },
     "execution_count": 80,
     "metadata": {},
     "output_type": "execute_result"
    }
   ],
   "source": [
    "#7. 2019년 데이터를 추출하고 해당데이터의 상대 GDP 평균 이상의 나라들과 \n",
    "# 평균 이하의 나라들의 행복점수 평균을 각각 구하고 그 차이값을 출력하라\n",
    "target = df[df['년도']==2019]\n",
    "lower_target = target[target['상대GDP']<target['상대GDP'].mean()]\n",
    "upper_target = target[target['상대GDP']>=target['상대GDP'].mean()]\n",
    "upper_target['점수'].mean()-lower_target['점수'].mean() "
   ]
  },
  {
   "cell_type": "code",
   "execution_count": 79,
   "id": "a3fc1e06",
   "metadata": {},
   "outputs": [
    {
     "data": {
      "text/plain": [
       "년도\n",
       "2018    0.3267\n",
       "2019    0.3201\n",
       "Name: 부패에 대한인식, dtype: float64"
      ]
     },
     "execution_count": 79,
     "metadata": {},
     "output_type": "execute_result"
    }
   ],
   "source": [
    "#8.각년도의 부패에 대한인식을 내림차순 정렬했을때 \n",
    "# 상위 20개 국가의 부패에 대한인식의 평균을 구하여라\n",
    "target = df.sort_values(\"부패에 대한인식\",ascending = False)\n",
    "target.groupby(\"년도\").head(20).groupby(\"년도\").mean()['부패에 대한인식']"
   ]
  },
  {
   "cell_type": "code",
   "execution_count": 95,
   "id": "327ce7a2",
   "metadata": {},
   "outputs": [
    {
     "data": {
      "text/plain": [
       "3"
      ]
     },
     "execution_count": 95,
     "metadata": {},
     "output_type": "execute_result"
    }
   ],
   "source": [
    "#9. 2018년도 행복랭킹 50위 이내에 포함됐다가 2019년 50위 밖으로 \n",
    "# 밀려난 국가의 숫자를 구하여라\n",
    "import numpy as np\n",
    "\n",
    "begin = df[df['년도']==2018]\n",
    "begin = begin[begin['행복랭킹']<=50]\n",
    "end = df[df['년도']==2019]\n",
    "end = end[end['행복랭킹']>50]\n",
    "\n",
    "len(np.intersect1d(begin['나라명'].values, end['나라명'].values))"
   ]
  },
  {
   "cell_type": "code",
   "execution_count": 97,
   "id": "3383c3db",
   "metadata": {},
   "outputs": [],
   "source": [
    "#10. 2018년,2019년 모두 기록이 있는 나라들 중 \n",
    "# 년도별 행복점수가 가장 증가한 나라와 그 증가 수치는?\n"
   ]
  },
  {
   "cell_type": "code",
   "execution_count": 124,
   "id": "53cd704b",
   "metadata": {},
   "outputs": [],
   "source": [
    "import pandas as pd\n",
    "#지역구 에너지 소비량 데이터\n",
    "df= pd.read_csv('https://raw.githubusercontent.com/Datamanim/datarepo/main/consum/Tetuan%20City%20power%20consumption.csv')"
   ]
  },
  {
   "cell_type": "code",
   "execution_count": 125,
   "id": "5d222d0c",
   "metadata": {},
   "outputs": [
    {
     "data": {
      "text/html": [
       "<div>\n",
       "<style scoped>\n",
       "    .dataframe tbody tr th:only-of-type {\n",
       "        vertical-align: middle;\n",
       "    }\n",
       "\n",
       "    .dataframe tbody tr th {\n",
       "        vertical-align: top;\n",
       "    }\n",
       "\n",
       "    .dataframe thead th {\n",
       "        text-align: right;\n",
       "    }\n",
       "</style>\n",
       "<table border=\"1\" class=\"dataframe\">\n",
       "  <thead>\n",
       "    <tr style=\"text-align: right;\">\n",
       "      <th></th>\n",
       "      <th>Month</th>\n",
       "    </tr>\n",
       "  </thead>\n",
       "  <tbody>\n",
       "    <tr>\n",
       "      <th>1</th>\n",
       "      <td>4464</td>\n",
       "    </tr>\n",
       "    <tr>\n",
       "      <th>2</th>\n",
       "      <td>4032</td>\n",
       "    </tr>\n",
       "    <tr>\n",
       "      <th>3</th>\n",
       "      <td>4464</td>\n",
       "    </tr>\n",
       "    <tr>\n",
       "      <th>4</th>\n",
       "      <td>4320</td>\n",
       "    </tr>\n",
       "    <tr>\n",
       "      <th>5</th>\n",
       "      <td>4464</td>\n",
       "    </tr>\n",
       "    <tr>\n",
       "      <th>6</th>\n",
       "      <td>4320</td>\n",
       "    </tr>\n",
       "    <tr>\n",
       "      <th>7</th>\n",
       "      <td>4464</td>\n",
       "    </tr>\n",
       "    <tr>\n",
       "      <th>8</th>\n",
       "      <td>4464</td>\n",
       "    </tr>\n",
       "    <tr>\n",
       "      <th>9</th>\n",
       "      <td>4320</td>\n",
       "    </tr>\n",
       "    <tr>\n",
       "      <th>10</th>\n",
       "      <td>4464</td>\n",
       "    </tr>\n",
       "    <tr>\n",
       "      <th>11</th>\n",
       "      <td>4320</td>\n",
       "    </tr>\n",
       "    <tr>\n",
       "      <th>12</th>\n",
       "      <td>4320</td>\n",
       "    </tr>\n",
       "  </tbody>\n",
       "</table>\n",
       "</div>"
      ],
      "text/plain": [
       "    Month\n",
       "1    4464\n",
       "2    4032\n",
       "3    4464\n",
       "4    4320\n",
       "5    4464\n",
       "6    4320\n",
       "7    4464\n",
       "8    4464\n",
       "9    4320\n",
       "10   4464\n",
       "11   4320\n",
       "12   4320"
      ]
     },
     "execution_count": 125,
     "metadata": {},
     "output_type": "execute_result"
    }
   ],
   "source": [
    "import datetime\n",
    "# 1. DateTime컬럼을 통해 각 월별로 몇개의 데이터가 있는지 데이터 프레임으로 구하여라\n",
    "df['DateTime'] = pd.to_datetime(df['DateTime'])\n",
    "df['Month'] = df['DateTime'].dt.month\n",
    "df['Month'].value_counts().sort_index().to_frame()"
   ]
  },
  {
   "cell_type": "code",
   "execution_count": 126,
   "id": "2c01aeb8",
   "metadata": {},
   "outputs": [
    {
     "data": {
      "text/plain": [
       "hour\n",
       "7    11.506613\n",
       "Name: Temperature, dtype: float64"
      ]
     },
     "execution_count": 126,
     "metadata": {},
     "output_type": "execute_result"
    }
   ],
   "source": [
    "#2. 3월달의 각 시간대별 온도의 평균들 중 가장 낮은 시간대의 온도를 출력하라\n",
    "target = df[df['Month'] == 3]\n",
    "target['hour'] = target['DateTime'].dt.hour\n",
    "target.groupby(\"hour\").mean()['Temperature'].sort_values().head(1)"
   ]
  },
  {
   "cell_type": "code",
   "execution_count": 127,
   "id": "751213d1",
   "metadata": {},
   "outputs": [
    {
     "data": {
      "text/plain": [
       "hour\n",
       "15    18.393602\n",
       "Name: Temperature, dtype: float64"
      ]
     },
     "execution_count": 127,
     "metadata": {},
     "output_type": "execute_result"
    }
   ],
   "source": [
    "#3. 3월달의 각 시간대별 온도의 평균들 중 가장 높은 시간대의 온도를 출력하라\n",
    "target = df[df['Month'] == 3]\n",
    "target['hour'] = target['DateTime'].dt.hour\n",
    "target.groupby(\"hour\").mean()['Temperature'].sort_values(ascending=False).head(1)"
   ]
  },
  {
   "cell_type": "code",
   "execution_count": 132,
   "id": "d8c95e8c",
   "metadata": {},
   "outputs": [
    {
     "data": {
      "text/plain": [
       "68.23624448055094"
      ]
     },
     "execution_count": 132,
     "metadata": {},
     "output_type": "execute_result"
    }
   ],
   "source": [
    "#4. Zone 1 Power Consumption 컬럼의 value값의 크기가 Zone 2 Power Consumption 컬럼의 \n",
    "# value값의 크기보다 큰 데이터들의 Humidity의 평균을 구하여라\n",
    "target_col = df.columns[6:8]\n",
    "df[df[target_col[0]]>df[target_col[1]]]['Humidity'].mean()"
   ]
  },
  {
   "cell_type": "code",
   "execution_count": 133,
   "id": "7b4c1ea6",
   "metadata": {},
   "outputs": [
    {
     "data": {
      "text/html": [
       "<div>\n",
       "<style scoped>\n",
       "    .dataframe tbody tr th:only-of-type {\n",
       "        vertical-align: middle;\n",
       "    }\n",
       "\n",
       "    .dataframe tbody tr th {\n",
       "        vertical-align: top;\n",
       "    }\n",
       "\n",
       "    .dataframe thead th {\n",
       "        text-align: right;\n",
       "    }\n",
       "</style>\n",
       "<table border=\"1\" class=\"dataframe\">\n",
       "  <thead>\n",
       "    <tr style=\"text-align: right;\">\n",
       "      <th></th>\n",
       "      <th>Zone 1 Power Consumption</th>\n",
       "      <th>Zone 2  Power Consumption</th>\n",
       "      <th>Zone 3  Power Consumption</th>\n",
       "    </tr>\n",
       "  </thead>\n",
       "  <tbody>\n",
       "    <tr>\n",
       "      <th>Zone 1 Power Consumption</th>\n",
       "      <td>1.000000</td>\n",
       "      <td>0.834519</td>\n",
       "      <td>0.750733</td>\n",
       "    </tr>\n",
       "    <tr>\n",
       "      <th>Zone 2  Power Consumption</th>\n",
       "      <td>0.834519</td>\n",
       "      <td>1.000000</td>\n",
       "      <td>0.570932</td>\n",
       "    </tr>\n",
       "    <tr>\n",
       "      <th>Zone 3  Power Consumption</th>\n",
       "      <td>0.750733</td>\n",
       "      <td>0.570932</td>\n",
       "      <td>1.000000</td>\n",
       "    </tr>\n",
       "  </tbody>\n",
       "</table>\n",
       "</div>"
      ],
      "text/plain": [
       "                           Zone 1 Power Consumption  \\\n",
       "Zone 1 Power Consumption                   1.000000   \n",
       "Zone 2  Power Consumption                  0.834519   \n",
       "Zone 3  Power Consumption                  0.750733   \n",
       "\n",
       "                           Zone 2  Power Consumption  \\\n",
       "Zone 1 Power Consumption                    0.834519   \n",
       "Zone 2  Power Consumption                   1.000000   \n",
       "Zone 3  Power Consumption                   0.570932   \n",
       "\n",
       "                           Zone 3  Power Consumption  \n",
       "Zone 1 Power Consumption                    0.750733  \n",
       "Zone 2  Power Consumption                   0.570932  \n",
       "Zone 3  Power Consumption                   1.000000  "
      ]
     },
     "execution_count": 133,
     "metadata": {},
     "output_type": "execute_result"
    }
   ],
   "source": [
    "#5. 각 zone의 에너지 소비량의 상관관계를 구해서 데이터 프레임으로 표기하라\n",
    "target_col = df.columns[6:9]\n",
    "df[target_col].corr()"
   ]
  },
  {
   "cell_type": "code",
   "execution_count": 137,
   "id": "8f717e63",
   "metadata": {},
   "outputs": [
    {
     "data": {
      "text/plain": [
       "2.049941782795103"
      ]
     },
     "execution_count": 137,
     "metadata": {},
     "output_type": "execute_result"
    }
   ],
   "source": [
    "#6. 6월 데이터중 12시의 Temperature의 표준편차를 구하여라\n",
    "df['Hour'] = df['DateTime'].dt.hour\n",
    "np.sqrt(df[(df['Month']==6) & (df['Hour']==12)]['Temperature'].var())"
   ]
  },
  {
   "cell_type": "code",
   "execution_count": 138,
   "id": "8adf0e55",
   "metadata": {},
   "outputs": [
    {
     "data": {
      "text/plain": [
       "4.202261312849164"
      ]
     },
     "execution_count": 138,
     "metadata": {},
     "output_type": "execute_result"
    }
   ],
   "source": [
    "#7. 6월 데이터중 12시의 Temperature의 분산을 구하여라\n",
    "df['Hour'] = df['DateTime'].dt.hour\n",
    "df[(df['Month']==6) & (df['Hour']==12)]['Temperature'].var()"
   ]
  },
  {
   "cell_type": "code",
   "execution_count": 142,
   "id": "42a06419",
   "metadata": {},
   "outputs": [
    {
     "data": {
      "text/plain": [
       "87.9"
      ]
     },
     "execution_count": 142,
     "metadata": {},
     "output_type": "execute_result"
    }
   ],
   "source": [
    "#8. Temperature의 평균이상의 Temperature의 값을 가지는 데이터를 Temperature를 기준으로 정렬 했을때 \n",
    "# 4번째 행의 Humidity 값은?\n",
    "df[df['Temperature'] > df['Temperature'].mean()].sort_values(\"Temperature\").iloc[3]['Humidity']"
   ]
  },
  {
   "cell_type": "code",
   "execution_count": 143,
   "id": "c9449a75",
   "metadata": {},
   "outputs": [
    {
     "data": {
      "text/plain": [
       "65.97"
      ]
     },
     "execution_count": 143,
     "metadata": {},
     "output_type": "execute_result"
    }
   ],
   "source": [
    "#9. Temperature의 중간값 이상의 Temperature의 값을 가지는 데이터를\n",
    "# Temperature를 기준으로 정렬 했을때 4번째 행의 Humidity 값은?\n",
    "df[df['Temperature'] > df['Temperature'].median()].sort_values(\"Temperature\").iloc[3]['Humidity']"
   ]
  },
  {
   "cell_type": "code",
   "execution_count": null,
   "id": "1edd2032",
   "metadata": {},
   "outputs": [],
   "source": []
  }
 ],
 "metadata": {
  "kernelspec": {
   "display_name": "Python 3 (ipykernel)",
   "language": "python",
   "name": "python3"
  },
  "language_info": {
   "codemirror_mode": {
    "name": "ipython",
    "version": 3
   },
   "file_extension": ".py",
   "mimetype": "text/x-python",
   "name": "python",
   "nbconvert_exporter": "python",
   "pygments_lexer": "ipython3",
   "version": "3.7.11"
  }
 },
 "nbformat": 4,
 "nbformat_minor": 5
}
