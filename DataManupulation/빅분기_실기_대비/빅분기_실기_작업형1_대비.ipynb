{
 "cells": [
  {
   "cell_type": "code",
   "execution_count": 4,
   "id": "e7dce58e",
   "metadata": {},
   "outputs": [
    {
     "data": {
      "text/html": [
       "<div>\n",
       "<style scoped>\n",
       "    .dataframe tbody tr th:only-of-type {\n",
       "        vertical-align: middle;\n",
       "    }\n",
       "\n",
       "    .dataframe tbody tr th {\n",
       "        vertical-align: top;\n",
       "    }\n",
       "\n",
       "    .dataframe thead th {\n",
       "        text-align: right;\n",
       "    }\n",
       "</style>\n",
       "<table border=\"1\" class=\"dataframe\">\n",
       "  <thead>\n",
       "    <tr style=\"text-align: right;\">\n",
       "      <th></th>\n",
       "      <th>title</th>\n",
       "      <th>channelTitle</th>\n",
       "      <th>categoryId</th>\n",
       "      <th>view_count</th>\n",
       "      <th>likes</th>\n",
       "      <th>dislikes</th>\n",
       "      <th>comment_count</th>\n",
       "      <th>channelId</th>\n",
       "      <th>trending_date2</th>\n",
       "    </tr>\n",
       "  </thead>\n",
       "  <tbody>\n",
       "    <tr>\n",
       "      <th>0</th>\n",
       "      <td>[신병] 물자창고</td>\n",
       "      <td>장삐쭈</td>\n",
       "      <td>23</td>\n",
       "      <td>1893473</td>\n",
       "      <td>38249</td>\n",
       "      <td>730</td>\n",
       "      <td>8595</td>\n",
       "      <td>UChbE5OZQ6dRHECsX0tEPEZQ</td>\n",
       "      <td>2021-01-01</td>\n",
       "    </tr>\n",
       "    <tr>\n",
       "      <th>1</th>\n",
       "      <td>RAIN(비) - 나로 바꾸자 Switch to me (duet with JYP) MV</td>\n",
       "      <td>RAIN's Official Channel</td>\n",
       "      <td>10</td>\n",
       "      <td>2600864</td>\n",
       "      <td>0</td>\n",
       "      <td>0</td>\n",
       "      <td>20129</td>\n",
       "      <td>UCxXgIeE5hxWxHG6dz9Scg2w</td>\n",
       "      <td>2021-01-01</td>\n",
       "    </tr>\n",
       "    <tr>\n",
       "      <th>2</th>\n",
       "      <td>2020년 제야의 종 온라인 타종행사 | 보신각 현장 행사는 진행하지 않습니다.</td>\n",
       "      <td>서울시 · Seoul</td>\n",
       "      <td>29</td>\n",
       "      <td>347049</td>\n",
       "      <td>3564</td>\n",
       "      <td>120</td>\n",
       "      <td>178</td>\n",
       "      <td>UCZUPZW5idAxYp-Asj__lVAA</td>\n",
       "      <td>2021-01-01</td>\n",
       "    </tr>\n",
       "    <tr>\n",
       "      <th>3</th>\n",
       "      <td>고기남자의 칠면조 파티</td>\n",
       "      <td>고기남자 MeatMan</td>\n",
       "      <td>26</td>\n",
       "      <td>528458</td>\n",
       "      <td>15372</td>\n",
       "      <td>280</td>\n",
       "      <td>3470</td>\n",
       "      <td>UCT3CumbFIJiW33uq0UI3zlg</td>\n",
       "      <td>2021-01-01</td>\n",
       "    </tr>\n",
       "    <tr>\n",
       "      <th>4</th>\n",
       "      <td>골목 3mc를 분노하게 만든 마음고생이 심했을 공릉 백반집 사장님의 푸념?! [예능...</td>\n",
       "      <td>스브스밥집</td>\n",
       "      <td>24</td>\n",
       "      <td>494904</td>\n",
       "      <td>3918</td>\n",
       "      <td>111</td>\n",
       "      <td>3142</td>\n",
       "      <td>UCdWgRSfttvDucq4ApcCg5Mw</td>\n",
       "      <td>2021-01-01</td>\n",
       "    </tr>\n",
       "  </tbody>\n",
       "</table>\n",
       "</div>"
      ],
      "text/plain": [
       "                                               title             channelTitle  \\\n",
       "0                                          [신병] 물자창고                      장삐쭈   \n",
       "1   RAIN(비) - 나로 바꾸자 Switch to me (duet with JYP) MV  RAIN's Official Channel   \n",
       "2       2020년 제야의 종 온라인 타종행사 | 보신각 현장 행사는 진행하지 않습니다.              서울시 · Seoul   \n",
       "3                                       고기남자의 칠면조 파티             고기남자 MeatMan   \n",
       "4  골목 3mc를 분노하게 만든 마음고생이 심했을 공릉 백반집 사장님의 푸념?! [예능...                    스브스밥집   \n",
       "\n",
       "   categoryId  view_count  likes  dislikes  comment_count  \\\n",
       "0          23     1893473  38249       730           8595   \n",
       "1          10     2600864      0         0          20129   \n",
       "2          29      347049   3564       120            178   \n",
       "3          26      528458  15372       280           3470   \n",
       "4          24      494904   3918       111           3142   \n",
       "\n",
       "                  channelId trending_date2  \n",
       "0  UChbE5OZQ6dRHECsX0tEPEZQ     2021-01-01  \n",
       "1  UCxXgIeE5hxWxHG6dz9Scg2w     2021-01-01  \n",
       "2  UCZUPZW5idAxYp-Asj__lVAA     2021-01-01  \n",
       "3  UCT3CumbFIJiW33uq0UI3zlg     2021-01-01  \n",
       "4  UCdWgRSfttvDucq4ApcCg5Mw     2021-01-01  "
      ]
     },
     "execution_count": 4,
     "metadata": {},
     "output_type": "execute_result"
    }
   ],
   "source": [
    "import pandas as pd\n",
    "df = pd.read_csv(\"https://raw.githubusercontent.com/Datamanim/datarepo/main/youtube/youtube.csv\",index_col=0)\n",
    "df.head()"
   ]
  },
  {
   "cell_type": "code",
   "execution_count": 10,
   "id": "1236d013",
   "metadata": {},
   "outputs": [
    {
     "name": "stdout",
     "output_type": "stream",
     "text": [
      "['짤툰', '파뿌리', 'SPOTV', '런닝맨 - 스브스 공식 채널', '엠뚜루마뚜루 : MBC 공식 종합 채널', '장삐쭈', 'BANGTANTV', '채널 십오야', '이과장', '총몇명']\n"
     ]
    }
   ],
   "source": [
    "#1. 인기동영상 제작횟수가 많은 채널 상위 10개명을 출력하라 (날짜기준, 중복포함)\n",
    "print(list(df['channelTitle'].value_counts()[:10].index))"
   ]
  },
  {
   "cell_type": "code",
   "execution_count": 14,
   "id": "92b68997",
   "metadata": {},
   "outputs": [
    {
     "name": "stdout",
     "output_type": "stream",
     "text": [
      "['핫도그TV' 'ASMR 애정TV' '하얀트리HayanTree' '양팡 YangPang' '철구형 (CHULTUBE)'\n",
      " '왜냐맨하우스' '(MUTUBE)와꾸대장봉준' '오메킴TV' '육지담' 'MapleStory_KR'\n",
      " 'ROAD FIGHTING CHAMPIONSHIP' '사나이 김기훈' '나혼자산다 STUDIO' 'Gen.G esports']\n"
     ]
    }
   ],
   "source": [
    "#2. 논란으로 인기동영상이 된 케이스를 확인하고 싶다. dislikes수가 like 수보다 높은 동영상을 제작한 채널을 모두 출력하라\n",
    "print(df[df['dislikes']>df['likes']]['channelTitle'].unique())"
   ]
  },
  {
   "cell_type": "code",
   "execution_count": 25,
   "id": "1784fb37",
   "metadata": {},
   "outputs": [
    {
     "name": "stdout",
     "output_type": "stream",
     "text": [
      "71\n"
     ]
    }
   ],
   "source": [
    "#3. 채널명을 바꾼 케이스가 있는지 확인하고 싶다.\n",
    "#channelId의 경우 고유값이므로 이를 통해 채널명을 한번이라도 바꾼 채널의 갯수를 구하여라\n",
    "target = df.groupby('channelId').nunique()['channelTitle']\n",
    "print(len(target[target != 1]))"
   ]
  },
  {
   "cell_type": "code",
   "execution_count": 33,
   "id": "d167e81f",
   "metadata": {},
   "outputs": [
    {
     "name": "stdout",
     "output_type": "stream",
     "text": [
      "24\n"
     ]
    }
   ],
   "source": [
    "#4. 일요일에 인기있었던 영상들중 가장많은 영상 종류(categoryId)는 무엇인가?\n",
    "print(df['categoryId'].value_counts().index[0])"
   ]
  },
  {
   "cell_type": "code",
   "execution_count": 52,
   "id": "1af20270",
   "metadata": {},
   "outputs": [
    {
     "data": {
      "text/html": [
       "<div>\n",
       "<style scoped>\n",
       "    .dataframe tbody tr th:only-of-type {\n",
       "        vertical-align: middle;\n",
       "    }\n",
       "\n",
       "    .dataframe tbody tr th {\n",
       "        vertical-align: top;\n",
       "    }\n",
       "\n",
       "    .dataframe thead tr th {\n",
       "        text-align: left;\n",
       "    }\n",
       "\n",
       "    .dataframe thead tr:last-of-type th {\n",
       "        text-align: right;\n",
       "    }\n",
       "</style>\n",
       "<table border=\"1\" class=\"dataframe\">\n",
       "  <thead>\n",
       "    <tr>\n",
       "      <th></th>\n",
       "      <th colspan=\"7\" halign=\"left\">size</th>\n",
       "    </tr>\n",
       "    <tr>\n",
       "      <th>요일</th>\n",
       "      <th>Friday</th>\n",
       "      <th>Monday</th>\n",
       "      <th>Saturday</th>\n",
       "      <th>Sunday</th>\n",
       "      <th>Thursday</th>\n",
       "      <th>Tuesday</th>\n",
       "      <th>Wednesday</th>\n",
       "    </tr>\n",
       "    <tr>\n",
       "      <th>categoryId</th>\n",
       "      <th></th>\n",
       "      <th></th>\n",
       "      <th></th>\n",
       "      <th></th>\n",
       "      <th></th>\n",
       "      <th></th>\n",
       "      <th></th>\n",
       "    </tr>\n",
       "  </thead>\n",
       "  <tbody>\n",
       "    <tr>\n",
       "      <th>1</th>\n",
       "      <td>243</td>\n",
       "      <td>263</td>\n",
       "      <td>255</td>\n",
       "      <td>274</td>\n",
       "      <td>246</td>\n",
       "      <td>257</td>\n",
       "      <td>234</td>\n",
       "    </tr>\n",
       "    <tr>\n",
       "      <th>2</th>\n",
       "      <td>120</td>\n",
       "      <td>105</td>\n",
       "      <td>119</td>\n",
       "      <td>99</td>\n",
       "      <td>128</td>\n",
       "      <td>119</td>\n",
       "      <td>129</td>\n",
       "    </tr>\n",
       "    <tr>\n",
       "      <th>10</th>\n",
       "      <td>833</td>\n",
       "      <td>837</td>\n",
       "      <td>776</td>\n",
       "      <td>830</td>\n",
       "      <td>890</td>\n",
       "      <td>894</td>\n",
       "      <td>917</td>\n",
       "    </tr>\n",
       "    <tr>\n",
       "      <th>15</th>\n",
       "      <td>187</td>\n",
       "      <td>215</td>\n",
       "      <td>198</td>\n",
       "      <td>217</td>\n",
       "      <td>207</td>\n",
       "      <td>208</td>\n",
       "      <td>207</td>\n",
       "    </tr>\n",
       "    <tr>\n",
       "      <th>17</th>\n",
       "      <td>633</td>\n",
       "      <td>668</td>\n",
       "      <td>592</td>\n",
       "      <td>636</td>\n",
       "      <td>682</td>\n",
       "      <td>708</td>\n",
       "      <td>706</td>\n",
       "    </tr>\n",
       "    <tr>\n",
       "      <th>19</th>\n",
       "      <td>90</td>\n",
       "      <td>92</td>\n",
       "      <td>87</td>\n",
       "      <td>91</td>\n",
       "      <td>92</td>\n",
       "      <td>89</td>\n",
       "      <td>85</td>\n",
       "    </tr>\n",
       "    <tr>\n",
       "      <th>20</th>\n",
       "      <td>283</td>\n",
       "      <td>298</td>\n",
       "      <td>296</td>\n",
       "      <td>289</td>\n",
       "      <td>282</td>\n",
       "      <td>285</td>\n",
       "      <td>291</td>\n",
       "    </tr>\n",
       "    <tr>\n",
       "      <th>22</th>\n",
       "      <td>1288</td>\n",
       "      <td>1373</td>\n",
       "      <td>1289</td>\n",
       "      <td>1337</td>\n",
       "      <td>1341</td>\n",
       "      <td>1375</td>\n",
       "      <td>1333</td>\n",
       "    </tr>\n",
       "    <tr>\n",
       "      <th>23</th>\n",
       "      <td>568</td>\n",
       "      <td>594</td>\n",
       "      <td>570</td>\n",
       "      <td>556</td>\n",
       "      <td>560</td>\n",
       "      <td>569</td>\n",
       "      <td>566</td>\n",
       "    </tr>\n",
       "    <tr>\n",
       "      <th>24</th>\n",
       "      <td>2976</td>\n",
       "      <td>3148</td>\n",
       "      <td>3066</td>\n",
       "      <td>3096</td>\n",
       "      <td>2954</td>\n",
       "      <td>3084</td>\n",
       "      <td>3090</td>\n",
       "    </tr>\n",
       "    <tr>\n",
       "      <th>25</th>\n",
       "      <td>444</td>\n",
       "      <td>453</td>\n",
       "      <td>422</td>\n",
       "      <td>437</td>\n",
       "      <td>470</td>\n",
       "      <td>452</td>\n",
       "      <td>468</td>\n",
       "    </tr>\n",
       "    <tr>\n",
       "      <th>26</th>\n",
       "      <td>369</td>\n",
       "      <td>378</td>\n",
       "      <td>364</td>\n",
       "      <td>363</td>\n",
       "      <td>375</td>\n",
       "      <td>394</td>\n",
       "      <td>385</td>\n",
       "    </tr>\n",
       "    <tr>\n",
       "      <th>27</th>\n",
       "      <td>183</td>\n",
       "      <td>205</td>\n",
       "      <td>183</td>\n",
       "      <td>199</td>\n",
       "      <td>194</td>\n",
       "      <td>194</td>\n",
       "      <td>212</td>\n",
       "    </tr>\n",
       "    <tr>\n",
       "      <th>28</th>\n",
       "      <td>171</td>\n",
       "      <td>160</td>\n",
       "      <td>173</td>\n",
       "      <td>167</td>\n",
       "      <td>166</td>\n",
       "      <td>161</td>\n",
       "      <td>165</td>\n",
       "    </tr>\n",
       "    <tr>\n",
       "      <th>29</th>\n",
       "      <td>12</td>\n",
       "      <td>10</td>\n",
       "      <td>10</td>\n",
       "      <td>9</td>\n",
       "      <td>13</td>\n",
       "      <td>11</td>\n",
       "      <td>12</td>\n",
       "    </tr>\n",
       "  </tbody>\n",
       "</table>\n",
       "</div>"
      ],
      "text/plain": [
       "             size                                                  \n",
       "요일         Friday Monday Saturday Sunday Thursday Tuesday Wednesday\n",
       "categoryId                                                         \n",
       "1             243    263      255    274      246     257       234\n",
       "2             120    105      119     99      128     119       129\n",
       "10            833    837      776    830      890     894       917\n",
       "15            187    215      198    217      207     208       207\n",
       "17            633    668      592    636      682     708       706\n",
       "19             90     92       87     91       92      89        85\n",
       "20            283    298      296    289      282     285       291\n",
       "22           1288   1373     1289   1337     1341    1375      1333\n",
       "23            568    594      570    556      560     569       566\n",
       "24           2976   3148     3066   3096     2954    3084      3090\n",
       "25            444    453      422    437      470     452       468\n",
       "26            369    378      364    363      375     394       385\n",
       "27            183    205      183    199      194     194       212\n",
       "28            171    160      173    167      166     161       165\n",
       "29             12     10       10      9       13      11        12"
      ]
     },
     "execution_count": 52,
     "metadata": {},
     "output_type": "execute_result"
    }
   ],
   "source": [
    "#5. 각 요일별 인기 영상들의 categoryId는 각각 몇개 씩인지 하나의 데이터 프레임으로 표현하라\n",
    "df['trending_date2'] = pd.to_datetime(df['trending_date2'])\n",
    "df['요일'] = df['trending_date2'].dt.day_name()\n",
    "target = df.groupby([\"요일\",\"categoryId\"],as_index=False).size()\n",
    "target.pivot(columns = \"요일\", index = \"categoryId\")"
   ]
  },
  {
   "cell_type": "code",
   "execution_count": 78,
   "id": "c05d9a53",
   "metadata": {},
   "outputs": [
    {
     "name": "stdout",
     "output_type": "stream",
     "text": [
      "60분 동안 댓글이 달리지 않으면, 영상이 삭제됩니다. (챌린지)\n"
     ]
    }
   ],
   "source": [
    "#6. 댓글의 수로 (comment_count) 영상 반응에 대한 판단을 할 수 있다. \n",
    "#viewcount대비 댓글수가 가장 높은 영상을 확인하라 (view_count값이 0인 경우는 제외한다)\n",
    "target = df[df['view_count']!=0]\n",
    "print(df.iloc[(target['comment_count']/target['view_count']).sort_values(ascending =False).index[0]]['title'])"
   ]
  },
  {
   "cell_type": "code",
   "execution_count": 79,
   "id": "dfca6864",
   "metadata": {},
   "outputs": [],
   "source": [
    "#7. 댓글의 수로 (comment_count) 영상 반응에 대한 판단을 할 수 있다.\n",
    "# viewcount대비 댓글수가 가장 낮은 영상을 확인하라 (view_counts, ratio값이 0인경우는 제외한다.)\n"
   ]
  },
  {
   "cell_type": "code",
   "execution_count": 82,
   "id": "cb345781",
   "metadata": {},
   "outputs": [
    {
     "name": "stdout",
     "output_type": "stream",
     "text": [
      "[줌터뷰] *최초공개* 사부작즈🐰🐶의 비공식 이름은 아이라인즈? 꿀조합 티키타카 가득한 NCT 127 도영&정우의 줌터뷰\n"
     ]
    }
   ],
   "source": [
    "#8. like 대비 dislike의 수가 가장 적은 영상은 무엇인가? (like, dislike 값이 0인경우는 제외한다)\n",
    "target = df[(df['likes'] != 0 ) & (df['dislikes']!=0)]\n",
    "target.reset_index(inplace = True)\n",
    "print(target.iloc[(target['dislikes']/target['likes']).sort_values().index[0]].title)"
   ]
  },
  {
   "cell_type": "code",
   "execution_count": 92,
   "id": "c97cf57a",
   "metadata": {},
   "outputs": [
    {
     "name": "stdout",
     "output_type": "stream",
     "text": [
      "짤툰\n"
     ]
    }
   ],
   "source": [
    "#9. 가장많은 트렌드 영상을 제작한 채널의 이름은 무엇인가? (날짜기준, 중복포함)\n",
    "print(df.groupby(\"channelTitle\").size().sort_values(ascending =False).index[0])"
   ]
  },
  {
   "cell_type": "code",
   "execution_count": 99,
   "id": "8ef95e92",
   "metadata": {},
   "outputs": [
    {
     "name": "stdout",
     "output_type": "stream",
     "text": [
      "41\n"
     ]
    }
   ],
   "source": [
    "#10. 20회(20일)이상 인기동영상 리스트에 포함된 동영상의 숫자는?\n",
    "target = df.groupby('title').size()\n",
    "print(len(target[target >=20]))"
   ]
  },
  {
   "cell_type": "code",
   "execution_count": 100,
   "id": "9842f6d5",
   "metadata": {},
   "outputs": [
    {
     "data": {
      "text/html": [
       "<div>\n",
       "<style scoped>\n",
       "    .dataframe tbody tr th:only-of-type {\n",
       "        vertical-align: middle;\n",
       "    }\n",
       "\n",
       "    .dataframe tbody tr th {\n",
       "        vertical-align: top;\n",
       "    }\n",
       "\n",
       "    .dataframe thead th {\n",
       "        text-align: right;\n",
       "    }\n",
       "</style>\n",
       "<table border=\"1\" class=\"dataframe\">\n",
       "  <thead>\n",
       "    <tr style=\"text-align: right;\">\n",
       "      <th></th>\n",
       "      <th>channelid</th>\n",
       "      <th>subcnt</th>\n",
       "      <th>viewcnt</th>\n",
       "      <th>videocnt</th>\n",
       "      <th>ct</th>\n",
       "      <th>channelname</th>\n",
       "    </tr>\n",
       "  </thead>\n",
       "  <tbody>\n",
       "    <tr>\n",
       "      <th>0</th>\n",
       "      <td>UCkQCwnkQfgSuPTTnw_Y7v7w</td>\n",
       "      <td>1310000</td>\n",
       "      <td>410238653</td>\n",
       "      <td>736</td>\n",
       "      <td>2021-09-30 03:01:03</td>\n",
       "      <td>꽈뚜룹</td>\n",
       "    </tr>\n",
       "    <tr>\n",
       "      <th>1</th>\n",
       "      <td>UCkQCwnkQfgSuPTTnw_Y7v7w</td>\n",
       "      <td>1310000</td>\n",
       "      <td>412531322</td>\n",
       "      <td>736</td>\n",
       "      <td>2021-09-30 09:01:03</td>\n",
       "      <td>꽈뚜룹</td>\n",
       "    </tr>\n",
       "    <tr>\n",
       "      <th>2</th>\n",
       "      <td>UCkQCwnkQfgSuPTTnw_Y7v7w</td>\n",
       "      <td>1310000</td>\n",
       "      <td>412531322</td>\n",
       "      <td>735</td>\n",
       "      <td>2021-09-30 15:01:03</td>\n",
       "      <td>꽈뚜룹</td>\n",
       "    </tr>\n",
       "    <tr>\n",
       "      <th>3</th>\n",
       "      <td>UCkQCwnkQfgSuPTTnw_Y7v7w</td>\n",
       "      <td>1310000</td>\n",
       "      <td>412531322</td>\n",
       "      <td>737</td>\n",
       "      <td>2021-09-30 21:01:03</td>\n",
       "      <td>꽈뚜룹</td>\n",
       "    </tr>\n",
       "    <tr>\n",
       "      <th>4</th>\n",
       "      <td>UCkQCwnkQfgSuPTTnw_Y7v7w</td>\n",
       "      <td>1320000</td>\n",
       "      <td>412531322</td>\n",
       "      <td>737</td>\n",
       "      <td>2021-10-01 03:01:04</td>\n",
       "      <td>꽈뚜룹</td>\n",
       "    </tr>\n",
       "  </tbody>\n",
       "</table>\n",
       "</div>"
      ],
      "text/plain": [
       "                  channelid   subcnt    viewcnt  videocnt  \\\n",
       "0  UCkQCwnkQfgSuPTTnw_Y7v7w  1310000  410238653       736   \n",
       "1  UCkQCwnkQfgSuPTTnw_Y7v7w  1310000  412531322       736   \n",
       "2  UCkQCwnkQfgSuPTTnw_Y7v7w  1310000  412531322       735   \n",
       "3  UCkQCwnkQfgSuPTTnw_Y7v7w  1310000  412531322       737   \n",
       "4  UCkQCwnkQfgSuPTTnw_Y7v7w  1320000  412531322       737   \n",
       "\n",
       "                    ct channelname  \n",
       "0  2021-09-30 03:01:03         꽈뚜룹  \n",
       "1  2021-09-30 09:01:03         꽈뚜룹  \n",
       "2  2021-09-30 15:01:03         꽈뚜룹  \n",
       "3  2021-09-30 21:01:03         꽈뚜룹  \n",
       "4  2021-10-01 03:01:04         꽈뚜룹  "
      ]
     },
     "metadata": {},
     "output_type": "display_data"
    },
    {
     "data": {
      "text/html": [
       "<div>\n",
       "<style scoped>\n",
       "    .dataframe tbody tr th:only-of-type {\n",
       "        vertical-align: middle;\n",
       "    }\n",
       "\n",
       "    .dataframe tbody tr th {\n",
       "        vertical-align: top;\n",
       "    }\n",
       "\n",
       "    .dataframe thead th {\n",
       "        text-align: right;\n",
       "    }\n",
       "</style>\n",
       "<table border=\"1\" class=\"dataframe\">\n",
       "  <thead>\n",
       "    <tr style=\"text-align: right;\">\n",
       "      <th></th>\n",
       "      <th>videopk</th>\n",
       "      <th>viewcnt</th>\n",
       "      <th>likecnt</th>\n",
       "      <th>dislikecnt</th>\n",
       "      <th>favoritecnt</th>\n",
       "      <th>cmcnt</th>\n",
       "      <th>ct</th>\n",
       "      <th>videoname</th>\n",
       "    </tr>\n",
       "  </thead>\n",
       "  <tbody>\n",
       "    <tr>\n",
       "      <th>0</th>\n",
       "      <td>c5JQp6xafqc</td>\n",
       "      <td>1667010</td>\n",
       "      <td>30474</td>\n",
       "      <td>706</td>\n",
       "      <td>0</td>\n",
       "      <td>6587</td>\n",
       "      <td>2021-10-10 15:20:03</td>\n",
       "      <td>공범 EP1</td>\n",
       "    </tr>\n",
       "    <tr>\n",
       "      <th>1</th>\n",
       "      <td>c5JQp6xafqc</td>\n",
       "      <td>1669089</td>\n",
       "      <td>30495</td>\n",
       "      <td>707</td>\n",
       "      <td>0</td>\n",
       "      <td>6589</td>\n",
       "      <td>2021-10-10 15:30:03</td>\n",
       "      <td>공범 EP1</td>\n",
       "    </tr>\n",
       "    <tr>\n",
       "      <th>2</th>\n",
       "      <td>c5JQp6xafqc</td>\n",
       "      <td>1674759</td>\n",
       "      <td>30522</td>\n",
       "      <td>711</td>\n",
       "      <td>0</td>\n",
       "      <td>6596</td>\n",
       "      <td>2021-10-10 15:40:02</td>\n",
       "      <td>공범 EP1</td>\n",
       "    </tr>\n",
       "    <tr>\n",
       "      <th>3</th>\n",
       "      <td>c5JQp6xafqc</td>\n",
       "      <td>1677026</td>\n",
       "      <td>30555</td>\n",
       "      <td>712</td>\n",
       "      <td>0</td>\n",
       "      <td>6604</td>\n",
       "      <td>2021-10-10 15:50:03</td>\n",
       "      <td>공범 EP1</td>\n",
       "    </tr>\n",
       "    <tr>\n",
       "      <th>4</th>\n",
       "      <td>c5JQp6xafqc</td>\n",
       "      <td>1681824</td>\n",
       "      <td>30585</td>\n",
       "      <td>713</td>\n",
       "      <td>0</td>\n",
       "      <td>6600</td>\n",
       "      <td>2021-10-10 16:00:03</td>\n",
       "      <td>공범 EP1</td>\n",
       "    </tr>\n",
       "  </tbody>\n",
       "</table>\n",
       "</div>"
      ],
      "text/plain": [
       "       videopk  viewcnt  likecnt  dislikecnt  favoritecnt  cmcnt  \\\n",
       "0  c5JQp6xafqc  1667010    30474         706            0   6587   \n",
       "1  c5JQp6xafqc  1669089    30495         707            0   6589   \n",
       "2  c5JQp6xafqc  1674759    30522         711            0   6596   \n",
       "3  c5JQp6xafqc  1677026    30555         712            0   6604   \n",
       "4  c5JQp6xafqc  1681824    30585         713            0   6600   \n",
       "\n",
       "                    ct videoname  \n",
       "0  2021-10-10 15:20:03    공범 EP1  \n",
       "1  2021-10-10 15:30:03    공범 EP1  \n",
       "2  2021-10-10 15:40:02    공범 EP1  \n",
       "3  2021-10-10 15:50:03    공범 EP1  \n",
       "4  2021-10-10 16:00:03    공범 EP1  "
      ]
     },
     "metadata": {},
     "output_type": "display_data"
    }
   ],
   "source": [
    "import pandas as pd\n",
    "#유튜브 공범컨텐츠 동영상 데이터\n",
    "channel =pd.read_csv('https://raw.githubusercontent.com/Datamanim/datarepo/main/youtube/channelInfo.csv')\n",
    "video =pd.read_csv('https://raw.githubusercontent.com/Datamanim/datarepo/main/youtube/videoInfo.csv')\n",
    "display(channel.head())\n",
    "display(video.head())"
   ]
  },
  {
   "cell_type": "code",
   "execution_count": 108,
   "id": "f4dc350b",
   "metadata": {},
   "outputs": [
    {
     "data": {
      "text/plain": [
       "videoname\n",
       " 공범 EP1    3492\n",
       " 공범 EP2    3204\n",
       " 공범 EP3    2568\n",
       " 공범 EP4    2280\n",
       " 공범 EP5    1562\n",
       " 공범 EP6    1274\n",
       " 공범 EP7     555\n",
       " 공범 EP8     266\n",
       "dtype: int64"
      ]
     },
     "execution_count": 108,
     "metadata": {},
     "output_type": "execute_result"
    }
   ],
   "source": [
    "#1. 각 데이터의 ‘ct’컬럼을 시간으로 인식할수 있게 datatype을 변경하고 \n",
    "#video 데이터의 videoname의 각 value 마다 몇개의 데이터씩 가지고 있는지 확인하라\n",
    "channel['ct'] = pd.to_datetime(channel['ct'])\n",
    "video['ct'] = pd.to_datetime(video['ct'])\n",
    "\n",
    "video.groupby('videoname').size()"
   ]
  },
  {
   "cell_type": "code",
   "execution_count": 109,
   "id": "da588ce0",
   "metadata": {},
   "outputs": [
    {
     "data": {
      "text/plain": [
       "videoname\n",
       " 공범 EP1   2021-11-01 15:30:03\n",
       " 공범 EP2   2021-11-01 15:30:03\n",
       " 공범 EP3   2021-11-01 15:30:03\n",
       " 공범 EP4   2021-11-01 15:30:03\n",
       " 공범 EP5   2021-11-01 15:30:04\n",
       " 공범 EP6   2021-11-01 15:30:04\n",
       " 공범 EP7   2021-11-01 15:30:05\n",
       " 공범 EP8   2021-11-01 15:30:05\n",
       "Name: ct, dtype: datetime64[ns]"
      ]
     },
     "execution_count": 109,
     "metadata": {},
     "output_type": "execute_result"
    }
   ],
   "source": [
    "#2. 수집된 각 video의 가장 최신화 된 날짜의 viewcount값을 출력하라\n",
    "video.groupby('videoname').max()['ct']"
   ]
  },
  {
   "cell_type": "code",
   "execution_count": 122,
   "id": "0ad4cfe9",
   "metadata": {},
   "outputs": [
    {
     "data": {
      "text/plain": [
       "channelname\n",
       "Balming Tiger        54300\n",
       "곽토리 kwak tori       471000\n",
       "김농밀의 농밀한 삶            7520\n",
       "꽈뚜룹                1330000\n",
       "논리왕 전기              922000\n",
       "릴펄 Lilpearl          10100\n",
       "야전삽짱재               257000\n",
       "와글와글 WagleWagle      55000\n",
       "조나단                 215000\n",
       "츄정ChuJeong          322000\n",
       "형사!탐정되다              14900\n",
       "Name: subcnt, dtype: int64"
      ]
     },
     "execution_count": 122,
     "metadata": {},
     "output_type": "execute_result"
    }
   ],
   "source": [
    "#3. Channel 데이터중 2021-10-03일 이후 각 채널의 처음 기록 됐던 구독자 수(subcnt)를 출력하라\n",
    "import datetime\n",
    "target = channel[channel['ct'] >=datetime.datetime(year = 2021,month= 10, day = 3)].sort_values(['channelname','ct'])\n",
    "target.groupby(\"channelname\").first()['subcnt']"
   ]
  },
  {
   "cell_type": "code",
   "execution_count": 129,
   "id": "b5d18543",
   "metadata": {},
   "outputs": [
    {
     "data": {
      "text/plain": [
       "channelname\n",
       "Balming Tiger       2500\n",
       "곽토리 kwak tori      -2000\n",
       "김농밀의 농밀한 삶          1540\n",
       "꽈뚜룹                70000\n",
       "논리왕 전기            -11000\n",
       "릴펄 Lilpearl        11000\n",
       "야전삽짱재              11000\n",
       "와글와글 WagleWagle        0\n",
       "조나단                12000\n",
       "츄정ChuJeong          1000\n",
       "형사!탐정되다            10300\n",
       "Name: subcnt, dtype: int64"
      ]
     },
     "execution_count": 129,
     "metadata": {},
     "output_type": "execute_result"
    }
   ],
   "source": [
    "#4. 각채널의 2021-10-03 03:00:00 ~ 2021-11-01 15:00:00 까지 구독자수 (subcnt) 의 증가량을 구하여라\n",
    "first_target = channel[channel['ct'] >= datetime.datetime(2021,10,3,hour=3)].sort_values(['channelname','ct']).groupby(\"channelname\").first()\n",
    "second_target = channel[channel['ct'] <= datetime.datetime(2021,11,1,hour=15)].sort_values(['channelname','ct']).groupby(\"channelname\").last()\n",
    "second_target['subcnt']-first_target['subcnt']"
   ]
  },
  {
   "cell_type": "code",
   "execution_count": 174,
   "id": "c95ac58f",
   "metadata": {},
   "outputs": [
    {
     "name": "stderr",
     "output_type": "stream",
     "text": [
      "/Users/hyunwoo/opt/anaconda3/lib/python3.7/site-packages/pandas/util/_decorators.py:311: SettingWithCopyWarning: \n",
      "A value is trying to be set on a copy of a slice from a DataFrame\n",
      "\n",
      "See the caveats in the documentation: https://pandas.pydata.org/pandas-docs/stable/user_guide/indexing.html#returning-a-view-versus-a-copy\n",
      "  return func(*args, **kwargs)\n",
      "/Users/hyunwoo/opt/anaconda3/lib/python3.7/site-packages/ipykernel_launcher.py:5: SettingWithCopyWarning: \n",
      "A value is trying to be set on a copy of a slice from a DataFrame.\n",
      "Try using .loc[row_indexer,col_indexer] = value instead\n",
      "\n",
      "See the caveats in the documentation: https://pandas.pydata.org/pandas-docs/stable/user_guide/indexing.html#returning-a-view-versus-a-copy\n",
      "  \"\"\"\n",
      "/Users/hyunwoo/opt/anaconda3/lib/python3.7/site-packages/ipykernel_launcher.py:7: SettingWithCopyWarning: \n",
      "A value is trying to be set on a copy of a slice from a DataFrame.\n",
      "Try using .loc[row_indexer,col_indexer] = value instead\n",
      "\n",
      "See the caveats in the documentation: https://pandas.pydata.org/pandas-docs/stable/user_guide/indexing.html#returning-a-view-versus-a-copy\n",
      "  import sys\n"
     ]
    },
    {
     "data": {
      "text/html": [
       "<div>\n",
       "<style scoped>\n",
       "    .dataframe tbody tr th:only-of-type {\n",
       "        vertical-align: middle;\n",
       "    }\n",
       "\n",
       "    .dataframe tbody tr th {\n",
       "        vertical-align: top;\n",
       "    }\n",
       "\n",
       "    .dataframe thead th {\n",
       "        text-align: right;\n",
       "    }\n",
       "</style>\n",
       "<table border=\"1\" class=\"dataframe\">\n",
       "  <thead>\n",
       "    <tr style=\"text-align: right;\">\n",
       "      <th></th>\n",
       "      <th>videopk</th>\n",
       "      <th>viewcnt</th>\n",
       "      <th>likecnt</th>\n",
       "      <th>dislikecnt</th>\n",
       "      <th>favoritecnt</th>\n",
       "      <th>cmcnt</th>\n",
       "      <th>ct</th>\n",
       "      <th>videoname</th>\n",
       "      <th>before_time</th>\n",
       "      <th>time_difference</th>\n",
       "    </tr>\n",
       "  </thead>\n",
       "  <tbody>\n",
       "    <tr>\n",
       "      <th>721</th>\n",
       "      <td>c5JQp6xafqc</td>\n",
       "      <td>2228250</td>\n",
       "      <td>34559</td>\n",
       "      <td>849</td>\n",
       "      <td>0</td>\n",
       "      <td>7191</td>\n",
       "      <td>2021-10-13 09:41:37</td>\n",
       "      <td>공범 EP1</td>\n",
       "      <td>2021-10-12 19:20:03</td>\n",
       "      <td>0 days 14:21:34</td>\n",
       "    </tr>\n",
       "    <tr>\n",
       "      <th>722</th>\n",
       "      <td>c5JQp6xafqc</td>\n",
       "      <td>2228250</td>\n",
       "      <td>34559</td>\n",
       "      <td>849</td>\n",
       "      <td>0</td>\n",
       "      <td>7191</td>\n",
       "      <td>2021-10-13 09:41:37</td>\n",
       "      <td>공범 EP1</td>\n",
       "      <td>2021-10-13 09:41:37</td>\n",
       "      <td>0 days 00:00:00</td>\n",
       "    </tr>\n",
       "    <tr>\n",
       "      <th>1636</th>\n",
       "      <td>c5JQp6xafqc</td>\n",
       "      <td>2707933</td>\n",
       "      <td>37901</td>\n",
       "      <td>988</td>\n",
       "      <td>0</td>\n",
       "      <td>7410</td>\n",
       "      <td>2021-10-19 18:20:03</td>\n",
       "      <td>공범 EP1</td>\n",
       "      <td>2021-10-19 17:50:02</td>\n",
       "      <td>0 days 00:30:01</td>\n",
       "    </tr>\n",
       "  </tbody>\n",
       "</table>\n",
       "</div>"
      ],
      "text/plain": [
       "          videopk  viewcnt  likecnt  dislikecnt  favoritecnt  cmcnt  \\\n",
       "721   c5JQp6xafqc  2228250    34559         849            0   7191   \n",
       "722   c5JQp6xafqc  2228250    34559         849            0   7191   \n",
       "1636  c5JQp6xafqc  2707933    37901         988            0   7410   \n",
       "\n",
       "                      ct videoname         before_time time_difference  \n",
       "721  2021-10-13 09:41:37    공범 EP1 2021-10-12 19:20:03 0 days 14:21:34  \n",
       "722  2021-10-13 09:41:37    공범 EP1 2021-10-13 09:41:37 0 days 00:00:00  \n",
       "1636 2021-10-19 18:20:03    공범 EP1 2021-10-19 17:50:02 0 days 00:30:01  "
      ]
     },
     "execution_count": 174,
     "metadata": {},
     "output_type": "execute_result"
    }
   ],
   "source": [
    "#5. 각 비디오는 10분 간격으로 구독자수, 좋아요, 싫어요수, 댓글수가 수집된것으로 알려졌다. \n",
    "#공범 EP1의 비디오정보 데이터중 수집간격이 5분 이하, 20분이상인 데이터 구간( 해당 시점 전,후) 의 시각을 모두 출력하라\n",
    "target = video[video['videoname']==video['videoname'].unique()[0]]\n",
    "target.sort_values('ct',inplace=True)\n",
    "target['before_time'] = target['ct'].shift(1)\n",
    "target.dropna(inplace=True)\n",
    "target['time_difference'] = target['ct'] - target['before_time']\n",
    "target[(target['time_difference'] >= datetime.timedelta(minutes = 20)) | (target['time_difference']<=datetime.timedelta(minutes=5))]\n"
   ]
  },
  {
   "cell_type": "code",
   "execution_count": 195,
   "id": "f0068d3a",
   "metadata": {},
   "outputs": [
    {
     "data": {
      "text/plain": [
       "videoname\n",
       " 공범 EP1    2021-10-07\n",
       " 공범 EP2    2021-10-09\n",
       " 공범 EP3    2021-10-14\n",
       " 공범 EP4    2021-10-16\n",
       " 공범 EP5    2021-10-21\n",
       " 공범 EP6    2021-10-23\n",
       " 공범 EP7    2021-10-28\n",
       " 공범 EP8    2021-10-30\n",
       "Name: ct, dtype: object"
      ]
     },
     "execution_count": 195,
     "metadata": {},
     "output_type": "execute_result"
    }
   ],
   "source": [
    "#7. “공범” 컨텐츠의 경우 19:00시에 공개 되는것으로 알려져있다.\n",
    "#공개된 날의 21시의 viewcnt, ct, videoname 으로 구성된 데이터 프레임을 viewcnt를 내림차순으로 정렬하여 출력하라\n",
    "_set = video.groupby(\"videoname\").min()['ct']\n",
    "_set.dt.date"
   ]
  },
  {
   "cell_type": "code",
   "execution_count": null,
   "id": "33ef48da",
   "metadata": {},
   "outputs": [],
   "source": [
    "#8. video 정보의 가장 최근 데이터들에서 각 에피소드의 싫어요/좋아요 비율을 ratio 컬럼으로 만들고 videoname, ratio로 구성된 데이터 프레임을 ratio를 오름차순으로 정렬하라"
   ]
  },
  {
   "cell_type": "code",
   "execution_count": null,
   "id": "7c60db8b",
   "metadata": {},
   "outputs": [],
   "source": [
    "#9. 2021-11-01 00:00:00 ~ 15:00:00까지 각 에피소드별 viewcnt의 증가량을 데이터 프레임으로 만드시오"
   ]
  },
  {
   "cell_type": "code",
   "execution_count": 209,
   "id": "72c24af9",
   "metadata": {},
   "outputs": [
    {
     "data": {
      "text/html": [
       "<div>\n",
       "<style scoped>\n",
       "    .dataframe tbody tr th:only-of-type {\n",
       "        vertical-align: middle;\n",
       "    }\n",
       "\n",
       "    .dataframe tbody tr th {\n",
       "        vertical-align: top;\n",
       "    }\n",
       "\n",
       "    .dataframe thead th {\n",
       "        text-align: right;\n",
       "    }\n",
       "</style>\n",
       "<table border=\"1\" class=\"dataframe\">\n",
       "  <thead>\n",
       "    <tr style=\"text-align: right;\">\n",
       "      <th></th>\n",
       "      <th>videopk</th>\n",
       "      <th>viewcnt</th>\n",
       "      <th>likecnt</th>\n",
       "      <th>dislikecnt</th>\n",
       "      <th>favoritecnt</th>\n",
       "      <th>cmcnt</th>\n",
       "      <th>ct</th>\n",
       "      <th>videoname</th>\n",
       "    </tr>\n",
       "  </thead>\n",
       "  <tbody>\n",
       "    <tr>\n",
       "      <th>722</th>\n",
       "      <td>c5JQp6xafqc</td>\n",
       "      <td>2228250</td>\n",
       "      <td>34559</td>\n",
       "      <td>849</td>\n",
       "      <td>0</td>\n",
       "      <td>7191</td>\n",
       "      <td>2021-10-13 09:41:37</td>\n",
       "      <td>공범 EP1</td>\n",
       "    </tr>\n",
       "    <tr>\n",
       "      <th>3927</th>\n",
       "      <td>23QQ1ru9YQg</td>\n",
       "      <td>1408005</td>\n",
       "      <td>20484</td>\n",
       "      <td>554</td>\n",
       "      <td>0</td>\n",
       "      <td>8567</td>\n",
       "      <td>2021-10-13 09:41:37</td>\n",
       "      <td>공범 EP2</td>\n",
       "    </tr>\n",
       "  </tbody>\n",
       "</table>\n",
       "</div>"
      ],
      "text/plain": [
       "          videopk  viewcnt  likecnt  dislikecnt  favoritecnt  cmcnt  \\\n",
       "722   c5JQp6xafqc  2228250    34559         849            0   7191   \n",
       "3927  23QQ1ru9YQg  1408005    20484         554            0   8567   \n",
       "\n",
       "                      ct videoname  \n",
       "722  2021-10-13 09:41:37    공범 EP1  \n",
       "3927 2021-10-13 09:41:37    공범 EP2  "
      ]
     },
     "execution_count": 209,
     "metadata": {},
     "output_type": "execute_result"
    }
   ],
   "source": [
    "#10. video 데이터 중에서 중복되는 데이터가 존재한다. 중복되는 각 데이터의 시간대와 videoname 을 구하여라\n",
    "video.iloc[list(set(video.index) - set(video.drop_duplicates().index))]"
   ]
  },
  {
   "cell_type": "code",
   "execution_count": 210,
   "id": "464178cb",
   "metadata": {},
   "outputs": [
    {
     "data": {
      "text/html": [
       "<div>\n",
       "<style scoped>\n",
       "    .dataframe tbody tr th:only-of-type {\n",
       "        vertical-align: middle;\n",
       "    }\n",
       "\n",
       "    .dataframe tbody tr th {\n",
       "        vertical-align: top;\n",
       "    }\n",
       "\n",
       "    .dataframe thead th {\n",
       "        text-align: right;\n",
       "    }\n",
       "</style>\n",
       "<table border=\"1\" class=\"dataframe\">\n",
       "  <thead>\n",
       "    <tr style=\"text-align: right;\">\n",
       "      <th></th>\n",
       "      <th>Player</th>\n",
       "      <th>Goals</th>\n",
       "      <th>Years</th>\n",
       "      <th>Country</th>\n",
       "    </tr>\n",
       "  </thead>\n",
       "  <tbody>\n",
       "    <tr>\n",
       "      <th>0</th>\n",
       "      <td>Miroslav Klose</td>\n",
       "      <td>16</td>\n",
       "      <td>2002-2006-2010-2014</td>\n",
       "      <td>Germany</td>\n",
       "    </tr>\n",
       "    <tr>\n",
       "      <th>1</th>\n",
       "      <td>Ronaldo</td>\n",
       "      <td>15</td>\n",
       "      <td>1998-2002-2006</td>\n",
       "      <td>Brazil</td>\n",
       "    </tr>\n",
       "    <tr>\n",
       "      <th>2</th>\n",
       "      <td>Gerd Muller</td>\n",
       "      <td>14</td>\n",
       "      <td>1970-1974</td>\n",
       "      <td>Germany</td>\n",
       "    </tr>\n",
       "    <tr>\n",
       "      <th>3</th>\n",
       "      <td>Just Fontaine</td>\n",
       "      <td>13</td>\n",
       "      <td>1958</td>\n",
       "      <td>France</td>\n",
       "    </tr>\n",
       "    <tr>\n",
       "      <th>4</th>\n",
       "      <td>Pele</td>\n",
       "      <td>12</td>\n",
       "      <td>1958-1962-1966-1970</td>\n",
       "      <td>Brazil</td>\n",
       "    </tr>\n",
       "  </tbody>\n",
       "</table>\n",
       "</div>"
      ],
      "text/plain": [
       "           Player  Goals                Years  Country\n",
       "0  Miroslav Klose     16  2002-2006-2010-2014  Germany\n",
       "1         Ronaldo     15       1998-2002-2006   Brazil\n",
       "2     Gerd Muller     14            1970-1974  Germany\n",
       "3   Just Fontaine     13                 1958   France\n",
       "4            Pele     12  1958-1962-1966-1970   Brazil"
      ]
     },
     "execution_count": 210,
     "metadata": {},
     "output_type": "execute_result"
    }
   ],
   "source": [
    "#월드컵 출전선수 골기록 데이터\n",
    "\n",
    "import pandas as pd\n",
    "\n",
    "df= pd.read_csv('https://raw.githubusercontent.com/Datamanim/datarepo/main/worldcup/worldcupgoals.csv')\n",
    "df.head()"
   ]
  },
  {
   "cell_type": "code",
   "execution_count": 222,
   "id": "c40ebe3d",
   "metadata": {},
   "outputs": [
    {
     "data": {
      "text/html": [
       "<div>\n",
       "<style scoped>\n",
       "    .dataframe tbody tr th:only-of-type {\n",
       "        vertical-align: middle;\n",
       "    }\n",
       "\n",
       "    .dataframe tbody tr th {\n",
       "        vertical-align: top;\n",
       "    }\n",
       "\n",
       "    .dataframe thead th {\n",
       "        text-align: right;\n",
       "    }\n",
       "</style>\n",
       "<table border=\"1\" class=\"dataframe\">\n",
       "  <thead>\n",
       "    <tr style=\"text-align: right;\">\n",
       "      <th></th>\n",
       "      <th>Goals</th>\n",
       "    </tr>\n",
       "    <tr>\n",
       "      <th>Country</th>\n",
       "      <th></th>\n",
       "    </tr>\n",
       "  </thead>\n",
       "  <tbody>\n",
       "    <tr>\n",
       "      <th>Brazil</th>\n",
       "      <td>228</td>\n",
       "    </tr>\n",
       "    <tr>\n",
       "      <th>Germany</th>\n",
       "      <td>226</td>\n",
       "    </tr>\n",
       "    <tr>\n",
       "      <th>Argentina</th>\n",
       "      <td>135</td>\n",
       "    </tr>\n",
       "    <tr>\n",
       "      <th>Italy</th>\n",
       "      <td>123</td>\n",
       "    </tr>\n",
       "    <tr>\n",
       "      <th>France</th>\n",
       "      <td>115</td>\n",
       "    </tr>\n",
       "  </tbody>\n",
       "</table>\n",
       "</div>"
      ],
      "text/plain": [
       "           Goals\n",
       "Country         \n",
       "Brazil       228\n",
       "Germany      226\n",
       "Argentina    135\n",
       "Italy        123\n",
       "France       115"
      ]
     },
     "execution_count": 222,
     "metadata": {},
     "output_type": "execute_result"
    }
   ],
   "source": [
    "#1. 주어진 전체 기간의 각 나라별 골득점수 상위 5개 국가와 그 득점수를 데이터프레임형태로 출력하라\n",
    "df.groupby(\"Country\").sum().sort_values(\"Goals\",ascending = False).head(5)"
   ]
  },
  {
   "cell_type": "code",
   "execution_count": 231,
   "id": "b038fe50",
   "metadata": {},
   "outputs": [
    {
     "data": {
      "text/html": [
       "<div>\n",
       "<style scoped>\n",
       "    .dataframe tbody tr th:only-of-type {\n",
       "        vertical-align: middle;\n",
       "    }\n",
       "\n",
       "    .dataframe tbody tr th {\n",
       "        vertical-align: top;\n",
       "    }\n",
       "\n",
       "    .dataframe thead th {\n",
       "        text-align: right;\n",
       "    }\n",
       "</style>\n",
       "<table border=\"1\" class=\"dataframe\">\n",
       "  <thead>\n",
       "    <tr style=\"text-align: right;\">\n",
       "      <th></th>\n",
       "      <th>num_of_player</th>\n",
       "    </tr>\n",
       "    <tr>\n",
       "      <th>Country</th>\n",
       "      <th></th>\n",
       "    </tr>\n",
       "  </thead>\n",
       "  <tbody>\n",
       "    <tr>\n",
       "      <th>Brazil</th>\n",
       "      <td>81</td>\n",
       "    </tr>\n",
       "    <tr>\n",
       "      <th>Germany</th>\n",
       "      <td>78</td>\n",
       "    </tr>\n",
       "    <tr>\n",
       "      <th>Italy</th>\n",
       "      <td>60</td>\n",
       "    </tr>\n",
       "    <tr>\n",
       "      <th>Argentina</th>\n",
       "      <td>59</td>\n",
       "    </tr>\n",
       "    <tr>\n",
       "      <th>France</th>\n",
       "      <td>58</td>\n",
       "    </tr>\n",
       "  </tbody>\n",
       "</table>\n",
       "</div>"
      ],
      "text/plain": [
       "           num_of_player\n",
       "Country                 \n",
       "Brazil                81\n",
       "Germany               78\n",
       "Italy                 60\n",
       "Argentina             59\n",
       "France                58"
      ]
     },
     "execution_count": 231,
     "metadata": {},
     "output_type": "execute_result"
    }
   ],
   "source": [
    "#2. 주어진 전체기간동안 골득점을 한 선수가 가장 많은 나라 상위 5개 국가와 그 선수 숫자를 데이터 프레임 형식으로 출력하라\n",
    "result = pd.DataFrame(df.groupby(\"Country\").size().sort_values(ascending=False).head(5))\n",
    "result.rename(columns = {0 : \"num_of_player\"})"
   ]
  },
  {
   "cell_type": "code",
   "execution_count": 258,
   "id": "6a5e4561",
   "metadata": {},
   "outputs": [
    {
     "data": {
      "text/plain": [
       "45"
      ]
     },
     "execution_count": 258,
     "metadata": {},
     "output_type": "execute_result"
    }
   ],
   "source": [
    "#3. Years 컬럼은 년도 -년도 형식으로 구성되어있고, 각 년도는 4자리 숫자이다. \n",
    "#년도 표기가 4자리 숫자로 안된 케이스가 존재한다. 해당 건은 몇건인지 출력하라\n",
    "target_index = (df['Years'].str.replace(\"-\",\"\").str.len()%4) != 0\n",
    "len(df.loc[target_index])"
   ]
  },
  {
   "cell_type": "code",
   "execution_count": 260,
   "id": "476aa9b4",
   "metadata": {},
   "outputs": [
    {
     "data": {
      "text/plain": [
       "1250"
      ]
     },
     "execution_count": 260,
     "metadata": {},
     "output_type": "execute_result"
    }
   ],
   "source": [
    "#4. **Q3에서 발생한 예외 케이스를 제외한 데이터프레임을 df2라고 정의하고 \n",
    "#데이터의 행의 숫자를 출력하라 (아래 문제부터는 df2로 풀이하겠습니다) **\n",
    "df2 = df[~target_index]\n",
    "len(df2)"
   ]
  },
  {
   "cell_type": "code",
   "execution_count": 275,
   "id": "59229bee",
   "metadata": {},
   "outputs": [
    {
     "name": "stderr",
     "output_type": "stream",
     "text": [
      "/Users/hyunwoo/opt/anaconda3/lib/python3.7/site-packages/ipykernel_launcher.py:2: SettingWithCopyWarning: \n",
      "A value is trying to be set on a copy of a slice from a DataFrame.\n",
      "Try using .loc[row_indexer,col_indexer] = value instead\n",
      "\n",
      "See the caveats in the documentation: https://pandas.pydata.org/pandas-docs/stable/user_guide/indexing.html#returning-a-view-versus-a-copy\n",
      "  \n"
     ]
    },
    {
     "ename": "AttributeError",
     "evalue": "'Series' object has no attribute 'length'",
     "output_type": "error",
     "traceback": [
      "\u001b[0;31m---------------------------------------------------------------------------\u001b[0m",
      "\u001b[0;31mAttributeError\u001b[0m                            Traceback (most recent call last)",
      "\u001b[0;32m/var/folders/n9/295dr2j16yn0kqnw6gt362t40000gn/T/ipykernel_94983/2797525531.py\u001b[0m in \u001b[0;36m<module>\u001b[0;34m\u001b[0m\n\u001b[1;32m      1\u001b[0m \u001b[0;31m#5. 월드컵 출전횟수를 나타내는 ‘LenCup’ 컬럼을 추가하고 4회 출전한 선수의 숫자를 구하여라\u001b[0m\u001b[0;34m\u001b[0m\u001b[0;34m\u001b[0m\u001b[0;34m\u001b[0m\u001b[0m\n\u001b[1;32m      2\u001b[0m \u001b[0mdf2\u001b[0m\u001b[0;34m[\u001b[0m\u001b[0;34m'year_list'\u001b[0m\u001b[0;34m]\u001b[0m \u001b[0;34m=\u001b[0m \u001b[0mdf2\u001b[0m\u001b[0;34m[\u001b[0m\u001b[0;34m'Years'\u001b[0m\u001b[0;34m]\u001b[0m\u001b[0;34m.\u001b[0m\u001b[0mstr\u001b[0m\u001b[0;34m.\u001b[0m\u001b[0msplit\u001b[0m\u001b[0;34m(\u001b[0m\u001b[0;34m\"-\"\u001b[0m\u001b[0;34m)\u001b[0m\u001b[0;34m\u001b[0m\u001b[0;34m\u001b[0m\u001b[0m\n\u001b[0;32m----> 3\u001b[0;31m \u001b[0mdf2\u001b[0m\u001b[0;34m[\u001b[0m\u001b[0;34m'year_list'\u001b[0m\u001b[0;34m]\u001b[0m\u001b[0;34m.\u001b[0m\u001b[0mlength\u001b[0m\u001b[0;34m(\u001b[0m\u001b[0;34m)\u001b[0m\u001b[0;34m\u001b[0m\u001b[0;34m\u001b[0m\u001b[0m\n\u001b[0m",
      "\u001b[0;32m~/opt/anaconda3/lib/python3.7/site-packages/pandas/core/generic.py\u001b[0m in \u001b[0;36m__getattr__\u001b[0;34m(self, name)\u001b[0m\n\u001b[1;32m   5485\u001b[0m         ):\n\u001b[1;32m   5486\u001b[0m             \u001b[0;32mreturn\u001b[0m \u001b[0mself\u001b[0m\u001b[0;34m[\u001b[0m\u001b[0mname\u001b[0m\u001b[0;34m]\u001b[0m\u001b[0;34m\u001b[0m\u001b[0;34m\u001b[0m\u001b[0m\n\u001b[0;32m-> 5487\u001b[0;31m         \u001b[0;32mreturn\u001b[0m \u001b[0mobject\u001b[0m\u001b[0;34m.\u001b[0m\u001b[0m__getattribute__\u001b[0m\u001b[0;34m(\u001b[0m\u001b[0mself\u001b[0m\u001b[0;34m,\u001b[0m \u001b[0mname\u001b[0m\u001b[0;34m)\u001b[0m\u001b[0;34m\u001b[0m\u001b[0;34m\u001b[0m\u001b[0m\n\u001b[0m\u001b[1;32m   5488\u001b[0m \u001b[0;34m\u001b[0m\u001b[0m\n\u001b[1;32m   5489\u001b[0m     \u001b[0;32mdef\u001b[0m \u001b[0m__setattr__\u001b[0m\u001b[0;34m(\u001b[0m\u001b[0mself\u001b[0m\u001b[0;34m,\u001b[0m \u001b[0mname\u001b[0m\u001b[0;34m:\u001b[0m \u001b[0mstr\u001b[0m\u001b[0;34m,\u001b[0m \u001b[0mvalue\u001b[0m\u001b[0;34m)\u001b[0m \u001b[0;34m->\u001b[0m \u001b[0;32mNone\u001b[0m\u001b[0;34m:\u001b[0m\u001b[0;34m\u001b[0m\u001b[0;34m\u001b[0m\u001b[0m\n",
      "\u001b[0;31mAttributeError\u001b[0m: 'Series' object has no attribute 'length'"
     ]
    }
   ],
   "source": [
    "#5. 월드컵 출전횟수를 나타내는 ‘LenCup’ 컬럼을 추가하고 4회 출전한 선수의 숫자를 구하여라\n",
    "df2['year_list'] = df2['Years'].str.split(\"-\")\n",
    "df2['year_list'].length()"
   ]
  },
  {
   "cell_type": "code",
   "execution_count": null,
   "id": "11a454a0",
   "metadata": {},
   "outputs": [],
   "source": [
    "#6. Yugoslavia 국가의 월드컵 출전횟수가 2회인 선수들의 숫자를 구하여라"
   ]
  },
  {
   "cell_type": "code",
   "execution_count": null,
   "id": "9df3cf7f",
   "metadata": {},
   "outputs": [],
   "source": [
    "#7. 2002년도에 출전한 전체 선수는 몇명인가?"
   ]
  },
  {
   "cell_type": "code",
   "execution_count": null,
   "id": "e51fdbeb",
   "metadata": {},
   "outputs": [],
   "source": [
    "#8. 이름에 ‘carlos’ 단어가 들어가는 선수의 숫자는 몇 명인가? (대, 소문자 구분 x)"
   ]
  },
  {
   "cell_type": "code",
   "execution_count": null,
   "id": "0c4ad6c4",
   "metadata": {},
   "outputs": [],
   "source": [
    "#9. 월드컵 출전 횟수가 1회뿐인 선수들 중에서 가장 많은 득점을 올렸던 선수는 누구인가?"
   ]
  },
  {
   "cell_type": "code",
   "execution_count": null,
   "id": "3847a3b7",
   "metadata": {},
   "outputs": [],
   "source": [
    "#10. 월드컵 출전횟수가 1회 뿐인 선수들이 가장 많은 국가는 어디인가?"
   ]
  },
  {
   "cell_type": "code",
   "execution_count": 3,
   "id": "1e894905",
   "metadata": {},
   "outputs": [
    {
     "data": {
      "text/html": [
       "<div>\n",
       "<style scoped>\n",
       "    .dataframe tbody tr th:only-of-type {\n",
       "        vertical-align: middle;\n",
       "    }\n",
       "\n",
       "    .dataframe tbody tr th {\n",
       "        vertical-align: top;\n",
       "    }\n",
       "\n",
       "    .dataframe thead th {\n",
       "        text-align: right;\n",
       "    }\n",
       "</style>\n",
       "<table border=\"1\" class=\"dataframe\">\n",
       "  <thead>\n",
       "    <tr style=\"text-align: right;\">\n",
       "      <th></th>\n",
       "      <th>대여일자</th>\n",
       "      <th>대여시간</th>\n",
       "      <th>대여소번호</th>\n",
       "      <th>대여구분코드</th>\n",
       "      <th>성별</th>\n",
       "      <th>연령대코드</th>\n",
       "      <th>이용건수</th>\n",
       "      <th>운동량</th>\n",
       "      <th>탄소량</th>\n",
       "      <th>이동거리</th>\n",
       "      <th>사용시간</th>\n",
       "    </tr>\n",
       "  </thead>\n",
       "  <tbody>\n",
       "    <tr>\n",
       "      <th>0</th>\n",
       "      <td>2021-06-01</td>\n",
       "      <td>0</td>\n",
       "      <td>3541</td>\n",
       "      <td>정기권</td>\n",
       "      <td>F</td>\n",
       "      <td>~10대</td>\n",
       "      <td>1</td>\n",
       "      <td>0.00</td>\n",
       "      <td>0.00</td>\n",
       "      <td>0.00</td>\n",
       "      <td>8</td>\n",
       "    </tr>\n",
       "    <tr>\n",
       "      <th>1</th>\n",
       "      <td>2021-06-01</td>\n",
       "      <td>0</td>\n",
       "      <td>765</td>\n",
       "      <td>정기권</td>\n",
       "      <td>F</td>\n",
       "      <td>~10대</td>\n",
       "      <td>1</td>\n",
       "      <td>27.21</td>\n",
       "      <td>0.35</td>\n",
       "      <td>1526.81</td>\n",
       "      <td>19</td>\n",
       "    </tr>\n",
       "    <tr>\n",
       "      <th>2</th>\n",
       "      <td>2021-06-01</td>\n",
       "      <td>0</td>\n",
       "      <td>2637</td>\n",
       "      <td>정기권</td>\n",
       "      <td>F</td>\n",
       "      <td>~10대</td>\n",
       "      <td>1</td>\n",
       "      <td>41.40</td>\n",
       "      <td>0.37</td>\n",
       "      <td>1608.56</td>\n",
       "      <td>18</td>\n",
       "    </tr>\n",
       "    <tr>\n",
       "      <th>3</th>\n",
       "      <td>2021-06-01</td>\n",
       "      <td>0</td>\n",
       "      <td>2919</td>\n",
       "      <td>정기권</td>\n",
       "      <td>F</td>\n",
       "      <td>~10대</td>\n",
       "      <td>1</td>\n",
       "      <td>0.00</td>\n",
       "      <td>0.00</td>\n",
       "      <td>0.00</td>\n",
       "      <td>75</td>\n",
       "    </tr>\n",
       "    <tr>\n",
       "      <th>4</th>\n",
       "      <td>2021-06-01</td>\n",
       "      <td>0</td>\n",
       "      <td>549</td>\n",
       "      <td>정기권</td>\n",
       "      <td>F</td>\n",
       "      <td>~10대</td>\n",
       "      <td>1</td>\n",
       "      <td>13.04</td>\n",
       "      <td>0.17</td>\n",
       "      <td>731.55</td>\n",
       "      <td>6</td>\n",
       "    </tr>\n",
       "  </tbody>\n",
       "</table>\n",
       "</div>"
      ],
      "text/plain": [
       "         대여일자  대여시간  대여소번호 대여구분코드 성별 연령대코드  이용건수    운동량   탄소량     이동거리  사용시간\n",
       "0  2021-06-01     0   3541    정기권  F  ~10대     1   0.00  0.00     0.00     8\n",
       "1  2021-06-01     0    765    정기권  F  ~10대     1  27.21  0.35  1526.81    19\n",
       "2  2021-06-01     0   2637    정기권  F  ~10대     1  41.40  0.37  1608.56    18\n",
       "3  2021-06-01     0   2919    정기권  F  ~10대     1   0.00  0.00     0.00    75\n",
       "4  2021-06-01     0    549    정기권  F  ~10대     1  13.04  0.17   731.55     6"
      ]
     },
     "execution_count": 3,
     "metadata": {},
     "output_type": "execute_result"
    }
   ],
   "source": [
    "#서울시 따릉이 이용정보 데이터\n",
    "import pandas as pd\n",
    "df =pd.read_csv('https://raw.githubusercontent.com/Datamanim/datarepo/main/bicycle/seoul_bi.csv')\n",
    "df.head()"
   ]
  },
  {
   "cell_type": "code",
   "execution_count": null,
   "id": "5e13c0d8",
   "metadata": {},
   "outputs": [],
   "source": [
    "#1. 대여일자별 데이터의 수를 데이터프레임으로 출력하고, 가장 많은 데이터가 있는 날짜를 출력하라\n"
   ]
  },
  {
   "cell_type": "code",
   "execution_count": null,
   "id": "68433595",
   "metadata": {},
   "outputs": [],
   "source": [
    "#2. 각 일자의 요일을 표기하고 (‘Monday’ ~’Sunday’) ‘day_name’컬럼을 추가하고 이를 이용하여 각 요일별 이용 횟수의 총합을 데이터 프레임으로 출력하라"
   ]
  },
  {
   "cell_type": "code",
   "execution_count": null,
   "id": "80e5d197",
   "metadata": {},
   "outputs": [],
   "source": [
    "#3. 각 요일별 가장 많이 이용한 대여소의 이용횟수와 대여소 번호를 데이터 프레임으로 출력하라"
   ]
  },
  {
   "cell_type": "code",
   "execution_count": null,
   "id": "516c4f24",
   "metadata": {},
   "outputs": [],
   "source": [
    "#4. 나이대별 대여구분 코드의 (일일권/전체횟수) 비율을 구한 후 가장 높은 비율을 가지는 나이대를 확인하라. 일일권의 경우 일일권 과 일일권(비회원)을 모두 포함하라"
   ]
  },
  {
   "cell_type": "code",
   "execution_count": null,
   "id": "0d2dd6ce",
   "metadata": {},
   "outputs": [],
   "source": [
    "#5. 연령대별 평균 이동거리를 구하여라"
   ]
  },
  {
   "cell_type": "code",
   "execution_count": null,
   "id": "f89061b0",
   "metadata": {},
   "outputs": [],
   "source": [
    "#6. 연령대 코드가 20대인 데이터를 추출하고,이동거리값이 추출한 데이터의 이동거리값의 평균 이상인 데이터를 추출한다.최종 추출된 데이터를 대여일자, 대여소 번호 순서로 내림차순 정렬 후 1행부터 200행까지의 탄소량의 평균을 소숫점 3째 자리까지 구하여라"
   ]
  },
  {
   "cell_type": "code",
   "execution_count": null,
   "id": "658fb0f1",
   "metadata": {},
   "outputs": [],
   "source": [
    "#7. 6월 7일 ~10대의 “이용건수”의 중앙값은?"
   ]
  },
  {
   "cell_type": "code",
   "execution_count": null,
   "id": "ee3c6767",
   "metadata": {},
   "outputs": [],
   "source": [
    "#8. 평일 (월~금) 출근 시간대(오전 6,7,8시)의 대여소별 이용 횟수를 구해서 데이터 프레임 형태로 표현한 후 각 대여시간별 이용 횟수의 상위 3개 대여소와 이용횟수를 출력하라"
   ]
  },
  {
   "cell_type": "code",
   "execution_count": null,
   "id": "7f38e1af",
   "metadata": {},
   "outputs": [],
   "source": [
    "#9. 이동거리의 평균 이상의 이동거리 값을 가지는 데이터를 추출하여 추출데이터의 이동거리의 표본표준편차 값을 구하여라\n"
   ]
  },
  {
   "cell_type": "code",
   "execution_count": null,
   "id": "9509babf",
   "metadata": {},
   "outputs": [],
   "source": [
    "#10. 남성(‘M’ or ‘m’)과 여성(‘F’ or ‘f’)의 이동거리값의 평균값을 구하여라"
   ]
  },
  {
   "cell_type": "code",
   "execution_count": null,
   "id": "c9d74ea9",
   "metadata": {},
   "outputs": [],
   "source": [
    "#전세계 행복도 지표 데이터\n",
    "import pandas as pd\n",
    "df =pd.read_csv('https://raw.githubusercontent.com/Datamanim/datarepo/main/happy2/happiness.csv',encoding='utf-8')\n",
    "df.head()"
   ]
  },
  {
   "cell_type": "code",
   "execution_count": null,
   "id": "0836bf81",
   "metadata": {},
   "outputs": [],
   "source": [
    "#1.데이터는 2018년도와 2019년도의 전세계 행복 지수를 표현한다. 각년도의 행복랭킹 10위를 차지한 나라의 행복점수의 평균을 구하여라"
   ]
  },
  {
   "cell_type": "code",
   "execution_count": null,
   "id": "6f0a7b0b",
   "metadata": {},
   "outputs": [],
   "source": [
    "#2. 데이터는 2018년도와 2019년도의 전세계 행복 지수를 표현한다. 각년도의 행복랭킹 50위이내의 나라들의 각각의 행복점수 평균을 데이터프레임으로 표시하라"
   ]
  },
  {
   "cell_type": "code",
   "execution_count": null,
   "id": "bf14a4db",
   "metadata": {},
   "outputs": [],
   "source": [
    "#3. 2018년도 데이터들만 추출하여 행복점수와 부패에 대한 인식에 대한 상관계수를 구하여라"
   ]
  },
  {
   "cell_type": "code",
   "execution_count": null,
   "id": "53e54722",
   "metadata": {},
   "outputs": [],
   "source": [
    "#4. 2018년도와 2019년도의 행복랭킹이 변화하지 않은 나라명의 수를 구하여라"
   ]
  },
  {
   "cell_type": "code",
   "execution_count": null,
   "id": "0d330712",
   "metadata": {},
   "outputs": [],
   "source": [
    "#5. 2019년도 데이터들만 추출하여 각변수간 상관계수를 구하고 내림차순으로 정렬한 후 상위 5개를 데이터 프레임으로 출력하라. 컬럼명은 v1,v2,corr으로 표시하라"
   ]
  },
  {
   "cell_type": "code",
   "execution_count": null,
   "id": "527d37b7",
   "metadata": {},
   "outputs": [],
   "source": [
    "#6. 각 년도별 하위 행복점수의 하위 5개 국가의 평균 행복점수를 구하여라"
   ]
  },
  {
   "cell_type": "code",
   "execution_count": null,
   "id": "5908a570",
   "metadata": {},
   "outputs": [],
   "source": [
    "#7. 2019년 데이터를 추출하고 해당데이터의 상대 GDP 평균 이상의 나라들과 평균 이하의 나라들의 행복점수 평균을 각각 구하고 그 차이값을 출력하라"
   ]
  },
  {
   "cell_type": "code",
   "execution_count": null,
   "id": "7f783c1b",
   "metadata": {},
   "outputs": [],
   "source": [
    "#8. 각년도의 부패에 대한인식을 내림차순 정렬했을때 상위 20개 국가의 부패에 대한인식의 평균을 구하여라"
   ]
  },
  {
   "cell_type": "code",
   "execution_count": null,
   "id": "97c4c27f",
   "metadata": {},
   "outputs": [],
   "source": [
    "#9. 2018년도 행복랭킹 50위 이내에 포함됐다가 2019년 50위 밖으로 밀려난 국가의 숫자를 구하여라"
   ]
  },
  {
   "cell_type": "code",
   "execution_count": null,
   "id": "65b9f134",
   "metadata": {},
   "outputs": [],
   "source": [
    "#10. 2018년,2019년 모두 기록이 있는 나라들 중 년도별 행복점수가 가장 증가한 나라와 그 증가 수치는?"
   ]
  },
  {
   "cell_type": "code",
   "execution_count": null,
   "id": "f89fb18b",
   "metadata": {},
   "outputs": [],
   "source": []
  },
  {
   "cell_type": "code",
   "execution_count": null,
   "id": "a53e6a50",
   "metadata": {},
   "outputs": [],
   "source": []
  }
 ],
 "metadata": {
  "kernelspec": {
   "display_name": "Python 3 (ipykernel)",
   "language": "python",
   "name": "python3"
  },
  "language_info": {
   "codemirror_mode": {
    "name": "ipython",
    "version": 3
   },
   "file_extension": ".py",
   "mimetype": "text/x-python",
   "name": "python",
   "nbconvert_exporter": "python",
   "pygments_lexer": "ipython3",
   "version": "3.7.11"
  }
 },
 "nbformat": 4,
 "nbformat_minor": 5
}
