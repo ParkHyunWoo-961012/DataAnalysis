{
 "cells": [
  {
   "cell_type": "code",
   "execution_count": 1,
   "id": "69d36757",
   "metadata": {},
   "outputs": [],
   "source": [
    "# 문제 출처 https://www.datamanim.com/dataset/03_dataq/pandas_practice.html\n",
    "import pandas as pd\n",
    "#유튜브 데일리 인기 동영상\n",
    "df = pd.read_csv(\"https://raw.githubusercontent.com/Datamanim/datarepo/main/youtube/youtube.csv\",index_col=0)"
   ]
  },
  {
   "cell_type": "code",
   "execution_count": 13,
   "id": "3bbe9a01",
   "metadata": {},
   "outputs": [
    {
     "data": {
      "text/plain": [
       "짤툰                       372\n",
       "파뿌리                      318\n",
       "SPOTV                    318\n",
       "런닝맨 - 스브스 공식 채널          313\n",
       "엠뚜루마뚜루 : MBC 공식 종합 채널    293\n",
       "장삐쭈                      283\n",
       "BANGTANTV                275\n",
       "채널 십오야                   274\n",
       "이과장                      258\n",
       "총몇명                      255\n",
       "Name: channelTitle, dtype: int64"
      ]
     },
     "execution_count": 13,
     "metadata": {},
     "output_type": "execute_result"
    }
   ],
   "source": [
    "#1. 인기 동영상 제작횟수 많은 상위 10개 채널\n",
    "df['channelTitle'].value_counts().sort_values(ascending=False)[:10]"
   ]
  },
  {
   "cell_type": "code",
   "execution_count": 20,
   "id": "3717f1ef",
   "metadata": {},
   "outputs": [
    {
     "name": "stdout",
     "output_type": "stream",
     "text": [
      "['핫도그TV', 'ASMR 애정TV', '하얀트리HayanTree', '양팡 YangPang', '철구형 (CHULTUBE)', '왜냐맨하우스', '(MUTUBE)와꾸대장봉준', '오메킴TV', '육지담', 'MapleStory_KR', 'ROAD FIGHTING CHAMPIONSHIP', '사나이 김기훈', '나혼자산다 STUDIO', 'Gen.G esports']\n"
     ]
    }
   ],
   "source": [
    "#2. 논란으로 인기동영상 된거 찾기위해 dislike>like인 채널 출력\n",
    "print(list(df.loc[df['likes']<df['dislikes']]['channelTitle'].unique()))"
   ]
  },
  {
   "cell_type": "code",
   "execution_count": 84,
   "id": "711d9eb8",
   "metadata": {},
   "outputs": [
    {
     "data": {
      "text/plain": [
       "UCszFjh7CEfwDb7UUGb4RzCQ    372\n",
       "UClzB2iZ5jPoTNz0S-QU6Wiw    318\n",
       "UCtm_QoN2SIxwCE-59shX7Qg    318\n",
       "UCaKod3X1Tn4c7Ci0iUKcvzQ    313\n",
       "UCiwQRG2sCcfjKkgxMEdJGPg    293\n",
       "                           ... \n",
       "UCj00eA-Q0lokXCA6JAa_grw      1\n",
       "UCdtY7-_h-KgBTXHJfTk8wwQ      1\n",
       "UCESC_GRUe4Z7-OOxk_AWm5Q      1\n",
       "UCGuE0TrBNIZKfordUwAQe2w      1\n",
       "UCNh_yWrspnQbZDZijQFyjbw      1\n",
       "Name: channelId, Length: 1770, dtype: int64"
      ]
     },
     "execution_count": 84,
     "metadata": {},
     "output_type": "execute_result"
    }
   ],
   "source": [
    "#3. 채널 명을 바꾼 케이스 있는지 확인해봐\n",
    "df['channelId'].value_counts()"
   ]
  },
  {
   "cell_type": "code",
   "execution_count": 98,
   "id": "780ae4d9",
   "metadata": {},
   "outputs": [
    {
     "data": {
      "text/plain": [
       "24    3096\n",
       "Name: categoryId, dtype: int64"
      ]
     },
     "execution_count": 98,
     "metadata": {},
     "output_type": "execute_result"
    }
   ],
   "source": [
    "#4. 일요일 가장 많이 본 카테고리\n",
    "df['trending_date2'] = pd.to_datetime(df['trending_date2'])\n",
    "df.loc[df['trending_date2'].dt.day_name() == \"Sunday\"]['categoryId'].value_counts().head(1)"
   ]
  },
  {
   "cell_type": "code",
   "execution_count": 119,
   "id": "b5c1b6fa",
   "metadata": {},
   "outputs": [
    {
     "data": {
      "text/html": [
       "<div>\n",
       "<style scoped>\n",
       "    .dataframe tbody tr th:only-of-type {\n",
       "        vertical-align: middle;\n",
       "    }\n",
       "\n",
       "    .dataframe tbody tr th {\n",
       "        vertical-align: top;\n",
       "    }\n",
       "\n",
       "    .dataframe thead tr th {\n",
       "        text-align: left;\n",
       "    }\n",
       "\n",
       "    .dataframe thead tr:last-of-type th {\n",
       "        text-align: right;\n",
       "    }\n",
       "</style>\n",
       "<table border=\"1\" class=\"dataframe\">\n",
       "  <thead>\n",
       "    <tr>\n",
       "      <th></th>\n",
       "      <th colspan=\"7\" halign=\"left\">size</th>\n",
       "    </tr>\n",
       "    <tr>\n",
       "      <th>요일</th>\n",
       "      <th>Friday</th>\n",
       "      <th>Monday</th>\n",
       "      <th>Saturday</th>\n",
       "      <th>Sunday</th>\n",
       "      <th>Thursday</th>\n",
       "      <th>Tuesday</th>\n",
       "      <th>Wednesday</th>\n",
       "    </tr>\n",
       "    <tr>\n",
       "      <th>categoryId</th>\n",
       "      <th></th>\n",
       "      <th></th>\n",
       "      <th></th>\n",
       "      <th></th>\n",
       "      <th></th>\n",
       "      <th></th>\n",
       "      <th></th>\n",
       "    </tr>\n",
       "  </thead>\n",
       "  <tbody>\n",
       "    <tr>\n",
       "      <th>1</th>\n",
       "      <td>243</td>\n",
       "      <td>263</td>\n",
       "      <td>255</td>\n",
       "      <td>274</td>\n",
       "      <td>246</td>\n",
       "      <td>257</td>\n",
       "      <td>234</td>\n",
       "    </tr>\n",
       "    <tr>\n",
       "      <th>2</th>\n",
       "      <td>120</td>\n",
       "      <td>105</td>\n",
       "      <td>119</td>\n",
       "      <td>99</td>\n",
       "      <td>128</td>\n",
       "      <td>119</td>\n",
       "      <td>129</td>\n",
       "    </tr>\n",
       "    <tr>\n",
       "      <th>10</th>\n",
       "      <td>833</td>\n",
       "      <td>837</td>\n",
       "      <td>776</td>\n",
       "      <td>830</td>\n",
       "      <td>890</td>\n",
       "      <td>894</td>\n",
       "      <td>917</td>\n",
       "    </tr>\n",
       "    <tr>\n",
       "      <th>15</th>\n",
       "      <td>187</td>\n",
       "      <td>215</td>\n",
       "      <td>198</td>\n",
       "      <td>217</td>\n",
       "      <td>207</td>\n",
       "      <td>208</td>\n",
       "      <td>207</td>\n",
       "    </tr>\n",
       "    <tr>\n",
       "      <th>17</th>\n",
       "      <td>633</td>\n",
       "      <td>668</td>\n",
       "      <td>592</td>\n",
       "      <td>636</td>\n",
       "      <td>682</td>\n",
       "      <td>708</td>\n",
       "      <td>706</td>\n",
       "    </tr>\n",
       "    <tr>\n",
       "      <th>19</th>\n",
       "      <td>90</td>\n",
       "      <td>92</td>\n",
       "      <td>87</td>\n",
       "      <td>91</td>\n",
       "      <td>92</td>\n",
       "      <td>89</td>\n",
       "      <td>85</td>\n",
       "    </tr>\n",
       "    <tr>\n",
       "      <th>20</th>\n",
       "      <td>283</td>\n",
       "      <td>298</td>\n",
       "      <td>296</td>\n",
       "      <td>289</td>\n",
       "      <td>282</td>\n",
       "      <td>285</td>\n",
       "      <td>291</td>\n",
       "    </tr>\n",
       "    <tr>\n",
       "      <th>22</th>\n",
       "      <td>1288</td>\n",
       "      <td>1373</td>\n",
       "      <td>1289</td>\n",
       "      <td>1337</td>\n",
       "      <td>1341</td>\n",
       "      <td>1375</td>\n",
       "      <td>1333</td>\n",
       "    </tr>\n",
       "    <tr>\n",
       "      <th>23</th>\n",
       "      <td>568</td>\n",
       "      <td>594</td>\n",
       "      <td>570</td>\n",
       "      <td>556</td>\n",
       "      <td>560</td>\n",
       "      <td>569</td>\n",
       "      <td>566</td>\n",
       "    </tr>\n",
       "    <tr>\n",
       "      <th>24</th>\n",
       "      <td>2976</td>\n",
       "      <td>3148</td>\n",
       "      <td>3066</td>\n",
       "      <td>3096</td>\n",
       "      <td>2954</td>\n",
       "      <td>3084</td>\n",
       "      <td>3090</td>\n",
       "    </tr>\n",
       "    <tr>\n",
       "      <th>25</th>\n",
       "      <td>444</td>\n",
       "      <td>453</td>\n",
       "      <td>422</td>\n",
       "      <td>437</td>\n",
       "      <td>470</td>\n",
       "      <td>452</td>\n",
       "      <td>468</td>\n",
       "    </tr>\n",
       "    <tr>\n",
       "      <th>26</th>\n",
       "      <td>369</td>\n",
       "      <td>378</td>\n",
       "      <td>364</td>\n",
       "      <td>363</td>\n",
       "      <td>375</td>\n",
       "      <td>394</td>\n",
       "      <td>385</td>\n",
       "    </tr>\n",
       "    <tr>\n",
       "      <th>27</th>\n",
       "      <td>183</td>\n",
       "      <td>205</td>\n",
       "      <td>183</td>\n",
       "      <td>199</td>\n",
       "      <td>194</td>\n",
       "      <td>194</td>\n",
       "      <td>212</td>\n",
       "    </tr>\n",
       "    <tr>\n",
       "      <th>28</th>\n",
       "      <td>171</td>\n",
       "      <td>160</td>\n",
       "      <td>173</td>\n",
       "      <td>167</td>\n",
       "      <td>166</td>\n",
       "      <td>161</td>\n",
       "      <td>165</td>\n",
       "    </tr>\n",
       "    <tr>\n",
       "      <th>29</th>\n",
       "      <td>12</td>\n",
       "      <td>10</td>\n",
       "      <td>10</td>\n",
       "      <td>9</td>\n",
       "      <td>13</td>\n",
       "      <td>11</td>\n",
       "      <td>12</td>\n",
       "    </tr>\n",
       "  </tbody>\n",
       "</table>\n",
       "</div>"
      ],
      "text/plain": [
       "             size                                                  \n",
       "요일         Friday Monday Saturday Sunday Thursday Tuesday Wednesday\n",
       "categoryId                                                         \n",
       "1             243    263      255    274      246     257       234\n",
       "2             120    105      119     99      128     119       129\n",
       "10            833    837      776    830      890     894       917\n",
       "15            187    215      198    217      207     208       207\n",
       "17            633    668      592    636      682     708       706\n",
       "19             90     92       87     91       92      89        85\n",
       "20            283    298      296    289      282     285       291\n",
       "22           1288   1373     1289   1337     1341    1375      1333\n",
       "23            568    594      570    556      560     569       566\n",
       "24           2976   3148     3066   3096     2954    3084      3090\n",
       "25            444    453      422    437      470     452       468\n",
       "26            369    378      364    363      375     394       385\n",
       "27            183    205      183    199      194     194       212\n",
       "28            171    160      173    167      166     161       165\n",
       "29             12     10       10      9       13      11        12"
      ]
     },
     "execution_count": 119,
     "metadata": {},
     "output_type": "execute_result"
    }
   ],
   "source": [
    "#5.각 요일별 인기 영상들의 categoryId는 각각 몇개 씩인지 하나의 데이터 프레임으로 표현하라\n",
    "#df['요일'] = df['trending_date2'].dt.day_name()\n",
    "df.groupby([\"categoryId\",\"요일\"],as_index =False).size().pivot(index='categoryId',columns=\"요일\")"
   ]
  },
  {
   "cell_type": "code",
   "execution_count": 133,
   "id": "9f190edd",
   "metadata": {},
   "outputs": [
    {
     "name": "stderr",
     "output_type": "stream",
     "text": [
      "/Users/hyunwoo/opt/anaconda3/lib/python3.7/site-packages/ipykernel_launcher.py:5: SettingWithCopyWarning: \n",
      "A value is trying to be set on a copy of a slice from a DataFrame.\n",
      "Try using .loc[row_indexer,col_indexer] = value instead\n",
      "\n",
      "See the caveats in the documentation: https://pandas.pydata.org/pandas-docs/stable/user_guide/indexing.html#returning-a-view-versus-a-copy\n",
      "  \"\"\"\n"
     ]
    },
    {
     "data": {
      "text/html": [
       "<div>\n",
       "<style scoped>\n",
       "    .dataframe tbody tr th:only-of-type {\n",
       "        vertical-align: middle;\n",
       "    }\n",
       "\n",
       "    .dataframe tbody tr th {\n",
       "        vertical-align: top;\n",
       "    }\n",
       "\n",
       "    .dataframe thead th {\n",
       "        text-align: right;\n",
       "    }\n",
       "</style>\n",
       "<table border=\"1\" class=\"dataframe\">\n",
       "  <thead>\n",
       "    <tr style=\"text-align: right;\">\n",
       "      <th></th>\n",
       "      <th>title</th>\n",
       "      <th>channelTitle</th>\n",
       "      <th>categoryId</th>\n",
       "      <th>view_count</th>\n",
       "      <th>likes</th>\n",
       "      <th>dislikes</th>\n",
       "      <th>comment_count</th>\n",
       "      <th>channelId</th>\n",
       "      <th>trending_date2</th>\n",
       "      <th>요일</th>\n",
       "      <th>rank</th>\n",
       "    </tr>\n",
       "  </thead>\n",
       "  <tbody>\n",
       "    <tr>\n",
       "      <th>50830</th>\n",
       "      <td>60분 동안 댓글이 달리지 않으면, 영상이 삭제됩니다. (챌린지)</td>\n",
       "      <td>팩토리</td>\n",
       "      <td>24</td>\n",
       "      <td>1214527</td>\n",
       "      <td>38246</td>\n",
       "      <td>528</td>\n",
       "      <td>196166</td>\n",
       "      <td>UCs8R3nVeg0E100H6C8qozgw</td>\n",
       "      <td>2021-09-02</td>\n",
       "      <td>Thursday</td>\n",
       "      <td>0.161516</td>\n",
       "    </tr>\n",
       "  </tbody>\n",
       "</table>\n",
       "</div>"
      ],
      "text/plain": [
       "                                      title channelTitle  categoryId  \\\n",
       "50830  60분 동안 댓글이 달리지 않으면, 영상이 삭제됩니다. (챌린지)          팩토리          24   \n",
       "\n",
       "       view_count  likes  dislikes  comment_count                 channelId  \\\n",
       "50830     1214527  38246       528         196166  UCs8R3nVeg0E100H6C8qozgw   \n",
       "\n",
       "      trending_date2        요일      rank  \n",
       "50830     2021-09-02  Thursday  0.161516  "
      ]
     },
     "execution_count": 133,
     "metadata": {},
     "output_type": "execute_result"
    }
   ],
   "source": [
    "#6 댓글의 수로 (comment_count) 영상 반응에 대한 판단을 할 수 있다. \n",
    "# viewcount대비 댓글수가 가장 높은 영상을 확인하라 (view_count값이 0인 경우는 제외한다)\n",
    "\n",
    "new_df = df[df.view_count !=0]\n",
    "new_df['rank'] = new_df['comment_count']/new_df['view_count']\n",
    "new_df[new_df['rank'] == new_df['rank'].max()]"
   ]
  },
  {
   "cell_type": "code",
   "execution_count": 139,
   "id": "2262d0fd",
   "metadata": {},
   "outputs": [
    {
     "data": {
      "text/plain": [
       "46005    Join the BTS #PermissiontoDance Challenge only...\n",
       "Name: title, dtype: object"
      ]
     },
     "execution_count": 139,
     "metadata": {},
     "output_type": "execute_result"
    }
   ],
   "source": [
    "#7. viewcount대비 comment_count낮은 영상 찾아라\n",
    "new_df[new_df['rank'] == new_df[new_df['rank']!=0]['rank'].min()]['title']"
   ]
  },
  {
   "cell_type": "code",
   "execution_count": 146,
   "id": "28f3db3b",
   "metadata": {},
   "outputs": [
    {
     "name": "stderr",
     "output_type": "stream",
     "text": [
      "/Users/hyunwoo/opt/anaconda3/lib/python3.7/site-packages/ipykernel_launcher.py:2: SettingWithCopyWarning: \n",
      "A value is trying to be set on a copy of a slice from a DataFrame.\n",
      "Try using .loc[row_indexer,col_indexer] = value instead\n",
      "\n",
      "See the caveats in the documentation: https://pandas.pydata.org/pandas-docs/stable/user_guide/indexing.html#returning-a-view-versus-a-copy\n",
      "  \n"
     ]
    },
    {
     "data": {
      "text/plain": [
       "11477    [줌터뷰] *최초공개* 사부작즈🐰🐶의 비공식 이름은 아이라인즈? 꿀조합 티키타카 가...\n",
       "Name: title, dtype: object"
      ]
     },
     "execution_count": 146,
     "metadata": {},
     "output_type": "execute_result"
    }
   ],
   "source": [
    "#8. like대비 dislike가 적은 영상은 무엇인가?\n",
    "new_df = df[(df['likes'] != 0) & (df['dislikes'] != 0 )]\n",
    "new_df['rank'] = new_df['dislikes']/new_df['likes']\n",
    "new_df[new_df['rank'] == new_df['rank'].min()]['title']"
   ]
  },
  {
   "cell_type": "code",
   "execution_count": 153,
   "id": "7c696e0d",
   "metadata": {},
   "outputs": [],
   "source": [
    "#9. 가장 많은 트렌드 영상 제작한 채널의 이름은 무엇인가?\n"
   ]
  },
  {
   "cell_type": "code",
   "execution_count": 161,
   "id": "48f5e3b6",
   "metadata": {},
   "outputs": [
    {
     "data": {
      "text/plain": [
       "41"
      ]
     },
     "execution_count": 161,
     "metadata": {},
     "output_type": "execute_result"
    }
   ],
   "source": [
    "#10. 20일이상 인기동영상 리스트에 포함되었던 동영상의 숫자는?\n",
    "sum(df.groupby(\"title\").count()['trending_date2']>=20)"
   ]
  },
  {
   "cell_type": "code",
   "execution_count": 162,
   "id": "edf5e194",
   "metadata": {},
   "outputs": [],
   "source": [
    "#유튜브 \"공범\" 컨텐츠 동영상 정보 10분간격\n",
    "channel =pd.read_csv('https://raw.githubusercontent.com/Datamanim/datarepo/main/youtube/channelInfo.csv')\n",
    "video =pd.read_csv('https://raw.githubusercontent.com/Datamanim/datarepo/main/youtube/videoInfo.csv')\n"
   ]
  },
  {
   "cell_type": "code",
   "execution_count": 169,
   "id": "71d1edc4",
   "metadata": {},
   "outputs": [
    {
     "data": {
      "text/plain": [
       " 공범 EP1    3492\n",
       " 공범 EP2    3204\n",
       " 공범 EP3    2568\n",
       " 공범 EP4    2280\n",
       " 공범 EP5    1562\n",
       " 공범 EP6    1274\n",
       " 공범 EP7     555\n",
       " 공범 EP8     266\n",
       "Name: videoname, dtype: int64"
      ]
     },
     "execution_count": 169,
     "metadata": {},
     "output_type": "execute_result"
    }
   ],
   "source": [
    "#1. video데이터 videoname 마다 각 몇개의 데이터씩 가지고있는지 확인\n",
    "channel['ct'] = pd.to_datetime(channel['ct'])\n",
    "video['ct'] = pd.to_datetime(video['ct'])\n",
    "\n",
    "video['videoname'].value_counts()"
   ]
  },
  {
   "cell_type": "code",
   "execution_count": 212,
   "id": "9b8d19e0",
   "metadata": {},
   "outputs": [
    {
     "data": {
      "text/html": [
       "<div>\n",
       "<style scoped>\n",
       "    .dataframe tbody tr th:only-of-type {\n",
       "        vertical-align: middle;\n",
       "    }\n",
       "\n",
       "    .dataframe tbody tr th {\n",
       "        vertical-align: top;\n",
       "    }\n",
       "\n",
       "    .dataframe thead th {\n",
       "        text-align: right;\n",
       "    }\n",
       "</style>\n",
       "<table border=\"1\" class=\"dataframe\">\n",
       "  <thead>\n",
       "    <tr style=\"text-align: right;\">\n",
       "      <th></th>\n",
       "      <th>viewcnt</th>\n",
       "      <th>ct</th>\n",
       "      <th>videoname</th>\n",
       "    </tr>\n",
       "  </thead>\n",
       "  <tbody>\n",
       "    <tr>\n",
       "      <th>15200</th>\n",
       "      <td>1289088</td>\n",
       "      <td>2021-11-01 15:30:05</td>\n",
       "      <td>공범 EP8</td>\n",
       "    </tr>\n",
       "    <tr>\n",
       "      <th>13660</th>\n",
       "      <td>1630200</td>\n",
       "      <td>2021-11-01 15:30:05</td>\n",
       "      <td>공범 EP7</td>\n",
       "    </tr>\n",
       "    <tr>\n",
       "      <th>14934</th>\n",
       "      <td>1750222</td>\n",
       "      <td>2021-11-01 15:30:04</td>\n",
       "      <td>공범 EP6</td>\n",
       "    </tr>\n",
       "    <tr>\n",
       "      <th>13105</th>\n",
       "      <td>1503435</td>\n",
       "      <td>2021-11-01 15:30:04</td>\n",
       "      <td>공범 EP5</td>\n",
       "    </tr>\n",
       "    <tr>\n",
       "      <th>11543</th>\n",
       "      <td>1818493</td>\n",
       "      <td>2021-11-01 15:30:03</td>\n",
       "      <td>공범 EP4</td>\n",
       "    </tr>\n",
       "    <tr>\n",
       "      <th>9263</th>\n",
       "      <td>1671294</td>\n",
       "      <td>2021-11-01 15:30:03</td>\n",
       "      <td>공범 EP3</td>\n",
       "    </tr>\n",
       "    <tr>\n",
       "      <th>6695</th>\n",
       "      <td>2199328</td>\n",
       "      <td>2021-11-01 15:30:03</td>\n",
       "      <td>공범 EP2</td>\n",
       "    </tr>\n",
       "    <tr>\n",
       "      <th>3491</th>\n",
       "      <td>3180532</td>\n",
       "      <td>2021-11-01 15:30:03</td>\n",
       "      <td>공범 EP1</td>\n",
       "    </tr>\n",
       "  </tbody>\n",
       "</table>\n",
       "</div>"
      ],
      "text/plain": [
       "       viewcnt                  ct videoname\n",
       "15200  1289088 2021-11-01 15:30:05    공범 EP8\n",
       "13660  1630200 2021-11-01 15:30:05    공범 EP7\n",
       "14934  1750222 2021-11-01 15:30:04    공범 EP6\n",
       "13105  1503435 2021-11-01 15:30:04    공범 EP5\n",
       "11543  1818493 2021-11-01 15:30:03    공범 EP4\n",
       "9263   1671294 2021-11-01 15:30:03    공범 EP3\n",
       "6695   2199328 2021-11-01 15:30:03    공범 EP2\n",
       "3491   3180532 2021-11-01 15:30:03    공범 EP1"
      ]
     },
     "execution_count": 212,
     "metadata": {},
     "output_type": "execute_result"
    }
   ],
   "source": [
    "#2 수집된 각 video의 가장 최신화 된 날짜의 viewcount값을 출력하라\n",
    "target =video.sort_values(['videoname','ct'],ascending = False).drop_duplicates(\"videoname\")\n",
    "target[['viewcnt','ct','videoname']]"
   ]
  },
  {
   "cell_type": "code",
   "execution_count": 217,
   "id": "8ff04421",
   "metadata": {},
   "outputs": [
    {
     "data": {
      "text/html": [
       "<div>\n",
       "<style scoped>\n",
       "    .dataframe tbody tr th:only-of-type {\n",
       "        vertical-align: middle;\n",
       "    }\n",
       "\n",
       "    .dataframe tbody tr th {\n",
       "        vertical-align: top;\n",
       "    }\n",
       "\n",
       "    .dataframe thead th {\n",
       "        text-align: right;\n",
       "    }\n",
       "</style>\n",
       "<table border=\"1\" class=\"dataframe\">\n",
       "  <thead>\n",
       "    <tr style=\"text-align: right;\">\n",
       "      <th></th>\n",
       "      <th>channelid</th>\n",
       "      <th>subcnt</th>\n",
       "      <th>viewcnt</th>\n",
       "      <th>videocnt</th>\n",
       "      <th>ct</th>\n",
       "      <th>channelname</th>\n",
       "    </tr>\n",
       "  </thead>\n",
       "  <tbody>\n",
       "    <tr>\n",
       "      <th>16</th>\n",
       "      <td>UCkQCwnkQfgSuPTTnw_Y7v7w</td>\n",
       "      <td>1330000</td>\n",
       "      <td>417316443</td>\n",
       "      <td>738</td>\n",
       "      <td>2021-10-04 03:01:04</td>\n",
       "      <td>꽈뚜룹</td>\n",
       "    </tr>\n",
       "    <tr>\n",
       "      <th>17</th>\n",
       "      <td>UCkQCwnkQfgSuPTTnw_Y7v7w</td>\n",
       "      <td>1330000</td>\n",
       "      <td>418138737</td>\n",
       "      <td>738</td>\n",
       "      <td>2021-10-04 09:01:05</td>\n",
       "      <td>꽈뚜룹</td>\n",
       "    </tr>\n",
       "    <tr>\n",
       "      <th>18</th>\n",
       "      <td>UCkQCwnkQfgSuPTTnw_Y7v7w</td>\n",
       "      <td>1330000</td>\n",
       "      <td>418138737</td>\n",
       "      <td>738</td>\n",
       "      <td>2021-10-04 15:01:05</td>\n",
       "      <td>꽈뚜룹</td>\n",
       "    </tr>\n",
       "    <tr>\n",
       "      <th>19</th>\n",
       "      <td>UCkQCwnkQfgSuPTTnw_Y7v7w</td>\n",
       "      <td>1330000</td>\n",
       "      <td>418138737</td>\n",
       "      <td>738</td>\n",
       "      <td>2021-10-04 21:01:04</td>\n",
       "      <td>꽈뚜룹</td>\n",
       "    </tr>\n",
       "    <tr>\n",
       "      <th>20</th>\n",
       "      <td>UCkQCwnkQfgSuPTTnw_Y7v7w</td>\n",
       "      <td>1330000</td>\n",
       "      <td>418138737</td>\n",
       "      <td>738</td>\n",
       "      <td>2021-10-05 03:01:04</td>\n",
       "      <td>꽈뚜룹</td>\n",
       "    </tr>\n",
       "    <tr>\n",
       "      <th>...</th>\n",
       "      <td>...</td>\n",
       "      <td>...</td>\n",
       "      <td>...</td>\n",
       "      <td>...</td>\n",
       "      <td>...</td>\n",
       "      <td>...</td>\n",
       "    </tr>\n",
       "    <tr>\n",
       "      <th>1390</th>\n",
       "      <td>UCbBzKnCYcG7E3EIkSTdsawA</td>\n",
       "      <td>56700</td>\n",
       "      <td>7528614</td>\n",
       "      <td>57</td>\n",
       "      <td>2021-10-31 15:01:04</td>\n",
       "      <td>Balming Tiger</td>\n",
       "    </tr>\n",
       "    <tr>\n",
       "      <th>1391</th>\n",
       "      <td>UCbBzKnCYcG7E3EIkSTdsawA</td>\n",
       "      <td>56700</td>\n",
       "      <td>7528614</td>\n",
       "      <td>57</td>\n",
       "      <td>2021-10-31 21:01:04</td>\n",
       "      <td>Balming Tiger</td>\n",
       "    </tr>\n",
       "    <tr>\n",
       "      <th>1392</th>\n",
       "      <td>UCbBzKnCYcG7E3EIkSTdsawA</td>\n",
       "      <td>56800</td>\n",
       "      <td>7528614</td>\n",
       "      <td>57</td>\n",
       "      <td>2021-11-01 03:01:03</td>\n",
       "      <td>Balming Tiger</td>\n",
       "    </tr>\n",
       "    <tr>\n",
       "      <th>1393</th>\n",
       "      <td>UCbBzKnCYcG7E3EIkSTdsawA</td>\n",
       "      <td>56800</td>\n",
       "      <td>7539876</td>\n",
       "      <td>57</td>\n",
       "      <td>2021-11-01 09:01:04</td>\n",
       "      <td>Balming Tiger</td>\n",
       "    </tr>\n",
       "    <tr>\n",
       "      <th>1394</th>\n",
       "      <td>UCbBzKnCYcG7E3EIkSTdsawA</td>\n",
       "      <td>56800</td>\n",
       "      <td>7539876</td>\n",
       "      <td>57</td>\n",
       "      <td>2021-11-01 15:01:07</td>\n",
       "      <td>Balming Tiger</td>\n",
       "    </tr>\n",
       "  </tbody>\n",
       "</table>\n",
       "<p>1265 rows × 6 columns</p>\n",
       "</div>"
      ],
      "text/plain": [
       "                     channelid   subcnt    viewcnt  videocnt  \\\n",
       "16    UCkQCwnkQfgSuPTTnw_Y7v7w  1330000  417316443       738   \n",
       "17    UCkQCwnkQfgSuPTTnw_Y7v7w  1330000  418138737       738   \n",
       "18    UCkQCwnkQfgSuPTTnw_Y7v7w  1330000  418138737       738   \n",
       "19    UCkQCwnkQfgSuPTTnw_Y7v7w  1330000  418138737       738   \n",
       "20    UCkQCwnkQfgSuPTTnw_Y7v7w  1330000  418138737       738   \n",
       "...                        ...      ...        ...       ...   \n",
       "1390  UCbBzKnCYcG7E3EIkSTdsawA    56700    7528614        57   \n",
       "1391  UCbBzKnCYcG7E3EIkSTdsawA    56700    7528614        57   \n",
       "1392  UCbBzKnCYcG7E3EIkSTdsawA    56800    7528614        57   \n",
       "1393  UCbBzKnCYcG7E3EIkSTdsawA    56800    7539876        57   \n",
       "1394  UCbBzKnCYcG7E3EIkSTdsawA    56800    7539876        57   \n",
       "\n",
       "                      ct    channelname  \n",
       "16   2021-10-04 03:01:04            꽈뚜룹  \n",
       "17   2021-10-04 09:01:05            꽈뚜룹  \n",
       "18   2021-10-04 15:01:05            꽈뚜룹  \n",
       "19   2021-10-04 21:01:04            꽈뚜룹  \n",
       "20   2021-10-05 03:01:04            꽈뚜룹  \n",
       "...                  ...            ...  \n",
       "1390 2021-10-31 15:01:04  Balming Tiger  \n",
       "1391 2021-10-31 21:01:04  Balming Tiger  \n",
       "1392 2021-11-01 03:01:03  Balming Tiger  \n",
       "1393 2021-11-01 09:01:04  Balming Tiger  \n",
       "1394 2021-11-01 15:01:07  Balming Tiger  \n",
       "\n",
       "[1265 rows x 6 columns]"
      ]
     },
     "execution_count": 217,
     "metadata": {},
     "output_type": "execute_result"
    }
   ],
   "source": [
    "#2. Channel 데이터중 2021-10-03일 이후 각 채널의 처음 기록 됐던 구독자 수(subcnt)를 출력하라\n",
    "#sort_value 후 drop_duplicate하는 방식을 많이쓰네 "
   ]
  },
  {
   "cell_type": "code",
   "execution_count": 222,
   "id": "255a44ae",
   "metadata": {},
   "outputs": [],
   "source": [
    "#3.각채널의 2021-10-03 03:00:00 ~ 2021-11-01 15:00:00 까지 구독자수 (subcnt) 의 증가량을 구하여라\n",
    "time_interval = [datetime.datetime(2021,10,3,3),datetime.datetime(2021,11,1,15)]\n",
    "time_interval"
   ]
  },
  {
   "cell_type": "code",
   "execution_count": 175,
   "id": "297b21a1",
   "metadata": {},
   "outputs": [],
   "source": [
    "#4. 각 비디오는 10분 간격으로 구독자수, 좋아요, 싫어요수, 댓글수가 수집된것으로 알려졌다. 공범 EP1의 비디오정보 \n",
    "# 데이터중 수집간격이 5분 이하, 20분이상인 데이터 구간( 해당 시점 전,후) 의 시각을 모두 출력하라\n"
   ]
  },
  {
   "cell_type": "code",
   "execution_count": 176,
   "id": "245cd791",
   "metadata": {},
   "outputs": [],
   "source": [
    "#5. 각 에피소드의 시작날짜(년-월-일)를 에피소드 이름과 묶어 데이터 프레임으로 만들고 출력하라"
   ]
  },
  {
   "cell_type": "code",
   "execution_count": 177,
   "id": "3970f228",
   "metadata": {},
   "outputs": [],
   "source": [
    "#6. “공범” 컨텐츠의 경우 19:00시에 공개 되는것으로 알려져있다. 공개된 날의 21시의 viewcnt, ct, videoname 으로 구성된 \n",
    "# 데이터 프레임을 viewcnt를 내림차순으로 정렬하여 출력하라"
   ]
  },
  {
   "cell_type": "code",
   "execution_count": 178,
   "id": "72fa87bc",
   "metadata": {},
   "outputs": [],
   "source": [
    "#7. video 정보의 가장 최근 데이터들에서 각 에피소드의 싫어요/좋아요 비율을 ratio 컬럼으로 만들고 \n",
    "# videoname, ratio로 구성된 데이터 프레임을 ratio를 오름차순으로 정렬하라"
   ]
  },
  {
   "cell_type": "code",
   "execution_count": 179,
   "id": "eb1f07a3",
   "metadata": {},
   "outputs": [],
   "source": [
    "#8. 2021-11-01 00:00:00 ~ 15:00:00까지 각 에피소드별 viewcnt의 증가량을 데이터 프레임으로 만드시오"
   ]
  },
  {
   "cell_type": "code",
   "execution_count": null,
   "id": "c297a70c",
   "metadata": {},
   "outputs": [],
   "source": [
    "#9. video 데이터 중에서 중복되는 데이터가 존재한다. 중복되는 각 데이터의 시간대와 videoname 을 구하여라"
   ]
  }
 ],
 "metadata": {
  "kernelspec": {
   "display_name": "Python 3 (ipykernel)",
   "language": "python",
   "name": "python3"
  },
  "language_info": {
   "codemirror_mode": {
    "name": "ipython",
    "version": 3
   },
   "file_extension": ".py",
   "mimetype": "text/x-python",
   "name": "python",
   "nbconvert_exporter": "python",
   "pygments_lexer": "ipython3",
   "version": "3.7.11"
  }
 },
 "nbformat": 4,
 "nbformat_minor": 5
}
