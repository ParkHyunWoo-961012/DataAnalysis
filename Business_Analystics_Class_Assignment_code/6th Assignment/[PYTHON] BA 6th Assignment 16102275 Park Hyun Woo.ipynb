{
 "cells": [
  {
   "cell_type": "raw",
   "metadata": {},
   "source": [
    "vote information Democracy and Republication Party\n",
    "2016 US Presidential Election Data Set\n",
    "FIPS => for counties\n",
    "columns\n",
    "PST,POP = Population\n",
    "AGE,SEX,RHI(population by Race),EDU(population by education level) \n",
    "VET(veterans(재향군인)),LFE(mean travel time to work(출근시간))\n",
    "HSG(housing),INC(income),BZA(Employment),NES(non-employer establishment)\n",
    "SBO(firms),MAN(manufacturing),WTN(merchant wholesaler sales)\n",
    "RTN(retail sales),AFN(accomodation and food services sales)\n",
    "BPS(building permits),LND(land areas)"
   ]
  },
  {
   "cell_type": "code",
   "execution_count": 1,
   "metadata": {},
   "outputs": [],
   "source": [
    "from sklearn.metrics import roc_curve, roc_auc_score\n",
    "from sklearn.linear_model import LogisticRegression\n",
    "from sklearn.metrics import classification_report\n",
    "from sklearn.metrics import accuracy_score, precision_score, recall_score, f1_score\n",
    "import numpy as np\n",
    "import pandas as pd \n",
    "import matplotlib.pyplot as plt\n",
    "import itertools\n",
    "from sklearn.model_selection import KFold\n",
    "from sklearn.model_selection import train_test_split\n",
    "\n",
    "pd.set_option('mode.chained_assignment',  None) #because of Error Message\n",
    "\n",
    "elec=pd.read_csv('https://drive.google.com/uc?export=download&id=1fq9qDqXLiUm0un_saxAUpPsSJa05F_bV', index_col=0)\n",
    "county=pd.read_csv('https://drive.google.com/uc?export=download&id=1LciKFXkb3MmpXFEHDk1Db8YFsK0liF3a')\n",
    "\n",
    "data=elec.merge(county,left_on='FIPS',right_on='fips',how='left')"
   ]
  },
  {
   "cell_type": "code",
   "execution_count": 2,
   "metadata": {},
   "outputs": [],
   "source": [
    "\n",
    "# for use election data whole of Alaska not county level\n",
    "data=elec[elec['county_name']!='Alaska'].merge(\n",
    "    county,left_on='FIPS',right_on='fips',how='left')\n",
    "data_ak=elec[elec['county_name']=='Alaska'].drop_duplicates(\n",
    "    ['votes_dem_2016','votes_gop_2016'])\n",
    "\n",
    "data_ak['FIPS']=2000\n",
    "\n",
    "data_ak=data_ak.merge(county,left_on='FIPS',right_on='fips',how='left')\n",
    "data=pd.concat((data,data_ak),axis=0).sort_values('fips')\n",
    "\n",
    "\n",
    "data['target']=(data['votes_dem_2016']>data['votes_gop_2016'])*1\n",
    "\n"
   ]
  },
  {
   "cell_type": "markdown",
   "metadata": {},
   "source": [
    "# Goal find difference charcteristics of group of friendly to Democracy Party or Republication Party"
   ]
  },
  {
   "cell_type": "code",
   "execution_count": 3,
   "metadata": {},
   "outputs": [
    {
     "data": {
      "text/plain": [
       "combined_fips       3113\n",
       "votes_dem_2016      2687\n",
       "votes_gop_2016      2903\n",
       "total_votes_2016    2963\n",
       "per_dem_2016        3112\n",
       "                    ... \n",
       "AFN120207           2778\n",
       "BPS030214            755\n",
       "LND110210           3073\n",
       "POP060210           1617\n",
       "target                 2\n",
       "Length: 75, dtype: int64"
      ]
     },
     "execution_count": 3,
     "metadata": {},
     "output_type": "execute_result"
    }
   ],
   "source": [
    "# for find key value combinde_fips is unique key of data\n",
    "data.nunique()"
   ]
  },
  {
   "cell_type": "code",
   "execution_count": 4,
   "metadata": {},
   "outputs": [
    {
     "data": {
      "text/plain": [
       "(      per_dem_2012\n",
       " 0         0.265758\n",
       " 1         0.215666\n",
       " 3         0.262186\n",
       " 4         0.123478\n",
       " 6         0.460508\n",
       " ...            ...\n",
       " 3106      0.176850\n",
       " 3107      0.284955\n",
       " 3109      0.192594\n",
       " 3110      0.203017\n",
       " 3111      0.126994\n",
       " \n",
       " [2426 rows x 1 columns],\n",
       "       per_dem_2016\n",
       " 0         0.239569\n",
       " 1         0.195653\n",
       " 2         0.466603\n",
       " 3         0.214220\n",
       " 4         0.084699\n",
       " ...            ...\n",
       " 3106      0.149872\n",
       " 3107      0.194046\n",
       " 3109      0.149261\n",
       " 3110      0.143203\n",
       " 3111      0.088182\n",
       " \n",
       " [2625 rows x 1 columns])"
      ]
     },
     "execution_count": 4,
     "metadata": {},
     "output_type": "execute_result"
    }
   ],
   "source": [
    "#because some per_point_diff_2012 and 2016 have negative value so i want to know \n",
    "#if per demo - per gop or per gop - per demo\n",
    "data[data['per_point_diff_2012']<0][['per_dem_2012']],data[data['per_point_diff_2016']<0][\n",
    "    ['per_dem_2016']]\n",
    "# result all have lower than 0.5. so per_point_diff = per_gop - per_dem"
   ]
  },
  {
   "cell_type": "code",
   "execution_count": 5,
   "metadata": {},
   "outputs": [
    {
     "data": {
      "text/plain": [
       "0       24571\n",
       "1       26766\n",
       "2       16829\n",
       "3       17427\n",
       "4       20730\n",
       "        ...  \n",
       "3107    30517\n",
       "3108    43444\n",
       "3109    25513\n",
       "3110    28308\n",
       "3111    28764\n",
       "Name: INC910213, Length: 3113, dtype: int64"
      ]
     },
     "execution_count": 5,
     "metadata": {},
     "output_type": "execute_result"
    }
   ],
   "source": [
    "data['INC910213']"
   ]
  },
  {
   "cell_type": "code",
   "execution_count": 6,
   "metadata": {},
   "outputs": [],
   "source": [
    "# Core is group's characteristic about perference of Dem and Rep \n",
    "\n",
    "#because when i control Income data -> average data is not percent so i cannot undertand that difference of average\n",
    "#so i change to percent value of income -> 소득 순위 \n",
    "\n",
    "data['INC910213'] = (data['INC910213']/data['INC910213'].max())* 100\n",
    "data['INC110213'] = (data['INC110213']/data['INC110213'].max())* 100\n",
    "\n",
    "Pref_Dem2012 = data.loc[data['per_dem_2012']>data['per_gop_2012']]\n",
    "Pref_Dem2016 = data.loc[data['per_dem_2016']>data['per_gop_2016']]\n",
    "\n",
    "Pref_Rep2012 = data.loc[data['per_dem_2012']<data['per_gop_2012']]\n",
    "Pref_Rep2016 = data.loc[data['per_dem_2016']<data['per_gop_2016']]\n",
    "\n",
    "Pref_Rep2012['per_point_diff_2012'] = abs(Pref_Rep2012['per_point_diff_2012'])\n",
    "Pref_Rep2016['per_point_diff_2016'] = abs(Pref_Rep2016['per_point_diff_2016'])"
   ]
  },
  {
   "cell_type": "code",
   "execution_count": 7,
   "metadata": {},
   "outputs": [
    {
     "name": "stdout",
     "output_type": "stream",
     "text": [
      "Number of County which is prefer to Democracy 686(in 2012) 488(in 2016) \n",
      "\n",
      "Number of County which is prefer to Republication 2426(in 2012) 2625(in 2016) \n"
     ]
    }
   ],
   "source": [
    "print('Number of County which is prefer to Democracy %d(in 2012) %d(in 2016) '%(len(Pref_Dem2012),len(Pref_Dem2016)))\n",
    "print('\\nNumber of County which is prefer to Republication %d(in 2012) %d(in 2016) '%(len(Pref_Rep2012),len(Pref_Rep2016)))\n",
    "# i found not equal number data of 2012(686+2426 = 3112) and 2013(488+2625=3113)"
   ]
  },
  {
   "cell_type": "code",
   "execution_count": 8,
   "metadata": {},
   "outputs": [
    {
     "data": {
      "image/png": "[encoded data removed]",
      "text/plain": [
       "<Figure size 720x360 with 1 Axes>"
      ]
     },
     "metadata": {
      "needs_background": "light"
     },
     "output_type": "display_data"
    },
    {
     "data": {
      "text/plain": [
       "<matplotlib.collections.PathCollection at 0x7fb8e6938450>"
      ]
     },
     "execution_count": 8,
     "metadata": {},
     "output_type": "execute_result"
    },
    {
     "data": {
      "image/png": "[encoded data removed]",
      "text/plain": [
       "<Figure size 720x360 with 1 Axes>"
      ]
     },
     "metadata": {
      "needs_background": "light"
     },
     "output_type": "display_data"
    }
   ],
   "source": [
    "plt.figure(figsize=(10,5))\n",
    "plt.scatter(Pref_Dem2012['combined_fips'],Pref_Dem2012['per_point_diff_2012'])\n",
    "plt.show()\n",
    "plt.figure(figsize=(10,5))\n",
    "plt.scatter(Pref_Rep2012['combined_fips'],Pref_Rep2012['per_point_diff_2012'])"
   ]
  },
  {
   "cell_type": "code",
   "execution_count": 9,
   "metadata": {},
   "outputs": [],
   "source": [
    "High_Pref_Dem2012 = Pref_Dem2012.loc[Pref_Dem2012['per_point_diff_2012']>\n",
    "                                     Pref_Dem2012['per_point_diff_2012'].mean()]\n",
    "High_Pref_Rep2012 = Pref_Rep2012.loc[Pref_Rep2012['per_point_diff_2012']>\n",
    "                                    Pref_Rep2012['per_point_diff_2012'].mean()]\n",
    "High_Pref_Dem2016 = Pref_Dem2016.loc[Pref_Dem2016['per_point_diff_2016']>\n",
    "                                     Pref_Dem2016['per_point_diff_2016'].mean()]\n",
    "High_Pref_Rep2016 = Pref_Rep2016.loc[Pref_Rep2016['per_point_diff_2016']>\n",
    "                                    Pref_Rep2016['per_point_diff_2016'].mean()]"
   ]
  },
  {
   "cell_type": "markdown",
   "metadata": {},
   "source": [
    "# 1. About  SEX & Race & Population Data"
   ]
  },
  {
   "cell_type": "code",
   "execution_count": 10,
   "metadata": {
    "scrolled": false
   },
   "outputs": [
    {
     "name": "stdout",
     "output_type": "stream",
     "text": [
      "Race&Sex&Population result in 2016 vote election\n"
     ]
    },
    {
     "data": {
      "text/html": [
       "<div>\n",
       "<style scoped>\n",
       "    .dataframe tbody tr th:only-of-type {\n",
       "        vertical-align: middle;\n",
       "    }\n",
       "\n",
       "    .dataframe tbody tr th {\n",
       "        vertical-align: top;\n",
       "    }\n",
       "\n",
       "    .dataframe thead th {\n",
       "        text-align: right;\n",
       "    }\n",
       "</style>\n",
       "<table border=\"1\" class=\"dataframe\">\n",
       "  <thead>\n",
       "    <tr style=\"text-align: right;\">\n",
       "      <th></th>\n",
       "      <th>dem_corr_per_point_diff_2012</th>\n",
       "      <th>rep_corr_per_point_diff_2012</th>\n",
       "      <th>dem_corr_per_point_diff_2016</th>\n",
       "      <th>rep_corr_per_point_diff_2016</th>\n",
       "      <th>diff_average2012</th>\n",
       "      <th>diff_average2016</th>\n",
       "    </tr>\n",
       "  </thead>\n",
       "  <tbody>\n",
       "    <tr>\n",
       "      <th>RHI225214</th>\n",
       "      <td>0.182355</td>\n",
       "      <td>-0.225903</td>\n",
       "      <td>0.136992</td>\n",
       "      <td>-0.209210</td>\n",
       "      <td>26.475093</td>\n",
       "      <td>27.438119</td>\n",
       "    </tr>\n",
       "    <tr>\n",
       "      <th>RHI325214</th>\n",
       "      <td>0.155258</td>\n",
       "      <td>-0.081659</td>\n",
       "      <td>0.025468</td>\n",
       "      <td>-0.042861</td>\n",
       "      <td>4.489591</td>\n",
       "      <td>4.474257</td>\n",
       "    </tr>\n",
       "    <tr>\n",
       "      <th>RHI425214</th>\n",
       "      <td>0.135091</td>\n",
       "      <td>-0.124238</td>\n",
       "      <td>0.126916</td>\n",
       "      <td>-0.182547</td>\n",
       "      <td>3.761338</td>\n",
       "      <td>4.923762</td>\n",
       "    </tr>\n",
       "    <tr>\n",
       "      <th>RHI525214</th>\n",
       "      <td>0.090462</td>\n",
       "      <td>0.024889</td>\n",
       "      <td>-0.051708</td>\n",
       "      <td>-0.048821</td>\n",
       "      <td>0.266543</td>\n",
       "      <td>0.348515</td>\n",
       "    </tr>\n",
       "    <tr>\n",
       "      <th>RHI625214</th>\n",
       "      <td>0.046876</td>\n",
       "      <td>-0.134582</td>\n",
       "      <td>-0.054628</td>\n",
       "      <td>-0.088305</td>\n",
       "      <td>2.413011</td>\n",
       "      <td>2.621782</td>\n",
       "    </tr>\n",
       "    <tr>\n",
       "      <th>RHI725214</th>\n",
       "      <td>0.206932</td>\n",
       "      <td>0.145934</td>\n",
       "      <td>0.084923</td>\n",
       "      <td>0.083763</td>\n",
       "      <td>16.071375</td>\n",
       "      <td>19.103465</td>\n",
       "    </tr>\n",
       "    <tr>\n",
       "      <th>RHI825214</th>\n",
       "      <td>-0.485999</td>\n",
       "      <td>0.013026</td>\n",
       "      <td>-0.269674</td>\n",
       "      <td>0.051523</td>\n",
       "      <td>48.473606</td>\n",
       "      <td>43.254950</td>\n",
       "    </tr>\n",
       "    <tr>\n",
       "      <th>SEX255214</th>\n",
       "      <td>0.175440</td>\n",
       "      <td>-0.100083</td>\n",
       "      <td>0.138210</td>\n",
       "      <td>-0.064374</td>\n",
       "      <td>50.652045</td>\n",
       "      <td>51.002970</td>\n",
       "    </tr>\n",
       "    <tr>\n",
       "      <th>Population</th>\n",
       "      <td>0.092761</td>\n",
       "      <td>-0.173246</td>\n",
       "      <td>0.124200</td>\n",
       "      <td>-0.279434</td>\n",
       "      <td>319767.583643</td>\n",
       "      <td>431029.148515</td>\n",
       "    </tr>\n",
       "    <tr>\n",
       "      <th>POP645213</th>\n",
       "      <td>0.171305</td>\n",
       "      <td>0.138767</td>\n",
       "      <td>0.211444</td>\n",
       "      <td>0.062088</td>\n",
       "      <td>9.482156</td>\n",
       "      <td>11.851980</td>\n",
       "    </tr>\n",
       "    <tr>\n",
       "      <th>POP715213</th>\n",
       "      <td>0.090471</td>\n",
       "      <td>0.068954</td>\n",
       "      <td>0.035612</td>\n",
       "      <td>0.128171</td>\n",
       "      <td>85.374349</td>\n",
       "      <td>84.589604</td>\n",
       "    </tr>\n",
       "  </tbody>\n",
       "</table>\n",
       "</div>"
      ],
      "text/plain": [
       "            dem_corr_per_point_diff_2012  rep_corr_per_point_diff_2012  \\\n",
       "RHI225214                       0.182355                     -0.225903   \n",
       "RHI325214                       0.155258                     -0.081659   \n",
       "RHI425214                       0.135091                     -0.124238   \n",
       "RHI525214                       0.090462                      0.024889   \n",
       "RHI625214                       0.046876                     -0.134582   \n",
       "RHI725214                       0.206932                      0.145934   \n",
       "RHI825214                      -0.485999                      0.013026   \n",
       "SEX255214                       0.175440                     -0.100083   \n",
       "Population                      0.092761                     -0.173246   \n",
       "POP645213                       0.171305                      0.138767   \n",
       "POP715213                       0.090471                      0.068954   \n",
       "\n",
       "            dem_corr_per_point_diff_2016  rep_corr_per_point_diff_2016  \\\n",
       "RHI225214                       0.136992                     -0.209210   \n",
       "RHI325214                       0.025468                     -0.042861   \n",
       "RHI425214                       0.126916                     -0.182547   \n",
       "RHI525214                      -0.051708                     -0.048821   \n",
       "RHI625214                      -0.054628                     -0.088305   \n",
       "RHI725214                       0.084923                      0.083763   \n",
       "RHI825214                      -0.269674                      0.051523   \n",
       "SEX255214                       0.138210                     -0.064374   \n",
       "Population                      0.124200                     -0.279434   \n",
       "POP645213                       0.211444                      0.062088   \n",
       "POP715213                       0.035612                      0.128171   \n",
       "\n",
       "            diff_average2012  diff_average2016  \n",
       "RHI225214          26.475093         27.438119  \n",
       "RHI325214           4.489591          4.474257  \n",
       "RHI425214           3.761338          4.923762  \n",
       "RHI525214           0.266543          0.348515  \n",
       "RHI625214           2.413011          2.621782  \n",
       "RHI725214          16.071375         19.103465  \n",
       "RHI825214          48.473606         43.254950  \n",
       "SEX255214          50.652045         51.002970  \n",
       "Population     319767.583643     431029.148515  \n",
       "POP645213           9.482156         11.851980  \n",
       "POP715213          85.374349         84.589604  "
      ]
     },
     "execution_count": 10,
     "metadata": {},
     "output_type": "execute_result"
    }
   ],
   "source": [
    "# 1st checking relationship between race & sex ~ prefercence Party\n",
    "# RHI125214 - White alone, percent, 2014\n",
    "# RHI225214 - Black or African American alone, percent, 2014\n",
    "# RHI325214 - American Indian and Alaska Native alone, percent, 2014\n",
    "# RHI425214 - Asian alone, percent, 2014\n",
    "# RHI525214 - Native Hawaiian and Other Pacific Islander alone, percent, 2014\n",
    "# RHI625214 - Two or More Races, percent, 2014\n",
    "# RHI725214 - Hispanic or Latino, percent, 2014\n",
    "# RHI825214 - White alone, not Hispanic or Latino, percent, 2014\n",
    "\n",
    "# PST045214 - Population, 2014 estimate\n",
    "# PST040210 - Population, 2010 (April 1) estimates base\n",
    "# PST120214 - Population, percent change - April 1, 2010 to July 1, 2014\n",
    "# POP010210 - Population, 2010\n",
    "# POP645213 - Foreign born persons, percent, 2009-2013\n",
    "# POP715213 - Living in same house 1 year & over, percent, 2009-2013\n",
    "\n",
    "# in year 2014 data is used in 2016 election year's data PST045214\n",
    "# in year 2010 data is used in 2012 election year's data PST040210,POP645213,POP715213\n",
    "\n",
    "# SEX255214 - Female persons, percent, 2014\n",
    "\n",
    "race = ['RHI225214', 'RHI325214', 'RHI425214','RHI525214', 'RHI625214', 'RHI725214', 'RHI825214']\n",
    "\n",
    "corr_Dem2012 = High_Pref_Dem2012[race+['SEX255214','PST040210','POP645213','POP715213','per_point_diff_2012']].corr()[:11]\n",
    "corr_Rep2012 = High_Pref_Rep2012[race+['SEX255214','PST040210','POP645213','POP715213','per_point_diff_2012']].corr()[:11]\n",
    "corr_Dem2016 = High_Pref_Dem2016[race+['SEX255214','PST045214','POP645213','POP715213','per_point_diff_2016']].corr()[:11]\n",
    "corr_Rep2016 = High_Pref_Rep2016[race+['SEX255214','PST045214','POP645213','POP715213','per_point_diff_2016']].corr()[:11]\n",
    "\n",
    "\n",
    "diff_sex_race_average2012 = High_Pref_Dem2012[race+['SEX255214','PST040210','POP645213','POP715213']].mean() \n",
    "- High_Pref_Rep2012[race+['SEX255214','PST040210']].mean()\n",
    "\n",
    "diff_sex_race_average2016 = High_Pref_Dem2016[race+['SEX255214','PST045214','POP645213','POP715213']].mean() \n",
    "- High_Pref_Rep2016[race+['SEX255214','PST045214']].mean()\n",
    "\n",
    "corr_Dem2012.rename(columns = {'per_point_diff_2012':'dem_corr_per_point_diff_2012'},inplace=True)\n",
    "corr_Rep2012.rename(columns = {'per_point_diff_2012':'rep_corr_per_point_diff_2012'},inplace=True)\n",
    "corr_Dem2016.rename(columns = {'per_point_diff_2016':'dem_corr_per_point_diff_2016'},inplace=True)\n",
    "corr_Rep2016.rename(columns = {'per_point_diff_2016':'rep_corr_per_point_diff_2016'},inplace=True)\n",
    "\n",
    "result = pd.DataFrame([corr_Dem2012['dem_corr_per_point_diff_2012'],\n",
    "                       corr_Rep2012['rep_corr_per_point_diff_2012'],\n",
    "                       corr_Dem2016['dem_corr_per_point_diff_2016'],\n",
    "                       corr_Rep2016['rep_corr_per_point_diff_2016'],\n",
    "                       diff_sex_race_average2012,\n",
    "                       diff_sex_race_average2016])\n",
    "result = result.fillna(0)\n",
    "result['PST040210'] = result['PST040210']+result['PST045214']\n",
    "result.drop(columns = ['PST045214'],inplace = True)\n",
    "result = result.transpose()\n",
    "\n",
    "result.rename(index = {'PST040210':'Population'},columns = {'Unnamed 0': 'diff_average2012','Unnamed 1':'diff_average2016'},inplace=True)    \n",
    "\n",
    "print('Race&Sex&Population result in 2016 vote election')\n",
    "result\n",
    "A = result.loc"
   ]
  },
  {
   "cell_type": "code",
   "execution_count": 11,
   "metadata": {},
   "outputs": [],
   "source": [
    "#RHI125214, RHI225214, RHI825214 have meaningful difference over 20% RHI725214 have also meaningful in 2012 2016\n",
    "#meaning of the RHI125214 is include both RHI725214 and RHI825214 so i don't use RHI125214\n",
    "\n",
    "selected_race = ['RHI825214']\n",
    "selected_sex = ['SEX255214']"
   ]
  },
  {
   "cell_type": "markdown",
   "metadata": {},
   "source": [
    "# 2. About Age Data"
   ]
  },
  {
   "cell_type": "code",
   "execution_count": 12,
   "metadata": {},
   "outputs": [
    {
     "name": "stdout",
     "output_type": "stream",
     "text": [
      "Age result in 2016 vote election\n"
     ]
    },
    {
     "data": {
      "text/html": [
       "<div>\n",
       "<style scoped>\n",
       "    .dataframe tbody tr th:only-of-type {\n",
       "        vertical-align: middle;\n",
       "    }\n",
       "\n",
       "    .dataframe tbody tr th {\n",
       "        vertical-align: top;\n",
       "    }\n",
       "\n",
       "    .dataframe thead th {\n",
       "        text-align: right;\n",
       "    }\n",
       "</style>\n",
       "<table border=\"1\" class=\"dataframe\">\n",
       "  <thead>\n",
       "    <tr style=\"text-align: right;\">\n",
       "      <th></th>\n",
       "      <th>dem_corr_per_point_diff_2016</th>\n",
       "      <th>rep_corr_per_point_diff_2016</th>\n",
       "      <th>diff_average2016</th>\n",
       "    </tr>\n",
       "  </thead>\n",
       "  <tbody>\n",
       "    <tr>\n",
       "      <th>AGE135214</th>\n",
       "      <td>0.131556</td>\n",
       "      <td>0.040791</td>\n",
       "      <td>0.592094</td>\n",
       "    </tr>\n",
       "    <tr>\n",
       "      <th>AGE295214</th>\n",
       "      <td>-0.022188</td>\n",
       "      <td>0.052504</td>\n",
       "      <td>0.103379</td>\n",
       "    </tr>\n",
       "    <tr>\n",
       "      <th>AGE775214</th>\n",
       "      <td>-0.184082</td>\n",
       "      <td>0.143362</td>\n",
       "      <td>-4.476632</td>\n",
       "    </tr>\n",
       "    <tr>\n",
       "      <th>AGE18_64</th>\n",
       "      <td>0.099188</td>\n",
       "      <td>-0.225647</td>\n",
       "      <td>3.781159</td>\n",
       "    </tr>\n",
       "  </tbody>\n",
       "</table>\n",
       "</div>"
      ],
      "text/plain": [
       "           dem_corr_per_point_diff_2016  rep_corr_per_point_diff_2016  \\\n",
       "AGE135214                      0.131556                      0.040791   \n",
       "AGE295214                     -0.022188                      0.052504   \n",
       "AGE775214                     -0.184082                      0.143362   \n",
       "AGE18_64                       0.099188                     -0.225647   \n",
       "\n",
       "           diff_average2016  \n",
       "AGE135214          0.592094  \n",
       "AGE295214          0.103379  \n",
       "AGE775214         -4.476632  \n",
       "AGE18_64           3.781159  "
      ]
     },
     "execution_count": 12,
     "metadata": {},
     "output_type": "execute_result"
    }
   ],
   "source": [
    "# AGE135214 - Persons under 5 years, percent, 2014\n",
    "# AGE295214 - Persons under 18 years, percent, 2014\n",
    "# R775214 - Persons 65 years and over, percent, 2014\n",
    "# because age data in year2016 -> So used only 2016 vote result\n",
    "# for calculating correlation and difference of average \n",
    "# i make new column percent of age between 18 to 64\n",
    "\n",
    "age = ['AGE135214','AGE295214','AGE775214']\n",
    "\n",
    "High_Pref_Dem2016['AGE18_64'] = 100 - (High_Pref_Dem2016[age[0]]+High_Pref_Dem2016[age[1]]+High_Pref_Dem2016[age[2]])\n",
    "High_Pref_Rep2016['AGE18_64'] = 100 - (High_Pref_Rep2016[age[0]]+High_Pref_Rep2016[age[1]]+High_Pref_Rep2016[age[2]])\n",
    "age = age+['AGE18_64']\n",
    "        \n",
    "corr_Dem2016 = High_Pref_Dem2016[age+['SEX255214','per_point_diff_2016']].corr()[:4]\n",
    "corr_Rep2016 = High_Pref_Rep2016[age+['SEX255214','per_point_diff_2016']].corr()[:4]\n",
    "\n",
    "corr_Dem2016.rename(columns = {'per_point_diff_2016':'dem_corr_per_point_diff_2016'},inplace=True)\n",
    "corr_Rep2016.rename(columns = {'per_point_diff_2016':'rep_corr_per_point_diff_2016'},inplace=True)\n",
    "\n",
    "\n",
    "\n",
    "diff_age_average2016 = High_Pref_Dem2016[age].mean() - High_Pref_Rep2016[age].mean()\n",
    "\n",
    "result = pd.DataFrame([corr_Dem2016['dem_corr_per_point_diff_2016'],corr_Rep2016['rep_corr_per_point_diff_2016'],diff_age_average2016])\n",
    "result = result.transpose()\n",
    "result.rename(columns = {'Unnamed 0': 'diff_average2016'},inplace=True)\n",
    "\n",
    "print('Age result in 2016 vote election')\n",
    "result"
   ]
  },
  {
   "cell_type": "code",
   "execution_count": 13,
   "metadata": {},
   "outputs": [],
   "source": [
    "selected_age = ['AGE775214']"
   ]
  },
  {
   "cell_type": "markdown",
   "metadata": {},
   "source": [
    "# 3.About Education Data and columns which can be applied only 2012 election data"
   ]
  },
  {
   "cell_type": "code",
   "execution_count": 14,
   "metadata": {},
   "outputs": [
    {
     "name": "stdout",
     "output_type": "stream",
     "text": [
      "Education&Others result in 2012 vote election\n"
     ]
    },
    {
     "data": {
      "text/html": [
       "<div>\n",
       "<style scoped>\n",
       "    .dataframe tbody tr th:only-of-type {\n",
       "        vertical-align: middle;\n",
       "    }\n",
       "\n",
       "    .dataframe tbody tr th {\n",
       "        vertical-align: top;\n",
       "    }\n",
       "\n",
       "    .dataframe thead th {\n",
       "        text-align: right;\n",
       "    }\n",
       "</style>\n",
       "<table border=\"1\" class=\"dataframe\">\n",
       "  <thead>\n",
       "    <tr style=\"text-align: right;\">\n",
       "      <th></th>\n",
       "      <th>dem_corr_per_point_diff_2012</th>\n",
       "      <th>rep_corr_per_point_diff_2012</th>\n",
       "      <th>diff_average2012</th>\n",
       "    </tr>\n",
       "  </thead>\n",
       "  <tbody>\n",
       "    <tr>\n",
       "      <th>POP060210</th>\n",
       "      <td>0.316682</td>\n",
       "      <td>-0.173931</td>\n",
       "      <td>1509.470802</td>\n",
       "    </tr>\n",
       "    <tr>\n",
       "      <th>LND110210</th>\n",
       "      <td>-0.023904</td>\n",
       "      <td>0.103395</td>\n",
       "      <td>-113.840957</td>\n",
       "    </tr>\n",
       "    <tr>\n",
       "      <th>POP815213</th>\n",
       "      <td>0.246394</td>\n",
       "      <td>0.112605</td>\n",
       "      <td>10.652564</td>\n",
       "    </tr>\n",
       "    <tr>\n",
       "      <th>EDU635213</th>\n",
       "      <td>-0.222494</td>\n",
       "      <td>0.065575</td>\n",
       "      <td>-1.044108</td>\n",
       "    </tr>\n",
       "    <tr>\n",
       "      <th>EDU685213</th>\n",
       "      <td>0.001393</td>\n",
       "      <td>0.082959</td>\n",
       "      <td>8.498965</td>\n",
       "    </tr>\n",
       "  </tbody>\n",
       "</table>\n",
       "</div>"
      ],
      "text/plain": [
       "           dem_corr_per_point_diff_2012  rep_corr_per_point_diff_2012  \\\n",
       "POP060210                      0.316682                     -0.173931   \n",
       "LND110210                     -0.023904                      0.103395   \n",
       "POP815213                      0.246394                      0.112605   \n",
       "EDU635213                     -0.222494                      0.065575   \n",
       "EDU685213                      0.001393                      0.082959   \n",
       "\n",
       "           diff_average2012  \n",
       "POP060210       1509.470802  \n",
       "LND110210       -113.840957  \n",
       "POP815213         10.652564  \n",
       "EDU635213         -1.044108  \n",
       "EDU685213          8.498965  "
      ]
     },
     "execution_count": 14,
     "metadata": {},
     "output_type": "execute_result"
    }
   ],
   "source": [
    "# POP060210 - 인구밀집도\n",
    "# LND110210 - Land area in square miles, 2010\n",
    "# POP815213 - Language other than English spoken at home, pct age 5+, 2009-2013\n",
    "# EDU635213 - High school graduate or higher, percent of persons age 25+, 2009-2013\n",
    "# EDU685213 -Bachelor's degree or higher, percent of persons age 25+, 2009-2013\n",
    "# Above 3 data can usesd in 2012 only because interval is 2009 to 2013\n",
    "\n",
    "\n",
    "edu_others = ['POP060210','LND110210','POP815213','EDU635213','EDU685213']\n",
    "corr_Dem2012 = High_Pref_Dem2012[edu_others+['per_point_diff_2012']].corr()[:len(edu_others)]\n",
    "corr_Rep2012 = High_Pref_Rep2012[edu_others+['per_point_diff_2012']].corr()[:len(edu_others)]\n",
    "\n",
    "corr_Dem2012.rename(columns = {'per_point_diff_2012':'dem_corr_per_point_diff_2012'},inplace=True)\n",
    "corr_Rep2012.rename(columns = {'per_point_diff_2012':'rep_corr_per_point_diff_2012'},inplace=True)\n",
    "\n",
    "diff_edu_others_average2012 = High_Pref_Dem2012[edu_others].mean() - High_Pref_Rep2012[edu_others].mean()\n",
    "\n",
    "result = pd.DataFrame([corr_Dem2012['dem_corr_per_point_diff_2012'],corr_Rep2012['rep_corr_per_point_diff_2012'],diff_edu_others_average2012])\n",
    "result = result.transpose()\n",
    "result.rename(columns = {'Unnamed 0': 'diff_average2012'},inplace=True)\n",
    "\n",
    "print('Education&Others result in 2012 vote election')\n",
    "result"
   ]
  },
  {
   "cell_type": "code",
   "execution_count": 15,
   "metadata": {},
   "outputs": [
    {
     "name": "stdout",
     "output_type": "stream",
     "text": [
      "count      269.000000\n",
      "mean      1570.233829\n",
      "std       5622.774393\n",
      "min          0.600000\n",
      "25%         25.100000\n",
      "50%         88.900000\n",
      "75%       1144.900000\n",
      "max      69467.500000\n",
      "Name: POP060210, dtype: float64\n",
      "\n",
      " count    1163.000000\n",
      "mean       60.763027\n",
      "std       116.886489\n",
      "min         0.100000\n",
      "25%         7.150000\n",
      "50%        28.000000\n",
      "75%        67.600000\n",
      "max      2315.300000\n",
      "Name: POP060210, dtype: float64\n"
     ]
    }
   ],
   "source": [
    "print(High_Pref_Dem2012['POP060210'].describe())\n",
    "print(\"\\n\",High_Pref_Rep2012['POP060210'].describe())"
   ]
  },
  {
   "cell_type": "code",
   "execution_count": 16,
   "metadata": {},
   "outputs": [],
   "source": [
    "selected_pop= ['POP060210']"
   ]
  },
  {
   "cell_type": "markdown",
   "metadata": {},
   "source": [
    "# 4.About Income and Employment"
   ]
  },
  {
   "cell_type": "code",
   "execution_count": 17,
   "metadata": {},
   "outputs": [
    {
     "name": "stdout",
     "output_type": "stream",
     "text": [
      "Income&Employment result in 2012 vote election\n"
     ]
    },
    {
     "data": {
      "text/html": [
       "<div>\n",
       "<style scoped>\n",
       "    .dataframe tbody tr th:only-of-type {\n",
       "        vertical-align: middle;\n",
       "    }\n",
       "\n",
       "    .dataframe tbody tr th {\n",
       "        vertical-align: top;\n",
       "    }\n",
       "\n",
       "    .dataframe thead th {\n",
       "        text-align: right;\n",
       "    }\n",
       "</style>\n",
       "<table border=\"1\" class=\"dataframe\">\n",
       "  <thead>\n",
       "    <tr style=\"text-align: right;\">\n",
       "      <th></th>\n",
       "      <th>dem_corr_per_point_diff_2012</th>\n",
       "      <th>rep_corr_per_point_diff_2012</th>\n",
       "      <th>dem_corr_per_point_diff_2016</th>\n",
       "      <th>rep_corr_per_point_diff_2016</th>\n",
       "      <th>diff_average2012</th>\n",
       "      <th>diff_average2016</th>\n",
       "    </tr>\n",
       "  </thead>\n",
       "  <tbody>\n",
       "    <tr>\n",
       "      <th>VET605213</th>\n",
       "      <td>-0.333662</td>\n",
       "      <td>-0.181628</td>\n",
       "      <td>-0.327463</td>\n",
       "      <td>-0.136206</td>\n",
       "      <td>-1.707864</td>\n",
       "      <td>-2.316656</td>\n",
       "    </tr>\n",
       "    <tr>\n",
       "      <th>LFE305213</th>\n",
       "      <td>0.147855</td>\n",
       "      <td>-0.185062</td>\n",
       "      <td>0.246388</td>\n",
       "      <td>-0.143512</td>\n",
       "      <td>1.064067</td>\n",
       "      <td>0.976849</td>\n",
       "    </tr>\n",
       "    <tr>\n",
       "      <th>BZA010213</th>\n",
       "      <td>0.089225</td>\n",
       "      <td>-0.152350</td>\n",
       "      <td>0.137682</td>\n",
       "      <td>-0.270568</td>\n",
       "      <td>7581.250141</td>\n",
       "      <td>10341.104683</td>\n",
       "    </tr>\n",
       "    <tr>\n",
       "      <th>BZA110213</th>\n",
       "      <td>0.006862</td>\n",
       "      <td>-0.065322</td>\n",
       "      <td>0.082944</td>\n",
       "      <td>-0.139382</td>\n",
       "      <td>9.483454</td>\n",
       "      <td>13.725231</td>\n",
       "    </tr>\n",
       "    <tr>\n",
       "      <th>NES010213</th>\n",
       "      <td>0.091184</td>\n",
       "      <td>-0.126085</td>\n",
       "      <td>0.121689</td>\n",
       "      <td>-0.235772</td>\n",
       "      <td>24831.398041</td>\n",
       "      <td>34518.295129</td>\n",
       "    </tr>\n",
       "    <tr>\n",
       "      <th>INC910213</th>\n",
       "      <td>-0.068625</td>\n",
       "      <td>0.121061</td>\n",
       "      <td>0.123475</td>\n",
       "      <td>0.087211</td>\n",
       "      <td>2.878124</td>\n",
       "      <td>5.526776</td>\n",
       "    </tr>\n",
       "    <tr>\n",
       "      <th>INC110213</th>\n",
       "      <td>-0.130169</td>\n",
       "      <td>0.118910</td>\n",
       "      <td>0.032497</td>\n",
       "      <td>-0.000742</td>\n",
       "      <td>1.253961</td>\n",
       "      <td>4.034725</td>\n",
       "    </tr>\n",
       "    <tr>\n",
       "      <th>PVY020213</th>\n",
       "      <td>0.311761</td>\n",
       "      <td>-0.145193</td>\n",
       "      <td>0.132606</td>\n",
       "      <td>-0.052317</td>\n",
       "      <td>5.257481</td>\n",
       "      <td>5.264090</td>\n",
       "    </tr>\n",
       "  </tbody>\n",
       "</table>\n",
       "</div>"
      ],
      "text/plain": [
       "           dem_corr_per_point_diff_2012  rep_corr_per_point_diff_2012  \\\n",
       "VET605213                     -0.333662                     -0.181628   \n",
       "LFE305213                      0.147855                     -0.185062   \n",
       "BZA010213                      0.089225                     -0.152350   \n",
       "BZA110213                      0.006862                     -0.065322   \n",
       "NES010213                      0.091184                     -0.126085   \n",
       "INC910213                     -0.068625                      0.121061   \n",
       "INC110213                     -0.130169                      0.118910   \n",
       "PVY020213                      0.311761                     -0.145193   \n",
       "\n",
       "           dem_corr_per_point_diff_2016  rep_corr_per_point_diff_2016  \\\n",
       "VET605213                     -0.327463                     -0.136206   \n",
       "LFE305213                      0.246388                     -0.143512   \n",
       "BZA010213                      0.137682                     -0.270568   \n",
       "BZA110213                      0.082944                     -0.139382   \n",
       "NES010213                      0.121689                     -0.235772   \n",
       "INC910213                      0.123475                      0.087211   \n",
       "INC110213                      0.032497                     -0.000742   \n",
       "PVY020213                      0.132606                     -0.052317   \n",
       "\n",
       "           diff_average2012  diff_average2016  \n",
       "VET605213         -1.707864         -2.316656  \n",
       "LFE305213          1.064067          0.976849  \n",
       "BZA010213       7581.250141      10341.104683  \n",
       "BZA110213          9.483454         13.725231  \n",
       "NES010213      24831.398041      34518.295129  \n",
       "INC910213          2.878124          5.526776  \n",
       "INC110213          1.253961          4.034725  \n",
       "PVY020213          5.257481          5.264090  "
      ]
     },
     "execution_count": 17,
     "metadata": {},
     "output_type": "execute_result"
    }
   ],
   "source": [
    "# VET605213 - Veterans, 2009-2013\n",
    "# LFE305213 - Mean travel time to work (minutes), workers age 16+, 2009-2013\n",
    "# INC910213 - Per capita money income in past 12 months (2013 dollars), 2009-2013\n",
    "# INC110213 - Median household income, 2009-2013\n",
    "# PVY020213 - Persons below poverty level, percent, 2009-2013\n",
    "# BZA010213 - Private nonfarm establishments, 2013\n",
    "# BZA110213 - Private nonfarm employment, 2013\n",
    "# BZA115213 - Private nonfarm employment, percent change, 2012-2013\n",
    "# NES010213 - Nonemployer establishments, 2013\n",
    "\n",
    "#'VET60513','LFE305213','INC910213','INC110213','PVY020213','BZA110213','BZA115213','NES010213' are used\n",
    "# 2013 data is useful in 2012 election data \n",
    "\n",
    "inc_empl= ['VET605213','LFE305213','BZA010213','BZA110213','NES010213','INC910213','INC110213','PVY020213']\n",
    "#VET,BZA person number, so when comparing average -> hard to how much difference -> So i change to percent\n",
    "High_Pref_Dem2012['VET605213'] = (High_Pref_Dem2012['VET605213']/High_Pref_Dem2012['POP010210'])*100\n",
    "High_Pref_Rep2012['VET605213'] = (High_Pref_Rep2012['VET605213']/High_Pref_Rep2012['POP010210'])*100\n",
    "High_Pref_Dem2016['VET605213'] = (High_Pref_Dem2016['VET605213']/High_Pref_Dem2016['POP010210'])*100\n",
    "High_Pref_Rep2016['VET605213'] = (High_Pref_Rep2016['VET605213']/High_Pref_Rep2016['POP010210'])*100\n",
    "\n",
    "High_Pref_Dem2012['BZA110213'] = (High_Pref_Dem2012['BZA110213']/High_Pref_Dem2012['POP010210'])*100\n",
    "High_Pref_Rep2012['BZA110213'] = (High_Pref_Rep2012['BZA110213']/High_Pref_Rep2012['POP010210'])*100\n",
    "High_Pref_Dem2016['BZA110213'] = (High_Pref_Dem2016['BZA110213']/High_Pref_Dem2016['POP010210'])*100\n",
    "High_Pref_Rep2016['BZA110213'] = (High_Pref_Rep2016['BZA110213']/High_Pref_Rep2016['POP010210'])*100\n",
    "\n",
    "\n",
    "corr_Dem2012 = High_Pref_Dem2012[inc_empl+['per_point_diff_2012']].corr()[:len(inc_empl)]\n",
    "corr_Rep2012 = High_Pref_Rep2012[inc_empl+['per_point_diff_2012']].corr()[:len(inc_empl)]\n",
    "corr_Dem2016 = High_Pref_Dem2016[inc_empl+['per_point_diff_2016']].corr()[:len(inc_empl)]\n",
    "corr_Rep2016 = High_Pref_Rep2016[inc_empl+['per_point_diff_2016']].corr()[:len(inc_empl)]\n",
    "\n",
    "\n",
    "corr_Dem2012.rename(columns = {'per_point_diff_2012':'dem_corr_per_point_diff_2012'},inplace=True)\n",
    "corr_Rep2012.rename(columns = {'per_point_diff_2012':'rep_corr_per_point_diff_2012'},inplace=True)\n",
    "corr_Dem2016.rename(columns = {'per_point_diff_2016':'dem_corr_per_point_diff_2016'},inplace=True)\n",
    "corr_Rep2016.rename(columns = {'per_point_diff_2016':'rep_corr_per_point_diff_2016'},inplace=True)\n",
    "\n",
    "diff_inc_empl_average2012 = High_Pref_Dem2012[inc_empl].mean() - High_Pref_Rep2012[inc_empl].mean()\n",
    "diff_inc_empl_average2016 = High_Pref_Dem2016[inc_empl].mean() - High_Pref_Rep2016[inc_empl].mean()\n",
    "\n",
    "result = pd.DataFrame([corr_Dem2012['dem_corr_per_point_diff_2012'],\n",
    "                       corr_Rep2012['rep_corr_per_point_diff_2012'],\n",
    "                       corr_Dem2016['dem_corr_per_point_diff_2016'],\n",
    "                       corr_Rep2016['rep_corr_per_point_diff_2016'],\n",
    "                       diff_inc_empl_average2012,\n",
    "                       diff_inc_empl_average2016])\n",
    "result = result.transpose()\n",
    "result.rename(columns = {'Unnamed 0': 'diff_average2012','Unnamed 1': 'diff_average2016'},inplace=True)\n",
    "\n",
    "print('Income&Employment result in 2012 vote election')\n",
    "result\n"
   ]
  },
  {
   "cell_type": "code",
   "execution_count": 18,
   "metadata": {},
   "outputs": [
    {
     "name": "stdout",
     "output_type": "stream",
     "text": [
      "           NES010213    LFE305213    INC910213    INC110213\n",
      "count    3113.000000  3113.000000  3113.000000  3113.000000\n",
      "mean     7390.043367    23.088789    37.709656    37.458702\n",
      "std     28323.533632     5.358053     8.868059     9.660419\n",
      "min         0.000000     8.200000    14.029249    16.350071\n",
      "25%       746.000000    19.300000    31.839419    31.179339\n",
      "50%      1656.000000    22.800000    36.625172    36.084524\n",
      "75%      4259.000000    26.500000    41.902141    41.644170\n",
      "max    945941.000000    44.200000   100.000000   100.000000\n",
      "\n",
      "            NES010213    LFE305213    INC910213    INC110213\n",
      "count    3113.000000  3113.000000  3113.000000  3113.000000\n",
      "mean     7390.043367    23.088789    37.709656    37.458702\n",
      "std     28323.533632     5.358053     8.868059     9.660419\n",
      "min         0.000000     8.200000    14.029249    16.350071\n",
      "25%       746.000000    19.300000    31.839419    31.179339\n",
      "50%      1656.000000    22.800000    36.625172    36.084524\n",
      "75%      4259.000000    26.500000    41.902141    41.644170\n",
      "max    945941.000000    44.200000   100.000000   100.000000\n"
     ]
    }
   ],
   "source": [
    "print(data[['NES010213','LFE305213','INC910213','INC110213']].describe())\n",
    "\n",
    "print(\"\\n\",data[['NES010213','LFE305213','INC910213','INC110213']].describe())\n",
    "#--> for understanding of difference of average -> i change income and Population data to percentage value\n",
    "# income percent -> show difference in income-level"
   ]
  },
  {
   "cell_type": "code",
   "execution_count": 19,
   "metadata": {},
   "outputs": [],
   "source": [
    "selected_inc = ['PVY020213']\n",
    "selected_empl =['NES010213']"
   ]
  },
  {
   "cell_type": "code",
   "execution_count": 20,
   "metadata": {},
   "outputs": [],
   "source": [
    "#이후 시나리오 선택된 column들 중에서 3개 선택 조합 만들어 -> 그다음 모델링을해 -> Model validation 통해서 high accuracy 선택 \n",
    "#그 선택된 변수 데이터로 예측값 구한 후 accuracy ,recall, precision ,F1 구해서 결과 도출 \n",
    "variable_list = selected_age+selected_race + selected_sex+ selected_pop+selected_inc+selected_empl"
   ]
  },
  {
   "cell_type": "code",
   "execution_count": 21,
   "metadata": {},
   "outputs": [
    {
     "data": {
      "text/plain": [
       "['AGE775214', 'RHI825214', 'SEX255214', 'POP060210', 'PVY020213', 'NES010213']"
      ]
     },
     "execution_count": 21,
     "metadata": {},
     "output_type": "execute_result"
    }
   ],
   "source": [
    "variable_list"
   ]
  },
  {
   "cell_type": "code",
   "execution_count": 22,
   "metadata": {},
   "outputs": [],
   "source": [
    "variable_set = list(itertools.combinations(variable_list,3))\n",
    "\n",
    "for i in range(len(variable_set)):\n",
    "    variable_set[i] = list(variable_set[i])\n",
    "    "
   ]
  },
  {
   "cell_type": "code",
   "execution_count": 23,
   "metadata": {},
   "outputs": [],
   "source": [
    "data.reset_index(drop=True,inplace=True)\n",
    "\n",
    "logi = LogisticRegression(C=1)\n",
    "kfold = KFold(n_splits=5,shuffle=True)\n",
    "\n",
    "score_list = []\n",
    "val_score_list = [] \n",
    "target = data['target']\n",
    "\n",
    "report_set = []\n",
    "#these 3 list are used after filter variable sets for representing classfication report and roc curve\n",
    "y_true = []\n",
    "y_pred = [] \n",
    "y_proba = []\n",
    "for i in variable_set:\n",
    "    train_X,test_X,train_y,test_y = train_test_split(data[i], target, test_size=0.2, stratify=target, random_state=10)\n",
    "    logi.fit(train_X,train_y)\n",
    "    score_list.append(logi.score(test_X,test_y))\n",
    "    each_val_score = []\n",
    "    y_true.append(test_y)\n",
    "    y_pred.append(logi.predict(test_X))\n",
    "    y_proba.append(logi.predict_proba(test_X))\n",
    "    \n",
    "    for train_idx, test_idx in kfold.split(data):\n",
    "        train_X, val_X = data[i].iloc[train_idx],data[i].iloc[test_idx]\n",
    "        train_y, val_y = target[train_idx],target[test_idx]\n",
    "        logi.fit(train_X,train_y)\n",
    "        each_val_score.append(logi.score(val_X,val_y))\n",
    "    \n",
    "    \n",
    "\n",
    "    val_score_list.append(each_val_score) \n",
    "    \n"
   ]
  },
  {
   "cell_type": "code",
   "execution_count": 24,
   "metadata": {},
   "outputs": [
    {
     "name": "stdout",
     "output_type": "stream",
     "text": [
      "max 0.9065\n"
     ]
    },
    {
     "data": {
      "text/plain": [
       "[0.8859702817504761,\n",
       " 0.9029940181571382,\n",
       " 0.8769701630426369,\n",
       " 0.8846830758749542,\n",
       " 0.8743962674126337,\n",
       " 0.8602607443497648,\n",
       " 0.8721490764013977,\n",
       " 0.8824219495956191,\n",
       " 0.8782558205550366,\n",
       " 0.8811419694146672,\n",
       " 0.9065186087441226,\n",
       " 0.888210763188183,\n",
       " 0.8991391101041017,\n",
       " 0.9045950256254096,\n",
       " 0.884357919619309,\n",
       " 0.8962410904605347,\n",
       " 0.8785783962054781,\n",
       " 0.8785701382688268,\n",
       " 0.8708670317362828,\n",
       " 0.8737588579273611]"
      ]
     },
     "execution_count": 24,
     "metadata": {},
     "output_type": "execute_result"
    }
   ],
   "source": [
    "mean_val_score = []\n",
    "for i in range(len(val_score_list)):\n",
    "    mean_val_score.append(np.mean(val_score_list[i]))\n",
    "print(\"max %.4f\" %(max(mean_val_score)))\n",
    "mean_val_score"
   ]
  },
  {
   "cell_type": "code",
   "execution_count": 25,
   "metadata": {},
   "outputs": [
    {
     "data": {
      "text/plain": [
       "[1, 10, 12, 13, 15]"
      ]
     },
     "execution_count": 25,
     "metadata": {},
     "output_type": "execute_result"
    }
   ],
   "source": [
    "top_index = []\n",
    "mean_val_score\n",
    "for i in range(len(variable_set)): \n",
    "    A = mean_val_score[i]\n",
    "    if A>0.89:\n",
    "        top_index.append(mean_val_score.index(A))\n",
    "top_index        "
   ]
  },
  {
   "cell_type": "code",
   "execution_count": 26,
   "metadata": {},
   "outputs": [
    {
     "data": {
      "text/plain": [
       "[['AGE775214', 'RHI825214', 'POP060210'],\n",
       " ['RHI825214', 'SEX255214', 'POP060210'],\n",
       " ['RHI825214', 'SEX255214', 'NES010213'],\n",
       " ['RHI825214', 'POP060210', 'PVY020213'],\n",
       " ['RHI825214', 'PVY020213', 'NES010213']]"
      ]
     },
     "execution_count": 26,
     "metadata": {},
     "output_type": "execute_result"
    }
   ],
   "source": [
    "new_variable_set = []\n",
    "for i in top_index:\n",
    "    new_variable_set.append(variable_set[i])\n",
    "new_variable_set"
   ]
  },
  {
   "cell_type": "code",
   "execution_count": 27,
   "metadata": {},
   "outputs": [
    {
     "name": "stdout",
     "output_type": "stream",
     "text": [
      "['AGE775214', 'RHI825214', 'POP060210'] mean_score :  0.9029940181571382 \n",
      "               precision    recall  f1-score   support\n",
      "\n",
      "           0       0.91      0.98      0.94       525\n",
      "           1       0.81      0.45      0.58        98\n",
      "\n",
      "    accuracy                           0.90       623\n",
      "   macro avg       0.86      0.71      0.76       623\n",
      "weighted avg       0.89      0.90      0.88       623\n",
      "\n",
      "['RHI825214', 'SEX255214', 'POP060210'] mean_score :  0.9065186087441226 \n",
      "               precision    recall  f1-score   support\n",
      "\n",
      "           0       0.91      0.98      0.94       525\n",
      "           1       0.82      0.50      0.62        98\n",
      "\n",
      "    accuracy                           0.90       623\n",
      "   macro avg       0.86      0.74      0.78       623\n",
      "weighted avg       0.90      0.90      0.89       623\n",
      "\n",
      "['RHI825214', 'SEX255214', 'NES010213'] mean_score :  0.8991391101041017 \n",
      "               precision    recall  f1-score   support\n",
      "\n",
      "           0       0.90      0.98      0.94       525\n",
      "           1       0.80      0.44      0.57        98\n",
      "\n",
      "    accuracy                           0.89       623\n",
      "   macro avg       0.85      0.71      0.75       623\n",
      "weighted avg       0.89      0.89      0.88       623\n",
      "\n",
      "['RHI825214', 'POP060210', 'PVY020213'] mean_score :  0.9045950256254096 \n",
      "               precision    recall  f1-score   support\n",
      "\n",
      "           0       0.91      0.98      0.94       525\n",
      "           1       0.83      0.45      0.58        98\n",
      "\n",
      "    accuracy                           0.90       623\n",
      "   macro avg       0.87      0.72      0.76       623\n",
      "weighted avg       0.89      0.90      0.89       623\n",
      "\n",
      "['RHI825214', 'PVY020213', 'NES010213'] mean_score :  0.8962410904605347 \n",
      "               precision    recall  f1-score   support\n",
      "\n",
      "           0       0.89      0.99      0.94       525\n",
      "           1       0.86      0.37      0.51        98\n",
      "\n",
      "    accuracy                           0.89       623\n",
      "   macro avg       0.88      0.68      0.73       623\n",
      "weighted avg       0.89      0.89      0.87       623\n",
      "\n"
     ]
    }
   ],
   "source": [
    "var_index = 0\n",
    "for i in top_index:\n",
    "    print(new_variable_set[var_index],\"mean_score : \" ,mean_val_score[i],\"\\n\",\n",
    "          classification_report(y_true[i],y_pred[i]))\n",
    "    var_index = var_index + 1\n"
   ]
  },
  {
   "cell_type": "code",
   "execution_count": 28,
   "metadata": {},
   "outputs": [
    {
     "name": "stdout",
     "output_type": "stream",
     "text": [
      "\n",
      " ['AGE775214', 'RHI825214', 'POP060210']\n"
     ]
    },
    {
     "data": {
      "image/png": "[encoded data removed]",
      "text/plain": [
       "<Figure size 432x288 with 1 Axes>"
      ]
     },
     "metadata": {
      "needs_background": "light"
     },
     "output_type": "display_data"
    },
    {
     "name": "stdout",
     "output_type": "stream",
     "text": [
      "\n",
      "roc score is 0.8993\n",
      "\n",
      " ['RHI825214', 'SEX255214', 'POP060210']\n"
     ]
    },
    {
     "data": {
      "image/png": "[encoded data removed]",
      "text/plain": [
       "<Figure size 432x288 with 1 Axes>"
      ]
     },
     "metadata": {
      "needs_background": "light"
     },
     "output_type": "display_data"
    },
    {
     "name": "stdout",
     "output_type": "stream",
     "text": [
      "\n",
      "roc score is 0.8881\n",
      "\n",
      " ['RHI825214', 'SEX255214', 'NES010213']\n"
     ]
    },
    {
     "data": {
      "image/png": "[encoded data removed]",
      "text/plain": [
       "<Figure size 432x288 with 1 Axes>"
      ]
     },
     "metadata": {
      "needs_background": "light"
     },
     "output_type": "display_data"
    },
    {
     "name": "stdout",
     "output_type": "stream",
     "text": [
      "\n",
      "roc score is 0.8889\n",
      "\n",
      " ['RHI825214', 'POP060210', 'PVY020213']\n"
     ]
    },
    {
     "data": {
      "image/png": "[encoded data removed]",
      "text/plain": [
       "<Figure size 432x288 with 1 Axes>"
      ]
     },
     "metadata": {
      "needs_background": "light"
     },
     "output_type": "display_data"
    },
    {
     "name": "stdout",
     "output_type": "stream",
     "text": [
      "\n",
      "roc score is 0.8945\n",
      "\n",
      " ['RHI825214', 'PVY020213', 'NES010213']\n"
     ]
    },
    {
     "data": {
      "image/png": "[encoded data removed]",
      "text/plain": [
       "<Figure size 432x288 with 1 Axes>"
      ]
     },
     "metadata": {
      "needs_background": "light"
     },
     "output_type": "display_data"
    },
    {
     "name": "stdout",
     "output_type": "stream",
     "text": [
      "\n",
      "roc score is 0.8876\n"
     ]
    }
   ],
   "source": [
    "#for roc curve AUROC value\n",
    "xx = np.linspace(0,1,10)\n",
    "var_index = 0\n",
    "for i in top_index:\n",
    "    fpr, tpr, thresholds = roc_curve(y_true[i],y_proba[i][:,1],pos_label=1)\n",
    "    print(\"\\n\",new_variable_set[var_index])\n",
    "    plt.plot(fpr,tpr)\n",
    "    plt.plot(xx,xx,'k--')#y = x graph\n",
    "    plt.show()\n",
    "    print(\"\\nroc score is %.4f\" %roc_auc_score(y_true[i],y_proba[i][:,1]))\n",
    "    var_index = var_index+1"
   ]
  },
  {
   "cell_type": "code",
   "execution_count": null,
   "metadata": {},
   "outputs": [],
   "source": []
  }
 ],
 "metadata": {
  "kernelspec": {
   "display_name": "Python 3",
   "language": "python",
   "name": "python3"
  },
  "language_info": {
   "codemirror_mode": {
    "name": "ipython",
    "version": 3
   },
   "file_extension": ".py",
   "mimetype": "text/x-python",
   "name": "python",
   "nbconvert_exporter": "python",
   "pygments_lexer": "ipython3",
   "version": "3.7.6"
  }
 },
 "nbformat": 4,
 "nbformat_minor": 4
}
