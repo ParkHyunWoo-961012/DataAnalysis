{
 "cells": [
  {
   "cell_type": "code",
   "execution_count": 1,
   "metadata": {},
   "outputs": [
    {
     "data": {
      "text/plain": [
       "id                 int64\n",
       "date              object\n",
       "price            float64\n",
       "bedrooms           int64\n",
       "bathrooms        float64\n",
       "sqft_living        int64\n",
       "sqft_lot           int64\n",
       "floors           float64\n",
       "waterfront         int64\n",
       "view               int64\n",
       "condition          int64\n",
       "grade              int64\n",
       "sqft_above         int64\n",
       "sqft_basement      int64\n",
       "yr_built           int64\n",
       "yr_renovated       int64\n",
       "zipcode            int64\n",
       "lat              float64\n",
       "long             float64\n",
       "sqft_living15      int64\n",
       "sqft_lot15         int64\n",
       "dtype: object"
      ]
     },
     "execution_count": 1,
     "metadata": {},
     "output_type": "execute_result"
    }
   ],
   "source": [
    "import numpy as np\n",
    "import pandas as pd\n",
    "import matplotlib.pyplot as plt\n",
    "\n",
    "house = pd.read_csv('kc_house_data.csv')\n",
    "house.dtypes"
   ]
  },
  {
   "cell_type": "code",
   "execution_count": 2,
   "metadata": {},
   "outputs": [],
   "source": [
    "house.insert(1,'recent_built',0)\n",
    "house['recent_built'] = house.apply(lambda x : x['yr_built']\n",
    "                            if (x['yr_built']>=x['yr_renovated'])\n",
    "                            else x['yr_renovated'],axis=1)\n",
    "house.drop(columns= ['yr_built','yr_renovated'],inplace =True)\n",
    "\n",
    "\n",
    "house.drop(house[(house['price']>3000000) & (house['bathrooms']==1.75)|(house['price']>1000000)&(house['bathrooms']==0)].index,inplace=True)\n",
    "house.drop(house[house['price']>3500000].index,inplace=True)\n",
    "house.drop(house[house['sqft_living']>8000].index,inplace=True)\n",
    "house.drop(house[house['sqft_above']>7000].index,inplace=True)\n",
    "\n"
   ]
  },
  {
   "cell_type": "code",
   "execution_count": 3,
   "metadata": {},
   "outputs": [
    {
     "data": {
      "text/html": [
       "<div>\n",
       "<style scoped>\n",
       "    .dataframe tbody tr th:only-of-type {\n",
       "        vertical-align: middle;\n",
       "    }\n",
       "\n",
       "    .dataframe tbody tr th {\n",
       "        vertical-align: top;\n",
       "    }\n",
       "\n",
       "    .dataframe thead th {\n",
       "        text-align: right;\n",
       "    }\n",
       "</style>\n",
       "<table border=\"1\" class=\"dataframe\">\n",
       "  <thead>\n",
       "    <tr style=\"text-align: right;\">\n",
       "      <th></th>\n",
       "      <th>vif value</th>\n",
       "      <th>explanatory variables</th>\n",
       "    </tr>\n",
       "  </thead>\n",
       "  <tbody>\n",
       "    <tr>\n",
       "      <th>0</th>\n",
       "      <td>101.701657</td>\n",
       "      <td>Intercept</td>\n",
       "    </tr>\n",
       "    <tr>\n",
       "      <th>1</th>\n",
       "      <td>2.060369</td>\n",
       "      <td>bathrooms</td>\n",
       "    </tr>\n",
       "    <tr>\n",
       "      <th>2</th>\n",
       "      <td>3.217097</td>\n",
       "      <td>sqft_above</td>\n",
       "    </tr>\n",
       "    <tr>\n",
       "      <th>3</th>\n",
       "      <td>2.549807</td>\n",
       "      <td>sqft_living15</td>\n",
       "    </tr>\n",
       "    <tr>\n",
       "      <th>4</th>\n",
       "      <td>1.110155</td>\n",
       "      <td>view</td>\n",
       "    </tr>\n",
       "    <tr>\n",
       "      <th>5</th>\n",
       "      <td>2.908025</td>\n",
       "      <td>grade</td>\n",
       "    </tr>\n",
       "    <tr>\n",
       "      <th>6</th>\n",
       "      <td>1.036314</td>\n",
       "      <td>condition</td>\n",
       "    </tr>\n",
       "  </tbody>\n",
       "</table>\n",
       "</div>"
      ],
      "text/plain": [
       "    vif value explanatory variables\n",
       "0  101.701657             Intercept\n",
       "1    2.060369             bathrooms\n",
       "2    3.217097            sqft_above\n",
       "3    2.549807         sqft_living15\n",
       "4    1.110155                  view\n",
       "5    2.908025                 grade\n",
       "6    1.036314             condition"
      ]
     },
     "execution_count": 3,
     "metadata": {},
     "output_type": "execute_result"
    }
   ],
   "source": [
    "from statsmodels.stats.outliers_influence import variance_inflation_factor\n",
    "from patsy import dmatrices\n",
    "\n",
    "y, X = dmatrices('price ~bathrooms+sqft_above+sqft_living15+view+grade+condition',house, return_type = 'dataframe')\n",
    "vif = pd.DataFrame()\n",
    "vif[\"vif value\"] = [variance_inflation_factor(X.values,i) for i in range(0,7)]\n",
    "vif[\"explanatory variables\"] = X.columns\n",
    "vif"
   ]
  },
  {
   "cell_type": "code",
   "execution_count": 4,
   "metadata": {},
   "outputs": [
    {
     "data": {
      "text/plain": [
       "0    19480\n",
       "2      958\n",
       "3      508\n",
       "1      331\n",
       "4      304\n",
       "Name: view, dtype: int64"
      ]
     },
     "execution_count": 4,
     "metadata": {},
     "output_type": "execute_result"
    }
   ],
   "source": [
    "house['view'].value_counts()"
   ]
  },
  {
   "cell_type": "code",
   "execution_count": 5,
   "metadata": {},
   "outputs": [
    {
     "data": {
      "text/plain": [
       "2.50    5380\n",
       "1.00    3852\n",
       "1.75    3047\n",
       "2.25    2047\n",
       "2.00    1930\n",
       "1.50    1446\n",
       "2.75    1185\n",
       "3.00     752\n",
       "3.50     730\n",
       "3.25     586\n",
       "3.75     154\n",
       "4.00     134\n",
       "4.50      98\n",
       "4.25      77\n",
       "0.75      72\n",
       "4.75      21\n",
       "5.00      20\n",
       "5.25      12\n",
       "1.25       9\n",
       "0.00       8\n",
       "5.50       7\n",
       "0.50       4\n",
       "5.75       3\n",
       "6.00       3\n",
       "6.50       2\n",
       "7.50       1\n",
       "6.75       1\n",
       "Name: bathrooms, dtype: int64"
      ]
     },
     "execution_count": 5,
     "metadata": {},
     "output_type": "execute_result"
    }
   ],
   "source": [
    "house['bathrooms'].value_counts()"
   ]
  },
  {
   "cell_type": "code",
   "execution_count": 6,
   "metadata": {},
   "outputs": [
    {
     "data": {
      "text/plain": [
       "3    14006\n",
       "4     5673\n",
       "5     1700\n",
       "2      172\n",
       "1       30\n",
       "Name: condition, dtype: int64"
      ]
     },
     "execution_count": 6,
     "metadata": {},
     "output_type": "execute_result"
    }
   ],
   "source": [
    "house['condition'].value_counts()"
   ]
  },
  {
   "cell_type": "code",
   "execution_count": 7,
   "metadata": {},
   "outputs": [
    {
     "data": {
      "text/plain": [
       "7     8980\n",
       "8     6068\n",
       "9     2615\n",
       "6     2038\n",
       "10    1132\n",
       "11     392\n",
       "5      242\n",
       "12      75\n",
       "4       29\n",
       "13       6\n",
       "3        3\n",
       "1        1\n",
       "Name: grade, dtype: int64"
      ]
     },
     "execution_count": 7,
     "metadata": {},
     "output_type": "execute_result"
    }
   ],
   "source": [
    "house['grade'].value_counts()"
   ]
  },
  {
   "cell_type": "code",
   "execution_count": 8,
   "metadata": {},
   "outputs": [],
   "source": [
    "catvar = ['bathrooms','view','condition','grade']\n",
    "for c in catvar:\n",
    "    dummy = pd.get_dummies(house[c],prefix = c, drop_first = True)\n",
    "    house = pd.concat((house,dummy),axis=1)"
   ]
  },
  {
   "cell_type": "code",
   "execution_count": 9,
   "metadata": {},
   "outputs": [
    {
     "data": {
      "text/plain": [
       "{'bathrooms': F_onewayResult(statistic=394.24804325948566, pvalue=0.0),\n",
       " 'view': F_onewayResult(statistic=1019.6802299071574, pvalue=0.0),\n",
       " 'condition': F_onewayResult(statistic=44.447209482720616, pvalue=3.1772034277119416e-37),\n",
       " 'grade': F_onewayResult(statistic=2005.0924547964355, pvalue=0.0)}"
      ]
     },
     "execution_count": 9,
     "metadata": {},
     "output_type": "execute_result"
    }
   ],
   "source": [
    "from scipy.stats import f_oneway\n",
    "f_value = {}\n",
    "for i in catvar:\n",
    "    groups = [x[1].values for x in house.groupby([i])['price']]\n",
    "    f_value[i] = f_oneway(*groups)\n",
    "f_value"
   ]
  },
  {
   "cell_type": "code",
   "execution_count": 10,
   "metadata": {},
   "outputs": [
    {
     "data": {
      "text/html": [
       "<table class=\"simpletable\">\n",
       "<caption>OLS Regression Results</caption>\n",
       "<tr>\n",
       "  <th>Dep. Variable:</th>          <td>price</td>      <th>  R-squared:         </th>  <td>   0.615</td>  \n",
       "</tr>\n",
       "<tr>\n",
       "  <th>Model:</th>                   <td>OLS</td>       <th>  Adj. R-squared:    </th>  <td>   0.614</td>  \n",
       "</tr>\n",
       "<tr>\n",
       "  <th>Method:</th>             <td>Least Squares</td>  <th>  F-statistic:       </th>  <td>   732.8</td>  \n",
       "</tr>\n",
       "<tr>\n",
       "  <th>Date:</th>             <td>Wed, 29 Sep 2021</td> <th>  Prob (F-statistic):</th>   <td>  0.00</td>   \n",
       "</tr>\n",
       "<tr>\n",
       "  <th>Time:</th>                 <td>13:06:01</td>     <th>  Log-Likelihood:    </th> <td>-2.9511e+05</td>\n",
       "</tr>\n",
       "<tr>\n",
       "  <th>No. Observations:</th>      <td> 21581</td>      <th>  AIC:               </th>  <td>5.903e+05</td> \n",
       "</tr>\n",
       "<tr>\n",
       "  <th>Df Residuals:</th>          <td> 21533</td>      <th>  BIC:               </th>  <td>5.907e+05</td> \n",
       "</tr>\n",
       "<tr>\n",
       "  <th>Df Model:</th>              <td>    47</td>      <th>                     </th>      <td> </td>     \n",
       "</tr>\n",
       "<tr>\n",
       "  <th>Covariance Type:</th>      <td>nonrobust</td>    <th>                     </th>      <td> </td>     \n",
       "</tr>\n",
       "</table>\n",
       "<table class=\"simpletable\">\n",
       "<tr>\n",
       "         <td></td>           <th>coef</th>     <th>std err</th>      <th>t</th>      <th>P>|t|</th>  <th>[0.025</th>    <th>0.975]</th>  \n",
       "</tr>\n",
       "<tr>\n",
       "  <th>const</th>          <td> 3.089e+04</td> <td>  2.1e+05</td> <td>    0.147</td> <td> 0.883</td> <td>-3.82e+05</td> <td> 4.43e+05</td>\n",
       "</tr>\n",
       "<tr>\n",
       "  <th>sqft_above</th>     <td>   36.9703</td> <td>    3.292</td> <td>   11.231</td> <td> 0.000</td> <td>   30.518</td> <td>   43.422</td>\n",
       "</tr>\n",
       "<tr>\n",
       "  <th>sqft_living15</th>  <td>   61.9659</td> <td>    3.434</td> <td>   18.043</td> <td> 0.000</td> <td>   55.234</td> <td>   68.698</td>\n",
       "</tr>\n",
       "<tr>\n",
       "  <th>bathrooms_0.5</th>  <td> 3.376e+04</td> <td> 1.38e+05</td> <td>    0.245</td> <td> 0.806</td> <td>-2.36e+05</td> <td> 3.03e+05</td>\n",
       "</tr>\n",
       "<tr>\n",
       "  <th>bathrooms_0.75</th> <td> 7.609e+04</td> <td> 9.14e+04</td> <td>    0.832</td> <td> 0.405</td> <td>-1.03e+05</td> <td> 2.55e+05</td>\n",
       "</tr>\n",
       "<tr>\n",
       "  <th>bathrooms_1.0</th>  <td> 1.056e+05</td> <td> 8.86e+04</td> <td>    1.193</td> <td> 0.233</td> <td> -6.8e+04</td> <td> 2.79e+05</td>\n",
       "</tr>\n",
       "<tr>\n",
       "  <th>bathrooms_1.25</th> <td> 1.152e+05</td> <td> 1.13e+05</td> <td>    1.020</td> <td> 0.308</td> <td>-1.06e+05</td> <td> 3.37e+05</td>\n",
       "</tr>\n",
       "<tr>\n",
       "  <th>bathrooms_1.5</th>  <td> 9.745e+04</td> <td> 8.86e+04</td> <td>    1.099</td> <td> 0.272</td> <td>-7.63e+04</td> <td> 2.71e+05</td>\n",
       "</tr>\n",
       "<tr>\n",
       "  <th>bathrooms_1.75</th> <td> 1.019e+05</td> <td> 8.86e+04</td> <td>    1.151</td> <td> 0.250</td> <td>-7.17e+04</td> <td> 2.75e+05</td>\n",
       "</tr>\n",
       "<tr>\n",
       "  <th>bathrooms_2.0</th>  <td> 1.102e+05</td> <td> 8.86e+04</td> <td>    1.243</td> <td> 0.214</td> <td>-6.35e+04</td> <td> 2.84e+05</td>\n",
       "</tr>\n",
       "<tr>\n",
       "  <th>bathrooms_2.25</th> <td> 1.068e+05</td> <td> 8.86e+04</td> <td>    1.206</td> <td> 0.228</td> <td>-6.68e+04</td> <td>  2.8e+05</td>\n",
       "</tr>\n",
       "<tr>\n",
       "  <th>bathrooms_2.5</th>  <td> 6.197e+04</td> <td> 8.85e+04</td> <td>    0.700</td> <td> 0.484</td> <td>-1.12e+05</td> <td> 2.36e+05</td>\n",
       "</tr>\n",
       "<tr>\n",
       "  <th>bathrooms_2.75</th> <td> 1.209e+05</td> <td> 8.87e+04</td> <td>    1.363</td> <td> 0.173</td> <td> -5.3e+04</td> <td> 2.95e+05</td>\n",
       "</tr>\n",
       "<tr>\n",
       "  <th>bathrooms_3.0</th>  <td> 1.739e+05</td> <td> 8.88e+04</td> <td>    1.958</td> <td> 0.050</td> <td> -201.608</td> <td> 3.48e+05</td>\n",
       "</tr>\n",
       "<tr>\n",
       "  <th>bathrooms_3.25</th> <td> 2.374e+05</td> <td>  8.9e+04</td> <td>    2.668</td> <td> 0.008</td> <td>  6.3e+04</td> <td> 4.12e+05</td>\n",
       "</tr>\n",
       "<tr>\n",
       "  <th>bathrooms_3.5</th>  <td> 1.911e+05</td> <td> 8.89e+04</td> <td>    2.149</td> <td> 0.032</td> <td> 1.68e+04</td> <td> 3.65e+05</td>\n",
       "</tr>\n",
       "<tr>\n",
       "  <th>bathrooms_3.75</th> <td> 3.426e+05</td> <td> 9.02e+04</td> <td>    3.797</td> <td> 0.000</td> <td> 1.66e+05</td> <td> 5.19e+05</td>\n",
       "</tr>\n",
       "<tr>\n",
       "  <th>bathrooms_4.0</th>  <td> 3.553e+05</td> <td> 9.05e+04</td> <td>    3.926</td> <td> 0.000</td> <td> 1.78e+05</td> <td> 5.33e+05</td>\n",
       "</tr>\n",
       "<tr>\n",
       "  <th>bathrooms_4.25</th> <td> 4.422e+05</td> <td> 9.19e+04</td> <td>    4.811</td> <td> 0.000</td> <td> 2.62e+05</td> <td> 6.22e+05</td>\n",
       "</tr>\n",
       "<tr>\n",
       "  <th>bathrooms_4.5</th>  <td> 3.354e+05</td> <td> 9.12e+04</td> <td>    3.677</td> <td> 0.000</td> <td> 1.57e+05</td> <td> 5.14e+05</td>\n",
       "</tr>\n",
       "<tr>\n",
       "  <th>bathrooms_4.75</th> <td> 8.254e+05</td> <td>    1e+05</td> <td>    8.253</td> <td> 0.000</td> <td> 6.29e+05</td> <td> 1.02e+06</td>\n",
       "</tr>\n",
       "<tr>\n",
       "  <th>bathrooms_5.0</th>  <td> 4.322e+05</td> <td> 1.01e+05</td> <td>    4.298</td> <td> 0.000</td> <td> 2.35e+05</td> <td> 6.29e+05</td>\n",
       "</tr>\n",
       "<tr>\n",
       "  <th>bathrooms_5.25</th> <td> 5.355e+05</td> <td> 1.08e+05</td> <td>    4.974</td> <td> 0.000</td> <td> 3.24e+05</td> <td> 7.46e+05</td>\n",
       "</tr>\n",
       "<tr>\n",
       "  <th>bathrooms_5.5</th>  <td> 4.981e+05</td> <td>  1.2e+05</td> <td>    4.145</td> <td> 0.000</td> <td> 2.63e+05</td> <td> 7.34e+05</td>\n",
       "</tr>\n",
       "<tr>\n",
       "  <th>bathrooms_5.75</th> <td> 1.239e+05</td> <td> 1.52e+05</td> <td>    0.817</td> <td> 0.414</td> <td>-1.73e+05</td> <td> 4.21e+05</td>\n",
       "</tr>\n",
       "<tr>\n",
       "  <th>bathrooms_6.0</th>  <td> 1.502e+05</td> <td> 1.51e+05</td> <td>    0.992</td> <td> 0.321</td> <td>-1.47e+05</td> <td> 4.47e+05</td>\n",
       "</tr>\n",
       "<tr>\n",
       "  <th>bathrooms_6.5</th>  <td> 4.669e+05</td> <td> 1.74e+05</td> <td>    2.684</td> <td> 0.007</td> <td> 1.26e+05</td> <td> 8.08e+05</td>\n",
       "</tr>\n",
       "<tr>\n",
       "  <th>bathrooms_6.75</th> <td>-4.233e+05</td> <td> 2.29e+05</td> <td>   -1.850</td> <td> 0.064</td> <td>-8.72e+05</td> <td> 2.51e+04</td>\n",
       "</tr>\n",
       "<tr>\n",
       "  <th>bathrooms_7.5</th>  <td> 1.049e+05</td> <td> 2.28e+05</td> <td>    0.459</td> <td> 0.646</td> <td>-3.43e+05</td> <td> 5.53e+05</td>\n",
       "</tr>\n",
       "<tr>\n",
       "  <th>view_1</th>         <td> 1.697e+05</td> <td> 1.18e+04</td> <td>   14.417</td> <td> 0.000</td> <td> 1.47e+05</td> <td> 1.93e+05</td>\n",
       "</tr>\n",
       "<tr>\n",
       "  <th>view_2</th>         <td> 1.042e+05</td> <td> 7115.038</td> <td>   14.650</td> <td> 0.000</td> <td> 9.03e+04</td> <td> 1.18e+05</td>\n",
       "</tr>\n",
       "<tr>\n",
       "  <th>view_3</th>         <td>  1.84e+05</td> <td> 9714.090</td> <td>   18.939</td> <td> 0.000</td> <td> 1.65e+05</td> <td> 2.03e+05</td>\n",
       "</tr>\n",
       "<tr>\n",
       "  <th>view_4</th>         <td> 4.924e+05</td> <td> 1.25e+04</td> <td>   39.479</td> <td> 0.000</td> <td> 4.68e+05</td> <td> 5.17e+05</td>\n",
       "</tr>\n",
       "<tr>\n",
       "  <th>condition_2</th>    <td>-7020.8696</td> <td> 4.24e+04</td> <td>   -0.166</td> <td> 0.868</td> <td>-9.01e+04</td> <td> 7.61e+04</td>\n",
       "</tr>\n",
       "<tr>\n",
       "  <th>condition_3</th>    <td>-5698.2367</td> <td> 3.94e+04</td> <td>   -0.144</td> <td> 0.885</td> <td> -8.3e+04</td> <td> 7.16e+04</td>\n",
       "</tr>\n",
       "<tr>\n",
       "  <th>condition_4</th>    <td>   4.9e+04</td> <td> 3.95e+04</td> <td>    1.242</td> <td> 0.214</td> <td>-2.84e+04</td> <td> 1.26e+05</td>\n",
       "</tr>\n",
       "<tr>\n",
       "  <th>condition_5</th>    <td> 1.417e+05</td> <td> 3.97e+04</td> <td>    3.570</td> <td> 0.000</td> <td> 6.39e+04</td> <td>  2.2e+05</td>\n",
       "</tr>\n",
       "<tr>\n",
       "  <th>grade_3</th>        <td> 1.227e+04</td> <td> 2.48e+05</td> <td>    0.049</td> <td> 0.961</td> <td>-4.74e+05</td> <td> 4.99e+05</td>\n",
       "</tr>\n",
       "<tr>\n",
       "  <th>grade_4</th>        <td>-5.485e+04</td> <td> 2.35e+05</td> <td>   -0.233</td> <td> 0.815</td> <td>-5.15e+05</td> <td> 4.06e+05</td>\n",
       "</tr>\n",
       "<tr>\n",
       "  <th>grade_5</th>        <td>-5.322e+04</td> <td> 2.32e+05</td> <td>   -0.230</td> <td> 0.818</td> <td>-5.08e+05</td> <td> 4.01e+05</td>\n",
       "</tr>\n",
       "<tr>\n",
       "  <th>grade_6</th>        <td> 2599.6369</td> <td> 2.32e+05</td> <td>    0.011</td> <td> 0.991</td> <td>-4.52e+05</td> <td> 4.57e+05</td>\n",
       "</tr>\n",
       "<tr>\n",
       "  <th>grade_7</th>        <td> 8.048e+04</td> <td> 2.32e+05</td> <td>    0.347</td> <td> 0.728</td> <td>-3.74e+05</td> <td> 5.35e+05</td>\n",
       "</tr>\n",
       "<tr>\n",
       "  <th>grade_8</th>        <td> 1.773e+05</td> <td> 2.32e+05</td> <td>    0.765</td> <td> 0.444</td> <td>-2.77e+05</td> <td> 6.31e+05</td>\n",
       "</tr>\n",
       "<tr>\n",
       "  <th>grade_9</th>        <td> 3.252e+05</td> <td> 2.32e+05</td> <td>    1.403</td> <td> 0.161</td> <td>-1.29e+05</td> <td> 7.79e+05</td>\n",
       "</tr>\n",
       "<tr>\n",
       "  <th>grade_10</th>       <td> 5.045e+05</td> <td> 2.32e+05</td> <td>    2.176</td> <td> 0.030</td> <td>    5e+04</td> <td> 9.59e+05</td>\n",
       "</tr>\n",
       "<tr>\n",
       "  <th>grade_11</th>       <td> 7.319e+05</td> <td> 2.32e+05</td> <td>    3.153</td> <td> 0.002</td> <td> 2.77e+05</td> <td> 1.19e+06</td>\n",
       "</tr>\n",
       "<tr>\n",
       "  <th>grade_12</th>       <td> 1.007e+06</td> <td> 2.33e+05</td> <td>    4.316</td> <td> 0.000</td> <td>  5.5e+05</td> <td> 1.46e+06</td>\n",
       "</tr>\n",
       "<tr>\n",
       "  <th>grade_13</th>       <td> 1.682e+06</td> <td> 2.48e+05</td> <td>    6.783</td> <td> 0.000</td> <td>  1.2e+06</td> <td> 2.17e+06</td>\n",
       "</tr>\n",
       "</table>\n",
       "<table class=\"simpletable\">\n",
       "<tr>\n",
       "  <th>Omnibus:</th>       <td>8594.377</td> <th>  Durbin-Watson:     </th> <td>   1.983</td> \n",
       "</tr>\n",
       "<tr>\n",
       "  <th>Prob(Omnibus):</th>  <td> 0.000</td>  <th>  Jarque-Bera (JB):  </th> <td>82726.804</td>\n",
       "</tr>\n",
       "<tr>\n",
       "  <th>Skew:</th>           <td> 1.648</td>  <th>  Prob(JB):          </th> <td>    0.00</td> \n",
       "</tr>\n",
       "<tr>\n",
       "  <th>Kurtosis:</th>       <td>12.008</td>  <th>  Cond. No.          </th> <td>1.60e+06</td> \n",
       "</tr>\n",
       "</table><br/><br/>Warnings:<br/>[1] Standard Errors assume that the covariance matrix of the errors is correctly specified.<br/>[2] The condition number is large, 1.6e+06. This might indicate that there are<br/>strong multicollinearity or other numerical problems."
      ],
      "text/plain": [
       "<class 'statsmodels.iolib.summary.Summary'>\n",
       "\"\"\"\n",
       "                            OLS Regression Results                            \n",
       "==============================================================================\n",
       "Dep. Variable:                  price   R-squared:                       0.615\n",
       "Model:                            OLS   Adj. R-squared:                  0.614\n",
       "Method:                 Least Squares   F-statistic:                     732.8\n",
       "Date:                Wed, 29 Sep 2021   Prob (F-statistic):               0.00\n",
       "Time:                        13:06:01   Log-Likelihood:            -2.9511e+05\n",
       "No. Observations:               21581   AIC:                         5.903e+05\n",
       "Df Residuals:                   21533   BIC:                         5.907e+05\n",
       "Df Model:                          47                                         \n",
       "Covariance Type:            nonrobust                                         \n",
       "==================================================================================\n",
       "                     coef    std err          t      P>|t|      [0.025      0.975]\n",
       "----------------------------------------------------------------------------------\n",
       "const           3.089e+04    2.1e+05      0.147      0.883   -3.82e+05    4.43e+05\n",
       "sqft_above        36.9703      3.292     11.231      0.000      30.518      43.422\n",
       "sqft_living15     61.9659      3.434     18.043      0.000      55.234      68.698\n",
       "bathrooms_0.5   3.376e+04   1.38e+05      0.245      0.806   -2.36e+05    3.03e+05\n",
       "bathrooms_0.75  7.609e+04   9.14e+04      0.832      0.405   -1.03e+05    2.55e+05\n",
       "bathrooms_1.0   1.056e+05   8.86e+04      1.193      0.233    -6.8e+04    2.79e+05\n",
       "bathrooms_1.25  1.152e+05   1.13e+05      1.020      0.308   -1.06e+05    3.37e+05\n",
       "bathrooms_1.5   9.745e+04   8.86e+04      1.099      0.272   -7.63e+04    2.71e+05\n",
       "bathrooms_1.75  1.019e+05   8.86e+04      1.151      0.250   -7.17e+04    2.75e+05\n",
       "bathrooms_2.0   1.102e+05   8.86e+04      1.243      0.214   -6.35e+04    2.84e+05\n",
       "bathrooms_2.25  1.068e+05   8.86e+04      1.206      0.228   -6.68e+04     2.8e+05\n",
       "bathrooms_2.5   6.197e+04   8.85e+04      0.700      0.484   -1.12e+05    2.36e+05\n",
       "bathrooms_2.75  1.209e+05   8.87e+04      1.363      0.173    -5.3e+04    2.95e+05\n",
       "bathrooms_3.0   1.739e+05   8.88e+04      1.958      0.050    -201.608    3.48e+05\n",
       "bathrooms_3.25  2.374e+05    8.9e+04      2.668      0.008     6.3e+04    4.12e+05\n",
       "bathrooms_3.5   1.911e+05   8.89e+04      2.149      0.032    1.68e+04    3.65e+05\n",
       "bathrooms_3.75  3.426e+05   9.02e+04      3.797      0.000    1.66e+05    5.19e+05\n",
       "bathrooms_4.0   3.553e+05   9.05e+04      3.926      0.000    1.78e+05    5.33e+05\n",
       "bathrooms_4.25  4.422e+05   9.19e+04      4.811      0.000    2.62e+05    6.22e+05\n",
       "bathrooms_4.5   3.354e+05   9.12e+04      3.677      0.000    1.57e+05    5.14e+05\n",
       "bathrooms_4.75  8.254e+05      1e+05      8.253      0.000    6.29e+05    1.02e+06\n",
       "bathrooms_5.0   4.322e+05   1.01e+05      4.298      0.000    2.35e+05    6.29e+05\n",
       "bathrooms_5.25  5.355e+05   1.08e+05      4.974      0.000    3.24e+05    7.46e+05\n",
       "bathrooms_5.5   4.981e+05    1.2e+05      4.145      0.000    2.63e+05    7.34e+05\n",
       "bathrooms_5.75  1.239e+05   1.52e+05      0.817      0.414   -1.73e+05    4.21e+05\n",
       "bathrooms_6.0   1.502e+05   1.51e+05      0.992      0.321   -1.47e+05    4.47e+05\n",
       "bathrooms_6.5   4.669e+05   1.74e+05      2.684      0.007    1.26e+05    8.08e+05\n",
       "bathrooms_6.75 -4.233e+05   2.29e+05     -1.850      0.064   -8.72e+05    2.51e+04\n",
       "bathrooms_7.5   1.049e+05   2.28e+05      0.459      0.646   -3.43e+05    5.53e+05\n",
       "view_1          1.697e+05   1.18e+04     14.417      0.000    1.47e+05    1.93e+05\n",
       "view_2          1.042e+05   7115.038     14.650      0.000    9.03e+04    1.18e+05\n",
       "view_3           1.84e+05   9714.090     18.939      0.000    1.65e+05    2.03e+05\n",
       "view_4          4.924e+05   1.25e+04     39.479      0.000    4.68e+05    5.17e+05\n",
       "condition_2    -7020.8696   4.24e+04     -0.166      0.868   -9.01e+04    7.61e+04\n",
       "condition_3    -5698.2367   3.94e+04     -0.144      0.885    -8.3e+04    7.16e+04\n",
       "condition_4       4.9e+04   3.95e+04      1.242      0.214   -2.84e+04    1.26e+05\n",
       "condition_5     1.417e+05   3.97e+04      3.570      0.000    6.39e+04     2.2e+05\n",
       "grade_3         1.227e+04   2.48e+05      0.049      0.961   -4.74e+05    4.99e+05\n",
       "grade_4        -5.485e+04   2.35e+05     -0.233      0.815   -5.15e+05    4.06e+05\n",
       "grade_5        -5.322e+04   2.32e+05     -0.230      0.818   -5.08e+05    4.01e+05\n",
       "grade_6         2599.6369   2.32e+05      0.011      0.991   -4.52e+05    4.57e+05\n",
       "grade_7         8.048e+04   2.32e+05      0.347      0.728   -3.74e+05    5.35e+05\n",
       "grade_8         1.773e+05   2.32e+05      0.765      0.444   -2.77e+05    6.31e+05\n",
       "grade_9         3.252e+05   2.32e+05      1.403      0.161   -1.29e+05    7.79e+05\n",
       "grade_10        5.045e+05   2.32e+05      2.176      0.030       5e+04    9.59e+05\n",
       "grade_11        7.319e+05   2.32e+05      3.153      0.002    2.77e+05    1.19e+06\n",
       "grade_12        1.007e+06   2.33e+05      4.316      0.000     5.5e+05    1.46e+06\n",
       "grade_13        1.682e+06   2.48e+05      6.783      0.000     1.2e+06    2.17e+06\n",
       "==============================================================================\n",
       "Omnibus:                     8594.377   Durbin-Watson:                   1.983\n",
       "Prob(Omnibus):                  0.000   Jarque-Bera (JB):            82726.804\n",
       "Skew:                           1.648   Prob(JB):                         0.00\n",
       "Kurtosis:                      12.008   Cond. No.                     1.60e+06\n",
       "==============================================================================\n",
       "\n",
       "Warnings:\n",
       "[1] Standard Errors assume that the covariance matrix of the errors is correctly specified.\n",
       "[2] The condition number is large, 1.6e+06. This might indicate that there are\n",
       "strong multicollinearity or other numerical problems.\n",
       "\"\"\""
      ]
     },
     "execution_count": 10,
     "metadata": {},
     "output_type": "execute_result"
    }
   ],
   "source": [
    "import statsmodels.api as sm\n",
    "\n",
    "X1 = house.drop(catvar+['price','id','sqft_lot15','waterfront','lat','long','zipcode','recent_built','sqft_basement','date','bedrooms','sqft_living','sqft_lot','floors','sqft_basement'],axis=1)\n",
    "y = house['price']\n",
    "\n",
    "X1 = sm.add_constant(X1)\n",
    "model = sm.OLS(y,X1)\n",
    "result = model.fit()\n",
    "result.summary()"
   ]
  },
  {
   "cell_type": "code",
   "execution_count": 22,
   "metadata": {},
   "outputs": [
    {
     "data": {
      "image/png": "[encoded data removed]",
      "text/plain": [
       "<Figure size 432x288 with 1 Axes>"
      ]
     },
     "metadata": {
      "needs_background": "light"
     },
     "output_type": "display_data"
    }
   ],
   "source": [
    "# Error's Q-Q plot\n",
    "\n",
    "import scipy.stats\n",
    "\n",
    "residual = house['price'] - result.predict()\n",
    "scipy.stats.probplot(residual, dist=scipy.stats.norm, plot=plt)\n",
    "plt.show()"
   ]
  },
  {
   "cell_type": "code",
   "execution_count": 12,
   "metadata": {},
   "outputs": [
    {
     "data": {
      "text/plain": [
       "count    21581.000000\n",
       "mean      -122.213916\n",
       "std          0.140854\n",
       "min       -122.519000\n",
       "25%       -122.328000\n",
       "50%       -122.231000\n",
       "75%       -122.125000\n",
       "max       -121.315000\n",
       "Name: long, dtype: float64"
      ]
     },
     "execution_count": 12,
     "metadata": {},
     "output_type": "execute_result"
    }
   ],
   "source": [
    "house['long'].describe()"
   ]
  },
  {
   "cell_type": "code",
   "execution_count": 13,
   "metadata": {},
   "outputs": [
    {
     "data": {
      "text/plain": [
       "count    21581.000000\n",
       "mean        47.559963\n",
       "std          0.138623\n",
       "min         47.155900\n",
       "25%         47.470600\n",
       "50%         47.571700\n",
       "75%         47.678000\n",
       "max         47.777600\n",
       "Name: lat, dtype: float64"
      ]
     },
     "execution_count": 13,
     "metadata": {},
     "output_type": "execute_result"
    }
   ],
   "source": [
    "house['lat'].describe()"
   ]
  },
  {
   "cell_type": "code",
   "execution_count": 14,
   "metadata": {},
   "outputs": [
    {
     "data": {
      "text/plain": [
       "98103    602\n",
       "98038    590\n",
       "98115    583\n",
       "98052    574\n",
       "98117    553\n",
       "        ... \n",
       "98102    103\n",
       "98010    100\n",
       "98024     81\n",
       "98148     57\n",
       "98039     44\n",
       "Name: zipcode, Length: 70, dtype: int64"
      ]
     },
     "execution_count": 14,
     "metadata": {},
     "output_type": "execute_result"
    }
   ],
   "source": [
    "house['zipcode'].value_counts()"
   ]
  },
  {
   "cell_type": "code",
   "execution_count": 15,
   "metadata": {},
   "outputs": [
    {
     "data": {
      "image/png": "[encoded data removed]",
      "text/plain": [
       "<Figure size 3600x720 with 1 Axes>"
      ]
     },
     "metadata": {
      "needs_background": "light"
     },
     "output_type": "display_data"
    }
   ],
   "source": [
    "price_min = house.groupby('zipcode')['price'].min()\n",
    "price_max = house.groupby('zipcode')['price'].max()\n",
    "\n",
    "plt.figure(figsize=(50,10))\n",
    "for x in price_min.index:\n",
    "    plt.plot([x,x],[price_min[x],price_max[x]])\n",
    "    \n",
    "#by this graph i can see the min_price value don't high difference between zipcode"
   ]
  },
  {
   "cell_type": "code",
   "execution_count": 16,
   "metadata": {},
   "outputs": [
    {
     "data": {
      "text/plain": [
       "<ErrorbarContainer object of 3 artists>"
      ]
     },
     "execution_count": 16,
     "metadata": {},
     "output_type": "execute_result"
    },
    {
     "data": {
      "image/png": "[encoded data removed]",
      "text/plain": [
       "<Figure size 720x360 with 1 Axes>"
      ]
     },
     "metadata": {
      "needs_background": "light"
     },
     "output_type": "display_data"
    }
   ],
   "source": [
    "long_mean = house.groupby('zipcode')['long'].mean()\n",
    "long_std = house.groupby('zipcode')['long'].std()\n",
    "\n",
    "plt.figure(figsize=(10,5))\n",
    "\n",
    "plt.errorbar(range(len(long_mean)),long_mean,yerr=long_std, fmt='o', c='r',ecolor='r',capthick=1,capsize=1)"
   ]
  },
  {
   "cell_type": "code",
   "execution_count": 17,
   "metadata": {},
   "outputs": [
    {
     "data": {
      "text/plain": [
       "<ErrorbarContainer object of 3 artists>"
      ]
     },
     "execution_count": 17,
     "metadata": {},
     "output_type": "execute_result"
    },
    {
     "data": {
      "image/png": "[encoded data removed]",
      "text/plain": [
       "<Figure size 720x360 with 1 Axes>"
      ]
     },
     "metadata": {
      "needs_background": "light"
     },
     "output_type": "display_data"
    }
   ],
   "source": [
    "plt.figure(figsize=(10,5))\n",
    "\n",
    "lat_mean = house.groupby('zipcode')['lat'].mean()\n",
    "lat_std = house.groupby('zipcode')['lat'].std()\n",
    "\n",
    "plt.errorbar(range(len(lat_mean)),lat_mean,yerr=lat_std, fmt='o', c='b',ecolor='b',capthick=1,capsize=1)"
   ]
  },
  {
   "cell_type": "code",
   "execution_count": 18,
   "metadata": {},
   "outputs": [
    {
     "name": "stdout",
     "output_type": "stream",
     "text": [
      "Depending on zipcode value mean of standard deviation of 'lat'\n",
      "\n",
      " 0.01589899563147026 \n",
      "\n",
      "standard deviation of 'lat' column \n",
      "\n",
      " 0.1386231069375018\n",
      "Depending on zipcode value mean of standard deviation of 'long'\n",
      "\n",
      " 0.019429508395824427 \n",
      "\n",
      "standard deviation of 'long' column \n",
      "\n",
      " 0.14085387080836465\n"
     ]
    }
   ],
   "source": [
    "print(\"Depending on zipcode value mean of standard deviation of 'lat'\\n\\n\",lat_std.mean(),\"\\n\") \n",
    "\n",
    "print(\"standard deviation of 'lat' column \\n\\n\" ,house['lat'].std())\n",
    "\n",
    "print(\"Depending on zipcode value mean of standard deviation of 'long'\\n\\n\",long_std.mean(),\"\\n\") \n",
    "\n",
    "print(\"standard deviation of 'long' column \\n\\n\" ,house['long'].std())"
   ]
  },
  {
   "cell_type": "code",
   "execution_count": 19,
   "metadata": {},
   "outputs": [
    {
     "data": {
      "text/plain": [
       "<ErrorbarContainer object of 3 artists>"
      ]
     },
     "execution_count": 19,
     "metadata": {},
     "output_type": "execute_result"
    },
    {
     "data": {
      "image/png": "[encoded data removed]",
      "text/plain": [
       "<Figure size 720x360 with 1 Axes>"
      ]
     },
     "metadata": {
      "needs_background": "light"
     },
     "output_type": "display_data"
    }
   ],
   "source": [
    "# for show two graph in one graph standardization \n",
    "# So i can see those graph in one graph\n",
    "house['lat'] = (house['lat'] - house['lat'].mean())/house['lat'].std()\n",
    "house['long'] = (house['long'] - house['long'].mean())/house['long'].std()\n",
    "\n",
    "long_mean = house.groupby('zipcode')['long'].mean()\n",
    "long_std = house.groupby('zipcode')['long'].std()\n",
    "lat_mean = house.groupby('zipcode')['lat'].mean()\n",
    "lat_std = house.groupby('zipcode')['lat'].std()\n",
    "\n",
    "plt.figure(figsize=(10,5))\n",
    "plt.errorbar(range(len(lat_mean)),lat_mean,yerr=lat_std, fmt='o', c='b',ecolor='b',capthick=1,capsize=1)\n",
    "plt.errorbar(range(len(long_mean)),long_mean,yerr=long_std, fmt='o', c='r',ecolor='r',capthick=1,capsize=1)"
   ]
  },
  {
   "cell_type": "code",
   "execution_count": 20,
   "metadata": {},
   "outputs": [
    {
     "data": {
      "text/plain": [
       "<ErrorbarContainer object of 3 artists>"
      ]
     },
     "execution_count": 20,
     "metadata": {},
     "output_type": "execute_result"
    },
    {
     "data": {
      "image/png": "[encoded data removed]",
      "text/plain": [
       "<Figure size 3600x720 with 1 Axes>"
      ]
     },
     "metadata": {
      "needs_background": "light"
     },
     "output_type": "display_data"
    }
   ],
   "source": [
    "price_mean = house.groupby('zipcode')['price'].mean()\n",
    "price_std = house.groupby('zipcode')['price'].std()\n",
    "\n",
    "plt.figure(figsize=(50,10))\n",
    "plt.bar(range(len(price_mean)),price_mean)\n",
    "plt.errorbar(range(len(price_mean)),price_mean,yerr=price_std, fmt='o', c='r',ecolor='r',capthick=1,capsize=1)"
   ]
  },
  {
   "cell_type": "code",
   "execution_count": 21,
   "metadata": {},
   "outputs": [
    {
     "data": {
      "text/plain": [
       "count    7.000000e+01\n",
       "mean     5.520771e+05\n",
       "std      2.734145e+05\n",
       "min      2.342840e+05\n",
       "25%      3.528348e+05\n",
       "50%      4.919520e+05\n",
       "75%      6.425136e+05\n",
       "max      1.831578e+06\n",
       "Name: price, dtype: float64"
      ]
     },
     "execution_count": 21,
     "metadata": {},
     "output_type": "execute_result"
    }
   ],
   "source": [
    "price_mean.describe()"
   ]
  }
 ],
 "metadata": {
  "kernelspec": {
   "display_name": "Python 3",
   "language": "python",
   "name": "python3"
  },
  "language_info": {
   "codemirror_mode": {
    "name": "ipython",
    "version": 3
   },
   "file_extension": ".py",
   "mimetype": "text/x-python",
   "name": "python",
   "nbconvert_exporter": "python",
   "pygments_lexer": "ipython3",
   "version": "3.7.6"
  }
 },
 "nbformat": 4,
 "nbformat_minor": 4
}
