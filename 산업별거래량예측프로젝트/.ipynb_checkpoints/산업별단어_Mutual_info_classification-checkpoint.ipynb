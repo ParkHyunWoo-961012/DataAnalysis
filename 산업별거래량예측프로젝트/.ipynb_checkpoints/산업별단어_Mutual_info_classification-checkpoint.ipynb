{
 "cells": [
  {
   "cell_type": "code",
   "execution_count": 11,
   "metadata": {},
   "outputs": [],
   "source": [
    "import pandas as pd"
   ]
  },
  {
   "cell_type": "code",
   "execution_count": 12,
   "metadata": {},
   "outputs": [],
   "source": [
    "bio_word = pd.read_csv(\"counting/bio.csv\")"
   ]
  },
  {
   "cell_type": "code",
   "execution_count": 13,
   "metadata": {},
   "outputs": [],
   "source": [
    "car_word = pd.read_csv(\"counting/car.csv\")"
   ]
  },
  {
   "cell_type": "code",
   "execution_count": 14,
   "metadata": {},
   "outputs": [],
   "source": [
    "game_word = pd.read_csv(\"counting/game.csv\")\n",
    "semi_word = pd.read_csv(\"counting/semi.csv\")\n",
    "gas_wrod = pd.read_csv(\"counting/gas.csv\")"
   ]
  },
  {
   "cell_type": "code",
   "execution_count": 15,
   "metadata": {},
   "outputs": [],
   "source": [
    "bio_word['Target'] = 0\n",
    "car_word['Target'] = 1\n",
    "game_word['Target'] = 2\n",
    "semi_word['Target'] = 3\n",
    "gas_wrod['Target'] = 4\n",
    "\n",
    "gas_wrod.drop(columns=\"Unnamed: 0\", inplace=True)\n",
    "car_word.drop(columns=\"Unnamed: 0\", inplace=True)\n",
    "game_word.drop(columns=\"Unnamed: 0\", inplace=True)\n",
    "semi_word.drop(columns=\"Unnamed: 0\", inplace=True)\n",
    "bio_word.drop(columns=\"Unnamed: 0\", inplace=True)\n",
    "\n",
    "result = pd.concat([bio_word,car_word])\n",
    "result = pd.concat([result,game_word])\n",
    "result = pd.concat([result,semi_word])\n",
    "result = pd.concat([result,gas_wrod])\n",
    "\n",
    "result.fillna(0,inplace=True)\n",
    "before_columns = result.columns.difference([\"Target\",\"date\"])\n",
    "result['Target'].reset_index(drop=True,inplace=True)"
   ]
  },
  {
   "cell_type": "code",
   "execution_count": 16,
   "metadata": {},
   "outputs": [],
   "source": [
    "result.fillna(0,inplace=True)\n",
    "columns = list(result.columns.values)\n",
    "columns.remove(\"date\")\n",
    "columns.remove(\"Target\")\n",
    "result.reset_index(drop=True,inplace=True)\n",
    "\n",
    "# word_frame = result[columns]\n",
    "# word_frame = word_frame.astype(int)\n",
    "# for idx in word_frame.index:\n",
    "#     for col in columns:\n",
    "#         val = word_frame.at[idx,col]\n",
    "#         if val == 0:\n",
    "#             word_frame.at[idx,col] = 0\n",
    "#         else:\n",
    "#             word_frame.at[idx,col] = 1"
   ]
  },
  {
   "cell_type": "code",
   "execution_count": 17,
   "metadata": {},
   "outputs": [],
   "source": [
    "from sklearn.feature_selection import mutual_info_classif\n",
    "# 0 is bio 1 is car 2 is game 3 is semi 4 is gas\n",
    "\n",
    "X = result[before_columns]\n",
    "y = result[\"Target\"]\n",
    "mu = mutual_info_classif(X, y)"
   ]
  },
  {
   "cell_type": "code",
   "execution_count": 18,
   "metadata": {},
   "outputs": [
    {
     "data": {
      "text/html": [
       "<div>\n",
       "<style scoped>\n",
       "    .dataframe tbody tr th:only-of-type {\n",
       "        vertical-align: middle;\n",
       "    }\n",
       "\n",
       "    .dataframe tbody tr th {\n",
       "        vertical-align: top;\n",
       "    }\n",
       "\n",
       "    .dataframe thead th {\n",
       "        text-align: right;\n",
       "    }\n",
       "</style>\n",
       "<table border=\"1\" class=\"dataframe\">\n",
       "  <thead>\n",
       "    <tr style=\"text-align: right;\">\n",
       "      <th></th>\n",
       "      <th>Word</th>\n",
       "      <th>MI_value</th>\n",
       "    </tr>\n",
       "  </thead>\n",
       "  <tbody>\n",
       "    <tr>\n",
       "      <th>aa</th>\n",
       "      <td>aa</td>\n",
       "      <td>0.000000</td>\n",
       "    </tr>\n",
       "    <tr>\n",
       "      <th>aaa</th>\n",
       "      <td>aaa</td>\n",
       "      <td>0.000000</td>\n",
       "    </tr>\n",
       "    <tr>\n",
       "      <th>aaaa</th>\n",
       "      <td>aaaa</td>\n",
       "      <td>0.012597</td>\n",
       "    </tr>\n",
       "    <tr>\n",
       "      <th>aacr</th>\n",
       "      <td>aacr</td>\n",
       "      <td>0.005616</td>\n",
       "    </tr>\n",
       "    <tr>\n",
       "      <th>aai</th>\n",
       "      <td>aai</td>\n",
       "      <td>0.000000</td>\n",
       "    </tr>\n",
       "    <tr>\n",
       "      <th>...</th>\n",
       "      <td>...</td>\n",
       "      <td>...</td>\n",
       "    </tr>\n",
       "    <tr>\n",
       "      <th>힛탠다드</th>\n",
       "      <td>힛탠다드</td>\n",
       "      <td>0.000000</td>\n",
       "    </tr>\n",
       "    <tr>\n",
       "      <th>金地金</th>\n",
       "      <td>金地金</td>\n",
       "      <td>0.012570</td>\n",
       "    </tr>\n",
       "    <tr>\n",
       "      <th>流水</th>\n",
       "      <td>流水</td>\n",
       "      <td>0.000000</td>\n",
       "    </tr>\n",
       "    <tr>\n",
       "      <th>利馬</th>\n",
       "      <td>利馬</td>\n",
       "      <td>0.002303</td>\n",
       "    </tr>\n",
       "    <tr>\n",
       "      <th>李峰</th>\n",
       "      <td>李峰</td>\n",
       "      <td>0.000000</td>\n",
       "    </tr>\n",
       "  </tbody>\n",
       "</table>\n",
       "<p>89959 rows × 2 columns</p>\n",
       "</div>"
      ],
      "text/plain": [
       "      Word  MI_value\n",
       "aa      aa  0.000000\n",
       "aaa    aaa  0.000000\n",
       "aaaa  aaaa  0.012597\n",
       "aacr  aacr  0.005616\n",
       "aai    aai  0.000000\n",
       "...    ...       ...\n",
       "힛탠다드  힛탠다드  0.000000\n",
       "金地金    金地金  0.012570\n",
       "流水      流水  0.000000\n",
       "利馬      利馬  0.002303\n",
       "李峰      李峰  0.000000\n",
       "\n",
       "[89959 rows x 2 columns]"
      ]
     },
     "execution_count": 18,
     "metadata": {},
     "output_type": "execute_result"
    }
   ],
   "source": [
    "new_final_result = pd.DataFrame(index = before_columns )\n",
    "new_final_result[\"Word\"] = before_columns.values\n",
    "new_final_result[\"MI_value\"] = mu\n",
    "new_final_result"
   ]
  },
  {
   "cell_type": "code",
   "execution_count": 19,
   "metadata": {},
   "outputs": [],
   "source": [
    "new_final_result.reset_index(drop=True,inplace=True)"
   ]
  },
  {
   "cell_type": "code",
   "execution_count": 23,
   "metadata": {},
   "outputs": [],
   "source": [
    "new_final_result.to_csv(\"Whole_MI_result.csv\")"
   ]
  },
  {
   "cell_type": "code",
   "execution_count": 22,
   "metadata": {
    "scrolled": false
   },
   "outputs": [
    {
     "data": {
      "text/html": [
       "<div>\n",
       "<style scoped>\n",
       "    .dataframe tbody tr th:only-of-type {\n",
       "        vertical-align: middle;\n",
       "    }\n",
       "\n",
       "    .dataframe tbody tr th {\n",
       "        vertical-align: top;\n",
       "    }\n",
       "\n",
       "    .dataframe thead th {\n",
       "        text-align: right;\n",
       "    }\n",
       "</style>\n",
       "<table border=\"1\" class=\"dataframe\">\n",
       "  <thead>\n",
       "    <tr style=\"text-align: right;\">\n",
       "      <th></th>\n",
       "      <th>Word</th>\n",
       "      <th>MI_value</th>\n",
       "    </tr>\n",
       "  </thead>\n",
       "  <tbody>\n",
       "    <tr>\n",
       "      <th>62563</th>\n",
       "      <td>자동차</td>\n",
       "      <td>0.631439</td>\n",
       "    </tr>\n",
       "    <tr>\n",
       "      <th>64760</th>\n",
       "      <td>전기차</td>\n",
       "      <td>0.609013</td>\n",
       "    </tr>\n",
       "    <tr>\n",
       "      <th>11358</th>\n",
       "      <td>관계자</td>\n",
       "      <td>0.524927</td>\n",
       "    </tr>\n",
       "    <tr>\n",
       "      <th>87251</th>\n",
       "      <td>현대차</td>\n",
       "      <td>0.520481</td>\n",
       "    </tr>\n",
       "    <tr>\n",
       "      <th>80320</th>\n",
       "      <td>판매량</td>\n",
       "      <td>0.504826</td>\n",
       "    </tr>\n",
       "    <tr>\n",
       "      <th>...</th>\n",
       "      <td>...</td>\n",
       "      <td>...</td>\n",
       "    </tr>\n",
       "    <tr>\n",
       "      <th>41082</th>\n",
       "      <td>세부요건</td>\n",
       "      <td>0.000000</td>\n",
       "    </tr>\n",
       "    <tr>\n",
       "      <th>41085</th>\n",
       "      <td>세부트랙</td>\n",
       "      <td>0.000000</td>\n",
       "    </tr>\n",
       "    <tr>\n",
       "      <th>41086</th>\n",
       "      <td>세부품목기준</td>\n",
       "      <td>0.000000</td>\n",
       "    </tr>\n",
       "    <tr>\n",
       "      <th>41089</th>\n",
       "      <td>세븐</td>\n",
       "      <td>0.000000</td>\n",
       "    </tr>\n",
       "    <tr>\n",
       "      <th>89958</th>\n",
       "      <td>李峰</td>\n",
       "      <td>0.000000</td>\n",
       "    </tr>\n",
       "  </tbody>\n",
       "</table>\n",
       "<p>89959 rows × 2 columns</p>\n",
       "</div>"
      ],
      "text/plain": [
       "         Word  MI_value\n",
       "62563     자동차  0.631439\n",
       "64760     전기차  0.609013\n",
       "11358     관계자  0.524927\n",
       "87251     현대차  0.520481\n",
       "80320     판매량  0.504826\n",
       "...       ...       ...\n",
       "41082    세부요건  0.000000\n",
       "41085    세부트랙  0.000000\n",
       "41086  세부품목기준  0.000000\n",
       "41089      세븐  0.000000\n",
       "89958      李峰  0.000000\n",
       "\n",
       "[89959 rows x 2 columns]"
      ]
     },
     "execution_count": 22,
     "metadata": {},
     "output_type": "execute_result"
    }
   ],
   "source": [
    "new_final_result.sort_values(\"MI_value\", ascending = False)"
   ]
  },
  {
   "cell_type": "code",
   "execution_count": 42,
   "metadata": {},
   "outputs": [
    {
     "data": {
      "text/plain": [
       "array(['date', '감염병', '일자리', ..., 'ikea', '수소발전', '수소항'], dtype=object)"
      ]
     },
     "execution_count": 42,
     "metadata": {},
     "output_type": "execute_result"
    }
   ],
   "source": [
    "result[result[\"Target\"]==0].sum()\n",
    "result.columns.values"
   ]
  },
  {
   "cell_type": "code",
   "execution_count": 45,
   "metadata": {},
   "outputs": [],
   "source": [
    "# 0 is bio 1 is car 2 is game 3 is semi 4 is gas\n",
    "bio_word_sum = result[result[\"Target\"]==0].sum().values\n",
    "car_word_sum = result[result[\"Target\"]==1].sum().values\n",
    "game_word_sum = result[result[\"Target\"]==2].sum().values\n",
    "semi_word_sum = result[result[\"Target\"]==3].sum().values\n",
    "gas_word_sum = result[result[\"Target\"]==4].sum().values\n",
    "\n",
    "word_sum_data = pd.DataFrame(index = result.columns.values)\n",
    "word_sum_data[\"Bio\"] = bio_word_sum\n",
    "word_sum_data[\"Car\"] = car_word_sum\n",
    "word_sum_data[\"Game\"] = game_word_sum\n",
    "word_sum_data[\"Semi\"] = semi_word_sum\n",
    "word_sum_data[\"Gas\"] = gas_word_sum"
   ]
  },
  {
   "cell_type": "code",
   "execution_count": 49,
   "metadata": {},
   "outputs": [],
   "source": [
    "word_sum_data = word_sum_data.transpose()\n",
    "word_sum_data.drop(columns=\"date\",inplace=True)\n",
    "word_sum_data.to_csv(\"word_sum_data.csv\")"
   ]
  },
  {
   "cell_type": "code",
   "execution_count": 59,
   "metadata": {},
   "outputs": [],
   "source": [
    "word_sum_data[\"Target\"] = word_sum_data.index"
   ]
  },
  {
   "cell_type": "code",
   "execution_count": 80,
   "metadata": {},
   "outputs": [],
   "source": [
    "A = list(word_sum_data.columns.values)\n",
    "Target_column_locate = A.index(\"Target\")\n",
    "word_list = [list(word_sum_data.columns[:Target_column_locate].values)]+[list(word_sum_data.columns[Target_column_locate+1:].values)]+[list(word_sum_data.columns[Target_column_locate])]"
   ]
  },
  {
   "cell_type": "code",
   "execution_count": 85,
   "metadata": {},
   "outputs": [
    {
     "data": {
      "text/plain": [
       "Index(['감염병', '일자리', '영상편집', '셀트리온', '공모주', 'ipo', '투자자', '투자자들', '명신산업',\n",
       "       '치료제',\n",
       "       ...\n",
       "       '첨복', '인기상', '학생팀', '수상작', '용인대', '한국고용정보원', '에드윈', '그린라이트', '인천시장',\n",
       "       '블루보틀'],\n",
       "      dtype='object', length=18074)"
      ]
     },
     "execution_count": 85,
     "metadata": {},
     "output_type": "execute_result"
    }
   ],
   "source": [
    "word_sum_data[word_list[0]].columns"
   ]
  },
  {
   "cell_type": "code",
   "execution_count": 218,
   "metadata": {},
   "outputs": [],
   "source": [
    "Top100_count_include.to_csv(\"Top100_count_include.csv\")"
   ]
  },
  {
   "cell_type": "code",
   "execution_count": 95,
   "metadata": {},
   "outputs": [],
   "source": [
    "new_result = pd.concat([bio_word,car_word])\n",
    "new_result = pd.concat([new_result,game_word])\n",
    "new_result = pd.concat([new_result,semi_word])\n",
    "new_result = pd.concat([new_result,gas_wrod])\n",
    "\n",
    "A = new_result[new_result['Target']==4]\n",
    "A.fillna(0,inplace=True)\n",
    "\n",
    "for idx in A.index:\n",
    "    for col in A.columns.difference(columns+['Target','date']):\n",
    "        val = A.at[idx,col]\n",
    "        if val == 0:\n",
    "            A.at[idx,col] = 0\n",
    "        else:\n",
    "            A.at[idx,col] = 1"
   ]
  },
  {
   "cell_type": "code",
   "execution_count": 111,
   "metadata": {},
   "outputs": [],
   "source": [
    "word_frame.drop(index=A.index,inplace=True)"
   ]
  },
  {
   "cell_type": "code",
   "execution_count": 130,
   "metadata": {},
   "outputs": [],
   "source": [
    "B = pd.concat([word_frame,A])\n",
    "B.fillna(0,inplace=True)"
   ]
  },
  {
   "cell_type": "code",
   "execution_count": 133,
   "metadata": {},
   "outputs": [],
   "source": [
    "B = B.astype(int)"
   ]
  },
  {
   "cell_type": "code",
   "execution_count": 139,
   "metadata": {},
   "outputs": [
    {
     "data": {
      "text/plain": [
       "Index(['aa', 'aaa', 'aaaa', 'aacr', 'aai', 'aam', 'aao', 'aatb', 'aav', 'aaww',\n",
       "       ...\n",
       "       '힙플', '힙플레이스', '힙한', '힙합', '힙합랩', '힛탠다드', '金地金', '流水', '利馬', '李峰'],\n",
       "      dtype='object', length=89960)"
      ]
     },
     "execution_count": 139,
     "metadata": {},
     "output_type": "execute_result"
    }
   ],
   "source": [
    "B.columns.difference([\"Target\",\"date\"])"
   ]
  },
  {
   "cell_type": "code",
   "execution_count": 197,
   "metadata": {},
   "outputs": [],
   "source": [
    "Top100 = final_result.sort_values(\"MI_value\", ascending = False).head(100)"
   ]
  },
  {
   "cell_type": "code",
   "execution_count": 198,
   "metadata": {},
   "outputs": [],
   "source": [
    "Top100.to_csv(\"Top100_after_change_binary.csv\")"
   ]
  },
  {
   "cell_type": "code",
   "execution_count": 199,
   "metadata": {},
   "outputs": [
    {
     "data": {
      "text/html": [
       "<div>\n",
       "<style scoped>\n",
       "    .dataframe tbody tr th:only-of-type {\n",
       "        vertical-align: middle;\n",
       "    }\n",
       "\n",
       "    .dataframe tbody tr th {\n",
       "        vertical-align: top;\n",
       "    }\n",
       "\n",
       "    .dataframe thead th {\n",
       "        text-align: right;\n",
       "    }\n",
       "</style>\n",
       "<table border=\"1\" class=\"dataframe\">\n",
       "  <thead>\n",
       "    <tr style=\"text-align: right;\">\n",
       "      <th></th>\n",
       "      <th>Columns</th>\n",
       "      <th>MI_value</th>\n",
       "    </tr>\n",
       "  </thead>\n",
       "  <tbody>\n",
       "    <tr>\n",
       "      <th>31520</th>\n",
       "      <td>배럴</td>\n",
       "      <td>0.157348</td>\n",
       "    </tr>\n",
       "    <tr>\n",
       "      <th>74164</th>\n",
       "      <td>치료제</td>\n",
       "      <td>0.113746</td>\n",
       "    </tr>\n",
       "    <tr>\n",
       "      <th>44864</th>\n",
       "      <td>스타트업</td>\n",
       "      <td>0.109822</td>\n",
       "    </tr>\n",
       "    <tr>\n",
       "      <th>72204</th>\n",
       "      <td>천연가스</td>\n",
       "      <td>0.107111</td>\n",
       "    </tr>\n",
       "    <tr>\n",
       "      <th>66942</th>\n",
       "      <td>제약사</td>\n",
       "      <td>0.100544</td>\n",
       "    </tr>\n",
       "    <tr>\n",
       "      <th>...</th>\n",
       "      <td>...</td>\n",
       "      <td>...</td>\n",
       "    </tr>\n",
       "    <tr>\n",
       "      <th>71854</th>\n",
       "      <td>창업자</td>\n",
       "      <td>0.043971</td>\n",
       "    </tr>\n",
       "    <tr>\n",
       "      <th>34487</th>\n",
       "      <td>북미</td>\n",
       "      <td>0.043913</td>\n",
       "    </tr>\n",
       "    <tr>\n",
       "      <th>81185</th>\n",
       "      <td>편의점</td>\n",
       "      <td>0.043815</td>\n",
       "    </tr>\n",
       "    <tr>\n",
       "      <th>36738</th>\n",
       "      <td>사업부</td>\n",
       "      <td>0.043411</td>\n",
       "    </tr>\n",
       "    <tr>\n",
       "      <th>27535</th>\n",
       "      <td>모더</td>\n",
       "      <td>0.043357</td>\n",
       "    </tr>\n",
       "  </tbody>\n",
       "</table>\n",
       "<p>100 rows × 2 columns</p>\n",
       "</div>"
      ],
      "text/plain": [
       "      Columns  MI_value\n",
       "31520      배럴  0.157348\n",
       "74164     치료제  0.113746\n",
       "44864    스타트업  0.109822\n",
       "72204    천연가스  0.107111\n",
       "66942     제약사  0.100544\n",
       "...       ...       ...\n",
       "71854     창업자  0.043971\n",
       "34487      북미  0.043913\n",
       "81185     편의점  0.043815\n",
       "36738     사업부  0.043411\n",
       "27535      모더  0.043357\n",
       "\n",
       "[100 rows x 2 columns]"
      ]
     },
     "execution_count": 199,
     "metadata": {},
     "output_type": "execute_result"
    }
   ],
   "source": [
    "Top100"
   ]
  },
  {
   "cell_type": "code",
   "execution_count": null,
   "metadata": {},
   "outputs": [],
   "source": []
  }
 ],
 "metadata": {
  "kernelspec": {
   "display_name": "Python 3",
   "language": "python",
   "name": "python3"
  },
  "language_info": {
   "codemirror_mode": {
    "name": "ipython",
    "version": 3
   },
   "file_extension": ".py",
   "mimetype": "text/x-python",
   "name": "python",
   "nbconvert_exporter": "python",
   "pygments_lexer": "ipython3",
   "version": "3.7.6"
  }
 },
 "nbformat": 4,
 "nbformat_minor": 4
}
