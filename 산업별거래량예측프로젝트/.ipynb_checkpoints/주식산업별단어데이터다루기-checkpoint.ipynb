{
 "cells": [
  {
   "cell_type": "code",
   "execution_count": 3,
   "metadata": {},
   "outputs": [],
   "source": [
    "import pandas as pd\n",
    "import datetime"
   ]
  },
  {
   "cell_type": "code",
   "execution_count": 2,
   "metadata": {},
   "outputs": [],
   "source": [
    "Keyword = pd.read_csv(\"result_key.csv\") #단어데이터\n",
    "New_Result = pd.read_csv(\"StockInfo.csv\") #주식데이터"
   ]
  },
  {
   "cell_type": "code",
   "execution_count": 27,
   "metadata": {},
   "outputs": [
    {
     "name": "stderr",
     "output_type": "stream",
     "text": [
      "/opt/anaconda3/lib/python3.7/site-packages/ipykernel_launcher.py:2: FutureWarning: Dropping of nuisance columns in DataFrame reductions (with 'numeric_only=None') is deprecated; in a future version this will raise TypeError.  Select only valid columns before calling the reduction.\n",
      "  \n"
     ]
    }
   ],
   "source": [
    "A = Keyword.sum()\n",
    "remove = []\n",
    "for i in range(len(A)):\n",
    "    if A[i]<=len(Keyword):\n",
    "        remove.append(A.index[i])\n",
    "Keyword.drop(columns = remove+[\"Unnamed: 0_x\"],inplace = True)\n"
   ]
  },
  {
   "cell_type": "code",
   "execution_count": 5,
   "metadata": {},
   "outputs": [],
   "source": [
    "#New_Result는 stock information 데이터프레임\n",
    "\n",
    "New_Result.rename(columns={'Date':'date'},inplace=True)\n",
    "New_Result['date'] = pd.to_datetime(New_Result['date'],format = \"%Y-%m-%d\")\n",
    "Keyword['date'] = pd.to_datetime(Keyword['date'],format = \"%Y%m%d\")\n",
    "Keyword['date'] = Keyword['date'] + datetime.timedelta(days=1) #뉴스데이터 주식데이터 하루날짜차이 맞춰주려고 썻어요\n",
    "\n",
    "keyword_result  = pd.merge(Keyword,New_Result,on='date')\n",
    "keyword_result.rename(columns={'제약_y':'제약'},inplace = True)\n",
    "keyword_result.rename(columns={'자동차_y':'자동차'},inplace = True)\n",
    "keyword_result.fillna(0,inplace=True)\n",
    "\n",
    "result = []\n",
    "\n",
    "Output_Target = [\"반도체와반도체장비\",\"제약\",\"자동차\",\"석유와가스\",\"게임엔터테인먼트\"]\n",
    "for i in Output_Target:\n",
    "    result.append(keyword_result[keyword_result.columns.difference(Output_Target)].corrwith(keyword_result[i]))"
   ]
  },
  {
   "cell_type": "code",
   "execution_count": 6,
   "metadata": {},
   "outputs": [],
   "source": [
    "new_result = pd.concat([result[0],result[1],result[2],result[3],result[4]],axis=1)\n",
    "new_result.rename(columns = {0:Output_Target[0],1:Output_Target[1],2:Output_Target[2],3:Output_Target[3],4:Output_Target[4]},inplace=True)"
   ]
  },
  {
   "cell_type": "code",
   "execution_count": 8,
   "metadata": {},
   "outputs": [
    {
     "data": {
      "text/plain": [
       "아동학대    0.467562\n",
       "나포      0.459110\n",
       "필라테스    0.446375\n",
       "입양아     0.433771\n",
       "실내      0.427195\n",
       "사망자     0.421586\n",
       "근거      0.415793\n",
       "중대      0.414289\n",
       "정인      0.413794\n",
       "처벌법     0.411940\n",
       "Name: 제약, dtype: float64"
      ]
     },
     "execution_count": 8,
     "metadata": {},
     "output_type": "execute_result"
    }
   ],
   "source": [
    "new_result['제약'].sort_values(ascending=False).head(10)"
   ]
  },
  {
   "cell_type": "code",
   "execution_count": 9,
   "metadata": {},
   "outputs": [
    {
     "data": {
      "text/plain": [
       "DolloarIndex   -0.337417\n",
       "KBondRate      -0.305333\n",
       "Exchange       -0.256795\n",
       "선대위            -0.255749\n",
       "이남경            -0.241605\n",
       "메타버스           -0.235457\n",
       "심상정            -0.229301\n",
       "위드코로나          -0.228673\n",
       "메타             -0.226041\n",
       "가상공간           -0.222362\n",
       "Name: 제약, dtype: float64"
      ]
     },
     "execution_count": 9,
     "metadata": {},
     "output_type": "execute_result"
    }
   ],
   "source": [
    "new_result['제약'].sort_values(ascending=True).head(10)"
   ]
  },
  {
   "cell_type": "code",
   "execution_count": 10,
   "metadata": {},
   "outputs": [
    {
     "data": {
      "text/plain": [
       "영하         0.580142\n",
       "예비후보       0.549163\n",
       "오신환        0.535778\n",
       "percent    0.532758\n",
       "대법원장       0.530456\n",
       "기아차        0.529556\n",
       "나경원        0.524714\n",
       "애플카        0.524090\n",
       "자율         0.514860\n",
       "영업제한       0.500390\n",
       "Name: 자동차, dtype: float64"
      ]
     },
     "execution_count": 10,
     "metadata": {},
     "output_type": "execute_result"
    }
   ],
   "source": [
    "new_result['자동차'].sort_values(ascending=False).head(10)"
   ]
  },
  {
   "cell_type": "code",
   "execution_count": 11,
   "metadata": {},
   "outputs": [
    {
     "data": {
      "text/plain": [
       "Exchange       -0.406040\n",
       "DolloarIndex   -0.356587\n",
       "Unnamed: 0_x   -0.348056\n",
       "미래에셋증권         -0.344159\n",
       "mz             -0.326213\n",
       "메타버스           -0.325687\n",
       "메타             -0.321662\n",
       "mz세대           -0.321190\n",
       "이남경            -0.316412\n",
       "홍준표            -0.315295\n",
       "Name: 자동차, dtype: float64"
      ]
     },
     "execution_count": 11,
     "metadata": {},
     "output_type": "execute_result"
    }
   ],
   "source": [
    "new_result['자동차'].sort_values(ascending=True).head(10)"
   ]
  },
  {
   "cell_type": "code",
   "execution_count": 12,
   "metadata": {},
   "outputs": [
    {
     "data": {
      "text/plain": [
       "Exchange       -0.491427\n",
       "메타버스           -0.386921\n",
       "메타             -0.384591\n",
       "Unnamed: 0_x   -0.380338\n",
       "게티이미지뱅크        -0.372269\n",
       "유승민            -0.355945\n",
       "KBondRate      -0.354525\n",
       "완료자            -0.352278\n",
       "액면가            -0.346946\n",
       "nft            -0.346918\n",
       "Name: 반도체와반도체장비, dtype: float64"
      ]
     },
     "execution_count": 12,
     "metadata": {},
     "output_type": "execute_result"
    }
   ],
   "source": [
    "new_result[\"반도체와반도체장비\"].sort_values(ascending=True).head(10)"
   ]
  },
  {
   "cell_type": "code",
   "execution_count": 13,
   "metadata": {},
   "outputs": [
    {
     "data": {
      "text/plain": [
       "위준휘             0.606707\n",
       "강대웅             0.575897\n",
       "Unnamed: 0_y    0.546981\n",
       "코로나바이러스         0.545443\n",
       "연예              0.544428\n",
       "고병원             0.542823\n",
       "감염증             0.535956\n",
       "우상호             0.522838\n",
       "percent         0.510980\n",
       "김종철             0.494135\n",
       "Name: 반도체와반도체장비, dtype: float64"
      ]
     },
     "execution_count": 13,
     "metadata": {},
     "output_type": "execute_result"
    }
   ],
   "source": [
    "new_result[\"반도체와반도체장비\"].sort_values(ascending=False).head(10)"
   ]
  },
  {
   "cell_type": "code",
   "execution_count": 24,
   "metadata": {},
   "outputs": [
    {
     "data": {
      "text/plain": [
       "상위종목           -0.353729\n",
       "KBondRate      -0.332827\n",
       "사진기사           -0.324156\n",
       "Exchange       -0.320676\n",
       "박정수            -0.311387\n",
       "기사             -0.294666\n",
       "유승민            -0.289728\n",
       "스타투데이          -0.287312\n",
       "대권주자           -0.285750\n",
       "DolloarIndex   -0.283153\n",
       "이남경            -0.271861\n",
       "동향             -0.269388\n",
       "최종치            -0.269089\n",
       "mbn스타          -0.262417\n",
       "주체             -0.261499\n",
       "인턴기자           -0.256920\n",
       "메타버스           -0.253162\n",
       "이재명            -0.251331\n",
       "원희룡            -0.243862\n",
       "시총순위           -0.243419\n",
       "Name: 석유와가스, dtype: float64"
      ]
     },
     "execution_count": 24,
     "metadata": {},
     "output_type": "execute_result"
    }
   ],
   "source": [
    "new_result[\"석유와가스\"].sort_values(ascending=True).head(20)"
   ]
  },
  {
   "cell_type": "code",
   "execution_count": 15,
   "metadata": {},
   "outputs": [
    {
     "data": {
      "text/plain": [
       "클럽하우스    0.480449\n",
       "설날       0.473951\n",
       "스푸트니크    0.449159\n",
       "백운규      0.442217\n",
       "대정부질문    0.431169\n",
       "양곤       0.414000\n",
       "대법원장     0.394808\n",
       "애플카      0.391532\n",
       "명절       0.389479\n",
       "민족       0.386070\n",
       "Name: 석유와가스, dtype: float64"
      ]
     },
     "execution_count": 15,
     "metadata": {},
     "output_type": "execute_result"
    }
   ],
   "source": [
    "new_result[\"석유와가스\"].sort_values(ascending=False).head(10)"
   ]
  },
  {
   "cell_type": "code",
   "execution_count": 17,
   "metadata": {},
   "outputs": [
    {
     "data": {
      "text/plain": [
       "입학식      0.490565\n",
       "기념사      0.445129\n",
       "시인       0.419140\n",
       "참여연대     0.383487\n",
       "15조      0.380978\n",
       "19조      0.380533\n",
       "2학년      0.379388\n",
       "추경안      0.378304\n",
       "소프트뱅크    0.377915\n",
       "서구       0.374734\n",
       "Name: 게임엔터테인먼트, dtype: float64"
      ]
     },
     "execution_count": 17,
     "metadata": {},
     "output_type": "execute_result"
    }
   ],
   "source": [
    "new_result[\"게임엔터테인먼트\"].sort_values(ascending=False).head(10)"
   ]
  },
  {
   "cell_type": "code",
   "execution_count": 18,
   "metadata": {},
   "outputs": [
    {
     "data": {
      "text/plain": [
       "예민수         -0.253920\n",
       "예방접종대응추진단   -0.250186\n",
       "통신망법        -0.221146\n",
       "선수권         -0.216126\n",
       "이더리움        -0.208997\n",
       "수제맥주        -0.204953\n",
       "대통령령        -0.199386\n",
       "라이프         -0.196449\n",
       "김민주         -0.193788\n",
       "심사위원        -0.193726\n",
       "Name: 게임엔터테인먼트, dtype: float64"
      ]
     },
     "execution_count": 18,
     "metadata": {},
     "output_type": "execute_result"
    }
   ],
   "source": [
    "new_result[\"게임엔터테인먼트\"].sort_values(ascending=True).head(10)"
   ]
  },
  {
   "cell_type": "code",
   "execution_count": 17,
   "metadata": {},
   "outputs": [],
   "source": [
    "remove_target = list(set(Bio_remove+Car_remove+Sc_remove+Gas_remove+Gm_remove))"
   ]
  },
  {
   "cell_type": "code",
   "execution_count": 18,
   "metadata": {},
   "outputs": [],
   "source": [
    "keyword_result.drop(columns=remove_target,inplace=True)"
   ]
  },
  {
   "cell_type": "code",
   "execution_count": 19,
   "metadata": {},
   "outputs": [],
   "source": [
    "result = []\n",
    "\n",
    "Output_Target = [\"반도체와반도체장비\",\"제약\",\"자동차\",\"석유와가스\",\"게임엔터테인먼트\"]\n",
    "for i in Output_Target:\n",
    "    result.append(keyword_result[keyword_result.columns.difference(Output_Target)].corrwith(keyword_result[i]))\n",
    "\n",
    "new_result = pd.concat([result[0],result[1],result[2],result[3],result[4]],axis=1)\n",
    "new_result.rename(columns = {0:Output_Target[0],1:Output_Target[1],2:Output_Target[2],3:Output_Target[3],4:Output_Target[4]},inplace=True)"
   ]
  },
  {
   "cell_type": "code",
   "execution_count": 40,
   "metadata": {},
   "outputs": [
    {
     "data": {
      "text/plain": [
       "코로나바이러스       0.613783\n",
       "집단감염          0.569152\n",
       "우상호           0.542408\n",
       "investment    0.541554\n",
       "타라시스템         0.540670\n",
       "                ...   \n",
       "우이혼           0.457596\n",
       "sources       0.457376\n",
       "plant         0.456885\n",
       "sk와이번스        0.456183\n",
       "including     0.455872\n",
       "Name: 반도체와반도체장비, Length: 100, dtype: float64"
      ]
     },
     "execution_count": 40,
     "metadata": {},
     "output_type": "execute_result"
    }
   ],
   "source": [
    "new_result[Output_Target[0]].sort_values(ascending=False).head(100)"
   ]
  },
  {
   "cell_type": "code",
   "execution_count": 32,
   "metadata": {},
   "outputs": [],
   "source": [
    "new_remove = [\"growth\",\"prices\",\"mtn\",\"companies\",'operating','company','business','investment']"
   ]
  },
  {
   "cell_type": "code",
   "execution_count": 33,
   "metadata": {},
   "outputs": [],
   "source": [
    "keyword_result.drop(columns=new_remove,inplace=True)"
   ]
  },
  {
   "cell_type": "code",
   "execution_count": 38,
   "metadata": {},
   "outputs": [
    {
     "data": {
      "text/plain": [
       "Index(['Unnamed: 0_x', 'date', '이듬해', '화성', '한국', '선교사', '그해', '3호', '이상화',\n",
       "       '동탄',\n",
       "       ...\n",
       "       'NG_VOLUME', 'USO_VOLUME', 'GM_ETF', 'Exchange', 'DolloarIndex',\n",
       "       '반도체와반도체장비', '제약', '자동차', '석유와가스', '게임엔터테인먼트'],\n",
       "      dtype='object', length=87826)"
      ]
     },
     "execution_count": 38,
     "metadata": {},
     "output_type": "execute_result"
    }
   ],
   "source": [
    "keyword_result.columns"
   ]
  },
  {
   "cell_type": "code",
   "execution_count": 26,
   "metadata": {},
   "outputs": [],
   "source": [
    "Keyword.fillna(0,inplace=True)"
   ]
  },
  {
   "cell_type": "code",
   "execution_count": 29,
   "metadata": {},
   "outputs": [
    {
     "data": {
      "text/plain": [
       "9154"
      ]
     },
     "execution_count": 29,
     "metadata": {},
     "output_type": "execute_result"
    }
   ],
   "source": [
    "len(Keyword.columns)"
   ]
  },
  {
   "cell_type": "code",
   "execution_count": null,
   "metadata": {},
   "outputs": [],
   "source": []
  }
 ],
 "metadata": {
  "kernelspec": {
   "display_name": "Python 3",
   "language": "python",
   "name": "python3"
  },
  "language_info": {
   "codemirror_mode": {
    "name": "ipython",
    "version": 3
   },
   "file_extension": ".py",
   "mimetype": "text/x-python",
   "name": "python",
   "nbconvert_exporter": "python",
   "pygments_lexer": "ipython3",
   "version": "3.7.6"
  }
 },
 "nbformat": 4,
 "nbformat_minor": 4
}
