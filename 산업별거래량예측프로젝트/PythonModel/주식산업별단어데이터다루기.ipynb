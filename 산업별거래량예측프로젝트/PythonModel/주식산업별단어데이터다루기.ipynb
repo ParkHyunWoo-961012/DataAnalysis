{
 "cells": [
  {
   "cell_type": "code",
   "execution_count": 1,
   "metadata": {},
   "outputs": [],
   "source": [
    "import pandas as pd\n",
    "import datetime"
   ]
  },
  {
   "cell_type": "code",
   "execution_count": 2,
   "metadata": {},
   "outputs": [],
   "source": [
    "Keyword = pd.read_csv(\"result_key.csv\") #단어데이터\n",
    "New_Result = pd.read_csv(\"Us_Added_Stock_Info.csv\") #주식데이터\n",
    "etf_result = pd.read_csv(\"\")"
   ]
  },
  {
   "cell_type": "code",
   "execution_count": 23,
   "metadata": {},
   "outputs": [],
   "source": [
    "selected_word = pd.read_csv(\"Top100_count_include.csv\")\n",
    "selected_word2 = pd.read_csv(\"Top100_after_change_binary.csv\")"
   ]
  },
  {
   "cell_type": "code",
   "execution_count": 43,
   "metadata": {},
   "outputs": [],
   "source": [
    "A = ['파운드리', '시장', '이용자', '브렌트유', '투자', '전문', '사진', '진행', '시총', '대표', '클라우드', '부동산', '석유', '메타버스', '공장', '이날', '백신', '지원', '신규', '디자']\n",
    "key = list(selected_word2['Columns'].values)\n",
    "for i in A:\n",
    "    key.remove(i)\n"
   ]
  },
  {
   "cell_type": "code",
   "execution_count": 44,
   "metadata": {},
   "outputs": [],
   "source": [
    "select_keyword = Keyword[key+['date']]"
   ]
  },
  {
   "cell_type": "code",
   "execution_count": 45,
   "metadata": {},
   "outputs": [
    {
     "name": "stderr",
     "output_type": "stream",
     "text": [
      "/opt/anaconda3/lib/python3.7/site-packages/ipykernel_launcher.py:5: SettingWithCopyWarning: \n",
      "A value is trying to be set on a copy of a slice from a DataFrame.\n",
      "Try using .loc[row_indexer,col_indexer] = value instead\n",
      "\n",
      "See the caveats in the documentation: https://pandas.pydata.org/pandas-docs/stable/user_guide/indexing.html#returning-a-view-versus-a-copy\n",
      "  \"\"\"\n",
      "/opt/anaconda3/lib/python3.7/site-packages/ipykernel_launcher.py:6: SettingWithCopyWarning: \n",
      "A value is trying to be set on a copy of a slice from a DataFrame.\n",
      "Try using .loc[row_indexer,col_indexer] = value instead\n",
      "\n",
      "See the caveats in the documentation: https://pandas.pydata.org/pandas-docs/stable/user_guide/indexing.html#returning-a-view-versus-a-copy\n",
      "  \n"
     ]
    }
   ],
   "source": [
    "#New_Result는 stock information 데이터프레임\n",
    "\n",
    "#New_Result.rename(columns={'Date':'date'},inplace=True)\n",
    "#New_Result['date'] = pd.to_datetime(New_Result['date'],format = \"%Y-%m-%d\")\n",
    "select_keyword['date'] = pd.to_datetime(select_keyword['date'],format = \"%Y%m%d\")\n",
    "select_keyword['date'] = select_keyword['date'] + datetime.timedelta(days=1) #뉴스데이터 주식데이터 하루날짜차이 맞춰주려고 썻어요\n",
    "\n",
    "keyword_result = pd.merge(select_keyword,New_Result,on='date')\n",
    "# keyword_result.rename(columns={'제약_y':'제약'},inplace = True)\n",
    "# keyword_result.rename(columns={'자동차_y':'자동차섹터'},inplace = True)\n",
    "keyword_result.fillna(0,inplace=True)\n",
    "\n",
    "# result = []\n",
    "\n",
    "# Output_Target = [\"반도체와반도체장비\",\"제약\",\"자동차\",\"석유와가스\",\"게임엔터테인먼트\"]\n",
    "# for i in Output_Target:\n",
    "#     result.append(keyword_result[keyword_result.columns.difference(Output_Target)].corrwith(keyword_result[i]))"
   ]
  },
  {
   "cell_type": "code",
   "execution_count": 47,
   "metadata": {},
   "outputs": [
    {
     "data": {
      "text/html": [
       "<div>\n",
       "<style scoped>\n",
       "    .dataframe tbody tr th:only-of-type {\n",
       "        vertical-align: middle;\n",
       "    }\n",
       "\n",
       "    .dataframe tbody tr th {\n",
       "        vertical-align: top;\n",
       "    }\n",
       "\n",
       "    .dataframe thead th {\n",
       "        text-align: right;\n",
       "    }\n",
       "</style>\n",
       "<table border=\"1\" class=\"dataframe\">\n",
       "  <thead>\n",
       "    <tr style=\"text-align: right;\">\n",
       "      <th></th>\n",
       "      <th>배럴</th>\n",
       "      <th>치료제</th>\n",
       "      <th>스타트업</th>\n",
       "      <th>천연가스</th>\n",
       "      <th>제약사</th>\n",
       "      <th>온라인</th>\n",
       "      <th>네이버</th>\n",
       "      <th>국제유가</th>\n",
       "      <th>오프라인</th>\n",
       "      <th>의약품</th>\n",
       "      <th>...</th>\n",
       "      <th>US_SC_SECTOR_VOLUME</th>\n",
       "      <th>US_BIO_SECTOR_VOLUME</th>\n",
       "      <th>US_CAR_SECTOR_VOLUME</th>\n",
       "      <th>US_GAS_SECTOR_VOLUME</th>\n",
       "      <th>US_GM_SECTOR_VOLUME</th>\n",
       "      <th>반도체와반도체장비</th>\n",
       "      <th>제약</th>\n",
       "      <th>자동차</th>\n",
       "      <th>석유와가스</th>\n",
       "      <th>게임엔터테인먼트</th>\n",
       "    </tr>\n",
       "  </thead>\n",
       "  <tbody>\n",
       "    <tr>\n",
       "      <th>0</th>\n",
       "      <td>3.0</td>\n",
       "      <td>12.0</td>\n",
       "      <td>10</td>\n",
       "      <td>5.0</td>\n",
       "      <td>8.0</td>\n",
       "      <td>95</td>\n",
       "      <td>19</td>\n",
       "      <td>1.0</td>\n",
       "      <td>13.0</td>\n",
       "      <td>8.0</td>\n",
       "      <td>...</td>\n",
       "      <td>1.943012e+06</td>\n",
       "      <td>4751732.4</td>\n",
       "      <td>1.293087e+07</td>\n",
       "      <td>3.538662e+06</td>\n",
       "      <td>2.507433e+06</td>\n",
       "      <td>2.107285e+06</td>\n",
       "      <td>8.335759e+05</td>\n",
       "      <td>1822792.375</td>\n",
       "      <td>2.939573e+06</td>\n",
       "      <td>4.667284e+05</td>\n",
       "    </tr>\n",
       "    <tr>\n",
       "      <th>1</th>\n",
       "      <td>5.0</td>\n",
       "      <td>68.0</td>\n",
       "      <td>57</td>\n",
       "      <td>8.0</td>\n",
       "      <td>28.0</td>\n",
       "      <td>385</td>\n",
       "      <td>43</td>\n",
       "      <td>1.0</td>\n",
       "      <td>51.0</td>\n",
       "      <td>70.0</td>\n",
       "      <td>...</td>\n",
       "      <td>1.567917e+06</td>\n",
       "      <td>4572254.8</td>\n",
       "      <td>9.395011e+06</td>\n",
       "      <td>5.654613e+06</td>\n",
       "      <td>2.165651e+06</td>\n",
       "      <td>1.715251e+06</td>\n",
       "      <td>1.203097e+06</td>\n",
       "      <td>1187411.625</td>\n",
       "      <td>3.210694e+06</td>\n",
       "      <td>4.302828e+05</td>\n",
       "    </tr>\n",
       "    <tr>\n",
       "      <th>2</th>\n",
       "      <td>2.0</td>\n",
       "      <td>53.0</td>\n",
       "      <td>29</td>\n",
       "      <td>6.0</td>\n",
       "      <td>14.0</td>\n",
       "      <td>286</td>\n",
       "      <td>45</td>\n",
       "      <td>1.0</td>\n",
       "      <td>46.0</td>\n",
       "      <td>44.0</td>\n",
       "      <td>...</td>\n",
       "      <td>1.774856e+06</td>\n",
       "      <td>4902517.2</td>\n",
       "      <td>1.111446e+07</td>\n",
       "      <td>5.803685e+06</td>\n",
       "      <td>2.303577e+06</td>\n",
       "      <td>1.824799e+06</td>\n",
       "      <td>2.796216e+06</td>\n",
       "      <td>983732.000</td>\n",
       "      <td>5.121786e+06</td>\n",
       "      <td>5.988308e+05</td>\n",
       "    </tr>\n",
       "    <tr>\n",
       "      <th>3</th>\n",
       "      <td>28.0</td>\n",
       "      <td>58.0</td>\n",
       "      <td>54</td>\n",
       "      <td>4.0</td>\n",
       "      <td>23.0</td>\n",
       "      <td>352</td>\n",
       "      <td>41</td>\n",
       "      <td>14.0</td>\n",
       "      <td>34.0</td>\n",
       "      <td>49.0</td>\n",
       "      <td>...</td>\n",
       "      <td>1.901702e+06</td>\n",
       "      <td>3893866.8</td>\n",
       "      <td>8.299572e+06</td>\n",
       "      <td>3.772788e+06</td>\n",
       "      <td>2.439438e+06</td>\n",
       "      <td>2.008111e+06</td>\n",
       "      <td>1.208024e+06</td>\n",
       "      <td>1104469.625</td>\n",
       "      <td>2.359454e+06</td>\n",
       "      <td>5.879534e+05</td>\n",
       "    </tr>\n",
       "    <tr>\n",
       "      <th>4</th>\n",
       "      <td>9.0</td>\n",
       "      <td>46.0</td>\n",
       "      <td>34</td>\n",
       "      <td>7.0</td>\n",
       "      <td>19.0</td>\n",
       "      <td>324</td>\n",
       "      <td>49</td>\n",
       "      <td>5.0</td>\n",
       "      <td>48.0</td>\n",
       "      <td>32.0</td>\n",
       "      <td>...</td>\n",
       "      <td>2.392240e+06</td>\n",
       "      <td>4111595.6</td>\n",
       "      <td>1.032720e+07</td>\n",
       "      <td>3.450589e+06</td>\n",
       "      <td>2.391136e+06</td>\n",
       "      <td>2.171529e+06</td>\n",
       "      <td>9.520995e+05</td>\n",
       "      <td>6781590.875</td>\n",
       "      <td>2.176021e+06</td>\n",
       "      <td>7.291916e+05</td>\n",
       "    </tr>\n",
       "    <tr>\n",
       "      <th>...</th>\n",
       "      <td>...</td>\n",
       "      <td>...</td>\n",
       "      <td>...</td>\n",
       "      <td>...</td>\n",
       "      <td>...</td>\n",
       "      <td>...</td>\n",
       "      <td>...</td>\n",
       "      <td>...</td>\n",
       "      <td>...</td>\n",
       "      <td>...</td>\n",
       "      <td>...</td>\n",
       "      <td>...</td>\n",
       "      <td>...</td>\n",
       "      <td>...</td>\n",
       "      <td>...</td>\n",
       "      <td>...</td>\n",
       "      <td>...</td>\n",
       "      <td>...</td>\n",
       "      <td>...</td>\n",
       "      <td>...</td>\n",
       "      <td>...</td>\n",
       "    </tr>\n",
       "    <tr>\n",
       "      <th>200</th>\n",
       "      <td>5.0</td>\n",
       "      <td>48.0</td>\n",
       "      <td>84</td>\n",
       "      <td>21.0</td>\n",
       "      <td>6.0</td>\n",
       "      <td>294</td>\n",
       "      <td>42</td>\n",
       "      <td>7.0</td>\n",
       "      <td>48.0</td>\n",
       "      <td>57.0</td>\n",
       "      <td>...</td>\n",
       "      <td>1.356496e+06</td>\n",
       "      <td>5335303.6</td>\n",
       "      <td>5.663973e+06</td>\n",
       "      <td>3.346859e+06</td>\n",
       "      <td>2.280002e+06</td>\n",
       "      <td>5.250480e+05</td>\n",
       "      <td>3.160820e+05</td>\n",
       "      <td>242041.875</td>\n",
       "      <td>1.986508e+06</td>\n",
       "      <td>2.097540e+06</td>\n",
       "    </tr>\n",
       "    <tr>\n",
       "      <th>201</th>\n",
       "      <td>10.0</td>\n",
       "      <td>38.0</td>\n",
       "      <td>73</td>\n",
       "      <td>9.0</td>\n",
       "      <td>11.0</td>\n",
       "      <td>330</td>\n",
       "      <td>23</td>\n",
       "      <td>3.0</td>\n",
       "      <td>51.0</td>\n",
       "      <td>41.0</td>\n",
       "      <td>...</td>\n",
       "      <td>3.112207e+06</td>\n",
       "      <td>5336482.8</td>\n",
       "      <td>7.852791e+06</td>\n",
       "      <td>3.568175e+06</td>\n",
       "      <td>2.699875e+06</td>\n",
       "      <td>4.783857e+05</td>\n",
       "      <td>3.063402e+05</td>\n",
       "      <td>443000.125</td>\n",
       "      <td>1.893869e+06</td>\n",
       "      <td>1.361330e+06</td>\n",
       "    </tr>\n",
       "    <tr>\n",
       "      <th>202</th>\n",
       "      <td>9.0</td>\n",
       "      <td>55.0</td>\n",
       "      <td>67</td>\n",
       "      <td>15.0</td>\n",
       "      <td>18.0</td>\n",
       "      <td>321</td>\n",
       "      <td>47</td>\n",
       "      <td>1.0</td>\n",
       "      <td>50.0</td>\n",
       "      <td>55.0</td>\n",
       "      <td>...</td>\n",
       "      <td>1.806738e+06</td>\n",
       "      <td>11306069.2</td>\n",
       "      <td>6.084879e+06</td>\n",
       "      <td>3.004415e+06</td>\n",
       "      <td>2.693629e+06</td>\n",
       "      <td>6.031423e+05</td>\n",
       "      <td>2.442793e+05</td>\n",
       "      <td>539002.750</td>\n",
       "      <td>4.782207e+06</td>\n",
       "      <td>1.051388e+06</td>\n",
       "    </tr>\n",
       "    <tr>\n",
       "      <th>203</th>\n",
       "      <td>2.0</td>\n",
       "      <td>15.0</td>\n",
       "      <td>19</td>\n",
       "      <td>4.0</td>\n",
       "      <td>9.0</td>\n",
       "      <td>83</td>\n",
       "      <td>11</td>\n",
       "      <td>0.0</td>\n",
       "      <td>16.0</td>\n",
       "      <td>4.0</td>\n",
       "      <td>...</td>\n",
       "      <td>2.535311e+06</td>\n",
       "      <td>5441681.6</td>\n",
       "      <td>7.541805e+06</td>\n",
       "      <td>2.756115e+06</td>\n",
       "      <td>2.570282e+06</td>\n",
       "      <td>6.941433e+05</td>\n",
       "      <td>3.055940e+05</td>\n",
       "      <td>332951.125</td>\n",
       "      <td>3.054790e+06</td>\n",
       "      <td>9.591629e+05</td>\n",
       "    </tr>\n",
       "    <tr>\n",
       "      <th>204</th>\n",
       "      <td>3.0</td>\n",
       "      <td>100.0</td>\n",
       "      <td>85</td>\n",
       "      <td>12.0</td>\n",
       "      <td>26.0</td>\n",
       "      <td>325</td>\n",
       "      <td>36</td>\n",
       "      <td>0.0</td>\n",
       "      <td>40.0</td>\n",
       "      <td>45.0</td>\n",
       "      <td>...</td>\n",
       "      <td>1.855284e+06</td>\n",
       "      <td>3733780.0</td>\n",
       "      <td>7.601800e+06</td>\n",
       "      <td>2.728038e+06</td>\n",
       "      <td>3.562843e+06</td>\n",
       "      <td>5.649465e+05</td>\n",
       "      <td>2.116122e+05</td>\n",
       "      <td>334540.000</td>\n",
       "      <td>4.199246e+06</td>\n",
       "      <td>1.519503e+06</td>\n",
       "    </tr>\n",
       "  </tbody>\n",
       "</table>\n",
       "<p>205 rows × 102 columns</p>\n",
       "</div>"
      ],
      "text/plain": [
       "       배럴    치료제  스타트업  천연가스   제약사  온라인  네이버  국제유가  오프라인   의약품  ...  \\\n",
       "0     3.0   12.0    10   5.0   8.0   95   19   1.0  13.0   8.0  ...   \n",
       "1     5.0   68.0    57   8.0  28.0  385   43   1.0  51.0  70.0  ...   \n",
       "2     2.0   53.0    29   6.0  14.0  286   45   1.0  46.0  44.0  ...   \n",
       "3    28.0   58.0    54   4.0  23.0  352   41  14.0  34.0  49.0  ...   \n",
       "4     9.0   46.0    34   7.0  19.0  324   49   5.0  48.0  32.0  ...   \n",
       "..    ...    ...   ...   ...   ...  ...  ...   ...   ...   ...  ...   \n",
       "200   5.0   48.0    84  21.0   6.0  294   42   7.0  48.0  57.0  ...   \n",
       "201  10.0   38.0    73   9.0  11.0  330   23   3.0  51.0  41.0  ...   \n",
       "202   9.0   55.0    67  15.0  18.0  321   47   1.0  50.0  55.0  ...   \n",
       "203   2.0   15.0    19   4.0   9.0   83   11   0.0  16.0   4.0  ...   \n",
       "204   3.0  100.0    85  12.0  26.0  325   36   0.0  40.0  45.0  ...   \n",
       "\n",
       "     US_SC_SECTOR_VOLUME  US_BIO_SECTOR_VOLUME  US_CAR_SECTOR_VOLUME  \\\n",
       "0           1.943012e+06             4751732.4          1.293087e+07   \n",
       "1           1.567917e+06             4572254.8          9.395011e+06   \n",
       "2           1.774856e+06             4902517.2          1.111446e+07   \n",
       "3           1.901702e+06             3893866.8          8.299572e+06   \n",
       "4           2.392240e+06             4111595.6          1.032720e+07   \n",
       "..                   ...                   ...                   ...   \n",
       "200         1.356496e+06             5335303.6          5.663973e+06   \n",
       "201         3.112207e+06             5336482.8          7.852791e+06   \n",
       "202         1.806738e+06            11306069.2          6.084879e+06   \n",
       "203         2.535311e+06             5441681.6          7.541805e+06   \n",
       "204         1.855284e+06             3733780.0          7.601800e+06   \n",
       "\n",
       "     US_GAS_SECTOR_VOLUME  US_GM_SECTOR_VOLUME     반도체와반도체장비            제약  \\\n",
       "0            3.538662e+06         2.507433e+06  2.107285e+06  8.335759e+05   \n",
       "1            5.654613e+06         2.165651e+06  1.715251e+06  1.203097e+06   \n",
       "2            5.803685e+06         2.303577e+06  1.824799e+06  2.796216e+06   \n",
       "3            3.772788e+06         2.439438e+06  2.008111e+06  1.208024e+06   \n",
       "4            3.450589e+06         2.391136e+06  2.171529e+06  9.520995e+05   \n",
       "..                    ...                  ...           ...           ...   \n",
       "200          3.346859e+06         2.280002e+06  5.250480e+05  3.160820e+05   \n",
       "201          3.568175e+06         2.699875e+06  4.783857e+05  3.063402e+05   \n",
       "202          3.004415e+06         2.693629e+06  6.031423e+05  2.442793e+05   \n",
       "203          2.756115e+06         2.570282e+06  6.941433e+05  3.055940e+05   \n",
       "204          2.728038e+06         3.562843e+06  5.649465e+05  2.116122e+05   \n",
       "\n",
       "             자동차         석유와가스      게임엔터테인먼트  \n",
       "0    1822792.375  2.939573e+06  4.667284e+05  \n",
       "1    1187411.625  3.210694e+06  4.302828e+05  \n",
       "2     983732.000  5.121786e+06  5.988308e+05  \n",
       "3    1104469.625  2.359454e+06  5.879534e+05  \n",
       "4    6781590.875  2.176021e+06  7.291916e+05  \n",
       "..           ...           ...           ...  \n",
       "200   242041.875  1.986508e+06  2.097540e+06  \n",
       "201   443000.125  1.893869e+06  1.361330e+06  \n",
       "202   539002.750  4.782207e+06  1.051388e+06  \n",
       "203   332951.125  3.054790e+06  9.591629e+05  \n",
       "204   334540.000  4.199246e+06  1.519503e+06  \n",
       "\n",
       "[205 rows x 102 columns]"
      ]
     },
     "execution_count": 47,
     "metadata": {},
     "output_type": "execute_result"
    }
   ],
   "source": [
    "keyword_result"
   ]
  },
  {
   "cell_type": "code",
   "execution_count": 46,
   "metadata": {},
   "outputs": [],
   "source": [
    "keyword_result.rename(columns={'자동차_y':'자동차섹터','자동차_x':'자동차'},inplace = True)"
   ]
  },
  {
   "cell_type": "code",
   "execution_count": 48,
   "metadata": {},
   "outputs": [],
   "source": [
    "keyword_result.to_csv(\"final_model2_using_binary.csv\")"
   ]
  },
  {
   "cell_type": "code",
   "execution_count": 6,
   "metadata": {},
   "outputs": [],
   "source": [
    "new_result = pd.concat([result[0],result[1],result[2],result[3],result[4]],axis=1)\n",
    "new_result.rename(columns = {0:Output_Target[0],1:Output_Target[1],2:Output_Target[2],3:Output_Target[3],4:Output_Target[4]},inplace=True)"
   ]
  },
  {
   "cell_type": "code",
   "execution_count": 8,
   "metadata": {},
   "outputs": [
    {
     "data": {
      "text/plain": [
       "아동학대    0.467562\n",
       "나포      0.459110\n",
       "필라테스    0.446375\n",
       "입양아     0.433771\n",
       "실내      0.427195\n",
       "사망자     0.421586\n",
       "근거      0.415793\n",
       "중대      0.414289\n",
       "정인      0.413794\n",
       "처벌법     0.411940\n",
       "Name: 제약, dtype: float64"
      ]
     },
     "execution_count": 8,
     "metadata": {},
     "output_type": "execute_result"
    }
   ],
   "source": [
    "new_result['제약'].sort_values(ascending=False).head(10)"
   ]
  },
  {
   "cell_type": "code",
   "execution_count": 9,
   "metadata": {},
   "outputs": [
    {
     "data": {
      "text/plain": [
       "DolloarIndex   -0.337417\n",
       "KBondRate      -0.305333\n",
       "Exchange       -0.256795\n",
       "선대위            -0.255749\n",
       "이남경            -0.241605\n",
       "메타버스           -0.235457\n",
       "심상정            -0.229301\n",
       "위드코로나          -0.228673\n",
       "메타             -0.226041\n",
       "가상공간           -0.222362\n",
       "Name: 제약, dtype: float64"
      ]
     },
     "execution_count": 9,
     "metadata": {},
     "output_type": "execute_result"
    }
   ],
   "source": [
    "new_result['제약'].sort_values(ascending=True).head(10)"
   ]
  },
  {
   "cell_type": "code",
   "execution_count": 10,
   "metadata": {},
   "outputs": [
    {
     "data": {
      "text/plain": [
       "영하         0.580142\n",
       "예비후보       0.549163\n",
       "오신환        0.535778\n",
       "percent    0.532758\n",
       "대법원장       0.530456\n",
       "기아차        0.529556\n",
       "나경원        0.524714\n",
       "애플카        0.524090\n",
       "자율         0.514860\n",
       "영업제한       0.500390\n",
       "Name: 자동차, dtype: float64"
      ]
     },
     "execution_count": 10,
     "metadata": {},
     "output_type": "execute_result"
    }
   ],
   "source": [
    "new_result['자동차'].sort_values(ascending=False).head(10)"
   ]
  },
  {
   "cell_type": "code",
   "execution_count": 11,
   "metadata": {},
   "outputs": [
    {
     "data": {
      "text/plain": [
       "Exchange       -0.406040\n",
       "DolloarIndex   -0.356587\n",
       "Unnamed: 0_x   -0.348056\n",
       "미래에셋증권         -0.344159\n",
       "mz             -0.326213\n",
       "메타버스           -0.325687\n",
       "메타             -0.321662\n",
       "mz세대           -0.321190\n",
       "이남경            -0.316412\n",
       "홍준표            -0.315295\n",
       "Name: 자동차, dtype: float64"
      ]
     },
     "execution_count": 11,
     "metadata": {},
     "output_type": "execute_result"
    }
   ],
   "source": [
    "new_result['자동차'].sort_values(ascending=True).head(10)"
   ]
  },
  {
   "cell_type": "code",
   "execution_count": 12,
   "metadata": {},
   "outputs": [
    {
     "data": {
      "text/plain": [
       "Exchange       -0.491427\n",
       "메타버스           -0.386921\n",
       "메타             -0.384591\n",
       "Unnamed: 0_x   -0.380338\n",
       "게티이미지뱅크        -0.372269\n",
       "유승민            -0.355945\n",
       "KBondRate      -0.354525\n",
       "완료자            -0.352278\n",
       "액면가            -0.346946\n",
       "nft            -0.346918\n",
       "Name: 반도체와반도체장비, dtype: float64"
      ]
     },
     "execution_count": 12,
     "metadata": {},
     "output_type": "execute_result"
    }
   ],
   "source": [
    "new_result[\"반도체와반도체장비\"].sort_values(ascending=True).head(10)"
   ]
  },
  {
   "cell_type": "code",
   "execution_count": 13,
   "metadata": {},
   "outputs": [
    {
     "data": {
      "text/plain": [
       "위준휘             0.606707\n",
       "강대웅             0.575897\n",
       "Unnamed: 0_y    0.546981\n",
       "코로나바이러스         0.545443\n",
       "연예              0.544428\n",
       "고병원             0.542823\n",
       "감염증             0.535956\n",
       "우상호             0.522838\n",
       "percent         0.510980\n",
       "김종철             0.494135\n",
       "Name: 반도체와반도체장비, dtype: float64"
      ]
     },
     "execution_count": 13,
     "metadata": {},
     "output_type": "execute_result"
    }
   ],
   "source": [
    "new_result[\"반도체와반도체장비\"].sort_values(ascending=False).head(10)"
   ]
  },
  {
   "cell_type": "code",
   "execution_count": 24,
   "metadata": {},
   "outputs": [
    {
     "data": {
      "text/plain": [
       "상위종목           -0.353729\n",
       "KBondRate      -0.332827\n",
       "사진기사           -0.324156\n",
       "Exchange       -0.320676\n",
       "박정수            -0.311387\n",
       "기사             -0.294666\n",
       "유승민            -0.289728\n",
       "스타투데이          -0.287312\n",
       "대권주자           -0.285750\n",
       "DolloarIndex   -0.283153\n",
       "이남경            -0.271861\n",
       "동향             -0.269388\n",
       "최종치            -0.269089\n",
       "mbn스타          -0.262417\n",
       "주체             -0.261499\n",
       "인턴기자           -0.256920\n",
       "메타버스           -0.253162\n",
       "이재명            -0.251331\n",
       "원희룡            -0.243862\n",
       "시총순위           -0.243419\n",
       "Name: 석유와가스, dtype: float64"
      ]
     },
     "execution_count": 24,
     "metadata": {},
     "output_type": "execute_result"
    }
   ],
   "source": [
    "new_result[\"석유와가스\"].sort_values(ascending=True).head(20)"
   ]
  },
  {
   "cell_type": "code",
   "execution_count": 15,
   "metadata": {},
   "outputs": [
    {
     "data": {
      "text/plain": [
       "클럽하우스    0.480449\n",
       "설날       0.473951\n",
       "스푸트니크    0.449159\n",
       "백운규      0.442217\n",
       "대정부질문    0.431169\n",
       "양곤       0.414000\n",
       "대법원장     0.394808\n",
       "애플카      0.391532\n",
       "명절       0.389479\n",
       "민족       0.386070\n",
       "Name: 석유와가스, dtype: float64"
      ]
     },
     "execution_count": 15,
     "metadata": {},
     "output_type": "execute_result"
    }
   ],
   "source": [
    "new_result[\"석유와가스\"].sort_values(ascending=False).head(10)"
   ]
  },
  {
   "cell_type": "code",
   "execution_count": 17,
   "metadata": {},
   "outputs": [
    {
     "data": {
      "text/plain": [
       "입학식      0.490565\n",
       "기념사      0.445129\n",
       "시인       0.419140\n",
       "참여연대     0.383487\n",
       "15조      0.380978\n",
       "19조      0.380533\n",
       "2학년      0.379388\n",
       "추경안      0.378304\n",
       "소프트뱅크    0.377915\n",
       "서구       0.374734\n",
       "Name: 게임엔터테인먼트, dtype: float64"
      ]
     },
     "execution_count": 17,
     "metadata": {},
     "output_type": "execute_result"
    }
   ],
   "source": [
    "new_result[\"게임엔터테인먼트\"].sort_values(ascending=False).head(10)"
   ]
  },
  {
   "cell_type": "code",
   "execution_count": 18,
   "metadata": {},
   "outputs": [
    {
     "data": {
      "text/plain": [
       "예민수         -0.253920\n",
       "예방접종대응추진단   -0.250186\n",
       "통신망법        -0.221146\n",
       "선수권         -0.216126\n",
       "이더리움        -0.208997\n",
       "수제맥주        -0.204953\n",
       "대통령령        -0.199386\n",
       "라이프         -0.196449\n",
       "김민주         -0.193788\n",
       "심사위원        -0.193726\n",
       "Name: 게임엔터테인먼트, dtype: float64"
      ]
     },
     "execution_count": 18,
     "metadata": {},
     "output_type": "execute_result"
    }
   ],
   "source": [
    "new_result[\"게임엔터테인먼트\"].sort_values(ascending=True).head(10)"
   ]
  },
  {
   "cell_type": "code",
   "execution_count": 17,
   "metadata": {},
   "outputs": [],
   "source": [
    "remove_target = list(set(Bio_remove+Car_remove+Sc_remove+Gas_remove+Gm_remove))"
   ]
  },
  {
   "cell_type": "code",
   "execution_count": 18,
   "metadata": {},
   "outputs": [],
   "source": [
    "keyword_result.drop(columns=remove_target,inplace=True)"
   ]
  },
  {
   "cell_type": "code",
   "execution_count": 19,
   "metadata": {},
   "outputs": [],
   "source": [
    "result = []\n",
    "\n",
    "Output_Target = [\"반도체와반도체장비\",\"제약\",\"자동차\",\"석유와가스\",\"게임엔터테인먼트\"]\n",
    "for i in Output_Target:\n",
    "    result.append(keyword_result[keyword_result.columns.difference(Output_Target)].corrwith(keyword_result[i]))\n",
    "\n",
    "new_result = pd.concat([result[0],result[1],result[2],result[3],result[4]],axis=1)\n",
    "new_result.rename(columns = {0:Output_Target[0],1:Output_Target[1],2:Output_Target[2],3:Output_Target[3],4:Output_Target[4]},inplace=True)"
   ]
  },
  {
   "cell_type": "code",
   "execution_count": 40,
   "metadata": {},
   "outputs": [
    {
     "data": {
      "text/plain": [
       "코로나바이러스       0.613783\n",
       "집단감염          0.569152\n",
       "우상호           0.542408\n",
       "investment    0.541554\n",
       "타라시스템         0.540670\n",
       "                ...   \n",
       "우이혼           0.457596\n",
       "sources       0.457376\n",
       "plant         0.456885\n",
       "sk와이번스        0.456183\n",
       "including     0.455872\n",
       "Name: 반도체와반도체장비, Length: 100, dtype: float64"
      ]
     },
     "execution_count": 40,
     "metadata": {},
     "output_type": "execute_result"
    }
   ],
   "source": [
    "new_result[Output_Target[0]].sort_values(ascending=False).head(100)"
   ]
  },
  {
   "cell_type": "code",
   "execution_count": 32,
   "metadata": {},
   "outputs": [],
   "source": [
    "new_remove = [\"growth\",\"prices\",\"mtn\",\"companies\",'operating','company','business','investment']"
   ]
  },
  {
   "cell_type": "code",
   "execution_count": 33,
   "metadata": {},
   "outputs": [],
   "source": [
    "keyword_result.drop(columns=new_remove,inplace=True)"
   ]
  },
  {
   "cell_type": "code",
   "execution_count": 38,
   "metadata": {},
   "outputs": [
    {
     "data": {
      "text/plain": [
       "Index(['Unnamed: 0_x', 'date', '이듬해', '화성', '한국', '선교사', '그해', '3호', '이상화',\n",
       "       '동탄',\n",
       "       ...\n",
       "       'NG_VOLUME', 'USO_VOLUME', 'GM_ETF', 'Exchange', 'DolloarIndex',\n",
       "       '반도체와반도체장비', '제약', '자동차', '석유와가스', '게임엔터테인먼트'],\n",
       "      dtype='object', length=87826)"
      ]
     },
     "execution_count": 38,
     "metadata": {},
     "output_type": "execute_result"
    }
   ],
   "source": [
    "keyword_result.columns"
   ]
  },
  {
   "cell_type": "code",
   "execution_count": 26,
   "metadata": {},
   "outputs": [],
   "source": [
    "Keyword.fillna(0,inplace=True)"
   ]
  },
  {
   "cell_type": "code",
   "execution_count": 29,
   "metadata": {},
   "outputs": [
    {
     "data": {
      "text/plain": [
       "9154"
      ]
     },
     "execution_count": 29,
     "metadata": {},
     "output_type": "execute_result"
    }
   ],
   "source": [
    "len(Keyword.columns)"
   ]
  },
  {
   "cell_type": "code",
   "execution_count": null,
   "metadata": {},
   "outputs": [],
   "source": []
  }
 ],
 "metadata": {
  "kernelspec": {
   "display_name": "Python 3 (ipykernel)",
   "language": "python",
   "name": "python3"
  },
  "language_info": {
   "codemirror_mode": {
    "name": "ipython",
    "version": 3
   },
   "file_extension": ".py",
   "mimetype": "text/x-python",
   "name": "python",
   "nbconvert_exporter": "python",
   "pygments_lexer": "ipython3",
   "version": "3.7.11"
  }
 },
 "nbformat": 4,
 "nbformat_minor": 4
}
