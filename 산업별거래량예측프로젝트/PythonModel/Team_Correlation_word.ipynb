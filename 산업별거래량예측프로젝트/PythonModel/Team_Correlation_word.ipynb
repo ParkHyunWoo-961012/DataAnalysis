{
 "cells": [
  {
   "cell_type": "code",
   "execution_count": 206,
   "metadata": {},
   "outputs": [],
   "source": [
    "import pandas as pd\n",
    "import datetime"
   ]
  },
  {
   "cell_type": "code",
   "execution_count": 207,
   "metadata": {},
   "outputs": [],
   "source": [
    "Keyword = pd.read_csv(\"result_key.csv\") #단어데이터\n",
    "New_Result = pd.read_csv(\"StockInfo.csv\") #주식데이터"
   ]
  },
  {
   "cell_type": "code",
   "execution_count": 209,
   "metadata": {},
   "outputs": [],
   "source": [
    "A = Keyword.sum()\n",
    "remove = []\n",
    "for i in range(len(A)):\n",
    "    if A[i]<=len(Keyword):\n",
    "        remove.append(A.index[i])\n",
    "        \n",
    "Keyword.drop(columns = remove+[\"Unnamed: 0\"],inplace = True)"
   ]
  },
  {
   "cell_type": "code",
   "execution_count": 244,
   "metadata": {},
   "outputs": [],
   "source": [
    "#New_Result는 stock information 데이터프레임\n",
    "\n",
    "New_Result.rename(columns={'Date':'date'},inplace=True)\n",
    "New_Result['date'] = pd.to_datetime(New_Result['date'],format = \"%Y-%m-%d\")\n",
    "Keyword['date'] = pd.to_datetime(Keyword['date'],format = \"%Y%m%d\")\n",
    "Keyword['date'] = Keyword['date'] + datetime.timedelta(days=1) #뉴스데이터 주식데이터 하루날짜차이 맞춰주려고 썻어요\n",
    "\n",
    "keyword_result  = pd.merge(Keyword,New_Result,on='date')\n",
    "keyword_result.rename(columns={'제약_y':'제약'},inplace = True)\n",
    "keyword_result.rename(columns={'자동차_y':'자동차'},inplace = True)\n",
    "keyword_result.fillna(0,inplace=True)\n",
    "\n",
    "result = []\n",
    "\n",
    "Output_Target = [\"반도체와반도체장비\",\"제약\",\"자동차\",\"석유와가스\",\"게임엔터테인먼트\"]\n",
    "for i in Output_Target:\n",
    "    result.append(keyword_result[keyword_result.columns.difference(Output_Target)].corrwith(keyword_result[i]))"
   ]
  },
  {
   "cell_type": "code",
   "execution_count": 211,
   "metadata": {},
   "outputs": [],
   "source": [
    "corr_result = pd.concat([result[0],result[1],result[2],result[3],result[4]],axis=1)\n",
    "corr_result.rename(columns = {0:Output_Target[0],1:Output_Target[1],2:Output_Target[2],3:Output_Target[3],4:Output_Target[4]},inplace=True)"
   ]
  },
  {
   "cell_type": "code",
   "execution_count": 33,
   "metadata": {},
   "outputs": [],
   "source": [
    "car_word = [corr_result['자동차'].sort_values(ascending=False).head(30).index]\n",
    "car_word = car_word + [corr_result['자동차'].sort_values(ascending=True).head(30).index]\n",
    "sc_word = [corr_result[\"반도체와반도체장비\"].sort_values(ascending=True).head(30).index]\n",
    "sc_word = sc_word + [corr_result[\"반도체와반도체장비\"].sort_values(ascending=False).head(30).index]\n",
    "gas_word = [corr_result[\"석유와가스\"].sort_values(ascending=True).head(30).index]\n",
    "gas_word = gas_word + [corr_result[\"석유와가스\"].sort_values(ascending=False).head(30).index]\n",
    "game_word = [corr_result[\"게임엔터테인먼트\"].sort_values(ascending=False).head(30).index]\n",
    "game_word = game_word + [corr_result[\"게임엔터테인먼트\"].sort_values(ascending=True).head(30).index]"
   ]
  },
  {
   "cell_type": "code",
   "execution_count": 215,
   "metadata": {},
   "outputs": [],
   "source": [
    "from sklearn.feature_selection import mutual_info_regression\n",
    "\n",
    "Output_Target = [\"반도체와반도체장비\",\"제약\",\"자동차\",\"석유와가스\",\"게임엔터테인먼트\"]\n",
    "X = keyword_result[keyword_result.columns.difference(Output_Target+['date'])]\n",
    "result = []\n",
    "\n",
    "for target in Output_Target:\n",
    "    result.append(mutual_info_regression(X, keyword_result[target], copy=True, random_state=None))"
   ]
  },
  {
   "cell_type": "code",
   "execution_count": 252,
   "metadata": {},
   "outputs": [],
   "source": [
    "for i in range(len(result)):\n",
    "    result[i] = pd.Series(result[i])\n",
    "    \n",
    "MI = pd.concat([result[0],result[1],result[2],result[3],result[4]],axis=1)\n",
    "MI.rename(columns = {0:\"MI with \"+Output_Target[0],1:\"MI with \"+Output_Target[1],2:\"MI with \"+Output_Target[2],3:\"MI with \"+Output_Target[3],4:\"MI with \"+Output_Target[4]},inplace=True)\n",
    "MI.index = keyword_result.columns.difference(Output_Target+['date'])"
   ]
  },
  {
   "cell_type": "code",
   "execution_count": 216,
   "metadata": {},
   "outputs": [
    {
     "data": {
      "text/plain": [
       "Index(['Unnamed: 0', '감염증', '코로나바이러스', 'KBondRate', '서울시장', '변창흠', '위준휘', '신종',\n",
       "       'DolloarIndex', '자신', 'az', '부산시장', 'Exchange', '강대웅', '우상호', '인스타그램',\n",
       "       '코로나19', '테이퍼링', '서울', '볼륨감', '매경닷컴', '예민수', '미래에셋증권', '영국발', '박영선',\n",
       "       '무대', '연예', '완료자', '가상세계', '회의'],\n",
       "      dtype='object')"
      ]
     },
     "execution_count": 216,
     "metadata": {},
     "output_type": "execute_result"
    }
   ],
   "source": [
    "MI[MI[\"MI with 반도체와반도체장비\"] != 0][\"MI with 반도체와반도체장비\"].sort_values(ascending=False).head(30).index"
   ]
  },
  {
   "cell_type": "code",
   "execution_count": 301,
   "metadata": {},
   "outputs": [
    {
     "data": {
      "text/html": [
       "<div>\n",
       "<style scoped>\n",
       "    .dataframe tbody tr th:only-of-type {\n",
       "        vertical-align: middle;\n",
       "    }\n",
       "\n",
       "    .dataframe tbody tr th {\n",
       "        vertical-align: top;\n",
       "    }\n",
       "\n",
       "    .dataframe thead th {\n",
       "        text-align: right;\n",
       "    }\n",
       "</style>\n",
       "<table border=\"1\" class=\"dataframe\">\n",
       "  <thead>\n",
       "    <tr style=\"text-align: right;\">\n",
       "      <th></th>\n",
       "      <th>MI with 반도체와반도체장비</th>\n",
       "      <th>MI with 제약</th>\n",
       "      <th>MI with 자동차</th>\n",
       "      <th>MI with 석유와가스</th>\n",
       "      <th>MI with 게임엔터테인먼트</th>\n",
       "    </tr>\n",
       "  </thead>\n",
       "  <tbody>\n",
       "    <tr>\n",
       "      <th>000</th>\n",
       "      <td>0.133139</td>\n",
       "      <td>0.156539</td>\n",
       "      <td>0.145247</td>\n",
       "      <td>0.041409</td>\n",
       "      <td>0.053806</td>\n",
       "    </tr>\n",
       "    <tr>\n",
       "      <th>000만</th>\n",
       "      <td>0.031640</td>\n",
       "      <td>0.115352</td>\n",
       "      <td>0.127968</td>\n",
       "      <td>0.118835</td>\n",
       "      <td>-0.110069</td>\n",
       "    </tr>\n",
       "    <tr>\n",
       "      <th>000명</th>\n",
       "      <td>0.078678</td>\n",
       "      <td>0.154230</td>\n",
       "      <td>0.015758</td>\n",
       "      <td>-0.069870</td>\n",
       "      <td>0.037058</td>\n",
       "    </tr>\n",
       "    <tr>\n",
       "      <th>000억</th>\n",
       "      <td>0.111939</td>\n",
       "      <td>0.062645</td>\n",
       "      <td>0.076803</td>\n",
       "      <td>0.129124</td>\n",
       "      <td>0.112220</td>\n",
       "    </tr>\n",
       "    <tr>\n",
       "      <th>000여</th>\n",
       "      <td>0.159018</td>\n",
       "      <td>-0.100669</td>\n",
       "      <td>0.180587</td>\n",
       "      <td>0.125639</td>\n",
       "      <td>0.183564</td>\n",
       "    </tr>\n",
       "    <tr>\n",
       "      <th>...</th>\n",
       "      <td>...</td>\n",
       "      <td>...</td>\n",
       "      <td>...</td>\n",
       "      <td>...</td>\n",
       "      <td>...</td>\n",
       "    </tr>\n",
       "    <tr>\n",
       "      <th>히어</th>\n",
       "      <td>0.114595</td>\n",
       "      <td>0.003716</td>\n",
       "      <td>0.059488</td>\n",
       "      <td>-0.039795</td>\n",
       "      <td>-0.027468</td>\n",
       "    </tr>\n",
       "    <tr>\n",
       "      <th>히어로</th>\n",
       "      <td>0.095294</td>\n",
       "      <td>-0.104607</td>\n",
       "      <td>0.021295</td>\n",
       "      <td>0.111064</td>\n",
       "      <td>0.145970</td>\n",
       "    </tr>\n",
       "    <tr>\n",
       "      <th>히트곡</th>\n",
       "      <td>0.175131</td>\n",
       "      <td>0.097187</td>\n",
       "      <td>0.102241</td>\n",
       "      <td>0.102305</td>\n",
       "      <td>-0.000211</td>\n",
       "    </tr>\n",
       "    <tr>\n",
       "      <th>힐스테이트</th>\n",
       "      <td>-0.052892</td>\n",
       "      <td>-0.132494</td>\n",
       "      <td>0.124119</td>\n",
       "      <td>-0.017005</td>\n",
       "      <td>-0.032463</td>\n",
       "    </tr>\n",
       "    <tr>\n",
       "      <th>힙합</th>\n",
       "      <td>0.065640</td>\n",
       "      <td>0.019843</td>\n",
       "      <td>0.161452</td>\n",
       "      <td>0.005319</td>\n",
       "      <td>0.032509</td>\n",
       "    </tr>\n",
       "  </tbody>\n",
       "</table>\n",
       "<p>7381 rows × 5 columns</p>\n",
       "</div>"
      ],
      "text/plain": [
       "       MI with 반도체와반도체장비  MI with 제약  MI with 자동차  MI with 석유와가스  \\\n",
       "000             0.133139    0.156539     0.145247       0.041409   \n",
       "000만            0.031640    0.115352     0.127968       0.118835   \n",
       "000명            0.078678    0.154230     0.015758      -0.069870   \n",
       "000억            0.111939    0.062645     0.076803       0.129124   \n",
       "000여            0.159018   -0.100669     0.180587       0.125639   \n",
       "...                  ...         ...          ...            ...   \n",
       "히어              0.114595    0.003716     0.059488      -0.039795   \n",
       "히어로             0.095294   -0.104607     0.021295       0.111064   \n",
       "히트곡             0.175131    0.097187     0.102241       0.102305   \n",
       "힐스테이트          -0.052892   -0.132494     0.124119      -0.017005   \n",
       "힙합              0.065640    0.019843     0.161452       0.005319   \n",
       "\n",
       "       MI with 게임엔터테인먼트  \n",
       "000            0.053806  \n",
       "000만          -0.110069  \n",
       "000명           0.037058  \n",
       "000억           0.112220  \n",
       "000여           0.183564  \n",
       "...                 ...  \n",
       "히어            -0.027468  \n",
       "히어로            0.145970  \n",
       "히트곡           -0.000211  \n",
       "힐스테이트         -0.032463  \n",
       "힙합             0.032509  \n",
       "\n",
       "[7381 rows x 5 columns]"
      ]
     },
     "execution_count": 301,
     "metadata": {},
     "output_type": "execute_result"
    }
   ],
   "source": [
    "MI"
   ]
  },
  {
   "cell_type": "code",
   "execution_count": 302,
   "metadata": {},
   "outputs": [],
   "source": [
    "sc_third_Q = MI[MI[\"MI with 반도체와반도체장비\"] != 0][\"MI with 반도체와반도체장비\"].describe()[6]\n",
    "sc_target = MI[MI[\"MI with 반도체와반도체장비\"] != 0][\"MI with 반도체와반도체장비\"]\n",
    "sc_word_list = []\n",
    "for i in range(len(sc_target)):\n",
    "    if sc_target[i]>=sc_third_Q:\n",
    "        sc_word_list.append(sc_target.index[i])\n",
    "        \n",
    "bio_third_Q = MI[MI[\"MI with 제약\"] != 0][\"MI with 제약\"].describe()[6]\n",
    "bio_target = MI[MI[\"MI with 제약\"] != 0][\"MI with 제약\"]\n",
    "bio_word_list = []\n",
    "for i in range(len(bio_target)):\n",
    "    if bio_target[i]>=bio_third_Q:\n",
    "        bio_word_list.append(bio_target.index[i])\n",
    "        \n",
    "car_third_Q = MI[MI[\"MI with 자동차\"] != 0][\"MI with 자동차\"].describe()[6]\n",
    "car_target = MI[MI[\"MI with 자동차\"] != 0][\"MI with 자동차\"]\n",
    "car_word_list = []\n",
    "for i in range(len(car_target)):\n",
    "    if car_target[i]>=car_third_Q:\n",
    "        car_word_list.append(car_target.index[i])\n",
    "        \n",
    "gas_third_Q = MI[MI[\"MI with 석유와가스\"] != 0][\"MI with 석유와가스\"].describe()[6]\n",
    "gas_target = MI[MI[\"MI with 석유와가스\"] != 0][\"MI with 석유와가스\"]\n",
    "gas_word_list = []\n",
    "for i in range(len(gas_target)):\n",
    "    if gas_target[i]>=gas_third_Q:\n",
    "        gas_word_list.append(gas_target.index[i]) \n",
    "        \n",
    "gm_third_Q = MI[MI[\"MI with 게임엔터테인먼트\"] != 0][\"MI with 게임엔터테인먼트\"].describe()[6]\n",
    "gm_target = MI[MI[\"MI with 게임엔터테인먼트\"] != 0][\"MI with 게임엔터테인먼트\"]\n",
    "gm_word_list = []\n",
    "for i in range(len(gm_target)):\n",
    "    if gm_target[i]>=gm_third_Q:\n",
    "        gm_word_list.append(gm_target.index[i])        "
   ]
  },
  {
   "cell_type": "code",
   "execution_count": 306,
   "metadata": {},
   "outputs": [],
   "source": [
    "sc_result = []\n",
    "for i in sc_word_list:\n",
    "    sc_result.append(corr_result[\"반도체와반도체장비\"][i])\n",
    "sc_result = pd.Series(sc_result)\n",
    "sc_result.index = sc_word_list\n",
    "\n",
    "bio_result = []\n",
    "for i in bio_word_list:\n",
    "    bio_result.append(corr_result[\"제약\"][i])\n",
    "bio_result = pd.Series(bio_result)\n",
    "bio_result.index = bio_word_list\n",
    "\n",
    "car_result = []\n",
    "for i in car_word_list:\n",
    "    car_result.append(corr_result[\"자동차\"][i])\n",
    "car_result = pd.Series(car_result)\n",
    "car_result.index = car_word_list\n",
    "\n",
    "gas_result = []\n",
    "for i in gas_word_list:\n",
    "    gas_result.append(corr_result[\"석유와가스\"][i])\n",
    "gas_result = pd.Series(gas_result)\n",
    "gas_result.index = gas_word_list\n",
    "\n",
    "gm_result = []\n",
    "for i in gm_word_list:\n",
    "    gm_result.append(corr_result[\"게임엔터테인먼트\"][i])\n",
    "gm_result = pd.Series(gm_result)\n",
    "gm_result.index = gm_word_list"
   ]
  },
  {
   "cell_type": "code",
   "execution_count": 317,
   "metadata": {},
   "outputs": [
    {
     "data": {
      "text/plain": [
       "{'반도체': 0.11216698786876145,\n",
       " '제약': 0.07482999711754768,\n",
       " '자동차': 0.10211843971236356,\n",
       " '오일&가스': 0.09066484391660079,\n",
       " '게임': 0.047279662694171096}"
      ]
     },
     "execution_count": 317,
     "metadata": {},
     "output_type": "execute_result"
    }
   ],
   "source": [
    "Quantile = dict()\n",
    "Quantile['반도체'] =sc_third_Q\n",
    "Quantile['제약'] =bio_third_Q\n",
    "Quantile['자동차'] = car_third_Q\n",
    "Quantile['오일&가스'] = gas_third_Q\n",
    "Quantile['게임'] = gm_third_Q\n",
    "Quantile"
   ]
  },
  {
   "cell_type": "code",
   "execution_count": 305,
   "metadata": {},
   "outputs": [
    {
     "data": {
      "text/plain": [
       "4707"
      ]
     },
     "execution_count": 305,
     "metadata": {},
     "output_type": "execute_result"
    }
   ],
   "source": [
    "union_word = list(set(sc_word_list)|set(gm_word_list)|set(bio_word_list)|set(gas_word_list)|set(car_word_list))\n",
    "len(union_word)"
   ]
  },
  {
   "cell_type": "code",
   "execution_count": 203,
   "metadata": {},
   "outputs": [],
   "source": [
    "f = open(\"stopword.txt\",'r')\n",
    "\n",
    "stop_word_list = []\n",
    "while True:\n",
    "    line = f.readline()\n",
    "    if not line: break\n",
    "    stop_word_list.append(line)\n",
    "f.close()    \n",
    "\n",
    "for i in range(len(stop_word_list)):\n",
    "    stop_word_list[i] = stop_word_list[i][:-1]\n",
    "    \n",
    "remove_stop_list = []\n",
    "for i in range(len(keyword_result.columns)):\n",
    "    if keyword_result.columns[i] in stop_word_list:\n",
    "        remove_stop_list.append(keyword_result.columns[i])"
   ]
  },
  {
   "cell_type": "code",
   "execution_count": 265,
   "metadata": {},
   "outputs": [
    {
     "name": "stdout",
     "output_type": "stream",
     "text": [
      "['아이', '시간', '각종', '자신', '시각', '여부', '즉시', '결국', '조금', '다수', '혼자', '이젠', '전자', '단지', '한마디', '남들', '얼마', '이래', '기타', '자기']\n"
     ]
    }
   ],
   "source": [
    "print(remove_stop_list)"
   ]
  },
  {
   "cell_type": "code",
   "execution_count": null,
   "metadata": {},
   "outputs": [],
   "source": []
  }
 ],
 "metadata": {
  "kernelspec": {
   "display_name": "Python 3",
   "language": "python",
   "name": "python3"
  },
  "language_info": {
   "codemirror_mode": {
    "name": "ipython",
    "version": 3
   },
   "file_extension": ".py",
   "mimetype": "text/x-python",
   "name": "python",
   "nbconvert_exporter": "python",
   "pygments_lexer": "ipython3",
   "version": "3.7.6"
  }
 },
 "nbformat": 4,
 "nbformat_minor": 4
}
